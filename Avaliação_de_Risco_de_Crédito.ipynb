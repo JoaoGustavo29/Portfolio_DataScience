{
  "cells": [
    {
      "cell_type": "markdown",
      "metadata": {
        "id": "view-in-github",
        "colab_type": "text"
      },
      "source": [
        "<a href=\"https://colab.research.google.com/github/JoaoGustavo29/Portfolio_DataScience/blob/master/Avalia%C3%A7%C3%A3o_de_Risco_de_Cr%C3%A9dito.ipynb\" target=\"_parent\"><img src=\"https://colab.research.google.com/assets/colab-badge.svg\" alt=\"Open In Colab\"/></a>"
      ]
    },
    {
      "cell_type": "markdown",
      "metadata": {
        "id": "ZNvmL_lMsAqU"
      },
      "source": [
        "# Avaliação de Risco de Crédito\n",
        "\n",
        "\n",
        "Uma das área que causa mais problemas para bancos, financiadoras e empresários é a taxa de inadimplência por parte da sua carteira de clientes.\n",
        "\n",
        "Avaliar se uma pessoa irá deixar de cumprir com suas obrigações financeiras é de extrema importância, e pode causar um grande impacto no balanço da Instituição. Cada vez mais, soluções vêm sendo desenvolvidas e aprimoradas visando minimizar o risco de *default*. \n",
        "\n",
        "*Default* é o termo utilizado para indicado o não cumprimento das obrigações e/ou condições de um empréstimo (como financiamentos ou dívidas de cartão de crédito). Normalmente, o principal motivo para o descumprimento das condições de pagamento é incapacidade financeira do cliente.\n",
        "\n",
        "<p align=center>\n",
        "  <img src=\"http://sigmoidal.ai/wp-content/uploads/2019/10/2940191.jpg\" height=\"300px\">\n",
        "</p>\n",
        " \n",
        "Grandes bancos e Fintechs têm apostado cada vez mais em modelos de *Machine Learning* para previnir a inadimplência de alguns clientes.\n",
        "\n",
        "Dentre as principais instituições financeira, o [Nubank](https://nubank.com.br/sobre-nos) é uma das que mais tem se destacado no uso de Inteligência Artificial e times de *Data Science*.\n",
        "\n",
        "O conjunto de dados a ser utilizado neste Projeto de *Data Science* parte de uma competição realizada pela Startup [Nubank](https://nubank.com.br/sobre-nos) a fim de revelar talentos e potenciais contratações pela Fintech.\n",
        "\n",
        "## Contextualização do Problema\n",
        "\n",
        "Neste problema, o objetivo é prever qual a probabilidade de um cliente da Startup Nubank não coumprir com suas obrigações financeiras e deixar de pagar a sua fatura do Cartão de Crédito.\n",
        "\n",
        "<p align=center>\n",
        "<img src=\"http://sigmoidal.ai/wp-content/uploads/2019/10/Nubank_logo.png\" width=\"90px\"></p>\n",
        "  \n",
        "Vale ressaltar que essa avaliação deve ser realizada no momento em que o cliente solicita o cartão (normalmente no primeiro contato com a instituição).\n",
        "\n",
        "\n",
        "\n",
        "> OBJETIVO: Criar um modelo que forneça a probabilidade de um cliente virar inadimplente.\n",
        "\n",
        "\n",
        "Espera-se que um modelo seja capaz de minimizar as perdas financeiras do Nubank, porém minimizando também os falsos positivos.\n",
        "\n",
        "### Hipóteses Iniciais"
      ]
    },
    {
      "cell_type": "markdown",
      "metadata": {
        "id": "5PCK4RxLpqd8"
      },
      "source": [
        "## Importar os Dados\n",
        "\n",
        "Os dados que serão utilizados nesta análise estão disponíveis para download por meio [deste link](http://dl.dropboxusercontent.com/s/xn2a4kzf0zer0xu/acquisition_train.csv?dl=0). Consiste basicamente em um arquivo `csv` contendo 45.000 entradas e 43 colunas.\n",
        "\n",
        "Este arquivo será importando para uma estrutura *DataFrame* utilizando a biblioteca `pandas` a fim de possibilitar sua manipulação e análise."
      ]
    },
    {
      "cell_type": "code",
      "execution_count": 1,
      "metadata": {
        "id": "-ERbtIHOM18Y"
      },
      "outputs": [],
      "source": [
        "# instalar os pacotes necessários\n",
        "! pip install -q scikit-plot"
      ]
    },
    {
      "cell_type": "code",
      "execution_count": 2,
      "metadata": {
        "id": "n2X30-l1pprz"
      },
      "outputs": [],
      "source": [
        "# importar os pacotes necessários\n",
        "import pandas as pd\n",
        "import matplotlib.pyplot as plt\n",
        "import seaborn as sns\n",
        "import numpy as np\n",
        "import scikitplot as skplt\n",
        "from imblearn.under_sampling import RandomUnderSampler\n",
        "from imblearn.over_sampling import SMOTE, ADASYN\n",
        "from sklearn.model_selection import train_test_split, GridSearchCV\n",
        "from sklearn.model_selection import StratifiedKFold\n",
        "from sklearn.model_selection import cross_val_score\n",
        "from sklearn.pipeline import make_pipeline\n",
        "from sklearn.preprocessing import StandardScaler, RobustScaler\n",
        "from sklearn.preprocessing import QuantileTransformer, PowerTransformer\n",
        "from sklearn.preprocessing import LabelEncoder, OneHotEncoder\n",
        "from sklearn.metrics import confusion_matrix, classification_report\n",
        "from sklearn.metrics import roc_auc_score, recall_score\n",
        "from sklearn.metrics import accuracy_score, precision_score, f1_score\n",
        "from sklearn.ensemble import VotingClassifier, RandomForestClassifier\n",
        "from sklearn.linear_model import LogisticRegression\n",
        "from sklearn.tree import DecisionTreeRegressor\n",
        "from sklearn.svm import SVC\n",
        "from sklearn.naive_bayes import BernoulliNB, CategoricalNB\n",
        "from xgboost import XGBClassifier\n",
        "\n",
        "# definir o estilo do seaborn para os plots\n",
        "sns.set_style('dark')\n",
        "\n",
        "# filtrar mensagens de warning\n",
        "import warnings\n",
        "warnings.filterwarnings('ignore')"
      ]
    },
    {
      "cell_type": "code",
      "execution_count": 3,
      "metadata": {
        "id": "LtQqAgvdp44q"
      },
      "outputs": [],
      "source": [
        "# importar os dados\n",
        "df = pd.read_csv(\"http://dl.dropboxusercontent.com/s/xn2a4kzf0zer0xu/acquisition_train.csv?dl=0\")\n",
        "pd.set_option('display.max_columns', None)"
      ]
    },
    {
      "cell_type": "markdown",
      "metadata": {
        "id": "2yTEh3oPE2KK"
      },
      "source": [
        "## Análise Exploratória de Dados"
      ]
    },
    {
      "cell_type": "code",
      "execution_count": null,
      "metadata": {
        "colab": {
          "base_uri": "https://localhost:8080/"
        },
        "id": "t1zbiuzFcdAT",
        "outputId": "b317ffe9-893f-46b7-e53d-f9e6ae94bfc0"
      },
      "outputs": [
        {
          "name": "stdout",
          "output_type": "stream",
          "text": [
            "O DataFrame possui 45000 entradas e 43 colunas\n"
          ]
        }
      ],
      "source": [
        "# Checar as dimensões do DataFrame \n",
        "print(f'O DataFrame possui {df.shape[0]} entradas e {df.shape[1]} colunas')"
      ]
    },
    {
      "cell_type": "code",
      "execution_count": null,
      "metadata": {
        "colab": {
          "base_uri": "https://localhost:8080/"
        },
        "id": "PyGdVlAPZCXu",
        "outputId": "0d7bb1ba-a6de-4244-dd4b-9d04ad40d396"
      },
      "outputs": [
        {
          "name": "stdout",
          "output_type": "stream",
          "text": [
            "\n",
            "Nome das Colunas:\n",
            "['ids' 'target_default' 'score_1' 'score_2' 'score_3' 'score_4' 'score_5'\n",
            " 'score_6' 'risk_rate' 'last_amount_borrowed' 'last_borrowed_in_months'\n",
            " 'credit_limit' 'reason' 'income' 'facebook_profile' 'state' 'zip'\n",
            " 'channel' 'job_name' 'real_state' 'ok_since' 'n_bankruptcies'\n",
            " 'n_defaulted_loans' 'n_accounts' 'n_issues' 'application_time_applied'\n",
            " 'application_time_in_funnel' 'email'\n",
            " 'external_data_provider_credit_checks_last_2_year'\n",
            " 'external_data_provider_credit_checks_last_month'\n",
            " 'external_data_provider_credit_checks_last_year'\n",
            " 'external_data_provider_email_seen_before'\n",
            " 'external_data_provider_first_name' 'external_data_provider_fraud_score'\n",
            " 'lat_lon' 'marketing_channel' 'profile_phone_number' 'reported_income'\n",
            " 'shipping_state' 'shipping_zip_code' 'profile_tags' 'user_agent'\n",
            " 'target_fraud']\n"
          ]
        }
      ],
      "source": [
        "# Checar o nome das colunas\n",
        "print(f'\\nNome das Colunas:\\n{df.columns.values}')"
      ]
    },
    {
      "cell_type": "code",
      "execution_count": null,
      "metadata": {
        "colab": {
          "base_uri": "https://localhost:8080/",
          "height": 669
        },
        "id": "DNQccNbMTIKG",
        "outputId": "cf423f10-4027-49fe-f785-e2407cd9608a"
      },
      "outputs": [
        {
          "data": {
            "text/html": [
              "\n",
              "  <div id=\"df-a981061c-a52d-465f-a4d5-f654a12f666f\">\n",
              "    <div class=\"colab-df-container\">\n",
              "      <div>\n",
              "<style scoped>\n",
              "    .dataframe tbody tr th:only-of-type {\n",
              "        vertical-align: middle;\n",
              "    }\n",
              "\n",
              "    .dataframe tbody tr th {\n",
              "        vertical-align: top;\n",
              "    }\n",
              "\n",
              "    .dataframe thead th {\n",
              "        text-align: right;\n",
              "    }\n",
              "</style>\n",
              "<table border=\"1\" class=\"dataframe\">\n",
              "  <thead>\n",
              "    <tr style=\"text-align: right;\">\n",
              "      <th></th>\n",
              "      <th>ids</th>\n",
              "      <th>target_default</th>\n",
              "      <th>score_1</th>\n",
              "      <th>score_2</th>\n",
              "      <th>score_3</th>\n",
              "      <th>score_4</th>\n",
              "      <th>score_5</th>\n",
              "      <th>score_6</th>\n",
              "      <th>risk_rate</th>\n",
              "      <th>last_amount_borrowed</th>\n",
              "      <th>last_borrowed_in_months</th>\n",
              "      <th>credit_limit</th>\n",
              "      <th>reason</th>\n",
              "      <th>income</th>\n",
              "      <th>facebook_profile</th>\n",
              "      <th>state</th>\n",
              "      <th>zip</th>\n",
              "      <th>channel</th>\n",
              "      <th>job_name</th>\n",
              "      <th>real_state</th>\n",
              "      <th>ok_since</th>\n",
              "      <th>n_bankruptcies</th>\n",
              "      <th>n_defaulted_loans</th>\n",
              "      <th>n_accounts</th>\n",
              "      <th>n_issues</th>\n",
              "      <th>application_time_applied</th>\n",
              "      <th>application_time_in_funnel</th>\n",
              "      <th>email</th>\n",
              "      <th>external_data_provider_credit_checks_last_2_year</th>\n",
              "      <th>external_data_provider_credit_checks_last_month</th>\n",
              "      <th>external_data_provider_credit_checks_last_year</th>\n",
              "      <th>external_data_provider_email_seen_before</th>\n",
              "      <th>external_data_provider_first_name</th>\n",
              "      <th>external_data_provider_fraud_score</th>\n",
              "      <th>lat_lon</th>\n",
              "      <th>marketing_channel</th>\n",
              "      <th>profile_phone_number</th>\n",
              "      <th>reported_income</th>\n",
              "      <th>shipping_state</th>\n",
              "      <th>shipping_zip_code</th>\n",
              "      <th>profile_tags</th>\n",
              "      <th>user_agent</th>\n",
              "      <th>target_fraud</th>\n",
              "    </tr>\n",
              "  </thead>\n",
              "  <tbody>\n",
              "    <tr>\n",
              "      <th>0</th>\n",
              "      <td>343b7e7b-2cf8-e508-b8fd-0a0285af30aa</td>\n",
              "      <td>False</td>\n",
              "      <td>1Rk8w4Ucd5yR3KcqZzLdow==</td>\n",
              "      <td>IOVu8au3ISbo6+zmfnYwMg==</td>\n",
              "      <td>350.0</td>\n",
              "      <td>101.800832</td>\n",
              "      <td>0.259555</td>\n",
              "      <td>108.427273</td>\n",
              "      <td>0.40</td>\n",
              "      <td>25033.92</td>\n",
              "      <td>36.0</td>\n",
              "      <td>0.0</td>\n",
              "      <td>mLVIVxoGY7TUDJ1FyFoSIZi1SFcaBmO01AydRchaEiGYtU...</td>\n",
              "      <td>65014.12</td>\n",
              "      <td>True</td>\n",
              "      <td>sjJbkqJS7cXalHLBFA+EOQ==</td>\n",
              "      <td>Ernn+uVXCMq/6ARrBCcd+A==</td>\n",
              "      <td>NCqL3QBx0pscDnx3ixKwXg==</td>\n",
              "      <td>mLVIVxoGY7TUDJ1FyFoSIZi1SFcaBmO01AydRchaEiGYtU...</td>\n",
              "      <td>N5/CE7lSkAfB04hVFFwllw==</td>\n",
              "      <td>NaN</td>\n",
              "      <td>0.0</td>\n",
              "      <td>0.0</td>\n",
              "      <td>18.0</td>\n",
              "      <td>18.0</td>\n",
              "      <td>07:52:34</td>\n",
              "      <td>444</td>\n",
              "      <td>outlook.com</td>\n",
              "      <td>NaN</td>\n",
              "      <td>2</td>\n",
              "      <td>0.0</td>\n",
              "      <td>51.0</td>\n",
              "      <td>leidelaura</td>\n",
              "      <td>645</td>\n",
              "      <td>(-29.151545708122246, -51.1386461804385)</td>\n",
              "      <td>Invite-email</td>\n",
              "      <td>514-9840782</td>\n",
              "      <td>57849.0</td>\n",
              "      <td>BR-MT</td>\n",
              "      <td>17528</td>\n",
              "      <td>{'tags': ['n19', 'n8']}</td>\n",
              "      <td>Mozilla/5.0 (Linux; Android 6.0.1; SGP771 Buil...</td>\n",
              "      <td>NaN</td>\n",
              "    </tr>\n",
              "    <tr>\n",
              "      <th>1</th>\n",
              "      <td>bc2c7502-bbad-0f8c-39c3-94e881967124</td>\n",
              "      <td>False</td>\n",
              "      <td>DGCQep2AE5QRkNCshIAlFQ==</td>\n",
              "      <td>SaamrHMo23l/3TwXOWgVzw==</td>\n",
              "      <td>370.0</td>\n",
              "      <td>97.062615</td>\n",
              "      <td>0.942655</td>\n",
              "      <td>92.002546</td>\n",
              "      <td>0.24</td>\n",
              "      <td>NaN</td>\n",
              "      <td>NaN</td>\n",
              "      <td>39726.0</td>\n",
              "      <td>mLVIVxoGY7TUDJ1FyFoSIZi1SFcaBmO01AydRchaEiGYtU...</td>\n",
              "      <td>100018.91</td>\n",
              "      <td>False</td>\n",
              "      <td>xsd3ZdsI3356I3xMxZeiqQ==</td>\n",
              "      <td>rlWIXTBO+VOa34+SpGyhlQ==</td>\n",
              "      <td>NCqL3QBx0pscDnx3ixKwXg==</td>\n",
              "      <td>mLVIVxoGY7TUDJ1FyFoSIZi1SFcaBmO01AydRchaEiGYtU...</td>\n",
              "      <td>N5/CE7lSkAfB04hVFFwllw==</td>\n",
              "      <td>50.0</td>\n",
              "      <td>0.0</td>\n",
              "      <td>0.0</td>\n",
              "      <td>14.0</td>\n",
              "      <td>14.0</td>\n",
              "      <td>02:34:29</td>\n",
              "      <td>346</td>\n",
              "      <td>gmail.com</td>\n",
              "      <td>0.0</td>\n",
              "      <td>1</td>\n",
              "      <td>0.0</td>\n",
              "      <td>17.0</td>\n",
              "      <td>diocezio</td>\n",
              "      <td>243</td>\n",
              "      <td>(-19.687710705798963, -47.94151536525154)</td>\n",
              "      <td>Radio-commercial</td>\n",
              "      <td>251-3659293</td>\n",
              "      <td>4902.0</td>\n",
              "      <td>BR-RS</td>\n",
              "      <td>40933</td>\n",
              "      <td>{'tags': ['n6', 'n7', 'nim']}</td>\n",
              "      <td>Mozilla/5.0 (Linux; Android 5.0.2; SAMSUNG SM-...</td>\n",
              "      <td>NaN</td>\n",
              "    </tr>\n",
              "    <tr>\n",
              "      <th>2</th>\n",
              "      <td>669630dd-2e6a-0396-84bf-455e5009c922</td>\n",
              "      <td>True</td>\n",
              "      <td>DGCQep2AE5QRkNCshIAlFQ==</td>\n",
              "      <td>Fv28Bz0YRTVAT5kl1bAV6g==</td>\n",
              "      <td>360.0</td>\n",
              "      <td>100.027073</td>\n",
              "      <td>0.351918</td>\n",
              "      <td>112.892453</td>\n",
              "      <td>0.29</td>\n",
              "      <td>7207.92</td>\n",
              "      <td>36.0</td>\n",
              "      <td>NaN</td>\n",
              "      <td>mLVIVxoGY7TUDJ1FyFoSIZi1SFcaBmO01AydRchaEiGYtU...</td>\n",
              "      <td>65023.65</td>\n",
              "      <td>NaN</td>\n",
              "      <td>Ygq6MsM98oC8yceExr69Ig==</td>\n",
              "      <td>PjTIDfJsK0DKL9fO7vuW2g==</td>\n",
              "      <td>NCqL3QBx0pscDnx3ixKwXg==</td>\n",
              "      <td>mLVIVxoGY7TUDJ1FyFoSIZi1SFcaBmO01AydRchaEiGYtU...</td>\n",
              "      <td>n+xK9CfX0bCn77lClTWviw==</td>\n",
              "      <td>NaN</td>\n",
              "      <td>0.0</td>\n",
              "      <td>0.0</td>\n",
              "      <td>10.0</td>\n",
              "      <td>NaN</td>\n",
              "      <td>00:60:02</td>\n",
              "      <td>6</td>\n",
              "      <td>gmail.com</td>\n",
              "      <td>NaN</td>\n",
              "      <td>2</td>\n",
              "      <td>NaN</td>\n",
              "      <td>9.0</td>\n",
              "      <td>veralucia</td>\n",
              "      <td>65</td>\n",
              "      <td>(-28.748023890412284, -51.867279334353995)</td>\n",
              "      <td>Waiting-list</td>\n",
              "      <td>230-6097993</td>\n",
              "      <td>163679.0</td>\n",
              "      <td>BR-RR</td>\n",
              "      <td>50985</td>\n",
              "      <td>{'tags': ['n0', 'n17', 'nim', 'da']}</td>\n",
              "      <td>Mozilla/5.0 (Linux; Android 6.0.1; SGP771 Buil...</td>\n",
              "      <td>NaN</td>\n",
              "    </tr>\n",
              "    <tr>\n",
              "      <th>3</th>\n",
              "      <td>d235609e-b6cb-0ccc-a329-d4f12e7ebdc1</td>\n",
              "      <td>False</td>\n",
              "      <td>1Rk8w4Ucd5yR3KcqZzLdow==</td>\n",
              "      <td>dCm9hFKfdRm7ej3jW+gyxw==</td>\n",
              "      <td>510.0</td>\n",
              "      <td>101.599485</td>\n",
              "      <td>0.987673</td>\n",
              "      <td>94.902491</td>\n",
              "      <td>0.32</td>\n",
              "      <td>NaN</td>\n",
              "      <td>NaN</td>\n",
              "      <td>54591.0</td>\n",
              "      <td>mLVIVxoGY7TUDJ1FyFoSIZi1SFcaBmO01AydRchaEiGYtU...</td>\n",
              "      <td>68830.01</td>\n",
              "      <td>False</td>\n",
              "      <td>KET/Pmr6rHp1RJ/P9ymztw==</td>\n",
              "      <td>Cc/kWDLQH3dpHv5HU+pLVA==</td>\n",
              "      <td>NCqL3QBx0pscDnx3ixKwXg==</td>\n",
              "      <td>mLVIVxoGY7TUDJ1FyFoSIZi1SFcaBmO01AydRchaEiE56f...</td>\n",
              "      <td>n+xK9CfX0bCn77lClTWviw==</td>\n",
              "      <td>NaN</td>\n",
              "      <td>1.0</td>\n",
              "      <td>0.0</td>\n",
              "      <td>19.0</td>\n",
              "      <td>19.0</td>\n",
              "      <td>11:20:49</td>\n",
              "      <td>406</td>\n",
              "      <td>spgov.com</td>\n",
              "      <td>NaN</td>\n",
              "      <td>3</td>\n",
              "      <td>NaN</td>\n",
              "      <td>38.0</td>\n",
              "      <td>venice</td>\n",
              "      <td>815</td>\n",
              "      <td>(-17.520650158450454, -39.75801139933186)</td>\n",
              "      <td>Waiting-list</td>\n",
              "      <td>261-3543751</td>\n",
              "      <td>1086.0</td>\n",
              "      <td>BR-RN</td>\n",
              "      <td>37825</td>\n",
              "      <td>{'tags': ['n4']}</td>\n",
              "      <td>Mozilla/5.0 (Linux; Android 6.0; HTC One X10 B...</td>\n",
              "      <td>NaN</td>\n",
              "    </tr>\n",
              "    <tr>\n",
              "      <th>4</th>\n",
              "      <td>9e0eb880-e8f4-3faa-67d8-f5cdd2b3932b</td>\n",
              "      <td>False</td>\n",
              "      <td>8k8UDR4Yx0qasAjkGrUZLw==</td>\n",
              "      <td>+CxEO4w7jv3QPI/BQbyqAA==</td>\n",
              "      <td>500.0</td>\n",
              "      <td>98.474289</td>\n",
              "      <td>0.532539</td>\n",
              "      <td>118.126207</td>\n",
              "      <td>0.18</td>\n",
              "      <td>NaN</td>\n",
              "      <td>NaN</td>\n",
              "      <td>NaN</td>\n",
              "      <td>mLVIVxoGY7TUDJ1FyFoSIZi1SFcaBmO01AydRchaEiGYtU...</td>\n",
              "      <td>60011.29</td>\n",
              "      <td>True</td>\n",
              "      <td>xsd3ZdsI3356I3xMxZeiqQ==</td>\n",
              "      <td>i036nmJ7rfxo+3EvCD7Jnw==</td>\n",
              "      <td>NCqL3QBx0pscDnx3ixKwXg==</td>\n",
              "      <td>mLVIVxoGY7TUDJ1FyFoSIZi1SFcaBmO01AydRchaEiGYtU...</td>\n",
              "      <td>n+xK9CfX0bCn77lClTWviw==</td>\n",
              "      <td>NaN</td>\n",
              "      <td>0.0</td>\n",
              "      <td>0.0</td>\n",
              "      <td>11.0</td>\n",
              "      <td>NaN</td>\n",
              "      <td>13:39:03</td>\n",
              "      <td>240</td>\n",
              "      <td>gmail.com</td>\n",
              "      <td>0.0</td>\n",
              "      <td>2</td>\n",
              "      <td>1.0</td>\n",
              "      <td>46.0</td>\n",
              "      <td>darzisa</td>\n",
              "      <td>320</td>\n",
              "      <td>(-16.574259446978008, -39.90990074785962)</td>\n",
              "      <td>Invite-email</td>\n",
              "      <td>102-3660162</td>\n",
              "      <td>198618.0</td>\n",
              "      <td>BR-MT</td>\n",
              "      <td>52827</td>\n",
              "      <td>{'tags': ['pro+aty', 'n19', 'da', 'b19']}</td>\n",
              "      <td>Mozilla/5.0 (Linux; Android 7.0; Pixel C Build...</td>\n",
              "      <td>NaN</td>\n",
              "    </tr>\n",
              "  </tbody>\n",
              "</table>\n",
              "</div>\n",
              "      <button class=\"colab-df-convert\" onclick=\"convertToInteractive('df-a981061c-a52d-465f-a4d5-f654a12f666f')\"\n",
              "              title=\"Convert this dataframe to an interactive table.\"\n",
              "              style=\"display:none;\">\n",
              "        \n",
              "  <svg xmlns=\"http://www.w3.org/2000/svg\" height=\"24px\"viewBox=\"0 0 24 24\"\n",
              "       width=\"24px\">\n",
              "    <path d=\"M0 0h24v24H0V0z\" fill=\"none\"/>\n",
              "    <path d=\"M18.56 5.44l.94 2.06.94-2.06 2.06-.94-2.06-.94-.94-2.06-.94 2.06-2.06.94zm-11 1L8.5 8.5l.94-2.06 2.06-.94-2.06-.94L8.5 2.5l-.94 2.06-2.06.94zm10 10l.94 2.06.94-2.06 2.06-.94-2.06-.94-.94-2.06-.94 2.06-2.06.94z\"/><path d=\"M17.41 7.96l-1.37-1.37c-.4-.4-.92-.59-1.43-.59-.52 0-1.04.2-1.43.59L10.3 9.45l-7.72 7.72c-.78.78-.78 2.05 0 2.83L4 21.41c.39.39.9.59 1.41.59.51 0 1.02-.2 1.41-.59l7.78-7.78 2.81-2.81c.8-.78.8-2.07 0-2.86zM5.41 20L4 18.59l7.72-7.72 1.47 1.35L5.41 20z\"/>\n",
              "  </svg>\n",
              "      </button>\n",
              "      \n",
              "  <style>\n",
              "    .colab-df-container {\n",
              "      display:flex;\n",
              "      flex-wrap:wrap;\n",
              "      gap: 12px;\n",
              "    }\n",
              "\n",
              "    .colab-df-convert {\n",
              "      background-color: #E8F0FE;\n",
              "      border: none;\n",
              "      border-radius: 50%;\n",
              "      cursor: pointer;\n",
              "      display: none;\n",
              "      fill: #1967D2;\n",
              "      height: 32px;\n",
              "      padding: 0 0 0 0;\n",
              "      width: 32px;\n",
              "    }\n",
              "\n",
              "    .colab-df-convert:hover {\n",
              "      background-color: #E2EBFA;\n",
              "      box-shadow: 0px 1px 2px rgba(60, 64, 67, 0.3), 0px 1px 3px 1px rgba(60, 64, 67, 0.15);\n",
              "      fill: #174EA6;\n",
              "    }\n",
              "\n",
              "    [theme=dark] .colab-df-convert {\n",
              "      background-color: #3B4455;\n",
              "      fill: #D2E3FC;\n",
              "    }\n",
              "\n",
              "    [theme=dark] .colab-df-convert:hover {\n",
              "      background-color: #434B5C;\n",
              "      box-shadow: 0px 1px 3px 1px rgba(0, 0, 0, 0.15);\n",
              "      filter: drop-shadow(0px 1px 2px rgba(0, 0, 0, 0.3));\n",
              "      fill: #FFFFFF;\n",
              "    }\n",
              "  </style>\n",
              "\n",
              "      <script>\n",
              "        const buttonEl =\n",
              "          document.querySelector('#df-a981061c-a52d-465f-a4d5-f654a12f666f button.colab-df-convert');\n",
              "        buttonEl.style.display =\n",
              "          google.colab.kernel.accessAllowed ? 'block' : 'none';\n",
              "\n",
              "        async function convertToInteractive(key) {\n",
              "          const element = document.querySelector('#df-a981061c-a52d-465f-a4d5-f654a12f666f');\n",
              "          const dataTable =\n",
              "            await google.colab.kernel.invokeFunction('convertToInteractive',\n",
              "                                                     [key], {});\n",
              "          if (!dataTable) return;\n",
              "\n",
              "          const docLinkHtml = 'Like what you see? Visit the ' +\n",
              "            '<a target=\"_blank\" href=https://colab.research.google.com/notebooks/data_table.ipynb>data table notebook</a>'\n",
              "            + ' to learn more about interactive tables.';\n",
              "          element.innerHTML = '';\n",
              "          dataTable['output_type'] = 'display_data';\n",
              "          await google.colab.output.renderOutput(dataTable, element);\n",
              "          const docLink = document.createElement('div');\n",
              "          docLink.innerHTML = docLinkHtml;\n",
              "          element.appendChild(docLink);\n",
              "        }\n",
              "      </script>\n",
              "    </div>\n",
              "  </div>\n",
              "  "
            ],
            "text/plain": [
              "                                    ids target_default  \\\n",
              "0  343b7e7b-2cf8-e508-b8fd-0a0285af30aa          False   \n",
              "1  bc2c7502-bbad-0f8c-39c3-94e881967124          False   \n",
              "2  669630dd-2e6a-0396-84bf-455e5009c922           True   \n",
              "3  d235609e-b6cb-0ccc-a329-d4f12e7ebdc1          False   \n",
              "4  9e0eb880-e8f4-3faa-67d8-f5cdd2b3932b          False   \n",
              "\n",
              "                    score_1                   score_2  score_3     score_4  \\\n",
              "0  1Rk8w4Ucd5yR3KcqZzLdow==  IOVu8au3ISbo6+zmfnYwMg==    350.0  101.800832   \n",
              "1  DGCQep2AE5QRkNCshIAlFQ==  SaamrHMo23l/3TwXOWgVzw==    370.0   97.062615   \n",
              "2  DGCQep2AE5QRkNCshIAlFQ==  Fv28Bz0YRTVAT5kl1bAV6g==    360.0  100.027073   \n",
              "3  1Rk8w4Ucd5yR3KcqZzLdow==  dCm9hFKfdRm7ej3jW+gyxw==    510.0  101.599485   \n",
              "4  8k8UDR4Yx0qasAjkGrUZLw==  +CxEO4w7jv3QPI/BQbyqAA==    500.0   98.474289   \n",
              "\n",
              "    score_5     score_6  risk_rate  last_amount_borrowed  \\\n",
              "0  0.259555  108.427273       0.40              25033.92   \n",
              "1  0.942655   92.002546       0.24                   NaN   \n",
              "2  0.351918  112.892453       0.29               7207.92   \n",
              "3  0.987673   94.902491       0.32                   NaN   \n",
              "4  0.532539  118.126207       0.18                   NaN   \n",
              "\n",
              "   last_borrowed_in_months  credit_limit  \\\n",
              "0                     36.0           0.0   \n",
              "1                      NaN       39726.0   \n",
              "2                     36.0           NaN   \n",
              "3                      NaN       54591.0   \n",
              "4                      NaN           NaN   \n",
              "\n",
              "                                              reason     income  \\\n",
              "0  mLVIVxoGY7TUDJ1FyFoSIZi1SFcaBmO01AydRchaEiGYtU...   65014.12   \n",
              "1  mLVIVxoGY7TUDJ1FyFoSIZi1SFcaBmO01AydRchaEiGYtU...  100018.91   \n",
              "2  mLVIVxoGY7TUDJ1FyFoSIZi1SFcaBmO01AydRchaEiGYtU...   65023.65   \n",
              "3  mLVIVxoGY7TUDJ1FyFoSIZi1SFcaBmO01AydRchaEiGYtU...   68830.01   \n",
              "4  mLVIVxoGY7TUDJ1FyFoSIZi1SFcaBmO01AydRchaEiGYtU...   60011.29   \n",
              "\n",
              "  facebook_profile                     state                       zip  \\\n",
              "0             True  sjJbkqJS7cXalHLBFA+EOQ==  Ernn+uVXCMq/6ARrBCcd+A==   \n",
              "1            False  xsd3ZdsI3356I3xMxZeiqQ==  rlWIXTBO+VOa34+SpGyhlQ==   \n",
              "2              NaN  Ygq6MsM98oC8yceExr69Ig==  PjTIDfJsK0DKL9fO7vuW2g==   \n",
              "3            False  KET/Pmr6rHp1RJ/P9ymztw==  Cc/kWDLQH3dpHv5HU+pLVA==   \n",
              "4             True  xsd3ZdsI3356I3xMxZeiqQ==  i036nmJ7rfxo+3EvCD7Jnw==   \n",
              "\n",
              "                    channel  \\\n",
              "0  NCqL3QBx0pscDnx3ixKwXg==   \n",
              "1  NCqL3QBx0pscDnx3ixKwXg==   \n",
              "2  NCqL3QBx0pscDnx3ixKwXg==   \n",
              "3  NCqL3QBx0pscDnx3ixKwXg==   \n",
              "4  NCqL3QBx0pscDnx3ixKwXg==   \n",
              "\n",
              "                                            job_name  \\\n",
              "0  mLVIVxoGY7TUDJ1FyFoSIZi1SFcaBmO01AydRchaEiGYtU...   \n",
              "1  mLVIVxoGY7TUDJ1FyFoSIZi1SFcaBmO01AydRchaEiGYtU...   \n",
              "2  mLVIVxoGY7TUDJ1FyFoSIZi1SFcaBmO01AydRchaEiGYtU...   \n",
              "3  mLVIVxoGY7TUDJ1FyFoSIZi1SFcaBmO01AydRchaEiE56f...   \n",
              "4  mLVIVxoGY7TUDJ1FyFoSIZi1SFcaBmO01AydRchaEiGYtU...   \n",
              "\n",
              "                 real_state  ok_since  n_bankruptcies  n_defaulted_loans  \\\n",
              "0  N5/CE7lSkAfB04hVFFwllw==       NaN             0.0                0.0   \n",
              "1  N5/CE7lSkAfB04hVFFwllw==      50.0             0.0                0.0   \n",
              "2  n+xK9CfX0bCn77lClTWviw==       NaN             0.0                0.0   \n",
              "3  n+xK9CfX0bCn77lClTWviw==       NaN             1.0                0.0   \n",
              "4  n+xK9CfX0bCn77lClTWviw==       NaN             0.0                0.0   \n",
              "\n",
              "   n_accounts  n_issues application_time_applied  application_time_in_funnel  \\\n",
              "0        18.0      18.0                 07:52:34                         444   \n",
              "1        14.0      14.0                 02:34:29                         346   \n",
              "2        10.0       NaN                 00:60:02                           6   \n",
              "3        19.0      19.0                 11:20:49                         406   \n",
              "4        11.0       NaN                 13:39:03                         240   \n",
              "\n",
              "         email  external_data_provider_credit_checks_last_2_year  \\\n",
              "0  outlook.com                                               NaN   \n",
              "1    gmail.com                                               0.0   \n",
              "2    gmail.com                                               NaN   \n",
              "3    spgov.com                                               NaN   \n",
              "4    gmail.com                                               0.0   \n",
              "\n",
              "   external_data_provider_credit_checks_last_month  \\\n",
              "0                                                2   \n",
              "1                                                1   \n",
              "2                                                2   \n",
              "3                                                3   \n",
              "4                                                2   \n",
              "\n",
              "   external_data_provider_credit_checks_last_year  \\\n",
              "0                                             0.0   \n",
              "1                                             0.0   \n",
              "2                                             NaN   \n",
              "3                                             NaN   \n",
              "4                                             1.0   \n",
              "\n",
              "   external_data_provider_email_seen_before external_data_provider_first_name  \\\n",
              "0                                      51.0                        leidelaura   \n",
              "1                                      17.0                          diocezio   \n",
              "2                                       9.0                         veralucia   \n",
              "3                                      38.0                            venice   \n",
              "4                                      46.0                           darzisa   \n",
              "\n",
              "   external_data_provider_fraud_score  \\\n",
              "0                                 645   \n",
              "1                                 243   \n",
              "2                                  65   \n",
              "3                                 815   \n",
              "4                                 320   \n",
              "\n",
              "                                      lat_lon marketing_channel  \\\n",
              "0    (-29.151545708122246, -51.1386461804385)      Invite-email   \n",
              "1   (-19.687710705798963, -47.94151536525154)  Radio-commercial   \n",
              "2  (-28.748023890412284, -51.867279334353995)      Waiting-list   \n",
              "3   (-17.520650158450454, -39.75801139933186)      Waiting-list   \n",
              "4   (-16.574259446978008, -39.90990074785962)      Invite-email   \n",
              "\n",
              "  profile_phone_number  reported_income shipping_state  shipping_zip_code  \\\n",
              "0          514-9840782          57849.0          BR-MT              17528   \n",
              "1          251-3659293           4902.0          BR-RS              40933   \n",
              "2          230-6097993         163679.0          BR-RR              50985   \n",
              "3          261-3543751           1086.0          BR-RN              37825   \n",
              "4          102-3660162         198618.0          BR-MT              52827   \n",
              "\n",
              "                                profile_tags  \\\n",
              "0                    {'tags': ['n19', 'n8']}   \n",
              "1              {'tags': ['n6', 'n7', 'nim']}   \n",
              "2       {'tags': ['n0', 'n17', 'nim', 'da']}   \n",
              "3                           {'tags': ['n4']}   \n",
              "4  {'tags': ['pro+aty', 'n19', 'da', 'b19']}   \n",
              "\n",
              "                                          user_agent target_fraud  \n",
              "0  Mozilla/5.0 (Linux; Android 6.0.1; SGP771 Buil...          NaN  \n",
              "1  Mozilla/5.0 (Linux; Android 5.0.2; SAMSUNG SM-...          NaN  \n",
              "2  Mozilla/5.0 (Linux; Android 6.0.1; SGP771 Buil...          NaN  \n",
              "3  Mozilla/5.0 (Linux; Android 6.0; HTC One X10 B...          NaN  \n",
              "4  Mozilla/5.0 (Linux; Android 7.0; Pixel C Build...          NaN  "
            ]
          },
          "execution_count": 6,
          "metadata": {},
          "output_type": "execute_result"
        }
      ],
      "source": [
        "# Checar as 5 primeiras entradas\n",
        "df.head()"
      ]
    },
    {
      "cell_type": "markdown",
      "metadata": {
        "id": "fHnIRz6DVqgj"
      },
      "source": [
        "Desse primeiro contato com os dados podemos concluir que:\n",
        "* A coluna `ids`, representa de forma anônima, cada um dos clientes do NuBank. Por não conter informações relevantes, irei excluí-la mais a frente.\n",
        "\n",
        "* Diferente de outros datasets que já trabalhei, esse a variável alvo não aparece na última coluna e sim na segunda, como `target_default`. O objetivo dessa variável é dizer se o respectivo cliente possui risco de inadimplência.\n",
        "\n",
        "* As colunas `last_amount_borrowed` e `last_borrowed_in_months`, são referentes ao valor do empréstimo e há quantos meses foi o último empréstimo, respectivamente.\n",
        "\n",
        "* Outra coluna que podemos ver é a `risk_rate`, que representa a taxa de risco que um cliente representa, na avaliação de crédito.\n",
        "\n",
        "* Existem diversas colunas que apresentam uma codificação, como por exemplo `score-1` ,`score-2`, `reason`, `state`, `zip`, `channel`, `job_name`, `real_state`. Essas são colunas que precisam de uma análise mais minunciosa, a fim de saber se podemos extrair alguma informação.\n",
        "\n",
        "* Diferente das colunas `score-1` e `score-2`, as colunas  `score-3`, `score-4` e `score-5` não apresentam codificação e são numéricas.\n",
        "\n",
        "* A coluna `lat_lon` está em formato *string*, onde nos mostra coordenadas, possivelmente a localização de onde foi acessado o app.\n"
      ]
    },
    {
      "cell_type": "code",
      "execution_count": null,
      "metadata": {
        "colab": {
          "base_uri": "https://localhost:8080/",
          "height": 364
        },
        "id": "cEyHfKoEbDV3",
        "outputId": "bd5eff0c-5638-4122-feab-c4044fe5c610"
      },
      "outputs": [
        {
          "data": {
            "text/html": [
              "\n",
              "  <div id=\"df-9b6ab72c-dde6-476d-8e44-36fae70cdfd1\">\n",
              "    <div class=\"colab-df-container\">\n",
              "      <div>\n",
              "<style scoped>\n",
              "    .dataframe tbody tr th:only-of-type {\n",
              "        vertical-align: middle;\n",
              "    }\n",
              "\n",
              "    .dataframe tbody tr th {\n",
              "        vertical-align: top;\n",
              "    }\n",
              "\n",
              "    .dataframe thead th {\n",
              "        text-align: right;\n",
              "    }\n",
              "</style>\n",
              "<table border=\"1\" class=\"dataframe\">\n",
              "  <thead>\n",
              "    <tr style=\"text-align: right;\">\n",
              "      <th></th>\n",
              "      <th>score_3</th>\n",
              "      <th>score_4</th>\n",
              "      <th>score_5</th>\n",
              "      <th>score_6</th>\n",
              "      <th>risk_rate</th>\n",
              "      <th>last_amount_borrowed</th>\n",
              "      <th>last_borrowed_in_months</th>\n",
              "      <th>credit_limit</th>\n",
              "      <th>income</th>\n",
              "      <th>ok_since</th>\n",
              "      <th>n_bankruptcies</th>\n",
              "      <th>n_defaulted_loans</th>\n",
              "      <th>n_accounts</th>\n",
              "      <th>n_issues</th>\n",
              "      <th>application_time_in_funnel</th>\n",
              "      <th>external_data_provider_credit_checks_last_2_year</th>\n",
              "      <th>external_data_provider_credit_checks_last_month</th>\n",
              "      <th>external_data_provider_credit_checks_last_year</th>\n",
              "      <th>external_data_provider_email_seen_before</th>\n",
              "      <th>external_data_provider_fraud_score</th>\n",
              "      <th>reported_income</th>\n",
              "      <th>shipping_zip_code</th>\n",
              "    </tr>\n",
              "  </thead>\n",
              "  <tbody>\n",
              "    <tr>\n",
              "      <th>count</th>\n",
              "      <td>44438.000000</td>\n",
              "      <td>45000.000000</td>\n",
              "      <td>45000.000000</td>\n",
              "      <td>45000.000000</td>\n",
              "      <td>44438.000000</td>\n",
              "      <td>15044.000000</td>\n",
              "      <td>15044.000000</td>\n",
              "      <td>31200.000000</td>\n",
              "      <td>4.443800e+04</td>\n",
              "      <td>18455.000000</td>\n",
              "      <td>44303.000000</td>\n",
              "      <td>44426.000000</td>\n",
              "      <td>44438.000000</td>\n",
              "      <td>33456.000000</td>\n",
              "      <td>45000.000000</td>\n",
              "      <td>22372.0</td>\n",
              "      <td>45000.000000</td>\n",
              "      <td>29876.000000</td>\n",
              "      <td>42767.000000</td>\n",
              "      <td>45000.000000</td>\n",
              "      <td>45000.00</td>\n",
              "      <td>45000.000000</td>\n",
              "    </tr>\n",
              "    <tr>\n",
              "      <th>mean</th>\n",
              "      <td>347.983258</td>\n",
              "      <td>100.006797</td>\n",
              "      <td>0.500037</td>\n",
              "      <td>99.925228</td>\n",
              "      <td>0.296717</td>\n",
              "      <td>13782.341991</td>\n",
              "      <td>41.763893</td>\n",
              "      <td>34381.951154</td>\n",
              "      <td>7.160739e+04</td>\n",
              "      <td>35.069737</td>\n",
              "      <td>0.076270</td>\n",
              "      <td>0.004569</td>\n",
              "      <td>10.696701</td>\n",
              "      <td>11.068119</td>\n",
              "      <td>247.537000</td>\n",
              "      <td>0.0</td>\n",
              "      <td>1.501067</td>\n",
              "      <td>0.503381</td>\n",
              "      <td>12.534781</td>\n",
              "      <td>500.399800</td>\n",
              "      <td>inf</td>\n",
              "      <td>33923.514844</td>\n",
              "    </tr>\n",
              "    <tr>\n",
              "      <th>std</th>\n",
              "      <td>110.429165</td>\n",
              "      <td>3.178080</td>\n",
              "      <td>0.288326</td>\n",
              "      <td>10.016549</td>\n",
              "      <td>0.101933</td>\n",
              "      <td>8077.571933</td>\n",
              "      <td>10.252705</td>\n",
              "      <td>36586.982218</td>\n",
              "      <td>5.185897e+04</td>\n",
              "      <td>21.663194</td>\n",
              "      <td>0.274052</td>\n",
              "      <td>0.079400</td>\n",
              "      <td>4.592463</td>\n",
              "      <td>4.595501</td>\n",
              "      <td>146.118398</td>\n",
              "      <td>0.0</td>\n",
              "      <td>1.114941</td>\n",
              "      <td>0.499997</td>\n",
              "      <td>126.530487</td>\n",
              "      <td>287.968873</td>\n",
              "      <td>NaN</td>\n",
              "      <td>12692.406382</td>\n",
              "    </tr>\n",
              "    <tr>\n",
              "      <th>min</th>\n",
              "      <td>0.000000</td>\n",
              "      <td>86.191572</td>\n",
              "      <td>0.000035</td>\n",
              "      <td>60.663039</td>\n",
              "      <td>0.000000</td>\n",
              "      <td>1005.180000</td>\n",
              "      <td>36.000000</td>\n",
              "      <td>0.000000</td>\n",
              "      <td>4.821180e+03</td>\n",
              "      <td>0.000000</td>\n",
              "      <td>0.000000</td>\n",
              "      <td>0.000000</td>\n",
              "      <td>0.000000</td>\n",
              "      <td>0.000000</td>\n",
              "      <td>0.000000</td>\n",
              "      <td>0.0</td>\n",
              "      <td>0.000000</td>\n",
              "      <td>0.000000</td>\n",
              "      <td>-999.000000</td>\n",
              "      <td>0.000000</td>\n",
              "      <td>403.00</td>\n",
              "      <td>12001.000000</td>\n",
              "    </tr>\n",
              "    <tr>\n",
              "      <th>25%</th>\n",
              "      <td>270.000000</td>\n",
              "      <td>97.867036</td>\n",
              "      <td>0.252150</td>\n",
              "      <td>93.198353</td>\n",
              "      <td>0.220000</td>\n",
              "      <td>7519.502500</td>\n",
              "      <td>36.000000</td>\n",
              "      <td>10000.000000</td>\n",
              "      <td>4.501078e+04</td>\n",
              "      <td>17.000000</td>\n",
              "      <td>0.000000</td>\n",
              "      <td>0.000000</td>\n",
              "      <td>7.000000</td>\n",
              "      <td>8.000000</td>\n",
              "      <td>120.000000</td>\n",
              "      <td>0.0</td>\n",
              "      <td>1.000000</td>\n",
              "      <td>0.000000</td>\n",
              "      <td>11.000000</td>\n",
              "      <td>252.000000</td>\n",
              "      <td>50948.25</td>\n",
              "      <td>22937.000000</td>\n",
              "    </tr>\n",
              "    <tr>\n",
              "      <th>50%</th>\n",
              "      <td>340.000000</td>\n",
              "      <td>100.018900</td>\n",
              "      <td>0.500753</td>\n",
              "      <td>99.974796</td>\n",
              "      <td>0.290000</td>\n",
              "      <td>12023.465000</td>\n",
              "      <td>36.000000</td>\n",
              "      <td>25647.000000</td>\n",
              "      <td>6.126676e+04</td>\n",
              "      <td>32.000000</td>\n",
              "      <td>0.000000</td>\n",
              "      <td>0.000000</td>\n",
              "      <td>10.000000</td>\n",
              "      <td>10.000000</td>\n",
              "      <td>248.000000</td>\n",
              "      <td>0.0</td>\n",
              "      <td>2.000000</td>\n",
              "      <td>1.000000</td>\n",
              "      <td>27.000000</td>\n",
              "      <td>503.000000</td>\n",
              "      <td>101779.00</td>\n",
              "      <td>33896.000000</td>\n",
              "    </tr>\n",
              "    <tr>\n",
              "      <th>75%</th>\n",
              "      <td>420.000000</td>\n",
              "      <td>102.141797</td>\n",
              "      <td>0.748816</td>\n",
              "      <td>106.640275</td>\n",
              "      <td>0.360000</td>\n",
              "      <td>19220.270000</td>\n",
              "      <td>36.000000</td>\n",
              "      <td>47086.750000</td>\n",
              "      <td>8.601923e+04</td>\n",
              "      <td>50.000000</td>\n",
              "      <td>0.000000</td>\n",
              "      <td>0.000000</td>\n",
              "      <td>13.000000</td>\n",
              "      <td>14.000000</td>\n",
              "      <td>375.000000</td>\n",
              "      <td>0.0</td>\n",
              "      <td>2.000000</td>\n",
              "      <td>1.000000</td>\n",
              "      <td>43.000000</td>\n",
              "      <td>747.000000</td>\n",
              "      <td>151337.25</td>\n",
              "      <td>44910.000000</td>\n",
              "    </tr>\n",
              "    <tr>\n",
              "      <th>max</th>\n",
              "      <td>990.000000</td>\n",
              "      <td>113.978234</td>\n",
              "      <td>0.999973</td>\n",
              "      <td>142.192400</td>\n",
              "      <td>0.900000</td>\n",
              "      <td>35059.600000</td>\n",
              "      <td>60.000000</td>\n",
              "      <td>448269.000000</td>\n",
              "      <td>5.000028e+06</td>\n",
              "      <td>141.000000</td>\n",
              "      <td>5.000000</td>\n",
              "      <td>5.000000</td>\n",
              "      <td>49.000000</td>\n",
              "      <td>49.000000</td>\n",
              "      <td>500.000000</td>\n",
              "      <td>0.0</td>\n",
              "      <td>3.000000</td>\n",
              "      <td>1.000000</td>\n",
              "      <td>59.000000</td>\n",
              "      <td>1000.000000</td>\n",
              "      <td>inf</td>\n",
              "      <td>56000.000000</td>\n",
              "    </tr>\n",
              "  </tbody>\n",
              "</table>\n",
              "</div>\n",
              "      <button class=\"colab-df-convert\" onclick=\"convertToInteractive('df-9b6ab72c-dde6-476d-8e44-36fae70cdfd1')\"\n",
              "              title=\"Convert this dataframe to an interactive table.\"\n",
              "              style=\"display:none;\">\n",
              "        \n",
              "  <svg xmlns=\"http://www.w3.org/2000/svg\" height=\"24px\"viewBox=\"0 0 24 24\"\n",
              "       width=\"24px\">\n",
              "    <path d=\"M0 0h24v24H0V0z\" fill=\"none\"/>\n",
              "    <path d=\"M18.56 5.44l.94 2.06.94-2.06 2.06-.94-2.06-.94-.94-2.06-.94 2.06-2.06.94zm-11 1L8.5 8.5l.94-2.06 2.06-.94-2.06-.94L8.5 2.5l-.94 2.06-2.06.94zm10 10l.94 2.06.94-2.06 2.06-.94-2.06-.94-.94-2.06-.94 2.06-2.06.94z\"/><path d=\"M17.41 7.96l-1.37-1.37c-.4-.4-.92-.59-1.43-.59-.52 0-1.04.2-1.43.59L10.3 9.45l-7.72 7.72c-.78.78-.78 2.05 0 2.83L4 21.41c.39.39.9.59 1.41.59.51 0 1.02-.2 1.41-.59l7.78-7.78 2.81-2.81c.8-.78.8-2.07 0-2.86zM5.41 20L4 18.59l7.72-7.72 1.47 1.35L5.41 20z\"/>\n",
              "  </svg>\n",
              "      </button>\n",
              "      \n",
              "  <style>\n",
              "    .colab-df-container {\n",
              "      display:flex;\n",
              "      flex-wrap:wrap;\n",
              "      gap: 12px;\n",
              "    }\n",
              "\n",
              "    .colab-df-convert {\n",
              "      background-color: #E8F0FE;\n",
              "      border: none;\n",
              "      border-radius: 50%;\n",
              "      cursor: pointer;\n",
              "      display: none;\n",
              "      fill: #1967D2;\n",
              "      height: 32px;\n",
              "      padding: 0 0 0 0;\n",
              "      width: 32px;\n",
              "    }\n",
              "\n",
              "    .colab-df-convert:hover {\n",
              "      background-color: #E2EBFA;\n",
              "      box-shadow: 0px 1px 2px rgba(60, 64, 67, 0.3), 0px 1px 3px 1px rgba(60, 64, 67, 0.15);\n",
              "      fill: #174EA6;\n",
              "    }\n",
              "\n",
              "    [theme=dark] .colab-df-convert {\n",
              "      background-color: #3B4455;\n",
              "      fill: #D2E3FC;\n",
              "    }\n",
              "\n",
              "    [theme=dark] .colab-df-convert:hover {\n",
              "      background-color: #434B5C;\n",
              "      box-shadow: 0px 1px 3px 1px rgba(0, 0, 0, 0.15);\n",
              "      filter: drop-shadow(0px 1px 2px rgba(0, 0, 0, 0.3));\n",
              "      fill: #FFFFFF;\n",
              "    }\n",
              "  </style>\n",
              "\n",
              "      <script>\n",
              "        const buttonEl =\n",
              "          document.querySelector('#df-9b6ab72c-dde6-476d-8e44-36fae70cdfd1 button.colab-df-convert');\n",
              "        buttonEl.style.display =\n",
              "          google.colab.kernel.accessAllowed ? 'block' : 'none';\n",
              "\n",
              "        async function convertToInteractive(key) {\n",
              "          const element = document.querySelector('#df-9b6ab72c-dde6-476d-8e44-36fae70cdfd1');\n",
              "          const dataTable =\n",
              "            await google.colab.kernel.invokeFunction('convertToInteractive',\n",
              "                                                     [key], {});\n",
              "          if (!dataTable) return;\n",
              "\n",
              "          const docLinkHtml = 'Like what you see? Visit the ' +\n",
              "            '<a target=\"_blank\" href=https://colab.research.google.com/notebooks/data_table.ipynb>data table notebook</a>'\n",
              "            + ' to learn more about interactive tables.';\n",
              "          element.innerHTML = '';\n",
              "          dataTable['output_type'] = 'display_data';\n",
              "          await google.colab.output.renderOutput(dataTable, element);\n",
              "          const docLink = document.createElement('div');\n",
              "          docLink.innerHTML = docLinkHtml;\n",
              "          element.appendChild(docLink);\n",
              "        }\n",
              "      </script>\n",
              "    </div>\n",
              "  </div>\n",
              "  "
            ],
            "text/plain": [
              "            score_3       score_4       score_5       score_6     risk_rate  \\\n",
              "count  44438.000000  45000.000000  45000.000000  45000.000000  44438.000000   \n",
              "mean     347.983258    100.006797      0.500037     99.925228      0.296717   \n",
              "std      110.429165      3.178080      0.288326     10.016549      0.101933   \n",
              "min        0.000000     86.191572      0.000035     60.663039      0.000000   \n",
              "25%      270.000000     97.867036      0.252150     93.198353      0.220000   \n",
              "50%      340.000000    100.018900      0.500753     99.974796      0.290000   \n",
              "75%      420.000000    102.141797      0.748816    106.640275      0.360000   \n",
              "max      990.000000    113.978234      0.999973    142.192400      0.900000   \n",
              "\n",
              "       last_amount_borrowed  last_borrowed_in_months   credit_limit  \\\n",
              "count          15044.000000             15044.000000   31200.000000   \n",
              "mean           13782.341991                41.763893   34381.951154   \n",
              "std             8077.571933                10.252705   36586.982218   \n",
              "min             1005.180000                36.000000       0.000000   \n",
              "25%             7519.502500                36.000000   10000.000000   \n",
              "50%            12023.465000                36.000000   25647.000000   \n",
              "75%            19220.270000                36.000000   47086.750000   \n",
              "max            35059.600000                60.000000  448269.000000   \n",
              "\n",
              "             income      ok_since  n_bankruptcies  n_defaulted_loans  \\\n",
              "count  4.443800e+04  18455.000000    44303.000000       44426.000000   \n",
              "mean   7.160739e+04     35.069737        0.076270           0.004569   \n",
              "std    5.185897e+04     21.663194        0.274052           0.079400   \n",
              "min    4.821180e+03      0.000000        0.000000           0.000000   \n",
              "25%    4.501078e+04     17.000000        0.000000           0.000000   \n",
              "50%    6.126676e+04     32.000000        0.000000           0.000000   \n",
              "75%    8.601923e+04     50.000000        0.000000           0.000000   \n",
              "max    5.000028e+06    141.000000        5.000000           5.000000   \n",
              "\n",
              "         n_accounts      n_issues  application_time_in_funnel  \\\n",
              "count  44438.000000  33456.000000                45000.000000   \n",
              "mean      10.696701     11.068119                  247.537000   \n",
              "std        4.592463      4.595501                  146.118398   \n",
              "min        0.000000      0.000000                    0.000000   \n",
              "25%        7.000000      8.000000                  120.000000   \n",
              "50%       10.000000     10.000000                  248.000000   \n",
              "75%       13.000000     14.000000                  375.000000   \n",
              "max       49.000000     49.000000                  500.000000   \n",
              "\n",
              "       external_data_provider_credit_checks_last_2_year  \\\n",
              "count                                           22372.0   \n",
              "mean                                                0.0   \n",
              "std                                                 0.0   \n",
              "min                                                 0.0   \n",
              "25%                                                 0.0   \n",
              "50%                                                 0.0   \n",
              "75%                                                 0.0   \n",
              "max                                                 0.0   \n",
              "\n",
              "       external_data_provider_credit_checks_last_month  \\\n",
              "count                                     45000.000000   \n",
              "mean                                          1.501067   \n",
              "std                                           1.114941   \n",
              "min                                           0.000000   \n",
              "25%                                           1.000000   \n",
              "50%                                           2.000000   \n",
              "75%                                           2.000000   \n",
              "max                                           3.000000   \n",
              "\n",
              "       external_data_provider_credit_checks_last_year  \\\n",
              "count                                    29876.000000   \n",
              "mean                                         0.503381   \n",
              "std                                          0.499997   \n",
              "min                                          0.000000   \n",
              "25%                                          0.000000   \n",
              "50%                                          1.000000   \n",
              "75%                                          1.000000   \n",
              "max                                          1.000000   \n",
              "\n",
              "       external_data_provider_email_seen_before  \\\n",
              "count                              42767.000000   \n",
              "mean                                  12.534781   \n",
              "std                                  126.530487   \n",
              "min                                 -999.000000   \n",
              "25%                                   11.000000   \n",
              "50%                                   27.000000   \n",
              "75%                                   43.000000   \n",
              "max                                   59.000000   \n",
              "\n",
              "       external_data_provider_fraud_score  reported_income  shipping_zip_code  \n",
              "count                        45000.000000         45000.00       45000.000000  \n",
              "mean                           500.399800              inf       33923.514844  \n",
              "std                            287.968873              NaN       12692.406382  \n",
              "min                              0.000000           403.00       12001.000000  \n",
              "25%                            252.000000         50948.25       22937.000000  \n",
              "50%                            503.000000        101779.00       33896.000000  \n",
              "75%                            747.000000        151337.25       44910.000000  \n",
              "max                           1000.000000              inf       56000.000000  "
            ]
          },
          "execution_count": 7,
          "metadata": {},
          "output_type": "execute_result"
        }
      ],
      "source": [
        "df.describe()"
      ]
    },
    {
      "cell_type": "markdown",
      "metadata": {
        "id": "2M6b_OBwcduW"
      },
      "source": [
        "Ao ver o resumo das variáveis numéricas, pude obter algumas informações:\n",
        "*  Existem variáveis com valores ausentes, por exemplo, a variável `score_3`, possui apenas 44438 entradas, enquanto outras variáveis possuem as 45000.\n",
        "* A variável `external_data_provider_email_seen_before` possui um valor mínimo incomum, sendo -999, essa entrada em específico está puxando a média para baixo, dessa forma pode atrapalhar a leitura dos dados, o que irei fazer é substituir os valores menores que 0, por `np.nan`.\n",
        "* A coluna `reported_income`, possui valores `np.inf`, que representam um infinito positivo, isso atrapalharia tanto a análise quanto o desempenho do modelo, por isso irei substituir esse valores por `np.nan`.\n",
        "\n"
      ]
    },
    {
      "cell_type": "code",
      "execution_count": null,
      "metadata": {
        "colab": {
          "base_uri": "https://localhost:8080/"
        },
        "id": "qexdBu4ybMwM",
        "outputId": "e65ec770-6d65-43eb-ceb4-396a3969cfba"
      },
      "outputs": [
        {
          "name": "stdout",
          "output_type": "stream",
          "text": [
            "\n",
            "Tipos de Dados (por coluna):\n",
            "ids                                                  object\n",
            "target_default                                       object\n",
            "score_1                                              object\n",
            "score_2                                              object\n",
            "score_3                                             float64\n",
            "score_4                                             float64\n",
            "score_5                                             float64\n",
            "score_6                                             float64\n",
            "risk_rate                                           float64\n",
            "last_amount_borrowed                                float64\n",
            "last_borrowed_in_months                             float64\n",
            "credit_limit                                        float64\n",
            "reason                                               object\n",
            "income                                              float64\n",
            "facebook_profile                                     object\n",
            "state                                                object\n",
            "zip                                                  object\n",
            "channel                                              object\n",
            "job_name                                             object\n",
            "real_state                                           object\n",
            "ok_since                                            float64\n",
            "n_bankruptcies                                      float64\n",
            "n_defaulted_loans                                   float64\n",
            "n_accounts                                          float64\n",
            "n_issues                                            float64\n",
            "application_time_applied                             object\n",
            "application_time_in_funnel                            int64\n",
            "email                                                object\n",
            "external_data_provider_credit_checks_last_2_year    float64\n",
            "external_data_provider_credit_checks_last_month       int64\n",
            "external_data_provider_credit_checks_last_year      float64\n",
            "external_data_provider_email_seen_before            float64\n",
            "external_data_provider_first_name                    object\n",
            "external_data_provider_fraud_score                    int64\n",
            "lat_lon                                              object\n",
            "marketing_channel                                    object\n",
            "profile_phone_number                                 object\n",
            "reported_income                                     float64\n",
            "shipping_state                                       object\n",
            "shipping_zip_code                                     int64\n",
            "profile_tags                                         object\n",
            "user_agent                                           object\n",
            "target_fraud                                         object\n",
            "dtype: object\n"
          ]
        }
      ],
      "source": [
        "# Checar os tipos de dados (por coluna)\n",
        "print(f'\\nTipos de Dados (por coluna):\\n{df.dtypes}')"
      ]
    },
    {
      "cell_type": "markdown",
      "metadata": {
        "id": "_68bD4tGQ7Bz"
      },
      "source": [
        "Outra informação relevante é a quantidade de valores ausentes por variável."
      ]
    },
    {
      "cell_type": "code",
      "execution_count": null,
      "metadata": {
        "colab": {
          "base_uri": "https://localhost:8080/"
        },
        "id": "aA0ru6yL0njE",
        "outputId": "d6fe65ad-3654-449a-e9b0-ffd895c24ef6"
      },
      "outputs": [
        {
          "name": "stdout",
          "output_type": "stream",
          "text": [
            "Porcentagem de dados ausentes:\t\n",
            "ids                                                 0.000000\n",
            "target_default                                      0.072422\n",
            "score_1                                             0.012489\n",
            "score_2                                             0.012489\n",
            "score_3                                             0.012489\n",
            "score_4                                             0.000000\n",
            "score_5                                             0.000000\n",
            "score_6                                             0.000000\n",
            "risk_rate                                           0.012489\n",
            "last_amount_borrowed                                0.665689\n",
            "last_borrowed_in_months                             0.665689\n",
            "credit_limit                                        0.306667\n",
            "reason                                              0.012578\n",
            "income                                              0.012489\n",
            "facebook_profile                                    0.099067\n",
            "state                                               0.012489\n",
            "zip                                                 0.012489\n",
            "channel                                             0.012489\n",
            "job_name                                            0.074133\n",
            "real_state                                          0.012489\n",
            "ok_since                                            0.589889\n",
            "n_bankruptcies                                      0.015489\n",
            "n_defaulted_loans                                   0.012756\n",
            "n_accounts                                          0.012489\n",
            "n_issues                                            0.256533\n",
            "application_time_applied                            0.000000\n",
            "application_time_in_funnel                          0.000000\n",
            "email                                               0.000000\n",
            "external_data_provider_credit_checks_last_2_year    0.502844\n",
            "external_data_provider_credit_checks_last_month     0.000000\n",
            "external_data_provider_credit_checks_last_year      0.336089\n",
            "external_data_provider_email_seen_before            0.049622\n",
            "external_data_provider_first_name                   0.000000\n",
            "external_data_provider_fraud_score                  0.000000\n",
            "lat_lon                                             0.030289\n",
            "marketing_channel                                   0.079511\n",
            "profile_phone_number                                0.000000\n",
            "reported_income                                     0.000000\n",
            "shipping_state                                      0.000000\n",
            "shipping_zip_code                                   0.000000\n",
            "profile_tags                                        0.000000\n",
            "user_agent                                          0.016044\n",
            "target_fraud                                        0.966178\n",
            "dtype: float64\n"
          ]
        }
      ],
      "source": [
        "# Checar a quantidade de valores ausentes\n",
        "print(f'Porcentagem de dados ausentes:\\t\\n{df.isnull().sum() / df.shape[0]}')"
      ]
    },
    {
      "cell_type": "markdown",
      "metadata": {
        "id": "YsEX7Fg3RvlM"
      },
      "source": [
        "A respeito da porcentagem de valores ausentes identificados, foi possível notar:\n",
        "\n",
        "* Diversas variáveis possuem valores ausentes, mesmo que sejam poucos, alguns até mesmo referentes a variáveis categóricas. Porém, existem variáveis numéricas que também apresentam valores ausentes.\n",
        "* As variáveis `last_amount_borrowed`, `last_borrowed_in_months`, `ok_since`, `external_data_provider_credit_checks_last_2_year` e `target_fraud` possuem mais da metade dos valores ausentes.\n",
        "* As variáveis `credit_limit`, `n_issues` e `external_data_provider_credit_checks_last_year  ` possuem entre 25% e 34% dos valores ausentes.\n",
        "* As outras variáveis, com a exceção da variável `target_fraud`, possuem menos de 10% dos valores ausentes.\n",
        "\n",
        "O caso com mais valores ausentes é referente a variável `target_fraud`, porém não é um problema, pois essa variável alvo irrelevante para a análise do risco de crédito. Porém, todas as outra variáveis representam informações relevantes para a análise e treino do Modelo De Machine Learning.\n",
        "\n",
        "A contagem de valores únicos por *feature* é outra análise relevante de se fazer. As variáveis numéricas, podem esconder classes/categorias que podem representar *features* ou revelar que existe uma quantidade elevada de classes por \"Variáveis Categóricas\"."
      ]
    },
    {
      "cell_type": "code",
      "execution_count": null,
      "metadata": {
        "colab": {
          "base_uri": "https://localhost:8080/"
        },
        "id": "le94H3O62I52",
        "outputId": "dc648e0d-e00b-4f6f-cb7a-d7590f61f29f"
      },
      "outputs": [
        {
          "name": "stdout",
          "output_type": "stream",
          "text": [
            "\n",
            "Valores únicos (por coluna)\n",
            "external_data_provider_credit_checks_last_2_year        1\n",
            "channel                                                 1\n",
            "target_fraud                                            2\n",
            "target_default                                          2\n",
            "external_data_provider_credit_checks_last_year          2\n",
            "facebook_profile                                        2\n",
            "last_borrowed_in_months                                 2\n",
            "external_data_provider_credit_checks_last_month         4\n",
            "n_defaulted_loans                                       5\n",
            "real_state                                              5\n",
            "email                                                   6\n",
            "n_bankruptcies                                          6\n",
            "score_1                                                 7\n",
            "marketing_channel                                       9\n",
            "shipping_state                                         25\n",
            "score_2                                                35\n",
            "n_issues                                               44\n",
            "n_accounts                                             44\n",
            "state                                                  50\n",
            "external_data_provider_email_seen_before               62\n",
            "risk_rate                                              82\n",
            "score_3                                                88\n",
            "ok_since                                              100\n",
            "user_agent                                            297\n",
            "application_time_in_funnel                            501\n",
            "zip                                                   823\n",
            "external_data_provider_fraud_score                   1001\n",
            "last_amount_borrowed                                14325\n",
            "reason                                              14874\n",
            "credit_limit                                        20928\n",
            "lat_lon                                             22412\n",
            "profile_tags                                        26131\n",
            "shipping_zip_code                                   28263\n",
            "job_name                                            32265\n",
            "external_data_provider_first_name                   32886\n",
            "application_time_applied                            35543\n",
            "reported_income                                     40025\n",
            "income                                              41211\n",
            "score_4                                             45000\n",
            "score_5                                             45000\n",
            "score_6                                             45000\n",
            "profile_phone_number                                45000\n",
            "ids                                                 45000\n",
            "dtype: int64\n"
          ]
        }
      ],
      "source": [
        "# Checar os valores únicos por coluna\n",
        "print(f'\\nValores únicos (por coluna)\\n{df.nunique().sort_values()}')"
      ]
    },
    {
      "cell_type": "markdown",
      "metadata": {
        "id": "h_AhtnxOk_VL"
      },
      "source": [
        "Variáveis que possuem apenas um único valor, não nos dão muitas informações e por isso podem ser descartadas para o modelo de machine learning. Variáveis como `ids` e `profile_phone_number`, possuem 45 mil valores únicos e não nos fornecem informação alguma, devem ser descartadas para não atrapalhar a análise, uma vez que é improvável saber se o usuário será inadimplente por conta do número de telefone."
      ]
    },
    {
      "cell_type": "code",
      "execution_count": 4,
      "metadata": {
        "id": "YQfIIipaVGFK"
      },
      "outputs": [],
      "source": [
        "# criar cópia do DataFrame\n",
        "df_clean = df.copy()\n",
        "\n",
        "# Substituir inf por nan na variável reported_income\n",
        "df_clean['reported_income'].replace(np.inf, np.nan, inplace=True)\n",
        "\n",
        "# descartar colunas desnecessárias/ sem informção aparente ou que demandam mais pesquisa\n",
        "df_clean.drop(labels=['ids', 'profile_phone_number', 'target_fraud',\n",
        "                      'external_data_provider_credit_checks_last_2_year', \n",
        "                      'channel', 'reason', 'zip', 'job_name', 'profile_tags',\n",
        "                      'application_time_applied', 'email', \n",
        "                      'external_data_provider_first_name', 'user_agent'], axis=1, inplace=True)\n",
        "# descartar entradas NanN para 'target_default'\n",
        "df_clean.dropna(subset=['target_default'], inplace=True)\n",
        "\n",
        "#  substituir -999 em external_data_provider_email_seen_before por NaN\n",
        "df_clean.loc[df_clean['external_data_provider_email_seen_before'] == -999.0,\n",
        "             'external_data_provider_email_seen_before'] = np.nan\n",
        "\n"
      ]
    },
    {
      "cell_type": "markdown",
      "metadata": {
        "id": "YYahAiZnyzcY"
      },
      "source": [
        "## Preparação dos Dados\n",
        "\n",
        "Com as informações que obtivemos da etapa anterior, vamos prosseguir com a limpeza e preparação dos dados.\n",
        "\n",
        "Apesar de não termos informações aprofundadas a respeito das variáveis, podemos assumir que boa parte dos valores nulos, ocorre por:\n",
        "\n",
        "\n",
        "> 1. Alguns itens não são de preenchimento obrigatório, como por exemplo o perfil dp facebook\n",
        "\n",
        "\n",
        "\n",
        "> 2. Existem colunas que não possuem nenhuma observação, como por exemplo ['last_amount_borrowed', 'last_borrowed_in_months', 'n_issues'].\n",
        "\n",
        "\n",
        "De forma geral, as variáveis que se enquadram no segundo caso, terão os valores nulos substituidos por zero. Para as variáveis numéricas, será adotado o valor da medianda e para as categóricas, o valor mais frequente.\n",
        "\n",
        "\n"
      ]
    },
    {
      "cell_type": "code",
      "execution_count": 5,
      "metadata": {
        "id": "BTF7zub_JbeV"
      },
      "outputs": [],
      "source": [
        "from numpy.lib.function_base import median\n",
        "from sklearn.impute import SimpleImputer\n",
        "\n",
        "num_df = df_clean.select_dtypes(exclude='object').columns\n",
        "cat_df = df_clean.select_dtypes(include='object').columns\n",
        "\n",
        "# Substituição de valores ausentes\n",
        "df_clean.last_amount_borrowed.fillna(value=0, inplace=True)\n",
        "df_clean.last_borrowed_in_months.fillna(value=0, inplace=True)\n",
        "df_clean.n_issues.fillna(value=0, inplace=True)\n",
        "\n",
        "# variáveis numéricas\n",
        "imp_median = SimpleImputer(missing_values=np.nan, strategy='median')\n",
        "imp_median = imp_median.fit(df_clean.loc[:,num_df])\n",
        "df_clean.loc[:,num_df] = imp_median.transform(df_clean.loc[:,num_df])\n",
        "\n",
        "# variáveis categóricas\n",
        "imp_frequent = SimpleImputer(missing_values=np.nan, strategy='most_frequent')\n",
        "imp_frequent = imp_frequent.fit(df_clean.loc[:,cat_df])\n",
        "df_clean.loc[:,cat_df] = imp_frequent.transform(df_clean.loc[:,cat_df])"
      ]
    },
    {
      "cell_type": "markdown",
      "source": [
        "É possível notar, que agora nenhuma variável possui valores nulos"
      ],
      "metadata": {
        "id": "Izc-5q5w8fq0"
      }
    },
    {
      "cell_type": "code",
      "execution_count": null,
      "metadata": {
        "colab": {
          "base_uri": "https://localhost:8080/"
        },
        "id": "q5qLgUuPucUR",
        "outputId": "d252a46d-5f54-486a-a61a-bc3d1db72927"
      },
      "outputs": [
        {
          "data": {
            "text/plain": [
              "target_default                                     0\n",
              "score_1                                            0\n",
              "score_2                                            0\n",
              "score_3                                            0\n",
              "score_4                                            0\n",
              "score_5                                            0\n",
              "score_6                                            0\n",
              "risk_rate                                          0\n",
              "last_amount_borrowed                               0\n",
              "last_borrowed_in_months                            0\n",
              "credit_limit                                       0\n",
              "income                                             0\n",
              "facebook_profile                                   0\n",
              "state                                              0\n",
              "real_state                                         0\n",
              "ok_since                                           0\n",
              "n_bankruptcies                                     0\n",
              "n_defaulted_loans                                  0\n",
              "n_accounts                                         0\n",
              "n_issues                                           0\n",
              "application_time_in_funnel                         0\n",
              "external_data_provider_credit_checks_last_month    0\n",
              "external_data_provider_credit_checks_last_year     0\n",
              "external_data_provider_email_seen_before           0\n",
              "external_data_provider_fraud_score                 0\n",
              "lat_lon                                            0\n",
              "marketing_channel                                  0\n",
              "reported_income                                    0\n",
              "shipping_state                                     0\n",
              "shipping_zip_code                                  0\n",
              "dtype: int64"
            ]
          },
          "execution_count": 14,
          "metadata": {},
          "output_type": "execute_result"
        }
      ],
      "source": [
        "df_clean.isnull().sum()"
      ]
    },
    {
      "cell_type": "markdown",
      "source": [
        "Ao verificar o balanceamento da variável alvo, pude notar que a quantidade de inadimplentes é considerávelmente menor do que de não-inadimplentes, ainda bem né. Porém, a diferença não é grande o suficiente para ser necessário um balanceamento."
      ],
      "metadata": {
        "id": "Pn1gHZiB55jn"
      }
    },
    {
      "cell_type": "code",
      "execution_count": null,
      "metadata": {
        "colab": {
          "base_uri": "https://localhost:8080/",
          "height": 419
        },
        "id": "5EMnuET-o1k8",
        "outputId": "0085d97d-cb8c-4b49-b3f8-92d02866c62d"
      },
      "outputs": [
        {
          "name": "stdout",
          "output_type": "stream",
          "text": [
            "False    35080\n",
            "True      6661\n",
            "Name: target_default, dtype: int64\n",
            "\n",
            "Proporção entre Inadimplentes\n",
            "False    0.779556\n",
            "True     0.148022\n",
            "Name: target_default, dtype: float64\n"
          ]
        },
        {
          "data": {
            "image/png": "[encoded data removed]",
            "text/plain": [
              "<Figure size 432x288 with 1 Axes>"
            ]
          },
          "metadata": {},
          "output_type": "display_data"
        }
      ],
      "source": [
        "# Verificar o balanceamento da variável alvo (Inadimplentes)\n",
        "print(df.target_default.value_counts())\n",
        "print('\\nProporção entre Inadimplentes')\n",
        "print(df['target_default'].value_counts() / df.shape[0])\n",
        "\n",
        "sns.countplot(df.target_default)\n",
        "plt.show();"
      ]
    },
    {
      "cell_type": "markdown",
      "source": [
        "Na preparação dos dados, também irei realizar o LabelEncoding para possibilitar que as variáveis categóricas sejam codificadas em labels, podendo assim alimentar os modelos de Machine learning\n"
      ],
      "metadata": {
        "id": "wuAwP9weBgqu"
      }
    },
    {
      "cell_type": "code",
      "execution_count": 6,
      "metadata": {
        "id": "YSuyBsD1uzp0"
      },
      "outputs": [],
      "source": [
        "cat_cols = df_clean.select_dtypes('object').columns\n",
        "\n",
        "for col in cat_cols:\n",
        "  df_clean[col+'_encoded'] = LabelEncoder().fit_transform(df_clean[col])\n",
        "  df_clean.drop(col, axis=1, inplace=True)"
      ]
    },
    {
      "cell_type": "code",
      "execution_count": 7,
      "metadata": {
        "id": "N84F-NFegnWW"
      },
      "outputs": [],
      "source": [
        "X = df_clean.drop('target_default', axis=1).select_dtypes(exclude='object')\n",
        "y = df_clean['target_default']\n",
        "\n",
        "X_train, X_test, y_train, y_test = train_test_split(X, y, test_size=0.25)"
      ]
    },
    {
      "cell_type": "markdown",
      "source": [
        "Após realizar a separação do DF em treino e teste e identificar a variável alvo, será feita a padronização e a avaliação dos modelos por meio do Cross-validation."
      ],
      "metadata": {
        "id": "Hw3GwmlXd8Ko"
      }
    },
    {
      "cell_type": "code",
      "execution_count": 8,
      "metadata": {
        "id": "BbaPh74i6rAc"
      },
      "outputs": [],
      "source": [
        "def val_model(X, y, clf, quite=False):\n",
        "  X = np.array(X)\n",
        "  y = np.array(y)\n",
        "\n",
        "  pipelineSTD_SCA = make_pipeline(StandardScaler(), clf)\n",
        "  pipelineROB_SCA = make_pipeline(RobustScaler(),   clf)\n",
        "  \n",
        "  scoresSTD_SCA = cross_val_score(pipelineSTD_SCA, X, y, scoring='recall')\n",
        "  scoresROB_SCA = cross_val_score(pipelineROB_SCA, X, y, scoring='recall')\n",
        "  \n",
        "  if quite == False:\n",
        "    print(\"Recall StandardScaler               : {:.4f} (+/- {:.4f})\".format(scoresSTD_SCA.mean(), scoresSTD_SCA.std() * 2))\n",
        "    print(\"Recall RobustScaler                 : {:.4f} (+/- {:.4f})\".format(scoresROB_SCA.mean(), scoresROB_SCA.std() * 2))\n",
        "\n",
        "  return scoresSTD_SCA.mean()"
      ]
    },
    {
      "cell_type": "code",
      "execution_count": 9,
      "metadata": {
        "id": "syGkH8EwcjCg"
      },
      "outputs": [],
      "source": [
        "ran_for = RandomForestClassifier()\n",
        "log_reg = LogisticRegression()\n",
        "XGB_BOO = XGBClassifier()"
      ]
    },
    {
      "cell_type": "code",
      "execution_count": 10,
      "metadata": {
        "colab": {
          "base_uri": "https://localhost:8080/"
        },
        "id": "HZ9OBmQ3U9Xd",
        "outputId": "3a69af73-97aa-4629-e8d5-a152c65185e4"
      },
      "outputs": [
        {
          "output_type": "stream",
          "name": "stdout",
          "text": [
            "Cross-validation ran_for:\n",
            "Recall StandardScaler               : 0.0367 (+/- 0.0122)\n",
            "Recall RobustScaler                 : 0.0345 (+/- 0.0077)\n",
            "\n",
            "Cross-validation log_reg:\n",
            "Recall StandardScaler               : 0.0097 (+/- 0.0054)\n",
            "Recall RobustScaler                 : 0.4939 (+/- 0.0396)\n",
            "\n",
            "Cross-validation XGB_BOO:\n",
            "Recall StandardScaler               : 0.0878 (+/- 0.0072)\n",
            "Recall RobustScaler                 : 0.0882 (+/- 0.0071)\n"
          ]
        }
      ],
      "source": [
        "# printar o desempenho dos modelos com os dados padronizados\n",
        "print('Cross-validation ran_for:')\n",
        "score_testeRf     = val_model(X_train, y_train, ran_for)\n",
        "print('\\nCross-validation log_reg:')\n",
        "score_testeLR     = val_model(X_train, y_train, log_reg)\n",
        "print('\\nCross-validation XGB_BOO:')\n",
        "score_testeXGB    = val_model(X_train, y_train, XGB_BOO)\n"
      ]
    },
    {
      "cell_type": "code",
      "execution_count": 11,
      "metadata": {
        "id": "rgxiU7jyWcJH"
      },
      "outputs": [],
      "source": [
        "# importar metodos para realização do Feature Scaling\n",
        "scaler = StandardScaler()\n",
        "Rob_scaler = RobustScaler()\n",
        "\n",
        "# Padronizando os dados de treino\n",
        "X_train_scaled = scaler.fit_transform(X_train)\n",
        "X_train_Rscaled = Rob_scaler.fit_transform(X_train)\n"
      ]
    },
    {
      "cell_type": "markdown",
      "source": [
        "Após importar os modelos, realizar a validação e a padronização. Irei realizar o ajuste fino dos parâmetros do modelo, por meio do `GridSearchCV`, de forma que possamos obter um melhor desempenho dos modelos.\n"
      ],
      "metadata": {
        "id": "DJDBO2T8fsEE"
      }
    },
    {
      "cell_type": "markdown",
      "source": [
        "É notável que os resultados estão bem longe do satisfatório, porém no teste veremos que os resultados são melhores."
      ],
      "metadata": {
        "id": "ILAK3A7vgEoM"
      }
    },
    {
      "cell_type": "code",
      "execution_count": 15,
      "metadata": {
        "colab": {
          "base_uri": "https://localhost:8080/"
        },
        "id": "RYx2fyoA9RAH",
        "outputId": "717f9999-ca21-490c-be1f-8cc8988b7682"
      },
      "outputs": [
        {
          "output_type": "stream",
          "name": "stdout",
          "text": [
            "Melhor: 0.059026369168357 para {'bootstrap': False, 'max_depth': 20, 'max_features': 'sqrt'}\n"
          ]
        }
      ],
      "source": [
        "# Modelo a ser otimizado\n",
        "ran_for_scaled = RandomForestClassifier()\n",
        "\n",
        "# Parâmetros a serem otimizados\n",
        "param_grid = {\n",
        " 'bootstrap': [True, False],\n",
        " 'max_depth': [5, 10, 15, 20, None],\n",
        " 'max_features': ['auto', 'sqrt'],\n",
        " \n",
        "}\n",
        "\n",
        "# Identificar melhores parâmetros\n",
        "kfold = StratifiedKFold(n_splits=10, shuffle=True)\n",
        "grid_search = GridSearchCV(ran_for_scaled, param_grid, scoring='recall', n_jobs=-1, cv=kfold)\n",
        "grid_result = grid_search.fit(X_train_scaled, y_train)\n",
        "\n",
        "# Ver resultados\n",
        "print(f'Melhor: {grid_result.best_score_} para {grid_result.best_params_}')"
      ]
    },
    {
      "cell_type": "markdown",
      "source": [
        "Mesmo com o tuning, os resultados podem inclusive piorar, porém apenas momentâneamente, pois na parte final de tuning é possível ver um aumento da performance\n"
      ],
      "metadata": {
        "id": "5-F7kGYc4RWD"
      }
    },
    {
      "cell_type": "code",
      "execution_count": 17,
      "metadata": {
        "id": "H6igcR87IGiY",
        "colab": {
          "base_uri": "https://localhost:8080/"
        },
        "outputId": "91c02c85-5ed9-4de5-b076-3fc4e59cc27e"
      },
      "outputs": [
        {
          "output_type": "stream",
          "name": "stdout",
          "text": [
            "Melhor: 0.058215010141987836 para {'min_samples_leaf': 1, 'min_samples_split': 2}\n"
          ]
        }
      ],
      "source": [
        "# Modelo a ser otimizado\n",
        "ran_for_scaled = RandomForestClassifier(bootstrap=False, max_depth=20, max_features=\"sqrt\")\n",
        "\n",
        "# Parâmetros a serem otimizados\n",
        "param_grid = {\n",
        " 'min_samples_leaf': [1, 2, 4],\n",
        " 'min_samples_split': [2, 5, 10]\n",
        "}\n",
        "\n",
        "# Identificar melhores parâmetros\n",
        "kfold = StratifiedKFold(n_splits=10, shuffle=True)\n",
        "grid_search = GridSearchCV(ran_for_scaled, param_grid, scoring='recall', n_jobs=-1, cv=kfold)\n",
        "grid_result = grid_search.fit(X_train_scaled, y_train)\n",
        "\n",
        "# Ver resultados\n",
        "print(f'Melhor: {grid_result.best_score_} para {grid_result.best_params_}')"
      ]
    },
    {
      "cell_type": "markdown",
      "source": [
        "Como dito anteriormente, os resultados apresentados não são os resultados reais, mesmo com o aumento do recall, não podemos levar isso como uma verdade, de forma que o modelo final, usará os dados de teste para realizar as previsões que consequentemente representam uma parte maior do nosso DataFrame"
      ],
      "metadata": {
        "id": "BEPLODFt5BMV"
      }
    },
    {
      "cell_type": "code",
      "execution_count": 18,
      "metadata": {
        "id": "NiWZIgIulXhV",
        "colab": {
          "base_uri": "https://localhost:8080/"
        },
        "outputId": "b68f7d37-f3cc-4439-d84a-02a1868c57da"
      },
      "outputs": [
        {
          "output_type": "stream",
          "name": "stdout",
          "text": [
            "Melhor: 0.0640973630831643 para {'n_estimators': 50}\n"
          ]
        }
      ],
      "source": [
        "# Modelo a ser otimizado\n",
        "ran_for_scaled = RandomForestClassifier(bootstrap=False, max_depth=20, max_features=\"sqrt\", min_samples_leaf=1, min_samples_split=2)\n",
        "\n",
        "# Parâmetros a serem otimizados\n",
        "param_grid = {\n",
        " 'n_estimators': [50, 100, 150, 200]\n",
        "}\n",
        "\n",
        "# Identificar melhores parâmetros\n",
        "kfold = StratifiedKFold(n_splits=10, shuffle=True)\n",
        "grid_search = GridSearchCV(ran_for_scaled, param_grid, scoring='recall', n_jobs=-1, cv=kfold)\n",
        "grid_result = grid_search.fit(X_train_scaled, y_train)\n",
        "\n",
        "# Ver resultados\n",
        "print(f'Melhor: {grid_result.best_score_} para {grid_result.best_params_}')"
      ]
    },
    {
      "cell_type": "markdown",
      "source": [
        "Com o tuning dos parâmetros finalizados, os dados de teste padronizados, hora de testar o modelo e ver como será as previsões do nosso modelo.\n",
        "\n",
        "É notório o aumendo de 5% para 52%, porém não creio que seja um modelo satisfatório, a quantidade de falsos negativos chega a ser assustadora.\n",
        "\n",
        "Creio que não seria um modelo para ser utilizado com dados reais, ao menos não com esses ajustes e resultados. Por estar trabalhando apenas com a versão gratuita do colab, existem limitações e por isso não foi feito um trabalho mais aprofundado na parte de construção do modelo."
      ],
      "metadata": {
        "id": "saqyeVVNj9cX"
      }
    },
    {
      "cell_type": "code",
      "source": [
        "# modelo otimizado\n",
        "ran_for_scaled = RandomForestClassifier(n_estimators=50, \n",
        "                                            bootstrap=False,\n",
        "                                            max_depth=20, \n",
        "                                            max_features=\"sqrt\", \n",
        "                                            min_samples_leaf=1, \n",
        "                                            min_samples_split=2)\n",
        "\n",
        "# Treino do Modelo\n",
        "ran_for_scaled.fit(X_train_scaled, y_train)\n",
        "\n",
        "X_test_scaled = scaler.transform(X_test)\n",
        "\n",
        "y_pred_ran_for = ran_for_scaled.predict(X_test_scaled)\n",
        "\n",
        "skplt.metrics.plot_confusion_matrix(y_test, y_pred_ran_for)\n",
        "\n",
        "print(classification_report(y_test, y_pred_ran_for, digits=4))\n",
        "\n",
        "print('AUC: {:.4f}'.format(roc_auc_score(y_test, y_pred_ran_for)))\n"
      ],
      "metadata": {
        "colab": {
          "base_uri": "https://localhost:8080/",
          "height": 469
        },
        "id": "M6GVQ5Dgp5zy",
        "outputId": "9617a948-d601-462f-bd4a-288828641662"
      },
      "execution_count": 19,
      "outputs": [
        {
          "output_type": "stream",
          "name": "stdout",
          "text": [
            "              precision    recall  f1-score   support\n",
            "\n",
            "       False     0.8411    0.9902    0.9096      8705\n",
            "        True     0.5455    0.0589    0.1064      1731\n",
            "\n",
            "    accuracy                         0.8358     10436\n",
            "   macro avg     0.6933    0.5246    0.5080     10436\n",
            "weighted avg     0.7920    0.8358    0.7763     10436\n",
            "\n",
            "AUC: 0.5246\n"
          ]
        },
        {
          "output_type": "display_data",
          "data": {
            "text/plain": [
              "<Figure size 432x288 with 2 Axes>"
            ],
            "image/png": "[encoded data removed]"
          },
          "metadata": {}
        }
      ]
    },
    {
      "cell_type": "code",
      "source": [
        "XGB_BOO_scaled = XGBClassifier(learning_rate=0.01)\n",
        "\n",
        "param_grid = {\n",
        "    'n_estimators':range(0,200,50),\n",
        "    'max_depth':[1, 3, 5],\n",
        "    'min_child_weight':[1, 3, 6],\n",
        "    'gamma':[0, 1, 5],\n",
        "}\n",
        "\n",
        "# Identificar melhores parâmetros\n",
        "kfold = StratifiedKFold(n_splits=10, shuffle=True)\n",
        "grid_search = GridSearchCV(XGB_BOO_scaled, param_grid, scoring='recall', n_jobs=-1, cv=kfold)\n",
        "grid_result = grid_search.fit(X_train_scaled, y_train)\n",
        "\n",
        "# Ver resultados\n",
        "print(f'Melhor: {grid_result.best_score_} para {grid_result.best_params_}')"
      ],
      "metadata": {
        "colab": {
          "base_uri": "https://localhost:8080/"
        },
        "id": "mc97A6BZwdjC",
        "outputId": "7d7cd183-1635-4483-ab33-c8209e8e52e0"
      },
      "execution_count": 20,
      "outputs": [
        {
          "output_type": "stream",
          "name": "stdout",
          "text": [
            "Melhor: 0.07464503042596349 para {'gamma': 5, 'max_depth': 5, 'min_child_weight': 6, 'n_estimators': 50}\n"
          ]
        }
      ]
    },
    {
      "cell_type": "code",
      "source": [
        "XGB_BOO_scaled = XGBClassifier(learning_rate=0.01, n_estimators=5, gamma=5, max_depth=5, min_child_weight=6)\n",
        "\n",
        "# Treino do Modelo\n",
        "XGB_BOO_scaled.fit(X_train_scaled, y_train)\n",
        "\n",
        "y_pred_XGB_BOO = XGB_BOO_scaled.predict(X_test_scaled)\n",
        "\n",
        "skplt.metrics.plot_confusion_matrix(y_test, y_pred_XGB_BOO)\n",
        "\n",
        "print(classification_report(y_test, y_pred_XGB_BOO, digits=4))\n",
        "\n",
        "print('AUC: {:.4f}'.format(roc_auc_score(y_test, y_pred_XGB_BOO)))"
      ],
      "metadata": {
        "id": "v-ERzCWedEHc",
        "colab": {
          "base_uri": "https://localhost:8080/",
          "height": 469
        },
        "outputId": "f85d02cd-7686-4b0b-ef96-161e3fadf5e2"
      },
      "execution_count": 21,
      "outputs": [
        {
          "output_type": "stream",
          "name": "stdout",
          "text": [
            "              precision    recall  f1-score   support\n",
            "\n",
            "       False     0.8452    0.9876    0.9108      8705\n",
            "        True     0.5909    0.0901    0.1564      1731\n",
            "\n",
            "    accuracy                         0.8387     10436\n",
            "   macro avg     0.7180    0.5389    0.5336     10436\n",
            "weighted avg     0.8030    0.8387    0.7857     10436\n",
            "\n",
            "AUC: 0.5389\n"
          ]
        },
        {
          "output_type": "display_data",
          "data": {
            "text/plain": [
              "<Figure size 432x288 with 2 Axes>"
            ],
            "image/png": "[encoded data removed]"
          },
          "metadata": {}
        }
      ]
    },
    {
      "cell_type": "code",
      "source": [],
      "metadata": {
        "id": "0pg90jV8fS7R"
      },
      "execution_count": null,
      "outputs": []
    }
  ],
  "metadata": {
    "colab": {
      "collapsed_sections": [],
      "provenance": [],
      "include_colab_link": true
    },
    "kernelspec": {
      "display_name": "Python 3",
      "name": "python3"
    }
  },
  "nbformat": 4,
  "nbformat_minor": 0
}