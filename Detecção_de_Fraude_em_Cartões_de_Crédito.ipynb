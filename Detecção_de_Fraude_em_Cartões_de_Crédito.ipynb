{
  "nbformat": 4,
  "nbformat_minor": 0,
  "metadata": {
    "colab": {
      "name": "Detecção de Fraude em Cartões de Crédito.ipynb",
      "provenance": [],
      "toc_visible": true,
      "include_colab_link": true
    },
    "kernelspec": {
      "name": "python3",
      "display_name": "Python 3"
    }
  },
  "cells": [
    {
      "cell_type": "markdown",
      "metadata": {
        "id": "view-in-github",
        "colab_type": "text"
      },
      "source": [
        "<a href=\"https://colab.research.google.com/github/JoaoGustavo29/Portfolio_DataScience/blob/master/Detec%C3%A7%C3%A3o_de_Fraude_em_Cart%C3%B5es_de_Cr%C3%A9dito.ipynb\" target=\"_parent\"><img src=\"https://colab.research.google.com/assets/colab-badge.svg\" alt=\"Open In Colab\"/></a>"
      ]
    },
    {
      "cell_type": "markdown",
      "metadata": {
        "id": "sC2BFMOKN1M7"
      },
      "source": [
        "---\n",
        "<img alt=\"Colaboratory logo\" width=\"15%\" src=\"https://raw.githubusercontent.com/carlosfab/escola-data-science/master/img/novo_logo_bg_claro.png\">\n",
        "\n",
        "#### **Data Science na Prática 2.0**\n",
        "*by [sigmoidal.ai](https://sigmoidal.ai)*  \n",
        "\n",
        "---"
      ]
    },
    {
      "cell_type": "markdown",
      "metadata": {
        "id": "IR56trFcPcC1"
      },
      "source": [
        "# Detecção de Fraudes em Cartões de Crédito\n",
        "\n",
        "Neste projeto, iremos abordar o problema das fraudes em cartões de crédito, uma das principais preocupações das instituições financeiras como bancos e *fintechs*. Apenas no Brasil, cerca de 12,1 milhões de pessoas já foram vítimas de algum tipo de fraude financeira no último ano. Traduzindo em valores, os golpes financeiros ultrapassaram a cifra de R$ 1,8 bilhão de prejuízo por ano para os últimos 12 meses.\n",
        "\n",
        "<p align=center>\n",
        "<img src=\"http://sigmoidal.ai/wp-content/uploads/2019/12/900.jpg\" width=\"60%\"></p>\n",
        "\n",
        "Dentra essas fraudes, aquelas envolvendo cartões de crédito são de grande relevância uma vez que a sua não-detecção acaretará em prejuízos consideráveis, tanto para o consumidor quanto para a instituição financeira.\n",
        "\n",
        "Um outro fator a ser considerado é a quantidade de falsos positivos, ou seja, aquelas vezes em que você tentou fazer uma compra e teve seu cartão bloqueado preventivamente - o que provavelmente gerou estresse e constrangimento.\n",
        "\n",
        "Por todos esses motivos, o investimento na área de detecção de fraudes por meio de Inteligência Artificial vem crescendo a cada ano, representando uma grande oportunidade em *Data Science*. \n",
        "\n",
        "Dispondo de grandes volumes de dados como base histórica, um algoritmo de machine learning apenas um pouco melhor que os anteriores já representa uma economia de milhões de Reais. E esse é o desafio, aprimorar cada vez mais o uso de algoritmos visando inibir ou evitar transações fraudulentas."
      ]
    },
    {
      "cell_type": "markdown",
      "metadata": {
        "id": "0HVmpIxQWT4Y"
      },
      "source": [
        "## **Importando os Dados**\n",
        "\n",
        "Os dados que usaremos neste projeto foram disponibilizados por algumas empresas européias de cartão de crédito. O *dataset* representa as operações financeiras que aconteceram no período de dois dias, onde foram classificadas 492 fraudes em meio a quase 290 mil transações.\n",
        "\n",
        "Como você pode notar, este é um conjunto de dados extremamente desbalanceado, onde as fraudes representam apenas 0,17% do total.\n",
        "\n",
        "Outro detalhe interessante é que as *features* são todas numéricas, e foram descaracterizadas (por problemas ligados à privacidade e segurança). Assim, os nomes das colunas são representados por $[V1, V2, V3 \\dots, V28]$ \n",
        "\n",
        "<p align=center>\n",
        "<img src=\"http://sigmoidal.ai/wp-content/uploads/2019/12/54.jpg\" width=\"50%\"></p>\n",
        "\n",
        "[Na página original dos dados](https://www.kaggle.com/mlg-ulb/creditcardfraud), também é informado que as variáveis passaram por uma transformação conhecida como Análise de Componentes Principais (*Principal Component Analysis* - PCA).\n",
        "\n",
        "A PCA permite a redução da dimensionalidade enquanto mantém o maior número possível de informações. Para conseguir isso, o algoritmo encontra um conjunto novo de recursos - os chamados **componentes**.\n",
        "\n",
        "Esses componentes são em número menor or igual às variáveis originais. No caso deste projeto, os componentes achados pela transformação da PCA são as próprias colunas $[V1, V2, V3 \\dots, V28]$."
      ]
    },
    {
      "cell_type": "code",
      "metadata": {
        "id": "oQ4bNy7udtEE"
      },
      "source": [
        "# importar os pacotes necessários\n",
        "import pandas as pd\n",
        "import matplotlib.pyplot as plt\n",
        "import seaborn as sns\n",
        "from sklearn.metrics import roc_auc_score, roc_curve, accuracy_score\n",
        " \n",
        "# Importar warnings filter\n",
        "from warnings import simplefilter\n",
        "\n",
        "# Ignorar futuros warnings\n",
        "simplefilter(action='ignore', category=FutureWarning)\n",
        "\n",
        "# Configurar o notebook\n",
        "sns.set_style('dark')"
      ],
      "execution_count": 1,
      "outputs": []
    },
    {
      "cell_type": "markdown",
      "metadata": {
        "id": "g5XDTWW5LRVe"
      },
      "source": [
        "Para facilitar a aquisição dos dados, criei um *link* com acesso direto ao `csv`. Com isso, basta importar o conjunto de dados usando o método `pd.read_csv()`."
      ]
    },
    {
      "cell_type": "code",
      "metadata": {
        "id": "4NxUOfDOj2j8"
      },
      "source": [
        "# Importar o arquivo\n",
        "file_path = \"https://www.dropbox.com/s/b44o3t3ehmnx2b7/creditcard.csv?dl=1\"\n",
        "\n",
        "# Importar o arquivo para um DataFrame\n",
        "df = pd.read_csv(file_path)"
      ],
      "execution_count": 2,
      "outputs": []
    },
    {
      "cell_type": "markdown",
      "metadata": {
        "id": "7nF_Dhd81Cvq"
      },
      "source": [
        "Com os dados importados para dentro de uma estrutura *Dataframe* - e não havendo a necessidade de mais nenhum ajuste ou configuração nesta etapa, pode-se iniciar uma análise exploratória dos dados a fim de preparar um modelo de *Machine Learning*."
      ]
    },
    {
      "cell_type": "markdown",
      "metadata": {
        "id": "8UtXyZ6stlSM"
      },
      "source": [
        "## **Análise Exploratória**\n",
        "\n",
        "Abordar tópicos/informações como:\n",
        "\n",
        "* Ver as 5 primeiras entradas\n",
        "* Ver o resumo estatístico do dataframe\n",
        "* Verificar se há valores ausentes\n",
        "* Plotar um gráfico de barras (ou countplot) para ver o balanceamento do *dataset*\n",
        "* Plotar os seguintes histogramas:\n",
        "    * Variável `Time`\n",
        "        * Fraude (`Class == 1`)\n",
        "        * Normal (`Class == 0`)\n",
        "    * Variável `Amount`\n",
        "        * Fraude (`Class == 1`)\n",
        "        * Normal (`Class == 0`)\n",
        "* Plotar um `boxplot` para a variável `Amount` quando houve fraude (`Class == 1`)\n",
        "* Plotar uma matriz de correlação"
      ]
    },
    {
      "cell_type": "markdown",
      "metadata": {
        "id": "KktE8anbKNRN"
      },
      "source": [
        "A fim de conhecermos nosso DataFrame, vamos checar como são as 5 primeiras entradas.\n",
        "\n",
        "* É possível notar como os daods ficaram após a transformação após o PCA (Análise de Componentes Principais), assim deixando as features descaracterizadas (anônimas) e em valores numéricos. Para um melhor entendimento sobre PCA, [clique aqui](https://jakevdp.github.io/PythonDataScienceHandbook/05.09-principal-component-analysis.html).\n",
        "\n",
        "* Para que a análise inicial não fosse prejudicada, as colunas `Time` e `Amount` foram preservadas com seus valores originais.\n",
        "\n",
        "* Nossa vairiávvel alvo está localizada na coluna `Class`, onde:\n",
        "  * **1** é uma transação fraudulenta;\n",
        "  * **0** é uma transação comum."
      ]
    },
    {
      "cell_type": "code",
      "metadata": {
        "colab": {
          "base_uri": "https://localhost:8080/",
          "height": 224
        },
        "id": "3-xdFBpNKM4D",
        "outputId": "ed250d25-6e32-4023-f8b2-3457d3b566fc"
      },
      "source": [
        "# Visualizar as 5 primeiras entradas\n",
        "df.head()"
      ],
      "execution_count": 3,
      "outputs": [
        {
          "output_type": "execute_result",
          "data": {
            "text/html": [
              "<div>\n",
              "<style scoped>\n",
              "    .dataframe tbody tr th:only-of-type {\n",
              "        vertical-align: middle;\n",
              "    }\n",
              "\n",
              "    .dataframe tbody tr th {\n",
              "        vertical-align: top;\n",
              "    }\n",
              "\n",
              "    .dataframe thead th {\n",
              "        text-align: right;\n",
              "    }\n",
              "</style>\n",
              "<table border=\"1\" class=\"dataframe\">\n",
              "  <thead>\n",
              "    <tr style=\"text-align: right;\">\n",
              "      <th></th>\n",
              "      <th>Time</th>\n",
              "      <th>V1</th>\n",
              "      <th>V2</th>\n",
              "      <th>V3</th>\n",
              "      <th>V4</th>\n",
              "      <th>V5</th>\n",
              "      <th>V6</th>\n",
              "      <th>V7</th>\n",
              "      <th>V8</th>\n",
              "      <th>V9</th>\n",
              "      <th>V10</th>\n",
              "      <th>V11</th>\n",
              "      <th>V12</th>\n",
              "      <th>V13</th>\n",
              "      <th>V14</th>\n",
              "      <th>V15</th>\n",
              "      <th>V16</th>\n",
              "      <th>V17</th>\n",
              "      <th>V18</th>\n",
              "      <th>V19</th>\n",
              "      <th>V20</th>\n",
              "      <th>V21</th>\n",
              "      <th>V22</th>\n",
              "      <th>V23</th>\n",
              "      <th>V24</th>\n",
              "      <th>V25</th>\n",
              "      <th>V26</th>\n",
              "      <th>V27</th>\n",
              "      <th>V28</th>\n",
              "      <th>Amount</th>\n",
              "      <th>Class</th>\n",
              "    </tr>\n",
              "  </thead>\n",
              "  <tbody>\n",
              "    <tr>\n",
              "      <th>0</th>\n",
              "      <td>0.0</td>\n",
              "      <td>-1.359807</td>\n",
              "      <td>-0.072781</td>\n",
              "      <td>2.536347</td>\n",
              "      <td>1.378155</td>\n",
              "      <td>-0.338321</td>\n",
              "      <td>0.462388</td>\n",
              "      <td>0.239599</td>\n",
              "      <td>0.098698</td>\n",
              "      <td>0.363787</td>\n",
              "      <td>0.090794</td>\n",
              "      <td>-0.551600</td>\n",
              "      <td>-0.617801</td>\n",
              "      <td>-0.991390</td>\n",
              "      <td>-0.311169</td>\n",
              "      <td>1.468177</td>\n",
              "      <td>-0.470401</td>\n",
              "      <td>0.207971</td>\n",
              "      <td>0.025791</td>\n",
              "      <td>0.403993</td>\n",
              "      <td>0.251412</td>\n",
              "      <td>-0.018307</td>\n",
              "      <td>0.277838</td>\n",
              "      <td>-0.110474</td>\n",
              "      <td>0.066928</td>\n",
              "      <td>0.128539</td>\n",
              "      <td>-0.189115</td>\n",
              "      <td>0.133558</td>\n",
              "      <td>-0.021053</td>\n",
              "      <td>149.62</td>\n",
              "      <td>0</td>\n",
              "    </tr>\n",
              "    <tr>\n",
              "      <th>1</th>\n",
              "      <td>0.0</td>\n",
              "      <td>1.191857</td>\n",
              "      <td>0.266151</td>\n",
              "      <td>0.166480</td>\n",
              "      <td>0.448154</td>\n",
              "      <td>0.060018</td>\n",
              "      <td>-0.082361</td>\n",
              "      <td>-0.078803</td>\n",
              "      <td>0.085102</td>\n",
              "      <td>-0.255425</td>\n",
              "      <td>-0.166974</td>\n",
              "      <td>1.612727</td>\n",
              "      <td>1.065235</td>\n",
              "      <td>0.489095</td>\n",
              "      <td>-0.143772</td>\n",
              "      <td>0.635558</td>\n",
              "      <td>0.463917</td>\n",
              "      <td>-0.114805</td>\n",
              "      <td>-0.183361</td>\n",
              "      <td>-0.145783</td>\n",
              "      <td>-0.069083</td>\n",
              "      <td>-0.225775</td>\n",
              "      <td>-0.638672</td>\n",
              "      <td>0.101288</td>\n",
              "      <td>-0.339846</td>\n",
              "      <td>0.167170</td>\n",
              "      <td>0.125895</td>\n",
              "      <td>-0.008983</td>\n",
              "      <td>0.014724</td>\n",
              "      <td>2.69</td>\n",
              "      <td>0</td>\n",
              "    </tr>\n",
              "    <tr>\n",
              "      <th>2</th>\n",
              "      <td>1.0</td>\n",
              "      <td>-1.358354</td>\n",
              "      <td>-1.340163</td>\n",
              "      <td>1.773209</td>\n",
              "      <td>0.379780</td>\n",
              "      <td>-0.503198</td>\n",
              "      <td>1.800499</td>\n",
              "      <td>0.791461</td>\n",
              "      <td>0.247676</td>\n",
              "      <td>-1.514654</td>\n",
              "      <td>0.207643</td>\n",
              "      <td>0.624501</td>\n",
              "      <td>0.066084</td>\n",
              "      <td>0.717293</td>\n",
              "      <td>-0.165946</td>\n",
              "      <td>2.345865</td>\n",
              "      <td>-2.890083</td>\n",
              "      <td>1.109969</td>\n",
              "      <td>-0.121359</td>\n",
              "      <td>-2.261857</td>\n",
              "      <td>0.524980</td>\n",
              "      <td>0.247998</td>\n",
              "      <td>0.771679</td>\n",
              "      <td>0.909412</td>\n",
              "      <td>-0.689281</td>\n",
              "      <td>-0.327642</td>\n",
              "      <td>-0.139097</td>\n",
              "      <td>-0.055353</td>\n",
              "      <td>-0.059752</td>\n",
              "      <td>378.66</td>\n",
              "      <td>0</td>\n",
              "    </tr>\n",
              "    <tr>\n",
              "      <th>3</th>\n",
              "      <td>1.0</td>\n",
              "      <td>-0.966272</td>\n",
              "      <td>-0.185226</td>\n",
              "      <td>1.792993</td>\n",
              "      <td>-0.863291</td>\n",
              "      <td>-0.010309</td>\n",
              "      <td>1.247203</td>\n",
              "      <td>0.237609</td>\n",
              "      <td>0.377436</td>\n",
              "      <td>-1.387024</td>\n",
              "      <td>-0.054952</td>\n",
              "      <td>-0.226487</td>\n",
              "      <td>0.178228</td>\n",
              "      <td>0.507757</td>\n",
              "      <td>-0.287924</td>\n",
              "      <td>-0.631418</td>\n",
              "      <td>-1.059647</td>\n",
              "      <td>-0.684093</td>\n",
              "      <td>1.965775</td>\n",
              "      <td>-1.232622</td>\n",
              "      <td>-0.208038</td>\n",
              "      <td>-0.108300</td>\n",
              "      <td>0.005274</td>\n",
              "      <td>-0.190321</td>\n",
              "      <td>-1.175575</td>\n",
              "      <td>0.647376</td>\n",
              "      <td>-0.221929</td>\n",
              "      <td>0.062723</td>\n",
              "      <td>0.061458</td>\n",
              "      <td>123.50</td>\n",
              "      <td>0</td>\n",
              "    </tr>\n",
              "    <tr>\n",
              "      <th>4</th>\n",
              "      <td>2.0</td>\n",
              "      <td>-1.158233</td>\n",
              "      <td>0.877737</td>\n",
              "      <td>1.548718</td>\n",
              "      <td>0.403034</td>\n",
              "      <td>-0.407193</td>\n",
              "      <td>0.095921</td>\n",
              "      <td>0.592941</td>\n",
              "      <td>-0.270533</td>\n",
              "      <td>0.817739</td>\n",
              "      <td>0.753074</td>\n",
              "      <td>-0.822843</td>\n",
              "      <td>0.538196</td>\n",
              "      <td>1.345852</td>\n",
              "      <td>-1.119670</td>\n",
              "      <td>0.175121</td>\n",
              "      <td>-0.451449</td>\n",
              "      <td>-0.237033</td>\n",
              "      <td>-0.038195</td>\n",
              "      <td>0.803487</td>\n",
              "      <td>0.408542</td>\n",
              "      <td>-0.009431</td>\n",
              "      <td>0.798278</td>\n",
              "      <td>-0.137458</td>\n",
              "      <td>0.141267</td>\n",
              "      <td>-0.206010</td>\n",
              "      <td>0.502292</td>\n",
              "      <td>0.219422</td>\n",
              "      <td>0.215153</td>\n",
              "      <td>69.99</td>\n",
              "      <td>0</td>\n",
              "    </tr>\n",
              "  </tbody>\n",
              "</table>\n",
              "</div>"
            ],
            "text/plain": [
              "   Time        V1        V2        V3  ...       V27       V28  Amount  Class\n",
              "0   0.0 -1.359807 -0.072781  2.536347  ...  0.133558 -0.021053  149.62      0\n",
              "1   0.0  1.191857  0.266151  0.166480  ... -0.008983  0.014724    2.69      0\n",
              "2   1.0 -1.358354 -1.340163  1.773209  ... -0.055353 -0.059752  378.66      0\n",
              "3   1.0 -0.966272 -0.185226  1.792993  ...  0.062723  0.061458  123.50      0\n",
              "4   2.0 -1.158233  0.877737  1.548718  ...  0.219422  0.215153   69.99      0\n",
              "\n",
              "[5 rows x 31 columns]"
            ]
          },
          "metadata": {
            "tags": []
          },
          "execution_count": 3
        }
      ]
    },
    {
      "cell_type": "markdown",
      "metadata": {
        "id": "-mzqCTRGKpjg"
      },
      "source": [
        "* Ver o resumo estatístico do dataframe"
      ]
    },
    {
      "cell_type": "code",
      "metadata": {
        "colab": {
          "base_uri": "https://localhost:8080/",
          "height": 317
        },
        "id": "NJR71vEKKp5H",
        "outputId": "09bc4840-e843-4dad-a8c8-2688b5919364"
      },
      "source": [
        "df.describe()"
      ],
      "execution_count": 4,
      "outputs": [
        {
          "output_type": "execute_result",
          "data": {
            "text/html": [
              "<div>\n",
              "<style scoped>\n",
              "    .dataframe tbody tr th:only-of-type {\n",
              "        vertical-align: middle;\n",
              "    }\n",
              "\n",
              "    .dataframe tbody tr th {\n",
              "        vertical-align: top;\n",
              "    }\n",
              "\n",
              "    .dataframe thead th {\n",
              "        text-align: right;\n",
              "    }\n",
              "</style>\n",
              "<table border=\"1\" class=\"dataframe\">\n",
              "  <thead>\n",
              "    <tr style=\"text-align: right;\">\n",
              "      <th></th>\n",
              "      <th>Time</th>\n",
              "      <th>V1</th>\n",
              "      <th>V2</th>\n",
              "      <th>V3</th>\n",
              "      <th>V4</th>\n",
              "      <th>V5</th>\n",
              "      <th>V6</th>\n",
              "      <th>V7</th>\n",
              "      <th>V8</th>\n",
              "      <th>V9</th>\n",
              "      <th>V10</th>\n",
              "      <th>V11</th>\n",
              "      <th>V12</th>\n",
              "      <th>V13</th>\n",
              "      <th>V14</th>\n",
              "      <th>V15</th>\n",
              "      <th>V16</th>\n",
              "      <th>V17</th>\n",
              "      <th>V18</th>\n",
              "      <th>V19</th>\n",
              "      <th>V20</th>\n",
              "      <th>V21</th>\n",
              "      <th>V22</th>\n",
              "      <th>V23</th>\n",
              "      <th>V24</th>\n",
              "      <th>V25</th>\n",
              "      <th>V26</th>\n",
              "      <th>V27</th>\n",
              "      <th>V28</th>\n",
              "      <th>Amount</th>\n",
              "      <th>Class</th>\n",
              "    </tr>\n",
              "  </thead>\n",
              "  <tbody>\n",
              "    <tr>\n",
              "      <th>count</th>\n",
              "      <td>284807.000000</td>\n",
              "      <td>2.848070e+05</td>\n",
              "      <td>2.848070e+05</td>\n",
              "      <td>2.848070e+05</td>\n",
              "      <td>2.848070e+05</td>\n",
              "      <td>2.848070e+05</td>\n",
              "      <td>2.848070e+05</td>\n",
              "      <td>2.848070e+05</td>\n",
              "      <td>2.848070e+05</td>\n",
              "      <td>2.848070e+05</td>\n",
              "      <td>2.848070e+05</td>\n",
              "      <td>2.848070e+05</td>\n",
              "      <td>2.848070e+05</td>\n",
              "      <td>2.848070e+05</td>\n",
              "      <td>2.848070e+05</td>\n",
              "      <td>2.848070e+05</td>\n",
              "      <td>2.848070e+05</td>\n",
              "      <td>2.848070e+05</td>\n",
              "      <td>2.848070e+05</td>\n",
              "      <td>2.848070e+05</td>\n",
              "      <td>2.848070e+05</td>\n",
              "      <td>2.848070e+05</td>\n",
              "      <td>2.848070e+05</td>\n",
              "      <td>2.848070e+05</td>\n",
              "      <td>2.848070e+05</td>\n",
              "      <td>2.848070e+05</td>\n",
              "      <td>2.848070e+05</td>\n",
              "      <td>2.848070e+05</td>\n",
              "      <td>2.848070e+05</td>\n",
              "      <td>284807.000000</td>\n",
              "      <td>284807.000000</td>\n",
              "    </tr>\n",
              "    <tr>\n",
              "      <th>mean</th>\n",
              "      <td>94813.859575</td>\n",
              "      <td>3.919560e-15</td>\n",
              "      <td>5.688174e-16</td>\n",
              "      <td>-8.769071e-15</td>\n",
              "      <td>2.782312e-15</td>\n",
              "      <td>-1.552563e-15</td>\n",
              "      <td>2.010663e-15</td>\n",
              "      <td>-1.694249e-15</td>\n",
              "      <td>-1.927028e-16</td>\n",
              "      <td>-3.137024e-15</td>\n",
              "      <td>1.768627e-15</td>\n",
              "      <td>9.170318e-16</td>\n",
              "      <td>-1.810658e-15</td>\n",
              "      <td>1.693438e-15</td>\n",
              "      <td>1.479045e-15</td>\n",
              "      <td>3.482336e-15</td>\n",
              "      <td>1.392007e-15</td>\n",
              "      <td>-7.528491e-16</td>\n",
              "      <td>4.328772e-16</td>\n",
              "      <td>9.049732e-16</td>\n",
              "      <td>5.085503e-16</td>\n",
              "      <td>1.537294e-16</td>\n",
              "      <td>7.959909e-16</td>\n",
              "      <td>5.367590e-16</td>\n",
              "      <td>4.458112e-15</td>\n",
              "      <td>1.453003e-15</td>\n",
              "      <td>1.699104e-15</td>\n",
              "      <td>-3.660161e-16</td>\n",
              "      <td>-1.206049e-16</td>\n",
              "      <td>88.349619</td>\n",
              "      <td>0.001727</td>\n",
              "    </tr>\n",
              "    <tr>\n",
              "      <th>std</th>\n",
              "      <td>47488.145955</td>\n",
              "      <td>1.958696e+00</td>\n",
              "      <td>1.651309e+00</td>\n",
              "      <td>1.516255e+00</td>\n",
              "      <td>1.415869e+00</td>\n",
              "      <td>1.380247e+00</td>\n",
              "      <td>1.332271e+00</td>\n",
              "      <td>1.237094e+00</td>\n",
              "      <td>1.194353e+00</td>\n",
              "      <td>1.098632e+00</td>\n",
              "      <td>1.088850e+00</td>\n",
              "      <td>1.020713e+00</td>\n",
              "      <td>9.992014e-01</td>\n",
              "      <td>9.952742e-01</td>\n",
              "      <td>9.585956e-01</td>\n",
              "      <td>9.153160e-01</td>\n",
              "      <td>8.762529e-01</td>\n",
              "      <td>8.493371e-01</td>\n",
              "      <td>8.381762e-01</td>\n",
              "      <td>8.140405e-01</td>\n",
              "      <td>7.709250e-01</td>\n",
              "      <td>7.345240e-01</td>\n",
              "      <td>7.257016e-01</td>\n",
              "      <td>6.244603e-01</td>\n",
              "      <td>6.056471e-01</td>\n",
              "      <td>5.212781e-01</td>\n",
              "      <td>4.822270e-01</td>\n",
              "      <td>4.036325e-01</td>\n",
              "      <td>3.300833e-01</td>\n",
              "      <td>250.120109</td>\n",
              "      <td>0.041527</td>\n",
              "    </tr>\n",
              "    <tr>\n",
              "      <th>min</th>\n",
              "      <td>0.000000</td>\n",
              "      <td>-5.640751e+01</td>\n",
              "      <td>-7.271573e+01</td>\n",
              "      <td>-4.832559e+01</td>\n",
              "      <td>-5.683171e+00</td>\n",
              "      <td>-1.137433e+02</td>\n",
              "      <td>-2.616051e+01</td>\n",
              "      <td>-4.355724e+01</td>\n",
              "      <td>-7.321672e+01</td>\n",
              "      <td>-1.343407e+01</td>\n",
              "      <td>-2.458826e+01</td>\n",
              "      <td>-4.797473e+00</td>\n",
              "      <td>-1.868371e+01</td>\n",
              "      <td>-5.791881e+00</td>\n",
              "      <td>-1.921433e+01</td>\n",
              "      <td>-4.498945e+00</td>\n",
              "      <td>-1.412985e+01</td>\n",
              "      <td>-2.516280e+01</td>\n",
              "      <td>-9.498746e+00</td>\n",
              "      <td>-7.213527e+00</td>\n",
              "      <td>-5.449772e+01</td>\n",
              "      <td>-3.483038e+01</td>\n",
              "      <td>-1.093314e+01</td>\n",
              "      <td>-4.480774e+01</td>\n",
              "      <td>-2.836627e+00</td>\n",
              "      <td>-1.029540e+01</td>\n",
              "      <td>-2.604551e+00</td>\n",
              "      <td>-2.256568e+01</td>\n",
              "      <td>-1.543008e+01</td>\n",
              "      <td>0.000000</td>\n",
              "      <td>0.000000</td>\n",
              "    </tr>\n",
              "    <tr>\n",
              "      <th>25%</th>\n",
              "      <td>54201.500000</td>\n",
              "      <td>-9.203734e-01</td>\n",
              "      <td>-5.985499e-01</td>\n",
              "      <td>-8.903648e-01</td>\n",
              "      <td>-8.486401e-01</td>\n",
              "      <td>-6.915971e-01</td>\n",
              "      <td>-7.682956e-01</td>\n",
              "      <td>-5.540759e-01</td>\n",
              "      <td>-2.086297e-01</td>\n",
              "      <td>-6.430976e-01</td>\n",
              "      <td>-5.354257e-01</td>\n",
              "      <td>-7.624942e-01</td>\n",
              "      <td>-4.055715e-01</td>\n",
              "      <td>-6.485393e-01</td>\n",
              "      <td>-4.255740e-01</td>\n",
              "      <td>-5.828843e-01</td>\n",
              "      <td>-4.680368e-01</td>\n",
              "      <td>-4.837483e-01</td>\n",
              "      <td>-4.988498e-01</td>\n",
              "      <td>-4.562989e-01</td>\n",
              "      <td>-2.117214e-01</td>\n",
              "      <td>-2.283949e-01</td>\n",
              "      <td>-5.423504e-01</td>\n",
              "      <td>-1.618463e-01</td>\n",
              "      <td>-3.545861e-01</td>\n",
              "      <td>-3.171451e-01</td>\n",
              "      <td>-3.269839e-01</td>\n",
              "      <td>-7.083953e-02</td>\n",
              "      <td>-5.295979e-02</td>\n",
              "      <td>5.600000</td>\n",
              "      <td>0.000000</td>\n",
              "    </tr>\n",
              "    <tr>\n",
              "      <th>50%</th>\n",
              "      <td>84692.000000</td>\n",
              "      <td>1.810880e-02</td>\n",
              "      <td>6.548556e-02</td>\n",
              "      <td>1.798463e-01</td>\n",
              "      <td>-1.984653e-02</td>\n",
              "      <td>-5.433583e-02</td>\n",
              "      <td>-2.741871e-01</td>\n",
              "      <td>4.010308e-02</td>\n",
              "      <td>2.235804e-02</td>\n",
              "      <td>-5.142873e-02</td>\n",
              "      <td>-9.291738e-02</td>\n",
              "      <td>-3.275735e-02</td>\n",
              "      <td>1.400326e-01</td>\n",
              "      <td>-1.356806e-02</td>\n",
              "      <td>5.060132e-02</td>\n",
              "      <td>4.807155e-02</td>\n",
              "      <td>6.641332e-02</td>\n",
              "      <td>-6.567575e-02</td>\n",
              "      <td>-3.636312e-03</td>\n",
              "      <td>3.734823e-03</td>\n",
              "      <td>-6.248109e-02</td>\n",
              "      <td>-2.945017e-02</td>\n",
              "      <td>6.781943e-03</td>\n",
              "      <td>-1.119293e-02</td>\n",
              "      <td>4.097606e-02</td>\n",
              "      <td>1.659350e-02</td>\n",
              "      <td>-5.213911e-02</td>\n",
              "      <td>1.342146e-03</td>\n",
              "      <td>1.124383e-02</td>\n",
              "      <td>22.000000</td>\n",
              "      <td>0.000000</td>\n",
              "    </tr>\n",
              "    <tr>\n",
              "      <th>75%</th>\n",
              "      <td>139320.500000</td>\n",
              "      <td>1.315642e+00</td>\n",
              "      <td>8.037239e-01</td>\n",
              "      <td>1.027196e+00</td>\n",
              "      <td>7.433413e-01</td>\n",
              "      <td>6.119264e-01</td>\n",
              "      <td>3.985649e-01</td>\n",
              "      <td>5.704361e-01</td>\n",
              "      <td>3.273459e-01</td>\n",
              "      <td>5.971390e-01</td>\n",
              "      <td>4.539234e-01</td>\n",
              "      <td>7.395934e-01</td>\n",
              "      <td>6.182380e-01</td>\n",
              "      <td>6.625050e-01</td>\n",
              "      <td>4.931498e-01</td>\n",
              "      <td>6.488208e-01</td>\n",
              "      <td>5.232963e-01</td>\n",
              "      <td>3.996750e-01</td>\n",
              "      <td>5.008067e-01</td>\n",
              "      <td>4.589494e-01</td>\n",
              "      <td>1.330408e-01</td>\n",
              "      <td>1.863772e-01</td>\n",
              "      <td>5.285536e-01</td>\n",
              "      <td>1.476421e-01</td>\n",
              "      <td>4.395266e-01</td>\n",
              "      <td>3.507156e-01</td>\n",
              "      <td>2.409522e-01</td>\n",
              "      <td>9.104512e-02</td>\n",
              "      <td>7.827995e-02</td>\n",
              "      <td>77.165000</td>\n",
              "      <td>0.000000</td>\n",
              "    </tr>\n",
              "    <tr>\n",
              "      <th>max</th>\n",
              "      <td>172792.000000</td>\n",
              "      <td>2.454930e+00</td>\n",
              "      <td>2.205773e+01</td>\n",
              "      <td>9.382558e+00</td>\n",
              "      <td>1.687534e+01</td>\n",
              "      <td>3.480167e+01</td>\n",
              "      <td>7.330163e+01</td>\n",
              "      <td>1.205895e+02</td>\n",
              "      <td>2.000721e+01</td>\n",
              "      <td>1.559499e+01</td>\n",
              "      <td>2.374514e+01</td>\n",
              "      <td>1.201891e+01</td>\n",
              "      <td>7.848392e+00</td>\n",
              "      <td>7.126883e+00</td>\n",
              "      <td>1.052677e+01</td>\n",
              "      <td>8.877742e+00</td>\n",
              "      <td>1.731511e+01</td>\n",
              "      <td>9.253526e+00</td>\n",
              "      <td>5.041069e+00</td>\n",
              "      <td>5.591971e+00</td>\n",
              "      <td>3.942090e+01</td>\n",
              "      <td>2.720284e+01</td>\n",
              "      <td>1.050309e+01</td>\n",
              "      <td>2.252841e+01</td>\n",
              "      <td>4.584549e+00</td>\n",
              "      <td>7.519589e+00</td>\n",
              "      <td>3.517346e+00</td>\n",
              "      <td>3.161220e+01</td>\n",
              "      <td>3.384781e+01</td>\n",
              "      <td>25691.160000</td>\n",
              "      <td>1.000000</td>\n",
              "    </tr>\n",
              "  </tbody>\n",
              "</table>\n",
              "</div>"
            ],
            "text/plain": [
              "                Time            V1  ...         Amount          Class\n",
              "count  284807.000000  2.848070e+05  ...  284807.000000  284807.000000\n",
              "mean    94813.859575  3.919560e-15  ...      88.349619       0.001727\n",
              "std     47488.145955  1.958696e+00  ...     250.120109       0.041527\n",
              "min         0.000000 -5.640751e+01  ...       0.000000       0.000000\n",
              "25%     54201.500000 -9.203734e-01  ...       5.600000       0.000000\n",
              "50%     84692.000000  1.810880e-02  ...      22.000000       0.000000\n",
              "75%    139320.500000  1.315642e+00  ...      77.165000       0.000000\n",
              "max    172792.000000  2.454930e+00  ...   25691.160000       1.000000\n",
              "\n",
              "[8 rows x 31 columns]"
            ]
          },
          "metadata": {
            "tags": []
          },
          "execution_count": 4
        }
      ]
    },
    {
      "cell_type": "markdown",
      "metadata": {
        "id": "xAKB6TJcLevo"
      },
      "source": [
        "Quando procuramos saber a respeito dos valores ausentes do dataset, não encontramos nenhum, assim não é nescessário um trabalho de limpeza. Abaixo é possivel verificar que nenhuma coluna possui valores nulos."
      ]
    },
    {
      "cell_type": "code",
      "metadata": {
        "colab": {
          "base_uri": "https://localhost:8080/"
        },
        "id": "MP8qbx4qLeh5",
        "outputId": "f28f04b8-750a-40a2-9b46-6d64f8780d3b"
      },
      "source": [
        "(df.isnull().sum() / df.shape[0]).sort_values(ascending=False)"
      ],
      "execution_count": 5,
      "outputs": [
        {
          "output_type": "execute_result",
          "data": {
            "text/plain": [
              "Class     0.0\n",
              "V14       0.0\n",
              "V1        0.0\n",
              "V2        0.0\n",
              "V3        0.0\n",
              "V4        0.0\n",
              "V5        0.0\n",
              "V6        0.0\n",
              "V7        0.0\n",
              "V8        0.0\n",
              "V9        0.0\n",
              "V10       0.0\n",
              "V11       0.0\n",
              "V12       0.0\n",
              "V13       0.0\n",
              "V15       0.0\n",
              "Amount    0.0\n",
              "V16       0.0\n",
              "V17       0.0\n",
              "V18       0.0\n",
              "V19       0.0\n",
              "V20       0.0\n",
              "V21       0.0\n",
              "V22       0.0\n",
              "V23       0.0\n",
              "V24       0.0\n",
              "V25       0.0\n",
              "V26       0.0\n",
              "V27       0.0\n",
              "V28       0.0\n",
              "Time      0.0\n",
              "dtype: float64"
            ]
          },
          "metadata": {
            "tags": []
          },
          "execution_count": 5
        }
      ]
    },
    {
      "cell_type": "markdown",
      "metadata": {
        "id": "_XnMLkmyL4ZZ"
      },
      "source": [
        "Na [descrição dos dados](https://www.kaggle.com/mlg-ulb/creditcardfraud) é informado que as entradas relativas à transações fraudulentas representam apenas 0,17% do total.\n",
        "\n",
        "Vamos verificar isso de forma visual, para isso iremos plotar um gráfico de barras.\n",
        "\n",
        "No gráfico, fica nítida a discrepância entre os dados. Portanto, será nescessário fazer um balanceamento dos dados, para que nosso modelo não seja prejudicado ao treinar com dados desbalanceados.\n",
        "\n"
      ]
    },
    {
      "cell_type": "code",
      "metadata": {
        "colab": {
          "base_uri": "https://localhost:8080/",
          "height": 397
        },
        "id": "fcSvLMzjL8ea",
        "outputId": "63af7621-f6b1-4b4c-8dc9-0166ad641545"
      },
      "source": [
        "# Checar o balanceamento das classes\n",
        "print(df.Class.value_counts())\n",
        "print('\\nFraudes representam {:.4f}% do dataset.\\n'.format((df[df.Class == 1].shape[0] / df.shape[0]) * 100))\n",
        "\n",
        "# Plotar gráfico de barras para as Classes\n",
        "fig , ax = plt.subplots()\n",
        "sns.countplot('Class', data=df, ax=ax);\n",
        "ax.set_title('Distribuição das Classes')\n",
        "ax.set_ylabel('Quantidade de ocorrências')\n",
        "ax.set_xlabel('Classe')\n",
        "plt.show();"
      ],
      "execution_count": 40,
      "outputs": [
        {
          "output_type": "stream",
          "text": [
            "0    284315\n",
            "1       492\n",
            "Name: Class, dtype: int64\n",
            "\n",
            "Fraudes representam 0.1727% do dataset.\n",
            "\n"
          ],
          "name": "stdout"
        },
        {
          "output_type": "display_data",
          "data": {
            "image/png": "[encoded data removed]",
            "text/plain": [
              "<Figure size 432x288 with 1 Axes>"
            ]
          },
          "metadata": {
            "tags": [],
            "needs_background": "light"
          }
        }
      ]
    },
    {
      "cell_type": "markdown",
      "metadata": {
        "id": "JgBdEmuBNUbr"
      },
      "source": [
        "Para compararmos o comportamento e a distribução das classes, foram plotados 4 gráficos.\n",
        "\n",
        "Vamos ver o que esses gráficos nos dizem.\n",
        "\n",
        "* 2 gráficos - Que usam como a referência a dimensão **tempo** (`Time`), no entanto, não foi indentificada nenhum informação a partir desses gráficos.\n",
        "\n",
        "* 2 gráficos - Que usam como referência o valor das transações (`Amount`), nesses dois foi possível notar que o valor das transações comuns ficam entre 0 e 5000, diferentemente das transações fraudulentas que pouquissimas tem seu valor acima de 500."
      ]
    },
    {
      "cell_type": "code",
      "metadata": {
        "colab": {
          "base_uri": "https://localhost:8080/",
          "height": 644
        },
        "id": "T9HguEfaNU51",
        "outputId": "2106e5b6-b6c6-42a0-c4fd-bbb988685789"
      },
      "source": [
        "fig, ax = plt.subplots(nrows=4, ncols=1, figsize=(15,10))\n",
        "\n",
        "num_bins_time = 45\n",
        "num_bins_amount = 5\n",
        "\n",
        "ax[0].hist(df.Time[df.Class == 0], bins=num_bins_time)\n",
        "ax[0].set_title('Transações Legítimas por segundo')\n",
        "ax[0].set_ylabel('Transações')\n",
        "ax[0].set_xlabel('Tempo (Segundos)')\n",
        "\n",
        "ax[1].hist(df.Amount[df.Class == 0], bins=num_bins_amount)\n",
        "ax[1].set_title('Transações Legítimas baseadas no valor')\n",
        "ax[1].set_ylabel('Transações')\n",
        "ax[1].set_xlabel('Valor da Transação')\n",
        "\n",
        "ax[2].hist(df.Time[df.Class == 1], bins=num_bins_time)\n",
        "ax[2].set_title('Transações Fraudulentas por segundo')\n",
        "ax[2].set_ylabel('Transações')\n",
        "ax[2].set_xlabel('Tempo (Segundos)')\n",
        "\n",
        "ax[3].hist(df.Amount[df.Class == 1], bins=num_bins_amount)\n",
        "ax[3].set_title('Transações Fraudulentas baseadas no valor')\n",
        "ax[3].set_ylabel('Transações')\n",
        "ax[3].set_xlabel('Valor da Transação')\n",
        "\n",
        "plt.tight_layout();"
      ],
      "execution_count": 44,
      "outputs": [
        {
          "output_type": "display_data",
          "data": {
            "image/png": "[encoded data removed]",
            "text/plain": [
              "<Figure size 1080x720 with 4 Axes>"
            ]
          },
          "metadata": {
            "tags": [],
            "needs_background": "light"
          }
        }
      ]
    },
    {
      "cell_type": "markdown",
      "metadata": {
        "id": "EDfBFQfg4tk9"
      },
      "source": [
        "Foram plotados também, boxplots, uma ótima ferramenta para se há diferença no padrão das transações em relação ao seu valor (`Amount`).\n",
        "\n",
        "Portanto, é possivel notar que há uma distribuição diferente para as duas classes, o que deve beneficiar o treinamento dos nossos modelos."
      ]
    },
    {
      "cell_type": "code",
      "metadata": {
        "id": "tFzzZm1a4t-n",
        "colab": {
          "base_uri": "https://localhost:8080/",
          "height": 873
        },
        "outputId": "d665ce4f-c4a5-4f1d-a5f6-c483b3d98255"
      },
      "source": [
        "fig , ax = plt.subplots(figsize=(8, 12), sharex=True)\n",
        "\n",
        "sns.boxplot(df.Class, df.Amount, showmeans=True, ax=ax, orient='v')\n",
        "plt.ylim((-10, 750))\n",
        "plt.xticks([0, 1],['Normal', 'Fraude'])\n",
        "\n",
        "plt.tight_layout();\n"
      ],
      "execution_count": 8,
      "outputs": [
        {
          "output_type": "display_data",
          "data": {
            "image/png": "[encoded data removed]",
            "text/plain": [
              "<Figure size 576x864 with 1 Axes>"
            ]
          },
          "metadata": {
            "tags": [],
            "needs_background": "light"
          }
        }
      ]
    },
    {
      "cell_type": "markdown",
      "metadata": {
        "id": "thWBHxQs4yKp"
      },
      "source": [
        "* Plotar uma matriz de correlação"
      ]
    },
    {
      "cell_type": "code",
      "metadata": {
        "id": "I0FxNmCS4ysc"
      },
      "source": [
        ""
      ],
      "execution_count": 8,
      "outputs": []
    },
    {
      "cell_type": "markdown",
      "metadata": {
        "id": "Pc3bJX9hnYkT"
      },
      "source": [
        "# **Apresentação dos Modelos**\n",
        "\n",
        "Para mostrar a diferença de desempenhho entre modelos treinados com dados balanceados e desbalanceados, irei construir 8 modelos:\n",
        "\n",
        "* 4 de **Regressão Logística**\n",
        "  * 1 com os dados desbalanceados;\n",
        "  * 3 com diferentes métodos de balanceamento de dados.\n",
        "* 4 de **Árvores de Decisão**\n",
        "  * 1 com os dados desbalanceados;\n",
        "  * 3 com diferentes métodos de balanceamento de dados.\n",
        "\n",
        "\n",
        "\n"
      ]
    },
    {
      "cell_type": "markdown",
      "metadata": {
        "id": "ULe7z0jZt0EH"
      },
      "source": [
        "## **Preparação dos Dados**\n",
        "\n",
        "Nessa etapa, iremos normalizar os dados da coluna `Time` e `Amount`, que possuíam seus valores originais. Para isso, a padronização será feita por meio da classe `StandardScaler`.\n",
        "\n",
        "Iremos também dividir o conjunto de dados entre treino e teste, assim poderemos testar o modelo com um conjunto de dados que ele não teve contato.\n",
        "\n",
        "E por último iremos balancear os dados, de forma que nossos modelos tenham um melhor desempenho na hora de identificar transações fraudulentas. Dessa forma, também evitamos o *overfitting* (quando um modelo se torna muito bom em dados ja vistos, mas não tem um bom desempenho em dados novos)\n",
        "\n",
        "Serão utilizados 3 métodos de balanceamento:\n",
        "\n",
        "* **RandomUnderSampling (RUS)** - Este método descarta um subjconjunto aleatório da classe majoritária, preservando as características da classe minoritária, ideal para quando se há um grande volume de dados. Este método pode acarretar em um performance inferior na hora de fazer predições da classe majoritária.\n",
        "\n",
        "* **ADASYN** - Gera novas amostras, próximas às originais que são classificadas de forma errada usando um classificador K-Nearest Neighbors. Para entender melhor este método, [clique aqui](https://imbalanced-learn.org/stable/over_sampling.html#from-random-over-sampling-to-smote-and-adasyn). \n",
        "\n",
        "* **SMOTE** - Enquanto isso a implementação básica do **SMOTE**, não fará distinção entre amostras fáceis e difíceis de serem classificadas. "
      ]
    },
    {
      "cell_type": "markdown",
      "metadata": {
        "id": "JeuzbqQApojE"
      },
      "source": [
        "**Padronizar `Time` e `Amount`**"
      ]
    },
    {
      "cell_type": "code",
      "metadata": {
        "id": "b6PuC4Pc-Pxv"
      },
      "source": [
        "# Importar pacotes nescessários do Scikit-Learn para preparar os dados\n",
        "from sklearn.model_selection import train_test_split\n",
        "from sklearn.preprocessing import StandardScaler"
      ],
      "execution_count": 9,
      "outputs": []
    },
    {
      "cell_type": "code",
      "metadata": {
        "colab": {
          "base_uri": "https://localhost:8080/",
          "height": 224
        },
        "id": "UidxIZyU_fkA",
        "outputId": "0ec5e026-75b1-41d1-e37e-351fa42ccd94"
      },
      "source": [
        "# Criar cópia do DataFrame \n",
        "df_clean = df.copy()\n",
        "\n",
        "# Padronizar as colunas Time e Amount\n",
        "scaler = StandardScaler()\n",
        "df_clean['Scaler_amount'] = scaler.fit_transform(df_clean['Amount'].values.reshape(-1, 1))\n",
        "df_clean['Scaler_time'] = scaler.fit_transform(df_clean['Time'].values.reshape(-1, 1))\n",
        "\n",
        "df_clean.drop(['Time', 'Amount'], axis=1, inplace=True)\n",
        "\n",
        "# Ver as primeiras entradas\n",
        "df_clean.head()"
      ],
      "execution_count": 10,
      "outputs": [
        {
          "output_type": "execute_result",
          "data": {
            "text/html": [
              "<div>\n",
              "<style scoped>\n",
              "    .dataframe tbody tr th:only-of-type {\n",
              "        vertical-align: middle;\n",
              "    }\n",
              "\n",
              "    .dataframe tbody tr th {\n",
              "        vertical-align: top;\n",
              "    }\n",
              "\n",
              "    .dataframe thead th {\n",
              "        text-align: right;\n",
              "    }\n",
              "</style>\n",
              "<table border=\"1\" class=\"dataframe\">\n",
              "  <thead>\n",
              "    <tr style=\"text-align: right;\">\n",
              "      <th></th>\n",
              "      <th>V1</th>\n",
              "      <th>V2</th>\n",
              "      <th>V3</th>\n",
              "      <th>V4</th>\n",
              "      <th>V5</th>\n",
              "      <th>V6</th>\n",
              "      <th>V7</th>\n",
              "      <th>V8</th>\n",
              "      <th>V9</th>\n",
              "      <th>V10</th>\n",
              "      <th>V11</th>\n",
              "      <th>V12</th>\n",
              "      <th>V13</th>\n",
              "      <th>V14</th>\n",
              "      <th>V15</th>\n",
              "      <th>V16</th>\n",
              "      <th>V17</th>\n",
              "      <th>V18</th>\n",
              "      <th>V19</th>\n",
              "      <th>V20</th>\n",
              "      <th>V21</th>\n",
              "      <th>V22</th>\n",
              "      <th>V23</th>\n",
              "      <th>V24</th>\n",
              "      <th>V25</th>\n",
              "      <th>V26</th>\n",
              "      <th>V27</th>\n",
              "      <th>V28</th>\n",
              "      <th>Class</th>\n",
              "      <th>Scaler_amount</th>\n",
              "      <th>Scaler_time</th>\n",
              "    </tr>\n",
              "  </thead>\n",
              "  <tbody>\n",
              "    <tr>\n",
              "      <th>0</th>\n",
              "      <td>-1.359807</td>\n",
              "      <td>-0.072781</td>\n",
              "      <td>2.536347</td>\n",
              "      <td>1.378155</td>\n",
              "      <td>-0.338321</td>\n",
              "      <td>0.462388</td>\n",
              "      <td>0.239599</td>\n",
              "      <td>0.098698</td>\n",
              "      <td>0.363787</td>\n",
              "      <td>0.090794</td>\n",
              "      <td>-0.551600</td>\n",
              "      <td>-0.617801</td>\n",
              "      <td>-0.991390</td>\n",
              "      <td>-0.311169</td>\n",
              "      <td>1.468177</td>\n",
              "      <td>-0.470401</td>\n",
              "      <td>0.207971</td>\n",
              "      <td>0.025791</td>\n",
              "      <td>0.403993</td>\n",
              "      <td>0.251412</td>\n",
              "      <td>-0.018307</td>\n",
              "      <td>0.277838</td>\n",
              "      <td>-0.110474</td>\n",
              "      <td>0.066928</td>\n",
              "      <td>0.128539</td>\n",
              "      <td>-0.189115</td>\n",
              "      <td>0.133558</td>\n",
              "      <td>-0.021053</td>\n",
              "      <td>0</td>\n",
              "      <td>0.244964</td>\n",
              "      <td>-1.996583</td>\n",
              "    </tr>\n",
              "    <tr>\n",
              "      <th>1</th>\n",
              "      <td>1.191857</td>\n",
              "      <td>0.266151</td>\n",
              "      <td>0.166480</td>\n",
              "      <td>0.448154</td>\n",
              "      <td>0.060018</td>\n",
              "      <td>-0.082361</td>\n",
              "      <td>-0.078803</td>\n",
              "      <td>0.085102</td>\n",
              "      <td>-0.255425</td>\n",
              "      <td>-0.166974</td>\n",
              "      <td>1.612727</td>\n",
              "      <td>1.065235</td>\n",
              "      <td>0.489095</td>\n",
              "      <td>-0.143772</td>\n",
              "      <td>0.635558</td>\n",
              "      <td>0.463917</td>\n",
              "      <td>-0.114805</td>\n",
              "      <td>-0.183361</td>\n",
              "      <td>-0.145783</td>\n",
              "      <td>-0.069083</td>\n",
              "      <td>-0.225775</td>\n",
              "      <td>-0.638672</td>\n",
              "      <td>0.101288</td>\n",
              "      <td>-0.339846</td>\n",
              "      <td>0.167170</td>\n",
              "      <td>0.125895</td>\n",
              "      <td>-0.008983</td>\n",
              "      <td>0.014724</td>\n",
              "      <td>0</td>\n",
              "      <td>-0.342475</td>\n",
              "      <td>-1.996583</td>\n",
              "    </tr>\n",
              "    <tr>\n",
              "      <th>2</th>\n",
              "      <td>-1.358354</td>\n",
              "      <td>-1.340163</td>\n",
              "      <td>1.773209</td>\n",
              "      <td>0.379780</td>\n",
              "      <td>-0.503198</td>\n",
              "      <td>1.800499</td>\n",
              "      <td>0.791461</td>\n",
              "      <td>0.247676</td>\n",
              "      <td>-1.514654</td>\n",
              "      <td>0.207643</td>\n",
              "      <td>0.624501</td>\n",
              "      <td>0.066084</td>\n",
              "      <td>0.717293</td>\n",
              "      <td>-0.165946</td>\n",
              "      <td>2.345865</td>\n",
              "      <td>-2.890083</td>\n",
              "      <td>1.109969</td>\n",
              "      <td>-0.121359</td>\n",
              "      <td>-2.261857</td>\n",
              "      <td>0.524980</td>\n",
              "      <td>0.247998</td>\n",
              "      <td>0.771679</td>\n",
              "      <td>0.909412</td>\n",
              "      <td>-0.689281</td>\n",
              "      <td>-0.327642</td>\n",
              "      <td>-0.139097</td>\n",
              "      <td>-0.055353</td>\n",
              "      <td>-0.059752</td>\n",
              "      <td>0</td>\n",
              "      <td>1.160686</td>\n",
              "      <td>-1.996562</td>\n",
              "    </tr>\n",
              "    <tr>\n",
              "      <th>3</th>\n",
              "      <td>-0.966272</td>\n",
              "      <td>-0.185226</td>\n",
              "      <td>1.792993</td>\n",
              "      <td>-0.863291</td>\n",
              "      <td>-0.010309</td>\n",
              "      <td>1.247203</td>\n",
              "      <td>0.237609</td>\n",
              "      <td>0.377436</td>\n",
              "      <td>-1.387024</td>\n",
              "      <td>-0.054952</td>\n",
              "      <td>-0.226487</td>\n",
              "      <td>0.178228</td>\n",
              "      <td>0.507757</td>\n",
              "      <td>-0.287924</td>\n",
              "      <td>-0.631418</td>\n",
              "      <td>-1.059647</td>\n",
              "      <td>-0.684093</td>\n",
              "      <td>1.965775</td>\n",
              "      <td>-1.232622</td>\n",
              "      <td>-0.208038</td>\n",
              "      <td>-0.108300</td>\n",
              "      <td>0.005274</td>\n",
              "      <td>-0.190321</td>\n",
              "      <td>-1.175575</td>\n",
              "      <td>0.647376</td>\n",
              "      <td>-0.221929</td>\n",
              "      <td>0.062723</td>\n",
              "      <td>0.061458</td>\n",
              "      <td>0</td>\n",
              "      <td>0.140534</td>\n",
              "      <td>-1.996562</td>\n",
              "    </tr>\n",
              "    <tr>\n",
              "      <th>4</th>\n",
              "      <td>-1.158233</td>\n",
              "      <td>0.877737</td>\n",
              "      <td>1.548718</td>\n",
              "      <td>0.403034</td>\n",
              "      <td>-0.407193</td>\n",
              "      <td>0.095921</td>\n",
              "      <td>0.592941</td>\n",
              "      <td>-0.270533</td>\n",
              "      <td>0.817739</td>\n",
              "      <td>0.753074</td>\n",
              "      <td>-0.822843</td>\n",
              "      <td>0.538196</td>\n",
              "      <td>1.345852</td>\n",
              "      <td>-1.119670</td>\n",
              "      <td>0.175121</td>\n",
              "      <td>-0.451449</td>\n",
              "      <td>-0.237033</td>\n",
              "      <td>-0.038195</td>\n",
              "      <td>0.803487</td>\n",
              "      <td>0.408542</td>\n",
              "      <td>-0.009431</td>\n",
              "      <td>0.798278</td>\n",
              "      <td>-0.137458</td>\n",
              "      <td>0.141267</td>\n",
              "      <td>-0.206010</td>\n",
              "      <td>0.502292</td>\n",
              "      <td>0.219422</td>\n",
              "      <td>0.215153</td>\n",
              "      <td>0</td>\n",
              "      <td>-0.073403</td>\n",
              "      <td>-1.996541</td>\n",
              "    </tr>\n",
              "  </tbody>\n",
              "</table>\n",
              "</div>"
            ],
            "text/plain": [
              "         V1        V2        V3  ...  Class  Scaler_amount  Scaler_time\n",
              "0 -1.359807 -0.072781  2.536347  ...      0       0.244964    -1.996583\n",
              "1  1.191857  0.266151  0.166480  ...      0      -0.342475    -1.996583\n",
              "2 -1.358354 -1.340163  1.773209  ...      0       1.160686    -1.996562\n",
              "3 -0.966272 -0.185226  1.792993  ...      0       0.140534    -1.996562\n",
              "4 -1.158233  0.877737  1.548718  ...      0      -0.073403    -1.996541\n",
              "\n",
              "[5 rows x 31 columns]"
            ]
          },
          "metadata": {
            "tags": []
          },
          "execution_count": 10
        }
      ]
    },
    {
      "cell_type": "markdown",
      "metadata": {
        "id": "St8yHqCUpw3A"
      },
      "source": [
        "**Separar dados entre Treino e Teste**"
      ]
    },
    {
      "cell_type": "code",
      "metadata": {
        "id": "D8CNC7JUDSis"
      },
      "source": [
        "# Separar os dados entre feature matrix e target vector \n",
        "X = df_clean.drop('Class', axis=1)\n",
        "y = df_clean['Class']\n",
        "\n",
        "# Dividir o dataset entre treino e teste\n",
        "X_train, X_test, y_train, y_test = train_test_split(X, y, stratify=y, shuffle=True)"
      ],
      "execution_count": 11,
      "outputs": []
    },
    {
      "cell_type": "markdown",
      "metadata": {
        "id": "Tdw9oVJX-Jf0"
      },
      "source": [
        "### Balanceamento dos Dados com Under-Sampling (RUS)"
      ]
    },
    {
      "cell_type": "code",
      "metadata": {
        "colab": {
          "base_uri": "https://localhost:8080/",
          "height": 316
        },
        "id": "s9PYUgkzDfnY",
        "outputId": "80506094-afd4-4926-cce1-1eaf0f10e3f7"
      },
      "source": [
        "# Balanceamento dos dados\n",
        "from imblearn.under_sampling import RandomUnderSampler\n",
        "rus = RandomUnderSampler()\n",
        "X_rus, y_rus = rus.fit_sample(X_train, y_train)\n",
        "\n",
        "# Checar o balanceamento das classes\n",
        "print(pd.Series(y_rus).value_counts())\n",
        "\n",
        "# Plotar a nova distribuição de Classes\n",
        "sns.countplot(y_rus);"
      ],
      "execution_count": 12,
      "outputs": [
        {
          "output_type": "stream",
          "text": [
            "1    369\n",
            "0    369\n",
            "dtype: int64\n"
          ],
          "name": "stdout"
        },
        {
          "output_type": "display_data",
          "data": {
            "image/png": "[encoded data removed]",
            "text/plain": [
              "<Figure size 432x288 with 1 Axes>"
            ]
          },
          "metadata": {
            "tags": [],
            "needs_background": "light"
          }
        }
      ]
    },
    {
      "cell_type": "markdown",
      "metadata": {
        "id": "U5CFgZ2y-fK7"
      },
      "source": [
        "### Balanceamento dos Dados com Over-Sampling (SMOTE) \n"
      ]
    },
    {
      "cell_type": "code",
      "metadata": {
        "colab": {
          "base_uri": "https://localhost:8080/",
          "height": 316
        },
        "id": "ncc5Ie3g-5gc",
        "outputId": "d0eab382-7756-4b7d-888a-8e5eaa7fc44c"
      },
      "source": [
        "# Balanceamento dos dados\n",
        "from imblearn.over_sampling import SMOTE\n",
        "smo = SMOTE()\n",
        "X_smo, y_smo = smo.fit_resample(X_train, y_train)\n",
        "\n",
        "# Checar o balanceamento das classes\n",
        "print(pd.Series(y_smo).value_counts())\n",
        "\n",
        "# Plotar a nova distribuição de Classes\n",
        "sns.countplot(y_smo);"
      ],
      "execution_count": 13,
      "outputs": [
        {
          "output_type": "stream",
          "text": [
            "1    213236\n",
            "0    213236\n",
            "dtype: int64\n"
          ],
          "name": "stdout"
        },
        {
          "output_type": "display_data",
          "data": {
            "image/png": "[encoded data removed]",
            "text/plain": [
              "<Figure size 432x288 with 1 Axes>"
            ]
          },
          "metadata": {
            "tags": [],
            "needs_background": "light"
          }
        }
      ]
    },
    {
      "cell_type": "markdown",
      "metadata": {
        "id": "Lkz4raplCTm0"
      },
      "source": [
        "### Balanceamento dos Dados com Over-Sampling (ADASYN)"
      ]
    },
    {
      "cell_type": "code",
      "metadata": {
        "colab": {
          "base_uri": "https://localhost:8080/",
          "height": 316
        },
        "id": "xALLnqk8CYq-",
        "outputId": "f18d4f98-175f-4612-cbc9-b6780b0cd5d1"
      },
      "source": [
        "# Balanceamento dos dados\n",
        "from imblearn.over_sampling import ADASYN\n",
        "ada = ADASYN()\n",
        "X_ada, y_ada = ada.fit_resample(X_train, y_train)\n",
        "\n",
        "# Checar o balanceamento das classes\n",
        "print(pd.Series(y_ada).value_counts())\n",
        "\n",
        "# Plotar a nova distribuição de Classes\n",
        "sns.countplot(y_ada);"
      ],
      "execution_count": 14,
      "outputs": [
        {
          "output_type": "stream",
          "text": [
            "1    213237\n",
            "0    213236\n",
            "dtype: int64\n"
          ],
          "name": "stdout"
        },
        {
          "output_type": "display_data",
          "data": {
            "image/png": "[encoded data removed]",
            "text/plain": [
              "<Figure size 432x288 with 1 Axes>"
            ]
          },
          "metadata": {
            "tags": [],
            "needs_background": "light"
          }
        }
      ]
    },
    {
      "cell_type": "markdown",
      "metadata": {
        "id": "Gg3BaUXScN4E"
      },
      "source": [
        "## **Regressão Logística**"
      ]
    },
    {
      "cell_type": "markdown",
      "metadata": {
        "id": "7W9BcP1FWTY_"
      },
      "source": [
        "### Construção do Modelo sem Balanceamento dos Dados"
      ]
    },
    {
      "cell_type": "markdown",
      "metadata": {
        "id": "Bl87JLyYZxki"
      },
      "source": [
        "antes da cosntrução do modelo vamos lembrar como estão distribuidas as classes"
      ]
    },
    {
      "cell_type": "code",
      "metadata": {
        "colab": {
          "base_uri": "https://localhost:8080/",
          "height": 381
        },
        "id": "4hB9g9XSZwsT",
        "outputId": "e6bfc14e-ba21-427d-c800-994e3d669752"
      },
      "source": [
        "# Checar o balanceamento das classes\n",
        "print(df.Class.value_counts())\n",
        "print('\\nFraudes representam {:.4f}% do dataset.\\n'.format((df[df.Class == 1].shape[0] / df.shape[0]) * 100))\n",
        "\n",
        "# Plotar gráfico de barras para as Classes\n",
        "sns.countplot('Class', data=df);"
      ],
      "execution_count": 15,
      "outputs": [
        {
          "output_type": "stream",
          "text": [
            "0    284315\n",
            "1       492\n",
            "Name: Class, dtype: int64\n",
            "\n",
            "Fraudes representam 0.1727% do dataset.\n",
            "\n"
          ],
          "name": "stdout"
        },
        {
          "output_type": "display_data",
          "data": {
            "image/png": "[encoded data removed]",
            "text/plain": [
              "<Figure size 432x288 with 1 Axes>"
            ]
          },
          "metadata": {
            "tags": [],
            "needs_background": "light"
          }
        }
      ]
    },
    {
      "cell_type": "code",
      "metadata": {
        "id": "B2qBRPrqWTI9"
      },
      "source": [
        "# Escolher e importa um modelo\n",
        "from sklearn.linear_model import LogisticRegression\n",
        "\n",
        "# Escolher e instanciar os Hyperparameters\n",
        "model = LogisticRegression()\n",
        "\n",
        "# Fit do Modelo (Treinar)\n",
        "model.fit(X_train, y_train)\n",
        "\n",
        "# Fazer previsões em cima de novos dados \n",
        "y_pred_log = model.predict(X_test)"
      ],
      "execution_count": 16,
      "outputs": []
    },
    {
      "cell_type": "markdown",
      "metadata": {
        "id": "6F2hJWi1XvWb"
      },
      "source": [
        "#### Avaliando o Desempenho do Modelo"
      ]
    },
    {
      "cell_type": "code",
      "metadata": {
        "id": "4qMRkB_jJH3w"
      },
      "source": [
        "# Instalar pacote para plotar matriz de confusão\n",
        "!pip install -q scikit-plot"
      ],
      "execution_count": 17,
      "outputs": []
    },
    {
      "cell_type": "code",
      "metadata": {
        "colab": {
          "base_uri": "https://localhost:8080/",
          "height": 499
        },
        "id": "C6DX7hvNX2JR",
        "outputId": "159203b7-1452-48c2-e815-e37fbdc595cc"
      },
      "source": [
        "# Importar pacotes para avaliar o desempenho do modelo \n",
        "from sklearn.metrics import classification_report\n",
        "import scikitplot as skplt\n",
        "\n",
        "# Plotar matriz de confusão \n",
        "skplt.metrics.plot_confusion_matrix(y_test, y_pred_log)\n",
        "\n",
        "# Imprimir Relatório de Classificação\n",
        "print('Relatório de Classificação:\\n', classification_report(y_test, y_pred_log, digits=4))\n",
        "\n",
        "# Imprimir área sob curva\n",
        "print('AUC: {:.4f}\\n'.format(roc_auc_score(y_test, y_pred_log)))"
      ],
      "execution_count": 18,
      "outputs": [
        {
          "output_type": "stream",
          "text": [
            "Relatório de Classificação:\n",
            "               precision    recall  f1-score   support\n",
            "\n",
            "           0     0.9993    0.9998    0.9996     71079\n",
            "           1     0.8523    0.6098    0.7109       123\n",
            "\n",
            "    accuracy                         0.9991     71202\n",
            "   macro avg     0.9258    0.8048    0.8552     71202\n",
            "weighted avg     0.9991    0.9991    0.9991     71202\n",
            "\n",
            "AUC: 0.8048\n",
            "\n"
          ],
          "name": "stdout"
        },
        {
          "output_type": "display_data",
          "data": {
            "image/png": "[encoded data removed]",
            "text/plain": [
              "<Figure size 432x288 with 2 Axes>"
            ]
          },
          "metadata": {
            "tags": [],
            "needs_background": "light"
          }
        }
      ]
    },
    {
      "cell_type": "markdown",
      "metadata": {
        "id": "wJNH5qcjRxfX"
      },
      "source": [
        "### Construção do Modelo (RUS)\n",
        "\n",
        "* Construir um modelo para **classificação**.\n",
        "* [*Opcional*] Construir mais de um modelo para avaliar os desempenhos"
      ]
    },
    {
      "cell_type": "code",
      "metadata": {
        "id": "IqfjG_SUSTi-"
      },
      "source": [
        "# Escolher e instanciar os Hyperparameters\n",
        "model_rus = LogisticRegression()\n",
        "\n",
        "# Fit do modelo (Treinar)\n",
        "model_rus.fit(X_rus, y_rus)\n",
        "\n",
        "# Fazer previsões em cima de novos dados \n",
        "y_pred_rus = model_rus.predict(X_test)\n",
        "y_proba_rus = model_rus.predict_proba(X_test)"
      ],
      "execution_count": 19,
      "outputs": []
    },
    {
      "cell_type": "markdown",
      "metadata": {
        "id": "3e4ENOTYSUXi"
      },
      "source": [
        "#### Avaliando o Desempenho do Modelo\n",
        "\n",
        "* Identificar a melhor métrica para esse tipo de modelo\n",
        "* [*Opcional*] Comparar o desempenho entre diversos modelos"
      ]
    },
    {
      "cell_type": "code",
      "metadata": {
        "id": "H1jEi7gkSe2r",
        "colab": {
          "base_uri": "https://localhost:8080/",
          "height": 499
        },
        "outputId": "356a1646-5ffa-4d64-9df8-d5dfde841137"
      },
      "source": [
        "# Plotar matriz de confusão\n",
        "skplt.metrics.plot_confusion_matrix(y_test, y_pred_rus)\n",
        "\n",
        "# Imprimir relatório de classificação\n",
        "print('Relatório de Classificação:\\n',classification_report(y_test, y_pred_rus, digits=4))\n",
        "\n",
        "# Imprimir a área sob curva\n",
        "print('AUC: {:.4f}\\n'.format(roc_auc_score(y_test, y_pred_rus)))"
      ],
      "execution_count": 20,
      "outputs": [
        {
          "output_type": "stream",
          "text": [
            "Relatório de Classificação:\n",
            "               precision    recall  f1-score   support\n",
            "\n",
            "           0     0.9998    0.9687    0.9840     71079\n",
            "           1     0.0471    0.8943    0.0895       123\n",
            "\n",
            "    accuracy                         0.9686     71202\n",
            "   macro avg     0.5235    0.9315    0.5368     71202\n",
            "weighted avg     0.9982    0.9686    0.9825     71202\n",
            "\n",
            "AUC: 0.9315\n",
            "\n"
          ],
          "name": "stdout"
        },
        {
          "output_type": "display_data",
          "data": {
            "image/png": "[encoded data removed]",
            "text/plain": [
              "<Figure size 432x288 with 2 Axes>"
            ]
          },
          "metadata": {
            "tags": [],
            "needs_background": "light"
          }
        }
      ]
    },
    {
      "cell_type": "markdown",
      "metadata": {
        "id": "fz5EBlWzCKw-"
      },
      "source": [
        "### Construção do Modelo (SMOTE)"
      ]
    },
    {
      "cell_type": "code",
      "metadata": {
        "id": "kXKBZLPVAXdR"
      },
      "source": [
        "# Escolher e importar um modelo\n",
        "from sklearn.linear_model import LogisticRegression\n",
        "\n",
        "# Escolher e instanciar os Hyperparameters\n",
        "model_smo = LogisticRegression()\n",
        "\n",
        "# Fit do modelo (Treinar)\n",
        "model_smo.fit(X_smo, y_smo)\n",
        "\n",
        "# Fazer previsões em cima de novos dados \n",
        "y_pred_smo = model_smo.predict(X_test)\n",
        "y_proba_smo = model_smo.predict_proba(X_test)"
      ],
      "execution_count": 21,
      "outputs": []
    },
    {
      "cell_type": "markdown",
      "metadata": {
        "id": "PTiiVLfOAr4h"
      },
      "source": [
        "#### Avaliando o Desempenho Modelo"
      ]
    },
    {
      "cell_type": "code",
      "metadata": {
        "colab": {
          "base_uri": "https://localhost:8080/",
          "height": 499
        },
        "id": "cc5SSIWWAp3n",
        "outputId": "61747b62-e7a4-489a-c0d1-641aaa186687"
      },
      "source": [
        "# Plotar matriz de confusão\n",
        "skplt.metrics.plot_confusion_matrix(y_test, y_pred_smo)\n",
        "\n",
        "# Imprimir relatório de classificação\n",
        "print('Relatório de Classificação:\\n',classification_report(y_test, y_pred_smo, digits=4))\n",
        "\n",
        "# Imprimir a área sob curva\n",
        "print('AUC: {:.4f}\\n'.format(roc_auc_score(y_test, y_pred_smo)))"
      ],
      "execution_count": 22,
      "outputs": [
        {
          "output_type": "stream",
          "text": [
            "Relatório de Classificação:\n",
            "               precision    recall  f1-score   support\n",
            "\n",
            "           0     0.9998    0.9777    0.9886     71079\n",
            "           1     0.0638    0.8780    0.1190       123\n",
            "\n",
            "    accuracy                         0.9775     71202\n",
            "   macro avg     0.5318    0.9279    0.5538     71202\n",
            "weighted avg     0.9982    0.9775    0.9871     71202\n",
            "\n",
            "AUC: 0.9279\n",
            "\n"
          ],
          "name": "stdout"
        },
        {
          "output_type": "display_data",
          "data": {
            "image/png": "[encoded data removed]",
            "text/plain": [
              "<Figure size 432x288 with 2 Axes>"
            ]
          },
          "metadata": {
            "tags": [],
            "needs_background": "light"
          }
        }
      ]
    },
    {
      "cell_type": "markdown",
      "metadata": {
        "id": "p-UgMZEqCr0i"
      },
      "source": [
        "### Construção do Modelo (ADASYN)"
      ]
    },
    {
      "cell_type": "code",
      "metadata": {
        "id": "2NnjLRgGCvK4"
      },
      "source": [
        "# Escolher e plotar um modelo\n",
        "model_ada = LogisticRegression()\n",
        "\n",
        "# Fit do modelo (Treinar)\n",
        "model_ada.fit(X_ada, y_ada)\n",
        "\n",
        "# Fazer previsões em cima de novos dados \n",
        "y_pred_ada = model_ada.predict(X_test)\n",
        "y_proba_ada = model_ada.predict_proba(X_test)"
      ],
      "execution_count": 23,
      "outputs": []
    },
    {
      "cell_type": "markdown",
      "metadata": {
        "id": "lqVjIm-pDPiG"
      },
      "source": [
        "#### Avaliando o Desempenho Modelo"
      ]
    },
    {
      "cell_type": "code",
      "metadata": {
        "colab": {
          "base_uri": "https://localhost:8080/",
          "height": 499
        },
        "id": "TyXZfkyiDTRu",
        "outputId": "35b69f1d-406e-433e-edc8-1d5718b957e9"
      },
      "source": [
        "# Plotar a matriz de confusão\n",
        "skplt.metrics.plot_confusion_matrix(y_test, y_pred_ada)\n",
        "\n",
        "# Imprimir relatório de classificação\n",
        "print('Relatório de Classificação: \\n', classification_report(y_test, y_pred_ada, digits=4))\n",
        "\n",
        "# Imprimir a área sob curva\n",
        "print('AUC: {:.4f}\\n'.format(roc_auc_score(y_test, y_pred_ada)))"
      ],
      "execution_count": 24,
      "outputs": [
        {
          "output_type": "stream",
          "text": [
            "Relatório de Classificação: \n",
            "               precision    recall  f1-score   support\n",
            "\n",
            "           0     0.9999    0.9180    0.9572     71079\n",
            "           1     0.0192    0.9268    0.0376       123\n",
            "\n",
            "    accuracy                         0.9180     71202\n",
            "   macro avg     0.5095    0.9224    0.4974     71202\n",
            "weighted avg     0.9982    0.9180    0.9556     71202\n",
            "\n",
            "AUC: 0.9224\n",
            "\n"
          ],
          "name": "stdout"
        },
        {
          "output_type": "display_data",
          "data": {
            "image/png": "[encoded data removed]",
            "text/plain": [
              "<Figure size 432x288 with 2 Axes>"
            ]
          },
          "metadata": {
            "tags": [],
            "needs_background": "light"
          }
        }
      ]
    },
    {
      "cell_type": "markdown",
      "metadata": {
        "id": "UbqAttBfcxjD"
      },
      "source": [
        "## **Árvores De Decisão (Decision Trees)**"
      ]
    },
    {
      "cell_type": "markdown",
      "metadata": {
        "id": "KKF3TxgyewOp"
      },
      "source": [
        "Como ja temos os dados preparados, apenas precisamos balancear os dados e construir os modelos\n"
      ]
    },
    {
      "cell_type": "markdown",
      "metadata": {
        "id": "1mOeUV45hZjB"
      },
      "source": [
        "### Construção do Modelo sem Balanceamento dos Dados"
      ]
    },
    {
      "cell_type": "code",
      "metadata": {
        "id": "VcsQzNTgdfP9"
      },
      "source": [
        "# Escolher e importar o modelo\n",
        "from sklearn.tree import DecisionTreeClassifier\n",
        "\n",
        "# Escolher os Hyperparameters\n",
        "model_tree = DecisionTreeClassifier(max_depth=4, criterion='entropy')\n",
        "\n",
        "# Fit do Modelo(Treinar)\n",
        "model_tree.fit(X_train, y_train)\n",
        "\n",
        "# Fazer previsões em cima dos dados de teste\n",
        "y_pred_tree = model_tree.predict(X_test)"
      ],
      "execution_count": 25,
      "outputs": []
    },
    {
      "cell_type": "markdown",
      "metadata": {
        "id": "K0G5vdVOhPw_"
      },
      "source": [
        "#### Avaliando o Desempenho do Modelo"
      ]
    },
    {
      "cell_type": "code",
      "metadata": {
        "colab": {
          "base_uri": "https://localhost:8080/",
          "height": 482
        },
        "id": "B4xVJAN7hqXE",
        "outputId": "bec620e0-0bc7-4c90-d3a0-28e602155dfc"
      },
      "source": [
        "# Plotar matriz de confusão\n",
        "skplt.metrics.plot_confusion_matrix(y_test, y_pred_tree)\n",
        "\n",
        "# Imprimir classification report\n",
        "print(classification_report(y_test, y_pred_tree, digits=4))\n",
        "\n",
        "# Imprimir área sob curva\n",
        "print('AUC: {:.4f}\\n'.format(roc_auc_score(y_test, y_pred_tree)))"
      ],
      "execution_count": 26,
      "outputs": [
        {
          "output_type": "stream",
          "text": [
            "              precision    recall  f1-score   support\n",
            "\n",
            "           0     0.9995    0.9998    0.9996     71079\n",
            "           1     0.8411    0.7317    0.7826       123\n",
            "\n",
            "    accuracy                         0.9993     71202\n",
            "   macro avg     0.9203    0.8657    0.8911     71202\n",
            "weighted avg     0.9993    0.9993    0.9993     71202\n",
            "\n",
            "AUC: 0.8657\n",
            "\n"
          ],
          "name": "stdout"
        },
        {
          "output_type": "display_data",
          "data": {
            "image/png": "[encoded data removed]",
            "text/plain": [
              "<Figure size 432x288 with 2 Axes>"
            ]
          },
          "metadata": {
            "tags": [],
            "needs_background": "light"
          }
        }
      ]
    },
    {
      "cell_type": "markdown",
      "metadata": {
        "id": "pOBjxZEH4ehQ"
      },
      "source": [
        "### Construção do Modelo (RUS)"
      ]
    },
    {
      "cell_type": "code",
      "metadata": {
        "id": "2J-bbdjr4pH7"
      },
      "source": [
        "# Escolher os hyperparameters \n",
        "model_tree_rus = DecisionTreeClassifier(max_depth=8, criterion='entropy')\n",
        "\n",
        "# Fit do Modelo (Treinar)\n",
        "model_tree_rus.fit(X_rus, y_rus)\n",
        "\n",
        "# Fazer previsões em cima dos dados de teste\n",
        "y_pred_tree_rus = model_tree_rus.predict(X_test)\n",
        "y_proba_tree_rus = model_tree_rus.predict_proba(X_test)"
      ],
      "execution_count": 27,
      "outputs": []
    },
    {
      "cell_type": "markdown",
      "metadata": {
        "id": "L73qyuBs6PbX"
      },
      "source": [
        "#### Avaliando o desempenho do modelo"
      ]
    },
    {
      "cell_type": "code",
      "metadata": {
        "colab": {
          "base_uri": "https://localhost:8080/",
          "height": 499
        },
        "id": "jvMtwxYX6Xdp",
        "outputId": "b7ba07cb-8819-48cd-fa33-e308f2d9c120"
      },
      "source": [
        "# Plotar matriz de confusão \n",
        "skplt.metrics.plot_confusion_matrix(y_test, y_pred_tree_rus)\n",
        "\n",
        "# Imprimir relatório de classificação\n",
        "print('Relatório de Classificação: \\n', classification_report(y_test, y_pred_tree_rus, digits=4))\n",
        "\n",
        "# Imprimir a Área sob Curva\n",
        "print('AUC: {:.4f}\\n'.format(roc_auc_score(y_test, y_pred_tree_rus)))"
      ],
      "execution_count": 28,
      "outputs": [
        {
          "output_type": "stream",
          "text": [
            "Relatório de Classificação: \n",
            "               precision    recall  f1-score   support\n",
            "\n",
            "           0     0.9998    0.9143    0.9552     71079\n",
            "           1     0.0176    0.8862    0.0345       123\n",
            "\n",
            "    accuracy                         0.9143     71202\n",
            "   macro avg     0.5087    0.9003    0.4948     71202\n",
            "weighted avg     0.9981    0.9143    0.9536     71202\n",
            "\n",
            "AUC: 0.9003\n",
            "\n"
          ],
          "name": "stdout"
        },
        {
          "output_type": "display_data",
          "data": {
            "image/png": "[encoded data removed]",
            "text/plain": [
              "<Figure size 432x288 with 2 Axes>"
            ]
          },
          "metadata": {
            "tags": [],
            "needs_background": "light"
          }
        }
      ]
    },
    {
      "cell_type": "markdown",
      "metadata": {
        "id": "W2q0P9tZ70uX"
      },
      "source": [
        "### Construção do Modelo (SMOTE)"
      ]
    },
    {
      "cell_type": "code",
      "metadata": {
        "id": "Enpw4Y5t76ds"
      },
      "source": [
        "# Escolher os Hyperparameters\n",
        "model_tree_smo = DecisionTreeClassifier(max_depth=6, criterion='entropy')\n",
        "\n",
        "# Fit do Modelo(Treinar)\n",
        "model_tree_smo.fit(X_smo, y_smo)\n",
        "\n",
        "# Fazer previsões em cima dos dados de teste\n",
        "y_pred_tree_smo = model_tree_smo.predict(X_test)"
      ],
      "execution_count": 29,
      "outputs": []
    },
    {
      "cell_type": "markdown",
      "metadata": {
        "id": "CZLKR_QGPgA8"
      },
      "source": [
        "#### Avaliando o Desempenho do Modelo"
      ]
    },
    {
      "cell_type": "code",
      "metadata": {
        "colab": {
          "base_uri": "https://localhost:8080/",
          "height": 499
        },
        "id": "EAhn7XHaPmG4",
        "outputId": "ca9d55b6-f5da-486d-db3b-335712b7c6c2"
      },
      "source": [
        "# Plotar matriz de confusão\n",
        "skplt.metrics.plot_confusion_matrix(y_test, y_pred_tree_smo)\n",
        "\n",
        "# Imprimir classification report\n",
        "print('Relatório de Classificação: \\n', classification_report(y_test, y_pred_tree_smo, digits=4))\n",
        "\n",
        "# Imprimir área sob curva \n",
        "print('AUC: {:.4f}\\n'.format(roc_auc_score(y_test,y_pred_tree_smo)))"
      ],
      "execution_count": 30,
      "outputs": [
        {
          "output_type": "stream",
          "text": [
            "Relatório de Classificação: \n",
            "               precision    recall  f1-score   support\n",
            "\n",
            "           0     0.9997    0.9779    0.9886     71079\n",
            "           1     0.0592    0.8049    0.1104       123\n",
            "\n",
            "    accuracy                         0.9776     71202\n",
            "   macro avg     0.5295    0.8914    0.5495     71202\n",
            "weighted avg     0.9980    0.9776    0.9871     71202\n",
            "\n",
            "AUC: 0.8914\n",
            "\n"
          ],
          "name": "stdout"
        },
        {
          "output_type": "display_data",
          "data": {
            "image/png": "[encoded data removed]",
            "text/plain": [
              "<Figure size 432x288 with 2 Axes>"
            ]
          },
          "metadata": {
            "tags": [],
            "needs_background": "light"
          }
        }
      ]
    },
    {
      "cell_type": "markdown",
      "metadata": {
        "id": "UhKop5HER1WQ"
      },
      "source": [
        "### Construção do Modelo (ADASYN)\n"
      ]
    },
    {
      "cell_type": "code",
      "metadata": {
        "id": "bGf7jcL3R7yQ"
      },
      "source": [
        "# Escolher os Hyperparameters\n",
        "model_tree_ada = DecisionTreeClassifier(max_depth=8, criterion='entropy')\n",
        "\n",
        "# Fit do Modelo (Treinar)\n",
        "model_tree_ada.fit(X_ada, y_ada)\n",
        "\n",
        "# Fazer previsões em cima dos dados de teste\n",
        "y_pred_tree_ada = model_tree_ada.predict(X_test)"
      ],
      "execution_count": 31,
      "outputs": []
    },
    {
      "cell_type": "markdown",
      "metadata": {
        "id": "vTTwoh4rSdR6"
      },
      "source": [
        "#### Avaliando o Desempenho do Modelo"
      ]
    },
    {
      "cell_type": "code",
      "metadata": {
        "colab": {
          "base_uri": "https://localhost:8080/",
          "height": 499
        },
        "id": "zjJT8oh4SciZ",
        "outputId": "2e0a84ff-bad7-43a7-92c0-fb37468e35b5"
      },
      "source": [
        "# Plotar Matriz de confusão\n",
        "skplt.metrics.plot_confusion_matrix(y_test, y_pred_tree_ada)\n",
        "\n",
        "# Imprimir classification report\n",
        "print('Relatório de classificação: \\n', classification_report(y_test, y_pred_tree_ada, digits=4))\n",
        "\n",
        "# Imprimir área sob curva\n",
        "print('AUC: {:.4f}\\n'.format(roc_auc_score(y_test, y_pred_tree_ada)))"
      ],
      "execution_count": 32,
      "outputs": [
        {
          "output_type": "stream",
          "text": [
            "Relatório de classificação: \n",
            "               precision    recall  f1-score   support\n",
            "\n",
            "           0     0.9997    0.9254    0.9611     71079\n",
            "           1     0.0192    0.8455    0.0376       123\n",
            "\n",
            "    accuracy                         0.9253     71202\n",
            "   macro avg     0.5095    0.8855    0.4994     71202\n",
            "weighted avg     0.9980    0.9253    0.9595     71202\n",
            "\n",
            "AUC: 0.8855\n",
            "\n"
          ],
          "name": "stdout"
        },
        {
          "output_type": "display_data",
          "data": {
            "image/png": "[encoded data removed]",
            "text/plain": [
              "<Figure size 432x288 with 2 Axes>"
            ]
          },
          "metadata": {
            "tags": [],
            "needs_background": "light"
          }
        }
      ]
    },
    {
      "cell_type": "markdown",
      "metadata": {
        "id": "0Bj7zRZMSfO7"
      },
      "source": [
        "## Conclusão\n",
        "\n",
        "* Escrever suas conclusões a respeito da construção do modelo"
      ]
    }
  ]
}