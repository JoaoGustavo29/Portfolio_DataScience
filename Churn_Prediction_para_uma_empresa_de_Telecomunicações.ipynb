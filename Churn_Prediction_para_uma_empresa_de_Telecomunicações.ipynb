{
  "nbformat": 4,
  "nbformat_minor": 0,
  "metadata": {
    "colab": {
      "name": "Churn Prediction para uma empresa de Telecomunicações.ipynb",
      "provenance": [],
      "collapsed_sections": [],
      "include_colab_link": true
    },
    "kernelspec": {
      "display_name": "Python 3",
      "name": "python3"
    }
  },
  "cells": [
    {
      "cell_type": "markdown",
      "metadata": {
        "id": "view-in-github",
        "colab_type": "text"
      },
      "source": [
        "<a href=\"https://colab.research.google.com/github/JoaoGustavo29/Portfolio_DataScience/blob/master/Churn_Prediction_para_uma_empresa_de_Telecomunica%C3%A7%C3%B5es.ipynb\" target=\"_parent\"><img src=\"https://colab.research.google.com/assets/colab-badge.svg\" alt=\"Open In Colab\"/></a>"
      ]
    },
    {
      "cell_type": "markdown",
      "metadata": {
        "id": "sC2BFMOKN1M7"
      },
      "source": [
        "---\n",
        "<img alt=\"Colaboratory logo\" width=\"15%\" src=\"https://raw.githubusercontent.com/carlosfab/escola-data-science/master/img/novo_logo_bg_claro.png\">\n",
        "\n",
        "#### **Data Science na Prática 2.0**\n",
        "*by [sigmoidal.ai](https://sigmoidal.ai)*  \n",
        "\n",
        "---"
      ]
    },
    {
      "cell_type": "markdown",
      "metadata": {
        "id": "IR56trFcPcC1"
      },
      "source": [
        "# Churn Prediction\n",
        "\n",
        "*Churn rate*, ou simplesmente *churn*, representa a taxa de evasão da sua base de clientes. Em serviços como Spotify ou Netflix, ela representaria a taxa de cancelamento de assinaturas.\n",
        "\n",
        "<p align=center>\n",
        "<img src=\"https://raw.githubusercontent.com/carlosfab/dsnp2/master/img/churnrate.jpg\" width=\"60%\"></p>\n",
        "\n",
        "Ela é de extrema importância para a administração e sua análise ao longo do tempo pode mostrar que existe algum problema que deve ser atacado.\n",
        "\n",
        "*Churn* também pode ser usado para identificar potenciais cancelamentos, com um tempo de antecedência, e promover ações direcionadas para tentar reter tais clientes. Essa métrica deve receber atenção pelo fato de que o Custo de Aquisição de Cliente (CAC) é normalmente mais alto que o custo para mantê-los. Ou seja, um alto valor para o *churn rate* é o que não desejamos."
      ]
    },
    {
      "cell_type": "markdown",
      "metadata": {
        "id": "0HVmpIxQWT4Y"
      },
      "source": [
        "## Aquisição dos Dados\n",
        "\n",
        "Os dados utilizados neste projeto foram originalmente disponibilizados na [plataforma de ensino da IBM Developer](https://developer.ibm.com/technologies/data-science/patterns/predict-customer-churn-using-watson-studio-and-jupyter-notebooks/#), e tratam de um problema típico de uma companhia de telecomunicações. O *dataset* completo pode ser encontrado [neste link](https://raw.githubusercontent.com/carlosfab/dsnp2/master/datasets/WA_Fn-UseC_-Telco-Customer-Churn.csv).\n",
        "\n",
        "Apesar de não haver informações explícitas disponíves, os nomes das colunas permitem um entendimento a respeito do problema."
      ]
    },
    {
      "cell_type": "code",
      "metadata": {
        "id": "_Zuw7p0Jcu_D"
      },
      "source": [
        "# instalar pacotes necessários\n",
        "! pip install -q scikit-plot"
      ],
      "execution_count": 1,
      "outputs": []
    },
    {
      "cell_type": "code",
      "metadata": {
        "colab": {
          "base_uri": "https://localhost:8080/",
          "height": 377
        },
        "id": "oQ4bNy7udtEE",
        "outputId": "103930a7-cefc-4e70-fc0d-641fc59703bf"
      },
      "source": [
        "# importar os pacotes necessários\n",
        "import pandas as pd\n",
        "import matplotlib.pyplot as plt\n",
        "import seaborn as sns\n",
        "import numpy as np\n",
        "import scikitplot as skplt\n",
        "from imblearn.under_sampling import RandomUnderSampler\n",
        "from imblearn.over_sampling import SMOTE, ADASYN\n",
        "from sklearn.model_selection import train_test_split, GridSearchCV\n",
        "from sklearn.model_selection import StratifiedKFold\n",
        "from sklearn.model_selection import cross_val_score\n",
        "from sklearn.pipeline import make_pipeline\n",
        "from sklearn.preprocessing import StandardScaler, RobustScaler\n",
        "from sklearn.preprocessing import QuantileTransformer, PowerTransformer\n",
        "from sklearn.preprocessing import LabelEncoder, OneHotEncoder\n",
        "from sklearn.metrics import confusion_matrix, classification_report\n",
        "from sklearn.metrics import roc_auc_score\n",
        "from sklearn.ensemble import VotingClassifier, RandomForestClassifier\n",
        "from sklearn.linear_model import LogisticRegression, SGDClassifier\n",
        "from sklearn.discriminant_analysis import LinearDiscriminantAnalysis\n",
        "from sklearn.neighbors import KNeighborsClassifier\n",
        "from sklearn.svm import SVC\n",
        "from xgboost import XGBClassifier\n",
        "\n",
        "# importar Warnings filter\n",
        "from warnings import simplefilter\n",
        "\n",
        "# ignorar futuros warnings\n",
        "simplefilter(action='ignore', category=FutureWarning)\n",
        "\n",
        "# configurar notebook\n",
        "sns.set_style('dark')\n",
        "\n",
        "# importar os dados\n",
        "DATA_PATH = \"https://raw.githubusercontent.com/carlosfab/dsnp2/master/datasets/WA_Fn-UseC_-Telco-Customer-Churn.csv\"\n",
        "df = pd.read_csv(DATA_PATH)\n",
        "\n",
        "# ver as 5 primeiras entradas\n",
        "df.head()"
      ],
      "execution_count": 2,
      "outputs": [
        {
          "output_type": "stream",
          "name": "stderr",
          "text": [
            "/usr/local/lib/python3.7/dist-packages/sklearn/externals/six.py:31: FutureWarning: The module is deprecated in version 0.21 and will be removed in version 0.23 since we've dropped support for Python 2.7. Please rely on the official version of six (https://pypi.org/project/six/).\n",
            "  \"(https://pypi.org/project/six/).\", FutureWarning)\n",
            "/usr/local/lib/python3.7/dist-packages/sklearn/utils/deprecation.py:144: FutureWarning: The sklearn.neighbors.base module is  deprecated in version 0.22 and will be removed in version 0.24. The corresponding classes / functions should instead be imported from sklearn.neighbors. Anything that cannot be imported from sklearn.neighbors is now part of the private API.\n",
            "  warnings.warn(message, FutureWarning)\n"
          ]
        },
        {
          "output_type": "execute_result",
          "data": {
            "text/html": [
              "<div>\n",
              "<style scoped>\n",
              "    .dataframe tbody tr th:only-of-type {\n",
              "        vertical-align: middle;\n",
              "    }\n",
              "\n",
              "    .dataframe tbody tr th {\n",
              "        vertical-align: top;\n",
              "    }\n",
              "\n",
              "    .dataframe thead th {\n",
              "        text-align: right;\n",
              "    }\n",
              "</style>\n",
              "<table border=\"1\" class=\"dataframe\">\n",
              "  <thead>\n",
              "    <tr style=\"text-align: right;\">\n",
              "      <th></th>\n",
              "      <th>customerID</th>\n",
              "      <th>gender</th>\n",
              "      <th>SeniorCitizen</th>\n",
              "      <th>Partner</th>\n",
              "      <th>Dependents</th>\n",
              "      <th>tenure</th>\n",
              "      <th>PhoneService</th>\n",
              "      <th>MultipleLines</th>\n",
              "      <th>InternetService</th>\n",
              "      <th>OnlineSecurity</th>\n",
              "      <th>OnlineBackup</th>\n",
              "      <th>DeviceProtection</th>\n",
              "      <th>TechSupport</th>\n",
              "      <th>StreamingTV</th>\n",
              "      <th>StreamingMovies</th>\n",
              "      <th>Contract</th>\n",
              "      <th>PaperlessBilling</th>\n",
              "      <th>PaymentMethod</th>\n",
              "      <th>MonthlyCharges</th>\n",
              "      <th>TotalCharges</th>\n",
              "      <th>Churn</th>\n",
              "    </tr>\n",
              "  </thead>\n",
              "  <tbody>\n",
              "    <tr>\n",
              "      <th>0</th>\n",
              "      <td>7590-VHVEG</td>\n",
              "      <td>Female</td>\n",
              "      <td>0</td>\n",
              "      <td>Yes</td>\n",
              "      <td>No</td>\n",
              "      <td>1</td>\n",
              "      <td>No</td>\n",
              "      <td>No phone service</td>\n",
              "      <td>DSL</td>\n",
              "      <td>No</td>\n",
              "      <td>Yes</td>\n",
              "      <td>No</td>\n",
              "      <td>No</td>\n",
              "      <td>No</td>\n",
              "      <td>No</td>\n",
              "      <td>Month-to-month</td>\n",
              "      <td>Yes</td>\n",
              "      <td>Electronic check</td>\n",
              "      <td>29.85</td>\n",
              "      <td>29.85</td>\n",
              "      <td>No</td>\n",
              "    </tr>\n",
              "    <tr>\n",
              "      <th>1</th>\n",
              "      <td>5575-GNVDE</td>\n",
              "      <td>Male</td>\n",
              "      <td>0</td>\n",
              "      <td>No</td>\n",
              "      <td>No</td>\n",
              "      <td>34</td>\n",
              "      <td>Yes</td>\n",
              "      <td>No</td>\n",
              "      <td>DSL</td>\n",
              "      <td>Yes</td>\n",
              "      <td>No</td>\n",
              "      <td>Yes</td>\n",
              "      <td>No</td>\n",
              "      <td>No</td>\n",
              "      <td>No</td>\n",
              "      <td>One year</td>\n",
              "      <td>No</td>\n",
              "      <td>Mailed check</td>\n",
              "      <td>56.95</td>\n",
              "      <td>1889.5</td>\n",
              "      <td>No</td>\n",
              "    </tr>\n",
              "    <tr>\n",
              "      <th>2</th>\n",
              "      <td>3668-QPYBK</td>\n",
              "      <td>Male</td>\n",
              "      <td>0</td>\n",
              "      <td>No</td>\n",
              "      <td>No</td>\n",
              "      <td>2</td>\n",
              "      <td>Yes</td>\n",
              "      <td>No</td>\n",
              "      <td>DSL</td>\n",
              "      <td>Yes</td>\n",
              "      <td>Yes</td>\n",
              "      <td>No</td>\n",
              "      <td>No</td>\n",
              "      <td>No</td>\n",
              "      <td>No</td>\n",
              "      <td>Month-to-month</td>\n",
              "      <td>Yes</td>\n",
              "      <td>Mailed check</td>\n",
              "      <td>53.85</td>\n",
              "      <td>108.15</td>\n",
              "      <td>Yes</td>\n",
              "    </tr>\n",
              "    <tr>\n",
              "      <th>3</th>\n",
              "      <td>7795-CFOCW</td>\n",
              "      <td>Male</td>\n",
              "      <td>0</td>\n",
              "      <td>No</td>\n",
              "      <td>No</td>\n",
              "      <td>45</td>\n",
              "      <td>No</td>\n",
              "      <td>No phone service</td>\n",
              "      <td>DSL</td>\n",
              "      <td>Yes</td>\n",
              "      <td>No</td>\n",
              "      <td>Yes</td>\n",
              "      <td>Yes</td>\n",
              "      <td>No</td>\n",
              "      <td>No</td>\n",
              "      <td>One year</td>\n",
              "      <td>No</td>\n",
              "      <td>Bank transfer (automatic)</td>\n",
              "      <td>42.30</td>\n",
              "      <td>1840.75</td>\n",
              "      <td>No</td>\n",
              "    </tr>\n",
              "    <tr>\n",
              "      <th>4</th>\n",
              "      <td>9237-HQITU</td>\n",
              "      <td>Female</td>\n",
              "      <td>0</td>\n",
              "      <td>No</td>\n",
              "      <td>No</td>\n",
              "      <td>2</td>\n",
              "      <td>Yes</td>\n",
              "      <td>No</td>\n",
              "      <td>Fiber optic</td>\n",
              "      <td>No</td>\n",
              "      <td>No</td>\n",
              "      <td>No</td>\n",
              "      <td>No</td>\n",
              "      <td>No</td>\n",
              "      <td>No</td>\n",
              "      <td>Month-to-month</td>\n",
              "      <td>Yes</td>\n",
              "      <td>Electronic check</td>\n",
              "      <td>70.70</td>\n",
              "      <td>151.65</td>\n",
              "      <td>Yes</td>\n",
              "    </tr>\n",
              "  </tbody>\n",
              "</table>\n",
              "</div>"
            ],
            "text/plain": [
              "   customerID  gender  SeniorCitizen  ... MonthlyCharges TotalCharges  Churn\n",
              "0  7590-VHVEG  Female              0  ...          29.85        29.85     No\n",
              "1  5575-GNVDE    Male              0  ...          56.95       1889.5     No\n",
              "2  3668-QPYBK    Male              0  ...          53.85       108.15    Yes\n",
              "3  7795-CFOCW    Male              0  ...          42.30      1840.75     No\n",
              "4  9237-HQITU  Female              0  ...          70.70       151.65    Yes\n",
              "\n",
              "[5 rows x 21 columns]"
            ]
          },
          "metadata": {},
          "execution_count": 2
        }
      ]
    },
    {
      "cell_type": "markdown",
      "metadata": {
        "id": "D6AoKzPCKY9c"
      },
      "source": [
        "Esse foi um dos projetos mais extensos que já fiz e por isso vou mostrar como ficou dividido, assim você (leitor) pode ir direto até a parte que lhe interessa.\n",
        "\n",
        "O projeto ficou dividido da seguinte forma: \n",
        "\n",
        "\n",
        "*   Análise Exploratória\n",
        "\n",
        "*   Limpeza dos Dados\n",
        "\n",
        "*   Processamento dos Dados com Label Encoder e Get Dummies\n",
        "\n",
        "*   Preparação dos Dados\n",
        "\n",
        "  * Padronização e Balanceamento dos dados\n",
        "\n",
        "      * Balanceamento com Random UnderSampling \n",
        "\n",
        "      * Balanceamento com OverSampling SMOTE\n",
        "\n",
        "      * Balanceamento com OverSampling ADASYN\n",
        "\n",
        "  * Avaliando Modelos com Cross-Validation (Dados Balanceados e Padronizados)\n",
        "\n",
        "  * Balanceamento RUS\n",
        "      \n",
        "      * StandardScaler\n",
        "      \n",
        "      * RobustScaler\n",
        "\n",
        "      * Quantile Transformer\n",
        "\n",
        "      * Quantile Transformer-Uniform\n",
        "\n",
        "      * PowerTransformer\n",
        "\n",
        "  * Balanceamento SMOTE\n",
        "\n",
        "  * Balanceamento ADASYN\n",
        "\n",
        "  * Definindo Modelos para o Balanceamento RUS\n",
        "      \n",
        "      * LinearDiscriminantAnalysis\n",
        "\n",
        "      * SVC\n",
        "\n",
        "      * XGBoost\n",
        "\n",
        "  * Método Ensemble para os Modelos do Balanceamento RUS\n",
        "      \n",
        "      * Voting Classifier (RUS)\n",
        "\n",
        "  * Definindo Modelos para o Balanceamento SMOTE\n",
        "      \n",
        "      * Random Forest\n",
        "\n",
        "      * XGBoost\n",
        "\n",
        "      * LinearDiscriminantAnalysis\n",
        "\n",
        "  * Método Ensemble para os Modelos do Balanceamento SMOTE\n",
        "      \n",
        "      * Voting Classifier (SMOTE)\n",
        "\n",
        "  * Definindo Modelos para o Balanceamento ADASYN\n",
        "      \n",
        "      * Random Forest\n",
        "\n",
        "      * XGBoost\n",
        "\n",
        "      * LinearDiscriminantAnalysis\n",
        "\n",
        "  * Método Ensemble para os Modelos do Balanceamento ADASYN\n",
        "      \n",
        "      * Voting Classifier (ADASYN)\n",
        "\n",
        "* Conclusão\n",
        "\n",
        "Primeiro, vamos aprender o que é churn, de forama geral o churn é o número de clientes que cancelam um serviço em um determinado período de tempo, afim de solucionar ou ameinzar essa número, as empresas podem utilizar modelos de machine learning para prever se um cliente pretende ou não cancelar o serviço.\n",
        "\n",
        "Os modelos de machine learning presentes no projeto, têm o objettivo de auxiliar empresas a lidar com o churn. Para isso, foram construídos modelos de aprendizagem supervisionada, como métrica para validação usamos o **recall** e para sabermos a perfomance minima esperada, podemos usar o **AUC (Área sob a Curva)**, sendo este necessário um score de **ao menos 0.70**.\n",
        "\n",
        "\n",
        "\n"
      ]
    },
    {
      "cell_type": "markdown",
      "metadata": {
        "id": "542MqNwadeg3"
      },
      "source": [
        "# Análise Exploratória\n",
        "\n",
        "Vamos começar nossa análise imprimindo as dimensões do DataFrame, após isso checar o nome das colunas e seus respectivos tipos de dados e também realizar uma checagem de quantos valores **únicos** temos por coluna. Sabendo a quantidade de valores únicos por coluna, podemos identificar colunas que podem ou não ser categóricas."
      ]
    },
    {
      "cell_type": "code",
      "metadata": {
        "colab": {
          "base_uri": "https://localhost:8080/"
        },
        "id": "c1uUEjKOctBk",
        "outputId": "f5165959-55d5-4c06-a81b-03b2f9cbf7ef"
      },
      "source": [
        "# Checar as dimensões do DataFrame\n",
        "print(f'O DataFrame possui {df.shape[0]} entradas e {df.shape[1]} colunas.')\n",
        "\n",
        "# Checar o nome das colunas\n",
        "print(f'\\nNome das Colunas:\\n{df.columns.values}')\n",
        "\n",
        "# Checar o tipo de dados (por coluna)\n",
        "print(f'\\nTipos de dados (por coluna)\\n{df.dtypes}')\n",
        "\n",
        "# Checar os valores únicos por coluna\n",
        "print(f'\\nValores únicos (por coluna)\\n{df.nunique()}')\n"
      ],
      "execution_count": 3,
      "outputs": [
        {
          "output_type": "stream",
          "name": "stdout",
          "text": [
            "O DataFrame possui 7043 entradas e 21 colunas.\n",
            "\n",
            "Nome das Colunas:\n",
            "['customerID' 'gender' 'SeniorCitizen' 'Partner' 'Dependents' 'tenure'\n",
            " 'PhoneService' 'MultipleLines' 'InternetService' 'OnlineSecurity'\n",
            " 'OnlineBackup' 'DeviceProtection' 'TechSupport' 'StreamingTV'\n",
            " 'StreamingMovies' 'Contract' 'PaperlessBilling' 'PaymentMethod'\n",
            " 'MonthlyCharges' 'TotalCharges' 'Churn']\n",
            "\n",
            "Tipos de dados (por coluna)\n",
            "customerID           object\n",
            "gender               object\n",
            "SeniorCitizen         int64\n",
            "Partner              object\n",
            "Dependents           object\n",
            "tenure                int64\n",
            "PhoneService         object\n",
            "MultipleLines        object\n",
            "InternetService      object\n",
            "OnlineSecurity       object\n",
            "OnlineBackup         object\n",
            "DeviceProtection     object\n",
            "TechSupport          object\n",
            "StreamingTV          object\n",
            "StreamingMovies      object\n",
            "Contract             object\n",
            "PaperlessBilling     object\n",
            "PaymentMethod        object\n",
            "MonthlyCharges      float64\n",
            "TotalCharges         object\n",
            "Churn                object\n",
            "dtype: object\n",
            "\n",
            "Valores únicos (por coluna)\n",
            "customerID          7043\n",
            "gender                 2\n",
            "SeniorCitizen          2\n",
            "Partner                2\n",
            "Dependents             2\n",
            "tenure                73\n",
            "PhoneService           2\n",
            "MultipleLines          3\n",
            "InternetService        3\n",
            "OnlineSecurity         3\n",
            "OnlineBackup           3\n",
            "DeviceProtection       3\n",
            "TechSupport            3\n",
            "StreamingTV            3\n",
            "StreamingMovies        3\n",
            "Contract               3\n",
            "PaperlessBilling       2\n",
            "PaymentMethod          4\n",
            "MonthlyCharges      1585\n",
            "TotalCharges        6531\n",
            "Churn                  2\n",
            "dtype: int64\n"
          ]
        }
      ]
    },
    {
      "cell_type": "markdown",
      "metadata": {
        "id": "HbvGRERmTlv6"
      },
      "source": [
        "Para uma análise bem feita é necessário também checar a quantidade de dados ausentes."
      ]
    },
    {
      "cell_type": "code",
      "metadata": {
        "colab": {
          "base_uri": "https://localhost:8080/"
        },
        "id": "gZK-BYJsc3er",
        "outputId": "ac4d879e-89b8-4e81-bbb6-8c0e1525f5ca"
      },
      "source": [
        "# Checar a quantidade de dados ausentes\n",
        "print(f'Porcentagem de dados ausentes:\\t\\n{df.isnull().sum() / df.shape[0]}')"
      ],
      "execution_count": 4,
      "outputs": [
        {
          "output_type": "stream",
          "name": "stdout",
          "text": [
            "Porcentagem de dados ausentes:\t\n",
            "customerID          0.0\n",
            "gender              0.0\n",
            "SeniorCitizen       0.0\n",
            "Partner             0.0\n",
            "Dependents          0.0\n",
            "tenure              0.0\n",
            "PhoneService        0.0\n",
            "MultipleLines       0.0\n",
            "InternetService     0.0\n",
            "OnlineSecurity      0.0\n",
            "OnlineBackup        0.0\n",
            "DeviceProtection    0.0\n",
            "TechSupport         0.0\n",
            "StreamingTV         0.0\n",
            "StreamingMovies     0.0\n",
            "Contract            0.0\n",
            "PaperlessBilling    0.0\n",
            "PaymentMethod       0.0\n",
            "MonthlyCharges      0.0\n",
            "TotalCharges        0.0\n",
            "Churn               0.0\n",
            "dtype: float64\n"
          ]
        }
      ]
    },
    {
      "cell_type": "markdown",
      "metadata": {
        "id": "mMFzQT1LRsJw"
      },
      "source": [
        "Note que existem algumas observações a serem feitas:\n",
        "\n",
        "* A coluna `customerID` é insignificante para a análise, uma vez que apenas nos fornece o identificador de cada cliente.\n",
        "\n",
        "* A variável alvo está presente na coluna `Churn`, ela indica se o cliente cancelou ou não o serviço.\n",
        "\n",
        "* A coluna `TotalCharges` assim como a coluna `MonthlyCharges`, apresenta valores flutuantes, mas está com como string uma vez que seu tipo de dado deveria ser `flaot`.\n",
        "\n",
        "* Diversas colunas vão precisar de um trabalho de codificação, transformando-as em valores numéricos.\n",
        "\n",
        "* Apesar do nosso código retornar que não há valores ausentes, pode ser que algumas strings representem valores ausentes.\n",
        "\n"
      ]
    },
    {
      "cell_type": "markdown",
      "metadata": {
        "id": "d-l7J6fCLEFq"
      },
      "source": [
        "# Limpeza dos Dados"
      ]
    },
    {
      "cell_type": "markdown",
      "metadata": {
        "id": "kGIfbsbnUDTV"
      },
      "source": [
        "Anteriormente foi dito que a coluna `TotalCharges` deveria ser apresentada como `flaot`, mas estava sendo apresentada como uma string. \n",
        "\n",
        "Devido a isso, fui obrigado a usar um método mais complexo para converter a coluna, pois ao usar \n",
        "`df[TotalCharges].astype('float32')` é retornado um erro.\n",
        "\n",
        "O erro em questão acontece devido ao dados ausentes terem sido preenchidos com `\"\"`. Uma vez que tentamos converter `\"\"` para float, o interpretador nos retorna um erro.\n",
        "\n",
        "Para contornar esse erro e converter de forma adequada foi criada uma função para lidar com o erro. Consequentemente, foi possível identificar valores ausentes, que logo foram preenchidos com o valor da mediana da coluna.\n",
        "\n",
        "Também foi excluída a coluna `customerID`, uma vez que é desnecessária para o projeto."
      ]
    },
    {
      "cell_type": "code",
      "metadata": {
        "colab": {
          "base_uri": "https://localhost:8080/"
        },
        "id": "lP2aldTPZGW-",
        "outputId": "b950fb6f-a8fb-42b2-8439-04e60b3a30d5"
      },
      "source": [
        "def str_to_float(entrada):\n",
        "  \"\"\"\n",
        "  Converte um objeto do tipo string em float.\n",
        "\n",
        "   Caso seja possível a string sera convertida em float\n",
        "   \n",
        "   Se a conversão no for permitida, a string é convertida em um valor NaN\n",
        "  \"\"\"\n",
        "  \n",
        "  try:\n",
        "    return float(entrada)\n",
        "  except ValueError:\n",
        "    return np.nan\n",
        "\n",
        "# Criar cópia do DataFrame\n",
        "df_clean = df.copy()\n",
        "\n",
        "# Excluir a coluna customerID\n",
        "df_clean.drop('customerID', axis=1, inplace=True)\n",
        "\n",
        "# Aplicando a função de conversão \n",
        "df_clean['TotalCharges'] = df_clean['TotalCharges'].apply(str_to_float)\n",
        "\n",
        "# Mostrar a quantidade de dados ausentes antes do preenchimento\n",
        "print('Dados ausentes em \"TotalCharges\" antes de preencher os dados: {}'.format(df_clean['TotalCharges'].isnull().sum()))\n",
        "\n",
        "# Preencher os dados ausentes com o valor da mediana da coluna\n",
        "total_charges_median = df_clean.TotalCharges.median()\n",
        "df_clean['TotalCharges'].fillna(total_charges_median, inplace=True)"
      ],
      "execution_count": 5,
      "outputs": [
        {
          "output_type": "stream",
          "name": "stdout",
          "text": [
            "Dados ausentes em \"TotalCharges\" antes de preencher os dados: 11\n"
          ]
        }
      ]
    },
    {
      "cell_type": "markdown",
      "metadata": {
        "id": "0iRodTXIc6Ze"
      },
      "source": [
        "Apesar de o DataFrame ser majoritariamente de variáveis categóricas, possuímos algumas variáves numéricas que com o método `describe` é possível notar que não há a presença de outliers."
      ]
    },
    {
      "cell_type": "code",
      "metadata": {
        "colab": {
          "base_uri": "https://localhost:8080/",
          "height": 297
        },
        "id": "HLtoppTQc7db",
        "outputId": "aecff9a6-689f-4caa-cc90-7972b4843043"
      },
      "source": [
        "df_clean.describe()"
      ],
      "execution_count": 6,
      "outputs": [
        {
          "output_type": "execute_result",
          "data": {
            "text/html": [
              "<div>\n",
              "<style scoped>\n",
              "    .dataframe tbody tr th:only-of-type {\n",
              "        vertical-align: middle;\n",
              "    }\n",
              "\n",
              "    .dataframe tbody tr th {\n",
              "        vertical-align: top;\n",
              "    }\n",
              "\n",
              "    .dataframe thead th {\n",
              "        text-align: right;\n",
              "    }\n",
              "</style>\n",
              "<table border=\"1\" class=\"dataframe\">\n",
              "  <thead>\n",
              "    <tr style=\"text-align: right;\">\n",
              "      <th></th>\n",
              "      <th>SeniorCitizen</th>\n",
              "      <th>tenure</th>\n",
              "      <th>MonthlyCharges</th>\n",
              "      <th>TotalCharges</th>\n",
              "    </tr>\n",
              "  </thead>\n",
              "  <tbody>\n",
              "    <tr>\n",
              "      <th>count</th>\n",
              "      <td>7043.000000</td>\n",
              "      <td>7043.000000</td>\n",
              "      <td>7043.000000</td>\n",
              "      <td>7043.000000</td>\n",
              "    </tr>\n",
              "    <tr>\n",
              "      <th>mean</th>\n",
              "      <td>0.162147</td>\n",
              "      <td>32.371149</td>\n",
              "      <td>64.761692</td>\n",
              "      <td>2281.916928</td>\n",
              "    </tr>\n",
              "    <tr>\n",
              "      <th>std</th>\n",
              "      <td>0.368612</td>\n",
              "      <td>24.559481</td>\n",
              "      <td>30.090047</td>\n",
              "      <td>2265.270398</td>\n",
              "    </tr>\n",
              "    <tr>\n",
              "      <th>min</th>\n",
              "      <td>0.000000</td>\n",
              "      <td>0.000000</td>\n",
              "      <td>18.250000</td>\n",
              "      <td>18.800000</td>\n",
              "    </tr>\n",
              "    <tr>\n",
              "      <th>25%</th>\n",
              "      <td>0.000000</td>\n",
              "      <td>9.000000</td>\n",
              "      <td>35.500000</td>\n",
              "      <td>402.225000</td>\n",
              "    </tr>\n",
              "    <tr>\n",
              "      <th>50%</th>\n",
              "      <td>0.000000</td>\n",
              "      <td>29.000000</td>\n",
              "      <td>70.350000</td>\n",
              "      <td>1397.475000</td>\n",
              "    </tr>\n",
              "    <tr>\n",
              "      <th>75%</th>\n",
              "      <td>0.000000</td>\n",
              "      <td>55.000000</td>\n",
              "      <td>89.850000</td>\n",
              "      <td>3786.600000</td>\n",
              "    </tr>\n",
              "    <tr>\n",
              "      <th>max</th>\n",
              "      <td>1.000000</td>\n",
              "      <td>72.000000</td>\n",
              "      <td>118.750000</td>\n",
              "      <td>8684.800000</td>\n",
              "    </tr>\n",
              "  </tbody>\n",
              "</table>\n",
              "</div>"
            ],
            "text/plain": [
              "       SeniorCitizen       tenure  MonthlyCharges  TotalCharges\n",
              "count    7043.000000  7043.000000     7043.000000   7043.000000\n",
              "mean        0.162147    32.371149       64.761692   2281.916928\n",
              "std         0.368612    24.559481       30.090047   2265.270398\n",
              "min         0.000000     0.000000       18.250000     18.800000\n",
              "25%         0.000000     9.000000       35.500000    402.225000\n",
              "50%         0.000000    29.000000       70.350000   1397.475000\n",
              "75%         0.000000    55.000000       89.850000   3786.600000\n",
              "max         1.000000    72.000000      118.750000   8684.800000"
            ]
          },
          "metadata": {},
          "execution_count": 6
        }
      ]
    },
    {
      "cell_type": "markdown",
      "metadata": {
        "id": "_ssJl1M1XDsQ"
      },
      "source": [
        "É possível confirmar a falta de outliers quando analisamos os boxplots das colunas `MonthlyCharges` e `TotalCharges`, uma vez que mesmo sem definirmos limites não foi encontrado nenhum plot fora dos limites."
      ]
    },
    {
      "cell_type": "code",
      "metadata": {
        "colab": {
          "base_uri": "https://localhost:8080/",
          "height": 369
        },
        "id": "HuJ2WWVlc_j9",
        "outputId": "6001e7e1-47cf-4548-d0c7-84919bedc297"
      },
      "source": [
        "fig , ax = plt.subplots(nrows=1, ncols=2, figsize=(15,5))\n",
        "sns.boxplot(df_clean['MonthlyCharges'], ax=ax[0])\n",
        "sns.boxplot(df_clean['TotalCharges'], ax=ax[1])\n",
        "\n",
        "plt.tight_layout();"
      ],
      "execution_count": 7,
      "outputs": [
        {
          "output_type": "display_data",
          "data": {
            "image/png": "[encoded data removed]",
            "text/plain": [
              "<Figure size 1080x360 with 2 Axes>"
            ]
          },
          "metadata": {}
        }
      ]
    },
    {
      "cell_type": "markdown",
      "metadata": {
        "id": "ifnyw_r3dFse"
      },
      "source": [
        "Para termos uma noção de quanto tempo um cliente permanece no serviço, podemos verificar essa \"Fidelidade\" plotando um gráfico de barras da varáivel `tenure`, que provavelmente usa como unidade de tempo o \"mês\"."
      ]
    },
    {
      "cell_type": "code",
      "metadata": {
        "colab": {
          "base_uri": "https://localhost:8080/",
          "height": 350
        },
        "id": "uriJi5KgdDn2",
        "outputId": "c2c0c389-3649-425e-c99c-4458861333d6"
      },
      "source": [
        "# Plotar o gráfico\n",
        "fig, ax = plt.subplots(figsize=(20, 5))\n",
        "sns.countplot(df_clean['tenure'], data=df_clean, palette='Spectral', ax=ax)\n",
        "\n",
        "# Definir legendas para o gráfico\n",
        "ax.set_title('Tempo de assinatura dos Clientes')\n",
        "ax.set_ylabel('Quantidade de Clientes')\n",
        "ax.set_xlabel('Tempo (Meses)')\n",
        "\n",
        "plt.show();"
      ],
      "execution_count": 8,
      "outputs": [
        {
          "output_type": "display_data",
          "data": {
            "image/png": "[encoded data removed]",
            "text/plain": [
              "<Figure size 1440x360 with 1 Axes>"
            ]
          },
          "metadata": {}
        }
      ]
    },
    {
      "cell_type": "markdown",
      "metadata": {
        "id": "uE2cSsYdX-IH"
      },
      "source": [
        "Ao lidar com variáveis categóricas, se torna necessário identificar os valores únicos. \n",
        "\n",
        "Abaixo podemos ver que existem valores que podem ser unificados, como por exemplo:\n",
        "* `No`\n",
        "\n",
        "* `No phone service`\n",
        "\n",
        "* `No internet service`.\n",
        "\n",
        "Para isso, irei apenas definir os valores como No, assim os não teremos valores que representam a mesma coisa."
      ]
    },
    {
      "cell_type": "code",
      "metadata": {
        "colab": {
          "base_uri": "https://localhost:8080/"
        },
        "id": "x6TH6SNx2bsm",
        "outputId": "604d753d-c114-4611-ed9d-91e0a7634f30"
      },
      "source": [
        "# verificar valroes unicos para variaveis categoricas\n",
        "np.unique(df_clean.select_dtypes('object').values)"
      ],
      "execution_count": 9,
      "outputs": [
        {
          "output_type": "execute_result",
          "data": {
            "text/plain": [
              "array(['Bank transfer (automatic)', 'Credit card (automatic)', 'DSL',\n",
              "       'Electronic check', 'Female', 'Fiber optic', 'Mailed check',\n",
              "       'Male', 'Month-to-month', 'No', 'No internet service',\n",
              "       'No phone service', 'One year', 'Two year', 'Yes'], dtype=object)"
            ]
          },
          "metadata": {},
          "execution_count": 9
        }
      ]
    },
    {
      "cell_type": "code",
      "metadata": {
        "id": "-tC4q04i5t5U"
      },
      "source": [
        "# Substituindo \"No phone service\" e \"No internet service\" por \"No\"\n",
        "df_clean.replace({'No internet service': 'No'}, regex=True, inplace=True)\n",
        "df_clean.replace({'No phone service': 'No'}, regex=True, inplace=True)"
      ],
      "execution_count": 10,
      "outputs": []
    },
    {
      "cell_type": "code",
      "metadata": {
        "colab": {
          "base_uri": "https://localhost:8080/"
        },
        "id": "zx6F-cL47ZO8",
        "outputId": "6531c45c-1760-4196-8be7-047d3c25e55a"
      },
      "source": [
        "# Checando a mudança nos valores únicos\n",
        "np.unique(df_clean.select_dtypes('object').values)"
      ],
      "execution_count": 11,
      "outputs": [
        {
          "output_type": "execute_result",
          "data": {
            "text/plain": [
              "array(['Bank transfer (automatic)', 'Credit card (automatic)', 'DSL',\n",
              "       'Electronic check', 'Female', 'Fiber optic', 'Mailed check',\n",
              "       'Male', 'Month-to-month', 'No', 'One year', 'Two year', 'Yes'],\n",
              "      dtype=object)"
            ]
          },
          "metadata": {},
          "execution_count": 11
        }
      ]
    },
    {
      "cell_type": "markdown",
      "metadata": {
        "id": "M40z6-04LtJA"
      },
      "source": [
        "Para concluir a análise exploratória, vou verificar o balancemanto das classes.\n",
        "\n",
        "É notável a diferença entre as classes, uma vez que a classe `No` ocorre com frequência superior à classe `Yes`. Para obtermos melhores resultados com nossos modelos de Machine Learning é necessário fazer o balanceamento das classes, isso será feito ao decorrer do projeto."
      ]
    },
    {
      "cell_type": "code",
      "metadata": {
        "colab": {
          "base_uri": "https://localhost:8080/",
          "height": 381
        },
        "id": "zpKt2y16dGrp",
        "outputId": "88a50cb7-2fcc-4847-81e0-d7dcbb17771b"
      },
      "source": [
        "# Plotar gráfico das classes\n",
        "print(df_clean.Churn.value_counts())\n",
        "print('\\nChurns representam {:.4f}% do dataset.\\n'.format((df_clean[df_clean.Churn == \"Yes\"].shape[0] / df.shape[0]) * 100))\n",
        "\n",
        "sns.countplot(df_clean.Churn)\n",
        "plt.show();"
      ],
      "execution_count": 12,
      "outputs": [
        {
          "output_type": "stream",
          "name": "stdout",
          "text": [
            "No     5174\n",
            "Yes    1869\n",
            "Name: Churn, dtype: int64\n",
            "\n",
            "Churns representam 26.5370% do dataset.\n",
            "\n"
          ]
        },
        {
          "output_type": "display_data",
          "data": {
            "image/png": "[encoded data removed]",
            "text/plain": [
              "<Figure size 432x288 with 1 Axes>"
            ]
          },
          "metadata": {}
        }
      ]
    },
    {
      "cell_type": "markdown",
      "metadata": {
        "id": "DNUtlsrFdQUB"
      },
      "source": [
        "# Processamento dos Dados com Label Encoder e Get Dummies\n",
        "\n",
        "Nesta etapa é necessário um pré-processamento dos dados. As colunas binárias (que possuem apenas dois valores únicos), serão processadas usando o `LabelEncoder`, incluindo a variável alvo `Churn`.\n",
        "\n",
        "Em seguida, as variáveis serão separadas em categóricas e numéricas, onde as variáveis categóricas serão tratadas com o `getDummies`, assim poderão ser utilizadas em todos os modelos."
      ]
    },
    {
      "cell_type": "code",
      "metadata": {
        "colab": {
          "base_uri": "https://localhost:8080/",
          "height": 258
        },
        "id": "cMbEO_bi-8tA",
        "outputId": "c18e6a6d-565b-46e4-e7c6-77270f1b5cae"
      },
      "source": [
        "variaveis_binarias = df_clean.nunique()[df_clean.nunique() == 2].keys().tolist()\n",
        "variaveis_numericas = [col for col in df_clean.select_dtypes(['int', 'float']).columns.tolist() if col not in variaveis_binarias]\n",
        "variaveis_categoricas = [col for col in df_clean.columns.tolist() if col not in variaveis_binarias + variaveis_numericas]\n",
        "\n",
        "df_clean_proc = df_clean.copy()\n",
        "\n",
        "le = LabelEncoder()\n",
        "for i in variaveis_binarias:\n",
        "  df_clean_proc[i] = le.fit_transform(df_clean_proc[i])\n",
        "\n",
        "df_clean_proc = pd.get_dummies(df_clean_proc, columns=variaveis_categoricas)\n",
        "\n",
        "df_clean_proc.head()"
      ],
      "execution_count": 13,
      "outputs": [
        {
          "output_type": "execute_result",
          "data": {
            "text/html": [
              "<div>\n",
              "<style scoped>\n",
              "    .dataframe tbody tr th:only-of-type {\n",
              "        vertical-align: middle;\n",
              "    }\n",
              "\n",
              "    .dataframe tbody tr th {\n",
              "        vertical-align: top;\n",
              "    }\n",
              "\n",
              "    .dataframe thead th {\n",
              "        text-align: right;\n",
              "    }\n",
              "</style>\n",
              "<table border=\"1\" class=\"dataframe\">\n",
              "  <thead>\n",
              "    <tr style=\"text-align: right;\">\n",
              "      <th></th>\n",
              "      <th>gender</th>\n",
              "      <th>SeniorCitizen</th>\n",
              "      <th>Partner</th>\n",
              "      <th>Dependents</th>\n",
              "      <th>tenure</th>\n",
              "      <th>PhoneService</th>\n",
              "      <th>MultipleLines</th>\n",
              "      <th>OnlineSecurity</th>\n",
              "      <th>OnlineBackup</th>\n",
              "      <th>DeviceProtection</th>\n",
              "      <th>TechSupport</th>\n",
              "      <th>StreamingTV</th>\n",
              "      <th>StreamingMovies</th>\n",
              "      <th>PaperlessBilling</th>\n",
              "      <th>MonthlyCharges</th>\n",
              "      <th>TotalCharges</th>\n",
              "      <th>Churn</th>\n",
              "      <th>InternetService_DSL</th>\n",
              "      <th>InternetService_Fiber optic</th>\n",
              "      <th>InternetService_No</th>\n",
              "      <th>Contract_Month-to-month</th>\n",
              "      <th>Contract_One year</th>\n",
              "      <th>Contract_Two year</th>\n",
              "      <th>PaymentMethod_Bank transfer (automatic)</th>\n",
              "      <th>PaymentMethod_Credit card (automatic)</th>\n",
              "      <th>PaymentMethod_Electronic check</th>\n",
              "      <th>PaymentMethod_Mailed check</th>\n",
              "    </tr>\n",
              "  </thead>\n",
              "  <tbody>\n",
              "    <tr>\n",
              "      <th>0</th>\n",
              "      <td>0</td>\n",
              "      <td>0</td>\n",
              "      <td>1</td>\n",
              "      <td>0</td>\n",
              "      <td>1</td>\n",
              "      <td>0</td>\n",
              "      <td>0</td>\n",
              "      <td>0</td>\n",
              "      <td>1</td>\n",
              "      <td>0</td>\n",
              "      <td>0</td>\n",
              "      <td>0</td>\n",
              "      <td>0</td>\n",
              "      <td>1</td>\n",
              "      <td>29.85</td>\n",
              "      <td>29.85</td>\n",
              "      <td>0</td>\n",
              "      <td>1</td>\n",
              "      <td>0</td>\n",
              "      <td>0</td>\n",
              "      <td>1</td>\n",
              "      <td>0</td>\n",
              "      <td>0</td>\n",
              "      <td>0</td>\n",
              "      <td>0</td>\n",
              "      <td>1</td>\n",
              "      <td>0</td>\n",
              "    </tr>\n",
              "    <tr>\n",
              "      <th>1</th>\n",
              "      <td>1</td>\n",
              "      <td>0</td>\n",
              "      <td>0</td>\n",
              "      <td>0</td>\n",
              "      <td>34</td>\n",
              "      <td>1</td>\n",
              "      <td>0</td>\n",
              "      <td>1</td>\n",
              "      <td>0</td>\n",
              "      <td>1</td>\n",
              "      <td>0</td>\n",
              "      <td>0</td>\n",
              "      <td>0</td>\n",
              "      <td>0</td>\n",
              "      <td>56.95</td>\n",
              "      <td>1889.50</td>\n",
              "      <td>0</td>\n",
              "      <td>1</td>\n",
              "      <td>0</td>\n",
              "      <td>0</td>\n",
              "      <td>0</td>\n",
              "      <td>1</td>\n",
              "      <td>0</td>\n",
              "      <td>0</td>\n",
              "      <td>0</td>\n",
              "      <td>0</td>\n",
              "      <td>1</td>\n",
              "    </tr>\n",
              "    <tr>\n",
              "      <th>2</th>\n",
              "      <td>1</td>\n",
              "      <td>0</td>\n",
              "      <td>0</td>\n",
              "      <td>0</td>\n",
              "      <td>2</td>\n",
              "      <td>1</td>\n",
              "      <td>0</td>\n",
              "      <td>1</td>\n",
              "      <td>1</td>\n",
              "      <td>0</td>\n",
              "      <td>0</td>\n",
              "      <td>0</td>\n",
              "      <td>0</td>\n",
              "      <td>1</td>\n",
              "      <td>53.85</td>\n",
              "      <td>108.15</td>\n",
              "      <td>1</td>\n",
              "      <td>1</td>\n",
              "      <td>0</td>\n",
              "      <td>0</td>\n",
              "      <td>1</td>\n",
              "      <td>0</td>\n",
              "      <td>0</td>\n",
              "      <td>0</td>\n",
              "      <td>0</td>\n",
              "      <td>0</td>\n",
              "      <td>1</td>\n",
              "    </tr>\n",
              "    <tr>\n",
              "      <th>3</th>\n",
              "      <td>1</td>\n",
              "      <td>0</td>\n",
              "      <td>0</td>\n",
              "      <td>0</td>\n",
              "      <td>45</td>\n",
              "      <td>0</td>\n",
              "      <td>0</td>\n",
              "      <td>1</td>\n",
              "      <td>0</td>\n",
              "      <td>1</td>\n",
              "      <td>1</td>\n",
              "      <td>0</td>\n",
              "      <td>0</td>\n",
              "      <td>0</td>\n",
              "      <td>42.30</td>\n",
              "      <td>1840.75</td>\n",
              "      <td>0</td>\n",
              "      <td>1</td>\n",
              "      <td>0</td>\n",
              "      <td>0</td>\n",
              "      <td>0</td>\n",
              "      <td>1</td>\n",
              "      <td>0</td>\n",
              "      <td>1</td>\n",
              "      <td>0</td>\n",
              "      <td>0</td>\n",
              "      <td>0</td>\n",
              "    </tr>\n",
              "    <tr>\n",
              "      <th>4</th>\n",
              "      <td>0</td>\n",
              "      <td>0</td>\n",
              "      <td>0</td>\n",
              "      <td>0</td>\n",
              "      <td>2</td>\n",
              "      <td>1</td>\n",
              "      <td>0</td>\n",
              "      <td>0</td>\n",
              "      <td>0</td>\n",
              "      <td>0</td>\n",
              "      <td>0</td>\n",
              "      <td>0</td>\n",
              "      <td>0</td>\n",
              "      <td>1</td>\n",
              "      <td>70.70</td>\n",
              "      <td>151.65</td>\n",
              "      <td>1</td>\n",
              "      <td>0</td>\n",
              "      <td>1</td>\n",
              "      <td>0</td>\n",
              "      <td>1</td>\n",
              "      <td>0</td>\n",
              "      <td>0</td>\n",
              "      <td>0</td>\n",
              "      <td>0</td>\n",
              "      <td>1</td>\n",
              "      <td>0</td>\n",
              "    </tr>\n",
              "  </tbody>\n",
              "</table>\n",
              "</div>"
            ],
            "text/plain": [
              "   gender  ...  PaymentMethod_Mailed check\n",
              "0       0  ...                           0\n",
              "1       1  ...                           1\n",
              "2       1  ...                           1\n",
              "3       1  ...                           0\n",
              "4       0  ...                           0\n",
              "\n",
              "[5 rows x 27 columns]"
            ]
          },
          "metadata": {},
          "execution_count": 13
        }
      ]
    },
    {
      "cell_type": "markdown",
      "metadata": {
        "id": "SOAItkZWdIsp"
      },
      "source": [
        "É possível notar que mesmo sem fazer um balanceamento dos dados e uma padronização, temos uma boa correlação entre algumas variáveis, que possivelmente ficará ainda melhor após estes processos."
      ]
    },
    {
      "cell_type": "code",
      "metadata": {
        "colab": {
          "base_uri": "https://localhost:8080/",
          "height": 583
        },
        "id": "ExoGFp24gt6m",
        "outputId": "858f9874-2b90-437a-f918-d347e8d06def"
      },
      "source": [
        "# Plotar matriz de correlação\n",
        "fig, ax = plt.subplots(figsize=(8,6))\n",
        "sns.heatmap(df_clean_proc.corr())\n",
        "\n",
        "plt.show();"
      ],
      "execution_count": 14,
      "outputs": [
        {
          "output_type": "display_data",
          "data": {
            "image/png": "[encoded data removed]",
            "text/plain": [
              "<Figure size 576x432 with 2 Axes>"
            ]
          },
          "metadata": {}
        }
      ]
    },
    {
      "cell_type": "markdown",
      "metadata": {
        "id": "xUm79j9bceyL"
      },
      "source": [
        "# Preparação dos Dados\n",
        "\n",
        "Nesta seção, vou realizar a separaçao do nosso DF em treino e teste e identificar a nossa variável alvo. Além de também efetuar a padronização dos dados, será feita uma avaliação dos modelos por meio do Cross-Validation com os dados desbalanceados e posteriormente com os dados balanceados e padronizados."
      ]
    },
    {
      "cell_type": "markdown",
      "metadata": {
        "id": "bi7dnGylMybY"
      },
      "source": [
        "**Separar os dados entre feature matrix e target vector**"
      ]
    },
    {
      "cell_type": "code",
      "metadata": {
        "id": "6qHJrOBIrpjv"
      },
      "source": [
        "# separar os dados enter feature matrix e target vector\n",
        "X = df_clean_proc.drop('Churn', axis=1)\n",
        "y = df_clean_proc['Churn']\n",
        "\n",
        "# Dividir o dataset entre treino e teste\n",
        "X_train, X_test, y_train, y_test = train_test_split(X, y, stratify=y, shuffle=True)"
      ],
      "execution_count": 15,
      "outputs": []
    },
    {
      "cell_type": "markdown",
      "metadata": {
        "id": "2-J-eQVsNAtR"
      },
      "source": [
        "**Avaliando Modelos com Cross-Validation**"
      ]
    },
    {
      "cell_type": "code",
      "metadata": {
        "id": "hkGov1yv2cpP"
      },
      "source": [
        "# Função de validação dos modelos\n",
        "def val_model(X, y,clf, quite=False):\n",
        "\n",
        "  X = np.array(X)\n",
        "  y = np.array(y)\n",
        "\n",
        "# Definindo a padronização antes da validação\n",
        "  pipeline1 = make_pipeline(StandardScaler(), clf)\n",
        "  pipeline2 = make_pipeline(RobustScaler(), clf)\n",
        "  pipeline3 = make_pipeline(QuantileTransformer(), clf)\n",
        "  pipeline4 = make_pipeline(QuantileTransformer(output_distribution='normal'), clf)\n",
        "  pipeline5 = make_pipeline(PowerTransformer(method='yeo-johnson'), clf)\n",
        "  scores1 = cross_val_score(pipeline1, X, y, scoring='recall')\n",
        "  scores2 = cross_val_score(pipeline2, X, y, scoring='recall')\n",
        "  scores3 = cross_val_score(pipeline3, X, y, scoring='recall')\n",
        "  scores4 = cross_val_score(pipeline4, X, y, scoring='recall')\n",
        "  scores5 = cross_val_score(pipeline5, X, y, scoring='recall')\n",
        "\n",
        "  if quite == False:\n",
        "    print('Recall StandardScaler: {:.4f} (+/- {:.4f})'.format(scores1.mean(), scores1.std() * 2))\n",
        "    print('Recall RobustScaler: {:.4f} (+/- {:.4f})'.format(scores2.mean(), scores2.std() * 2))\n",
        "    print('Recall QuantileTransformer: {:.4f} (+/- {:.4f})'.format(scores3.mean(), scores3.std() * 2))\n",
        "    print('Recall QuantileTransformer-N: {:.4f} (+/- {:.4f})'.format(scores4.mean(), scores4.std() * 2))\n",
        "    print('Recall PowerTransformer: {:.4f} (+/- {:.4f})'.format(scores5.mean(), scores5.std() * 2))\n",
        "  return scores1.mean()"
      ],
      "execution_count": 16,
      "outputs": []
    },
    {
      "cell_type": "code",
      "metadata": {
        "id": "SeRpyCqauthY"
      },
      "source": [
        "# Importar Modelos a serem avaliados\n",
        "rf = RandomForestClassifier()\n",
        "lr = LogisticRegression()\n",
        "xgb = XGBClassifier()\n",
        "lda = LinearDiscriminantAnalysis()\n",
        "svc = SVC()\n",
        "sgd = SGDClassifier()"
      ],
      "execution_count": 17,
      "outputs": []
    },
    {
      "cell_type": "code",
      "metadata": {
        "colab": {
          "base_uri": "https://localhost:8080/"
        },
        "id": "D_0gOzTL5SfL",
        "outputId": "8505422b-3977-40cd-96ef-aa9293fdce4e"
      },
      "source": [
        "# printar o desempenho dos modelos com os dados padronizados\n",
        "print('Cross-validation RF:')\n",
        "score_teste1 = val_model(X_train, y_train, rf)\n",
        "print('\\nCross-validation LR:')\n",
        "score_teste2 = val_model(X_train, y_train, lr)\n",
        "print('\\nCross-validation XGB:')\n",
        "score_teste3 = val_model(X_train, y_train, xgb)\n",
        "print('\\nCross-validation LDA:')\n",
        "score_teste4 = val_model(X_train, y_train, lda)\n",
        "print('\\nCross-validation SVC:')\n",
        "score_teste5 = val_model(X_train, y_train, svc)\n",
        "print('\\nCross-validation SGD:')\n",
        "score_teste6 = val_model(X_train, y_train, sgd)"
      ],
      "execution_count": 18,
      "outputs": [
        {
          "output_type": "stream",
          "name": "stdout",
          "text": [
            "Cross-validation RF:\n",
            "Recall StandardScaler: 0.4950 (+/- 0.0570)\n",
            "Recall RobustScaler: 0.4808 (+/- 0.0655)\n",
            "Recall QuantileTransformer: 0.4843 (+/- 0.0615)\n",
            "Recall QuantileTransformer-N: 0.4929 (+/- 0.0475)\n",
            "Recall PowerTransformer: 0.4829 (+/- 0.0465)\n",
            "\n",
            "Cross-validation LR:\n",
            "Recall StandardScaler: 0.5635 (+/- 0.0726)\n",
            "Recall RobustScaler: 0.5606 (+/- 0.0706)\n",
            "Recall QuantileTransformer: 0.5471 (+/- 0.0702)\n",
            "Recall QuantileTransformer-N: 0.5571 (+/- 0.0617)\n",
            "Recall PowerTransformer: 0.5385 (+/- 0.0564)\n",
            "\n",
            "Cross-validation XGB:\n",
            "Recall StandardScaler: 0.5421 (+/- 0.0484)\n",
            "Recall RobustScaler: 0.5421 (+/- 0.0484)\n",
            "Recall QuantileTransformer: 0.5421 (+/- 0.0484)\n",
            "Recall QuantileTransformer-N: 0.5421 (+/- 0.0484)\n",
            "Recall PowerTransformer: 0.5421 (+/- 0.0484)\n",
            "\n",
            "Cross-validation LDA:\n",
            "Recall StandardScaler: 0.5692 (+/- 0.0584)\n",
            "Recall RobustScaler: 0.5692 (+/- 0.0584)\n",
            "Recall QuantileTransformer: 0.5385 (+/- 0.0618)\n",
            "Recall QuantileTransformer-N: 0.5706 (+/- 0.0458)\n",
            "Recall PowerTransformer: 0.5414 (+/- 0.0476)\n",
            "\n",
            "Cross-validation SVC:\n",
            "Recall StandardScaler: 0.5228 (+/- 0.0740)\n",
            "Recall RobustScaler: 0.5129 (+/- 0.0658)\n",
            "Recall QuantileTransformer: 0.5036 (+/- 0.0712)\n",
            "Recall QuantileTransformer-N: 0.4907 (+/- 0.0572)\n",
            "Recall PowerTransformer: 0.5043 (+/- 0.0733)\n",
            "\n",
            "Cross-validation SGD:\n",
            "Recall StandardScaler: 0.5584 (+/- 0.1122)\n",
            "Recall RobustScaler: 0.5606 (+/- 0.1121)\n",
            "Recall QuantileTransformer: 0.5584 (+/- 0.2496)\n",
            "Recall QuantileTransformer-N: 0.6333 (+/- 0.2218)\n",
            "Recall PowerTransformer: 0.4680 (+/- 0.1309)\n"
          ]
        }
      ]
    },
    {
      "cell_type": "markdown",
      "metadata": {
        "id": "I1WeCAmlN1BJ"
      },
      "source": [
        "## Padronização e Balanceamento dos Dados\n",
        "\n",
        "Para a padronização, serão usados 5 métodos, sendo assim poderemos ter uma melhor comparação em como os modelos se saem com esses dados em cada tipo de padronização. Após a padronização, os dados padronizados serão combinados com diferentes métodos de balanceamento de dados."
      ]
    },
    {
      "cell_type": "code",
      "metadata": {
        "id": "QwQBsTArpZNB"
      },
      "source": [
        "scaler = StandardScaler()\n",
        "Rob_scaler = RobustScaler()\n",
        "qtr = QuantileTransformer()\n",
        "qtr_n = QuantileTransformer(output_distribution='normal')\n",
        "pwr = PowerTransformer()\n",
        "\n",
        "X_train_scaled = scaler.fit_transform(X_train)\n",
        "X_train_Rscaled = Rob_scaler.fit_transform(X_train)\n",
        "X_train_qtr = qtr.fit_transform(X_train)\n",
        "X_train_qtr_n = qtr_n.fit_transform(X_train)\n",
        "X_train_pwr = pwr.fit_transform(X_train)\n",
        "\n",
        "\n",
        "rus = RandomUnderSampler()\n",
        "X_rus_scaled, y_train_rus_scaled = rus.fit_sample(X_train_scaled, y_train)\n",
        "X_rus_Rscaled, y_train_rus_Rscaled = rus.fit_sample(X_train_Rscaled, y_train)\n",
        "X_rus_qtr, y_train_rus_qtr = rus.fit_sample(X_train_qtr, y_train)\n",
        "X_rus_qtr_n, y_train_rus_qtr_n = rus.fit_sample(X_train_qtr_n, y_train)\n",
        "X_rus_pwr, y_train_rus_pwr = rus.fit_sample(X_train_pwr, y_train)\n",
        "\n",
        "\n",
        "smo = SMOTE()\n",
        "X_smo_scaled, y_train_smo_scaled = smo.fit_sample(X_train_scaled, y_train)\n",
        "X_smo_Rscaled, y_train_smo_Rscaled = smo.fit_sample(X_train_Rscaled, y_train)\n",
        "X_smo_qtr, y_train_smo_qtr = smo.fit_sample(X_train_qtr, y_train)\n",
        "X_smo_qtr_n, y_train_smo_qtr_n = smo.fit_sample(X_train_qtr_n, y_train)\n",
        "X_smo_pwr, y_train_smo_pwr = smo.fit_sample(X_train_pwr, y_train)\n",
        "\n",
        "\n",
        "ada = ADASYN()\n",
        "X_ada_scaled, y_train_ada_scaled = ada.fit_sample(X_train_scaled, y_train)\n",
        "X_ada_Rscaled, y_train_ada_Rscaled = ada.fit_sample(X_train_Rscaled, y_train)\n",
        "X_ada_qtr, y_train_ada_qtr = ada.fit_sample(X_train_qtr, y_train)\n",
        "X_ada_qtr_n, y_train_ada_qtr_n = ada.fit_sample(X_train_qtr_n, y_train)\n",
        "X_ada_pwr, y_train_ada_pwr = ada.fit_sample(X_train_pwr, y_train)\n"
      ],
      "execution_count": 19,
      "outputs": []
    },
    {
      "cell_type": "markdown",
      "metadata": {
        "id": "8pQikbUqN_mb"
      },
      "source": [
        "### Balanceamento com Random UnderSampling\n",
        "\n",
        "Aqui eu começo a realizar o balanceamento da variável `Churn`, usando RandomUnderSampling, assim serão excluídas boa parte das entradas da classe majoritária e poucas entradas da classe minoritária.\n"
      ]
    },
    {
      "cell_type": "code",
      "metadata": {
        "colab": {
          "base_uri": "https://localhost:8080/",
          "height": 348
        },
        "id": "-sA-_QqCsi67",
        "outputId": "b5ad5760-906a-49ff-d46d-16b505b70247"
      },
      "source": [
        "# Checando o balanceamento das classes\n",
        "print(pd.Series(y_train_rus_scaled).value_counts())\n",
        "\n",
        "fig, ax = plt.subplots() \n",
        "sns.countplot(y_train_rus_scaled)\n",
        "\n",
        "plt.tight_layout()"
      ],
      "execution_count": 20,
      "outputs": [
        {
          "output_type": "stream",
          "name": "stdout",
          "text": [
            "1    1402\n",
            "0    1402\n",
            "dtype: int64\n"
          ]
        },
        {
          "output_type": "display_data",
          "data": {
            "image/png": "[encoded data removed]",
            "text/plain": [
              "<Figure size 432x288 with 1 Axes>"
            ]
          },
          "metadata": {}
        }
      ]
    },
    {
      "cell_type": "markdown",
      "metadata": {
        "id": "i2bBSssdOJB5"
      },
      "source": [
        "### Balanceamento com OverSampling SMOTE\n",
        "\n",
        "Neste segundo balanceamento, SMOTE,são adicionadas entradas para a classe minoritária, com caracteristicas semelhantes as ja existentes.\n",
        "\n",
        "\n"
      ]
    },
    {
      "cell_type": "code",
      "metadata": {
        "colab": {
          "base_uri": "https://localhost:8080/",
          "height": 348
        },
        "id": "p9qxKPtYtBe1",
        "outputId": "6933907b-ef4f-463a-8226-11b37ad80af8"
      },
      "source": [
        "# Checando o balanceamento das classes\n",
        "print(pd.Series(y_train_smo_scaled).value_counts())\n",
        "\n",
        "fig, ax = plt.subplots() \n",
        "sns.countplot(y_train_smo_scaled)\n",
        "\n",
        "plt.tight_layout()"
      ],
      "execution_count": 21,
      "outputs": [
        {
          "output_type": "stream",
          "name": "stdout",
          "text": [
            "1    3880\n",
            "0    3880\n",
            "dtype: int64\n"
          ]
        },
        {
          "output_type": "display_data",
          "data": {
            "image/png": "[encoded data removed]",
            "text/plain": [
              "<Figure size 432x288 with 1 Axes>"
            ]
          },
          "metadata": {}
        }
      ]
    },
    {
      "cell_type": "markdown",
      "metadata": {
        "id": "r6ofUtz5OPXD"
      },
      "source": [
        "### Balanceamento com OverSampling ADASYN\n",
        "\n",
        "O terceiro balanceamento, ADASYN, também adiciona entradas mas tenta fazer uma diferenciação das entradas ja existentes, levando em consideração a complexidade dos dados de cada entrada."
      ]
    },
    {
      "cell_type": "code",
      "metadata": {
        "colab": {
          "base_uri": "https://localhost:8080/",
          "height": 348
        },
        "id": "JNCJzp0otVdL",
        "outputId": "8255058f-3e90-44dd-c146-e3b9aeb84873"
      },
      "source": [
        "print(pd.Series(y_train_ada_scaled).value_counts())\n",
        "\n",
        "fig, ax = plt.subplots() \n",
        "\n",
        "sns.countplot(y_train_ada_scaled)\n",
        "\n",
        "\n",
        "plt.tight_layout();"
      ],
      "execution_count": 22,
      "outputs": [
        {
          "output_type": "stream",
          "name": "stdout",
          "text": [
            "1    3892\n",
            "0    3880\n",
            "dtype: int64\n"
          ]
        },
        {
          "output_type": "display_data",
          "data": {
            "image/png": "[encoded data removed]",
            "text/plain": [
              "<Figure size 432x288 with 1 Axes>"
            ]
          },
          "metadata": {}
        }
      ]
    },
    {
      "cell_type": "markdown",
      "metadata": {
        "id": "Q0Hnu5jHOUa-"
      },
      "source": [
        "## Avaliandos Modelos com Cross-Validation (Dados Balanceados e Padronizados)\n",
        "\n",
        "Como dito anteriormente, vou avaliar os modelos novamente, agora com os dados balanceados e padronizados, depois irei selecionar 3 modelos para cada tipo de balanceamento. Assim,posso usar o método ensemble para combinar os modelos e possivelmente obter um resultado mais constante e melhor."
      ]
    },
    {
      "cell_type": "code",
      "metadata": {
        "id": "FM2UNiSiMtUl"
      },
      "source": [
        "# Definindo funçao de validação com dados balanceados\n",
        "def val_model_balanced(X, y,clf, quite=False):\n",
        "\n",
        "  X = np.array(X)\n",
        "  y = np.array(y)\n",
        "\n",
        "  scores = cross_val_score(clf, X, y, scoring='recall')\n",
        "\n",
        "  if quite == False:\n",
        "    print('Recall: {:.4f} (+/- {:.4f})'.format(scores.mean(), scores.std() * 2))\n",
        "  return scores.mean()"
      ],
      "execution_count": 23,
      "outputs": []
    },
    {
      "cell_type": "markdown",
      "metadata": {
        "id": "Mw-qrGgNOh0S"
      },
      "source": [
        "## Balanceamento RUS com StandardScaler (scaled)\n",
        "As validações serão avaliadas pela métrica recall e serão dividas. Primeiramente, em balanceamentos e com subgrupos que depende do tipo de padronização utilizada."
      ]
    },
    {
      "cell_type": "code",
      "metadata": {
        "colab": {
          "base_uri": "https://localhost:8080/"
        },
        "id": "D5YCIw9hJlYt",
        "outputId": "dbb6240f-6fcf-4b2a-92bd-c69f66d47c91"
      },
      "source": [
        "print('Cross-validation RF:')\n",
        "score_teste1 = val_model_balanced(X_rus_scaled, y_train_rus_scaled, rf)\n",
        "print('\\nCross-validation LR:')\n",
        "score_teste2 = val_model_balanced(X_rus_scaled, y_train_rus_scaled, lr)\n",
        "print('\\nCross-validation XGB:')\n",
        "score_teste3 = val_model_balanced(X_rus_scaled, y_train_rus_scaled, xgb)\n",
        "print('\\nCross-validation LDA:')\n",
        "score_teste4 = val_model_balanced(X_rus_scaled, y_train_rus_scaled, lda)\n",
        "print('\\nCross-validation SVC:')\n",
        "score_teste5 = val_model_balanced(X_rus_scaled, y_train_rus_scaled, svc)\n",
        "print('\\nCross-validation SGD:')\n",
        "score_teste6 = val_model_balanced(X_rus_scaled, y_train_rus_scaled, sgd)"
      ],
      "execution_count": 24,
      "outputs": [
        {
          "output_type": "stream",
          "name": "stdout",
          "text": [
            "Cross-validation RF:\n",
            "Recall: 0.7825 (+/- 0.0253)\n",
            "\n",
            "Cross-validation LR:\n",
            "Recall: 0.8160 (+/- 0.0268)\n",
            "\n",
            "Cross-validation XGB:\n",
            "Recall: 0.8267 (+/- 0.0387)\n",
            "\n",
            "Cross-validation LDA:\n",
            "Recall: 0.8088 (+/- 0.0342)\n",
            "\n",
            "Cross-validation SVC:\n",
            "Recall: 0.8003 (+/- 0.0249)\n",
            "\n",
            "Cross-validation SGD:\n",
            "Recall: 0.7489 (+/- 0.0739)\n"
          ]
        }
      ]
    },
    {
      "cell_type": "markdown",
      "metadata": {
        "id": "2CnkkDyMOr3s"
      },
      "source": [
        "### Balanceamento RUS com RobustScaler (Rscaled)"
      ]
    },
    {
      "cell_type": "code",
      "metadata": {
        "colab": {
          "base_uri": "https://localhost:8080/"
        },
        "id": "_n_mcaepJmak",
        "outputId": "50a57d0c-c1b3-42e4-c028-8168f63097f7"
      },
      "source": [
        "print('Cross-validation RF:')\n",
        "score_teste1 = val_model_balanced(X_rus_Rscaled, y_train_rus_Rscaled, rf)\n",
        "print('\\nCross-validation LR:')\n",
        "score_teste2 = val_model_balanced(X_rus_Rscaled, y_train_rus_Rscaled, lr)\n",
        "print('\\nCross-validation XGB:')\n",
        "score_teste3 = val_model_balanced(X_rus_Rscaled, y_train_rus_Rscaled, xgb)\n",
        "print('\\nCross-validation LDA:')\n",
        "score_teste4 = val_model_balanced(X_rus_Rscaled, y_train_rus_Rscaled, lda)\n",
        "print('\\nCross-validation SVC:')\n",
        "score_teste5 = val_model_balanced(X_rus_Rscaled, y_train_rus_Rscaled, svc)\n",
        "print('\\nCross-validation SGD:')\n",
        "score_teste6 = val_model_balanced(X_rus_Rscaled, y_train_rus_Rscaled, sgd)"
      ],
      "execution_count": 25,
      "outputs": [
        {
          "output_type": "stream",
          "name": "stdout",
          "text": [
            "Cross-validation RF:\n",
            "Recall: 0.7689 (+/- 0.0464)\n",
            "\n",
            "Cross-validation LR:\n",
            "Recall: 0.7981 (+/- 0.0338)\n",
            "\n",
            "Cross-validation XGB:\n",
            "Recall: 0.8010 (+/- 0.0529)\n",
            "\n",
            "Cross-validation LDA:\n",
            "Recall: 0.7974 (+/- 0.0275)\n",
            "\n",
            "Cross-validation SVC:\n",
            "Recall: 0.7867 (+/- 0.0307)\n",
            "\n",
            "Cross-validation SGD:\n",
            "Recall: 0.7561 (+/- 0.1035)\n"
          ]
        }
      ]
    },
    {
      "cell_type": "markdown",
      "metadata": {
        "id": "aQ8AnR2VOzGU"
      },
      "source": [
        "### Balanceamento RUS com QuantileTransformer (QTR)"
      ]
    },
    {
      "cell_type": "code",
      "metadata": {
        "colab": {
          "base_uri": "https://localhost:8080/"
        },
        "id": "kHWchUcZJnLv",
        "outputId": "0c080fe1-97da-4fef-ad5e-34b4c709a2e9"
      },
      "source": [
        "print('Cross-validation RF:')\n",
        "score_teste1 = val_model_balanced(X_rus_qtr, y_train_rus_qtr, rf)\n",
        "print('\\nCross-validation LR:')\n",
        "score_teste2 = val_model_balanced(X_rus_qtr, y_train_rus_qtr, lr)\n",
        "print('\\nCross-validation XGB:')\n",
        "score_teste3 = val_model_balanced(X_rus_qtr, y_train_rus_qtr, xgb)\n",
        "print('\\nCross-validation LDA:')\n",
        "score_teste4 = val_model_balanced(X_rus_qtr, y_train_rus_qtr, lda)\n",
        "print('\\nCross-validation SVC:')\n",
        "score_teste5 = val_model_balanced(X_rus_qtr, y_train_rus_qtr, svc)\n",
        "print('\\nCross-validation SGD:')\n",
        "score_teste6 = val_model_balanced(X_rus_qtr, y_train_rus_qtr, sgd)"
      ],
      "execution_count": 26,
      "outputs": [
        {
          "output_type": "stream",
          "name": "stdout",
          "text": [
            "Cross-validation RF:\n",
            "Recall: 0.7746 (+/- 0.0412)\n",
            "\n",
            "Cross-validation LR:\n",
            "Recall: 0.7946 (+/- 0.0330)\n",
            "\n",
            "Cross-validation XGB:\n",
            "Recall: 0.8096 (+/- 0.0260)\n",
            "\n",
            "Cross-validation LDA:\n",
            "Recall: 0.8046 (+/- 0.0221)\n",
            "\n",
            "Cross-validation SVC:\n",
            "Recall: 0.8088 (+/- 0.0319)\n",
            "\n",
            "Cross-validation SGD:\n",
            "Recall: 0.8233 (+/- 0.3374)\n"
          ]
        }
      ]
    },
    {
      "cell_type": "markdown",
      "metadata": {
        "id": "lT7PMN4MO_Yw"
      },
      "source": [
        "### Balanceamento RUS com QuantileTransformer (uniform output)"
      ]
    },
    {
      "cell_type": "code",
      "metadata": {
        "colab": {
          "base_uri": "https://localhost:8080/"
        },
        "id": "S3GiB-d0LywL",
        "outputId": "f7cdc5bb-26d9-4991-f740-81c4e53e8d35"
      },
      "source": [
        "print('Cross-validation RF:')\n",
        "score_teste1 = val_model_balanced(X_rus_qtr_n, y_train_rus_qtr_n, rf)\n",
        "print('\\nCross-validation LR:')\n",
        "score_teste2 = val_model_balanced(X_rus_qtr_n, y_train_rus_qtr_n, lr)\n",
        "print('\\nCross-validation XGB:')\n",
        "score_teste3 = val_model_balanced(X_rus_qtr_n, y_train_rus_qtr_n, xgb)\n",
        "print('\\nCross-validation LDA:')\n",
        "score_teste4 = val_model_balanced(X_rus_qtr_n, y_train_rus_qtr_n, lda)\n",
        "print('\\nCross-validation SVC:')\n",
        "score_teste5 = val_model_balanced(X_rus_qtr_n, y_train_rus_qtr_n, svc)\n",
        "print('\\nCross-validation SGD:')\n",
        "score_teste6 = val_model_balanced(X_rus_qtr_n, y_train_rus_qtr_n, sgd)"
      ],
      "execution_count": 27,
      "outputs": [
        {
          "output_type": "stream",
          "name": "stdout",
          "text": [
            "Cross-validation RF:\n",
            "Recall: 0.7667 (+/- 0.0340)\n",
            "\n",
            "Cross-validation LR:\n",
            "Recall: 0.8181 (+/- 0.0384)\n",
            "\n",
            "Cross-validation XGB:\n",
            "Recall: 0.8138 (+/- 0.0453)\n",
            "\n",
            "Cross-validation LDA:\n",
            "Recall: 0.8267 (+/- 0.0365)\n",
            "\n",
            "Cross-validation SVC:\n",
            "Recall: 0.8110 (+/- 0.0294)\n",
            "\n",
            "Cross-validation SGD:\n",
            "Recall: 0.6886 (+/- 0.4249)\n"
          ]
        }
      ]
    },
    {
      "cell_type": "markdown",
      "metadata": {
        "id": "f4hRYw1wPpMM"
      },
      "source": [
        "### Balanceamento RUS com PowerTransformer (PWR)"
      ]
    },
    {
      "cell_type": "code",
      "metadata": {
        "colab": {
          "base_uri": "https://localhost:8080/"
        },
        "id": "q7YbsKUALzOd",
        "outputId": "8be9e212-3e72-41a5-caf4-20e2fb92e0aa"
      },
      "source": [
        "print('Cross-validation RF:')\n",
        "score_teste1 = val_model_balanced(X_rus_pwr, y_train_rus_pwr, rf)\n",
        "print('\\nCross-validation LR:')\n",
        "score_teste2 = val_model_balanced(X_rus_pwr, y_train_rus_pwr, lr)\n",
        "print('\\nCross-validation XGB:')\n",
        "score_teste3 = val_model_balanced(X_rus_pwr, y_train_rus_pwr, xgb)\n",
        "print('\\nCross-validation LDA:')\n",
        "score_teste4 = val_model_balanced(X_rus_pwr, y_train_rus_pwr, lda)\n",
        "print('\\nCross-validation SVC:')\n",
        "score_teste5 = val_model_balanced(X_rus_pwr, y_train_rus_pwr, svc)\n",
        "print('\\nCross-validation SGD:')\n",
        "score_teste6 = val_model_balanced(X_rus_pwr, y_train_rus_pwr, sgd)"
      ],
      "execution_count": 28,
      "outputs": [
        {
          "output_type": "stream",
          "name": "stdout",
          "text": [
            "Cross-validation RF:\n",
            "Recall: 0.7739 (+/- 0.0499)\n",
            "\n",
            "Cross-validation LR:\n",
            "Recall: 0.8038 (+/- 0.0325)\n",
            "\n",
            "Cross-validation XGB:\n",
            "Recall: 0.8352 (+/- 0.0444)\n",
            "\n",
            "Cross-validation LDA:\n",
            "Recall: 0.8096 (+/- 0.0280)\n",
            "\n",
            "Cross-validation SVC:\n",
            "Recall: 0.8067 (+/- 0.0364)\n",
            "\n",
            "Cross-validation SGD:\n",
            "Recall: 0.7676 (+/- 0.1522)\n"
          ]
        }
      ]
    },
    {
      "cell_type": "markdown",
      "metadata": {
        "id": "1m2iNLCCP-zO"
      },
      "source": [
        "## Balanceamento SMOTE com StandardScaler (scaled)"
      ]
    },
    {
      "cell_type": "code",
      "metadata": {
        "colab": {
          "base_uri": "https://localhost:8080/"
        },
        "id": "IkCjzFY6PGCv",
        "outputId": "1e8274bd-36e8-4d99-90c9-7cacdbee9187"
      },
      "source": [
        "print('Cross-validation RF:')\n",
        "score_teste1 = val_model_balanced(X_smo_scaled, y_train_smo_scaled, rf)\n",
        "print('\\nCross-validation LR:')\n",
        "score_teste2 = val_model_balanced(X_smo_scaled, y_train_smo_scaled, lr)\n",
        "print('\\nCross-validation XGB:')\n",
        "score_teste3 = val_model_balanced(X_smo_scaled, y_train_smo_scaled, xgb)\n",
        "print('\\nCross-validation LDA:')\n",
        "score_teste4 = val_model_balanced(X_smo_scaled, y_train_smo_scaled, lda)\n",
        "print('\\nCross-validation SVC:')\n",
        "score_teste5 = val_model_balanced(X_smo_scaled, y_train_smo_scaled, svc)\n",
        "print('\\nCross-validation SGD:')\n",
        "score_teste6 = val_model_balanced(X_smo_scaled, y_train_smo_scaled, sgd)"
      ],
      "execution_count": 29,
      "outputs": [
        {
          "output_type": "stream",
          "name": "stdout",
          "text": [
            "Cross-validation RF:\n",
            "Recall: 0.8719 (+/- 0.2336)\n",
            "\n",
            "Cross-validation LR:\n",
            "Recall: 0.8178 (+/- 0.0381)\n",
            "\n",
            "Cross-validation XGB:\n",
            "Recall: 0.8557 (+/- 0.2815)\n",
            "\n",
            "Cross-validation LDA:\n",
            "Recall: 0.8204 (+/- 0.0465)\n",
            "\n",
            "Cross-validation SVC:\n",
            "Recall: 0.8451 (+/- 0.1068)\n",
            "\n",
            "Cross-validation SGD:\n",
            "Recall: 0.8034 (+/- 0.1332)\n"
          ]
        }
      ]
    },
    {
      "cell_type": "markdown",
      "metadata": {
        "id": "Uv360uUPQIfv"
      },
      "source": [
        "#### Balanceamento SMOTE com RobustScaler (Rscaled)"
      ]
    },
    {
      "cell_type": "code",
      "metadata": {
        "colab": {
          "base_uri": "https://localhost:8080/"
        },
        "id": "rWXW1my1QFqe",
        "outputId": "9f7bdb0f-372c-4193-bd2e-49e050680dda"
      },
      "source": [
        "print('Cross-validation RF:')\n",
        "score_teste1 = val_model_balanced(X_smo_Rscaled, y_train_smo_Rscaled, rf)\n",
        "print('\\nCross-validation LR:')\n",
        "score_teste2 = val_model_balanced(X_smo_Rscaled, y_train_smo_Rscaled, lr)\n",
        "print('\\nCross-validation XGB:')\n",
        "score_teste3 = val_model_balanced(X_smo_Rscaled, y_train_smo_Rscaled, xgb)\n",
        "print('\\nCross-validation LDA:')\n",
        "score_teste4 = val_model_balanced(X_smo_Rscaled, y_train_smo_Rscaled, lda)\n",
        "print('\\nCross-validation SVC:')\n",
        "score_teste5 = val_model_balanced(X_smo_Rscaled, y_train_smo_Rscaled, svc)\n",
        "print('\\nCross-validation SGD:')\n",
        "score_teste6 = val_model_balanced(X_smo_Rscaled, y_train_smo_Rscaled, sgd)"
      ],
      "execution_count": 30,
      "outputs": [
        {
          "output_type": "stream",
          "name": "stdout",
          "text": [
            "Cross-validation RF:\n",
            "Recall: 0.8768 (+/- 0.2312)\n",
            "\n",
            "Cross-validation LR:\n",
            "Recall: 0.8216 (+/- 0.0331)\n",
            "\n",
            "Cross-validation XGB:\n",
            "Recall: 0.8595 (+/- 0.2726)\n",
            "\n",
            "Cross-validation LDA:\n",
            "Recall: 0.8168 (+/- 0.0373)\n",
            "\n",
            "Cross-validation SVC:\n",
            "Recall: 0.8472 (+/- 0.1149)\n",
            "\n",
            "Cross-validation SGD:\n",
            "Recall: 0.8314 (+/- 0.0641)\n"
          ]
        }
      ]
    },
    {
      "cell_type": "markdown",
      "metadata": {
        "id": "kY68UgTXQUGj"
      },
      "source": [
        "#### Balanceamento SMOTE com QuantileTransformer (QTR)"
      ]
    },
    {
      "cell_type": "code",
      "metadata": {
        "colab": {
          "base_uri": "https://localhost:8080/"
        },
        "id": "WscKfsNyQNLh",
        "outputId": "c718e458-d8e3-415a-9a42-a9aaaad0c9fe"
      },
      "source": [
        "print('Cross-validation RF:')\n",
        "score_teste1 = val_model_balanced(X_smo_qtr, y_train_smo_qtr, rf)\n",
        "print('\\nCross-validation LR:')\n",
        "score_teste2 = val_model_balanced(X_smo_qtr, y_train_smo_qtr, lr)\n",
        "print('\\nCross-validation XGB:')\n",
        "score_teste3 = val_model_balanced(X_smo_qtr, y_train_smo_qtr, xgb)\n",
        "print('\\nCross-validation LDA:')\n",
        "score_teste4 = val_model_balanced(X_smo_qtr, y_train_smo_qtr, lda)\n",
        "print('\\nCross-validation SVC:')\n",
        "score_teste5 = val_model_balanced(X_smo_qtr, y_train_smo_qtr, svc)\n",
        "print('\\nCross-validation SGD:')\n",
        "score_teste6 = val_model_balanced(X_smo_qtr, y_train_smo_qtr, sgd)"
      ],
      "execution_count": 31,
      "outputs": [
        {
          "output_type": "stream",
          "name": "stdout",
          "text": [
            "Cross-validation RF:\n",
            "Recall: 0.8691 (+/- 0.2326)\n",
            "\n",
            "Cross-validation LR:\n",
            "Recall: 0.8090 (+/- 0.0461)\n",
            "\n",
            "Cross-validation XGB:\n",
            "Recall: 0.8631 (+/- 0.2649)\n",
            "\n",
            "Cross-validation LDA:\n",
            "Recall: 0.8139 (+/- 0.0408)\n",
            "\n",
            "Cross-validation SVC:\n",
            "Recall: 0.8631 (+/- 0.1367)\n",
            "\n",
            "Cross-validation SGD:\n",
            "Recall: 0.7711 (+/- 0.1670)\n"
          ]
        }
      ]
    },
    {
      "cell_type": "markdown",
      "metadata": {
        "id": "pS5_TN1kQaiQ"
      },
      "source": [
        "#### Balanceamento SMOTE com QuantileTransformer (uniform output)"
      ]
    },
    {
      "cell_type": "code",
      "metadata": {
        "colab": {
          "base_uri": "https://localhost:8080/"
        },
        "id": "1htMBihgQokC",
        "outputId": "3d0fd5a8-6f9d-436a-e7e4-7b4865c0bbea"
      },
      "source": [
        "print('Cross-validation RF:')\n",
        "score_teste1 = val_model_balanced(X_smo_qtr_n, y_train_smo_qtr_n, rf)\n",
        "print('\\nCross-validation LR:')\n",
        "score_teste2 = val_model_balanced(X_smo_qtr_n, y_train_smo_qtr_n, lr)\n",
        "print('\\nCross-validation XGB:')\n",
        "score_teste3 = val_model_balanced(X_smo_qtr_n, y_train_smo_qtr_n, xgb)\n",
        "print('\\nCross-validation LDA:')\n",
        "score_teste4 = val_model_balanced(X_smo_qtr_n, y_train_smo_qtr_n, lda)\n",
        "print('\\nCross-validation SVC:')\n",
        "score_teste5 = val_model_balanced(X_smo_qtr_n, y_train_smo_qtr_n, svc)\n",
        "print('\\nCross-validation SGD:')\n",
        "score_teste6 = val_model_balanced(X_smo_qtr_n, y_train_smo_qtr_n, sgd)"
      ],
      "execution_count": 32,
      "outputs": [
        {
          "output_type": "stream",
          "name": "stdout",
          "text": [
            "Cross-validation RF:\n",
            "Recall: 0.8753 (+/- 0.2161)\n",
            "\n",
            "Cross-validation LR:\n",
            "Recall: 0.8165 (+/- 0.0275)\n",
            "\n",
            "Cross-validation XGB:\n",
            "Recall: 0.8662 (+/- 0.2547)\n",
            "\n",
            "Cross-validation LDA:\n",
            "Recall: 0.8322 (+/- 0.0290)\n",
            "\n",
            "Cross-validation SVC:\n",
            "Recall: 0.8492 (+/- 0.1279)\n",
            "\n",
            "Cross-validation SGD:\n",
            "Recall: 0.7013 (+/- 0.2926)\n"
          ]
        }
      ]
    },
    {
      "cell_type": "markdown",
      "metadata": {
        "id": "dPaKsL2hQgWT"
      },
      "source": [
        "#### Balanceamento SMOTE com PowerTransformer (PWR)"
      ]
    },
    {
      "cell_type": "code",
      "metadata": {
        "colab": {
          "base_uri": "https://localhost:8080/"
        },
        "id": "VaGZN7FuQ_LW",
        "outputId": "f4036268-f94b-4a7a-e5ae-12087bfa0de4"
      },
      "source": [
        "print('Cross-validation RF:')\n",
        "score_teste1 = val_model_balanced(X_smo_pwr, y_train_smo_pwr, rf)\n",
        "print('\\nCross-validation LR:')\n",
        "score_teste2 = val_model_balanced(X_smo_pwr, y_train_smo_pwr, lr)\n",
        "print('\\nCross-validation XGB:')\n",
        "score_teste3 = val_model_balanced(X_smo_pwr, y_train_smo_pwr, xgb)\n",
        "print('\\nCross-validation LDA:')\n",
        "score_teste4 = val_model_balanced(X_smo_pwr, y_train_smo_pwr, lda)\n",
        "print('\\nCross-validation SVC:')\n",
        "score_teste5 = val_model_balanced(X_smo_pwr, y_train_smo_pwr, svc)\n",
        "print('\\nCross-validation SGD:')\n",
        "score_teste6 = val_model_balanced(X_smo_pwr, y_train_smo_pwr, sgd)"
      ],
      "execution_count": 33,
      "outputs": [
        {
          "output_type": "stream",
          "name": "stdout",
          "text": [
            "Cross-validation RF:\n",
            "Recall: 0.8719 (+/- 0.2344)\n",
            "\n",
            "Cross-validation LR:\n",
            "Recall: 0.8101 (+/- 0.0531)\n",
            "\n",
            "Cross-validation XGB:\n",
            "Recall: 0.8595 (+/- 0.2960)\n",
            "\n",
            "Cross-validation LDA:\n",
            "Recall: 0.8204 (+/- 0.0536)\n",
            "\n",
            "Cross-validation SVC:\n",
            "Recall: 0.8644 (+/- 0.1278)\n",
            "\n",
            "Cross-validation SGD:\n",
            "Recall: 0.7353 (+/- 0.1202)\n"
          ]
        }
      ]
    },
    {
      "cell_type": "markdown",
      "metadata": {
        "id": "qqA-rXHZQmZx"
      },
      "source": [
        "## Balanceamento ADASYN com StandardScaler (scaled)"
      ]
    },
    {
      "cell_type": "code",
      "metadata": {
        "colab": {
          "base_uri": "https://localhost:8080/"
        },
        "id": "dmQE1mTWRU0D",
        "outputId": "c87283f7-26d7-4c89-9599-47a6e5835199"
      },
      "source": [
        "print('Cross-validation RF:')\n",
        "score_teste1 = val_model_balanced(X_ada_scaled, y_train_ada_scaled, rf)\n",
        "print('\\nCross-validation LR:')\n",
        "score_teste2 = val_model_balanced(X_ada_scaled, y_train_ada_scaled, lr)\n",
        "print('\\nCross-validation XGB:')\n",
        "score_teste3 = val_model_balanced(X_ada_scaled, y_train_ada_scaled, xgb)\n",
        "print('\\nCross-validation LDA:')\n",
        "score_teste4 = val_model_balanced(X_ada_scaled, y_train_ada_scaled, lda)\n",
        "print('\\nCross-validation SVC:')\n",
        "score_teste5 = val_model_balanced(X_ada_scaled, y_train_ada_scaled, svc)\n",
        "print('\\nCross-validation SGD:')\n",
        "score_teste6 = val_model_balanced(X_ada_scaled, y_train_ada_scaled, sgd)\n"
      ],
      "execution_count": 34,
      "outputs": [
        {
          "output_type": "stream",
          "name": "stdout",
          "text": [
            "Cross-validation RF:\n",
            "Recall: 0.8754 (+/- 0.1974)\n",
            "\n",
            "Cross-validation LR:\n",
            "Recall: 0.7970 (+/- 0.0914)\n",
            "\n",
            "Cross-validation XGB:\n",
            "Recall: 0.8536 (+/- 0.2742)\n",
            "\n",
            "Cross-validation LDA:\n",
            "Recall: 0.7849 (+/- 0.0986)\n",
            "\n",
            "Cross-validation SVC:\n",
            "Recall: 0.8703 (+/- 0.0440)\n",
            "\n",
            "Cross-validation SGD:\n",
            "Recall: 0.7898 (+/- 0.0628)\n"
          ]
        }
      ]
    },
    {
      "cell_type": "markdown",
      "metadata": {
        "id": "tSTmGoGDQ4tD"
      },
      "source": [
        "#### Balanceamento ADASYN com RobustScaler (Rscaled)"
      ]
    },
    {
      "cell_type": "code",
      "metadata": {
        "colab": {
          "base_uri": "https://localhost:8080/"
        },
        "id": "SdMrW6JXRw0q",
        "outputId": "4fed1cf8-a11c-457b-895b-f14bd419de99"
      },
      "source": [
        "print('Cross-validation RF:')\n",
        "score_teste1 = val_model_balanced(X_ada_Rscaled, y_train_ada_Rscaled, rf)\n",
        "print('\\nCross-validation LR:')\n",
        "score_teste2 = val_model_balanced(X_ada_Rscaled, y_train_ada_Rscaled, lr)\n",
        "print('\\nCross-validation XGB:')\n",
        "score_teste3 = val_model_balanced(X_ada_Rscaled, y_train_ada_Rscaled, xgb)\n",
        "print('\\nCross-validation LDA:')\n",
        "score_teste4 = val_model_balanced(X_ada_Rscaled, y_train_ada_Rscaled, lda)\n",
        "print('\\nCross-validation SVC:')\n",
        "score_teste5 = val_model_balanced(X_ada_Rscaled, y_train_ada_Rscaled, svc)\n",
        "print('\\nCross-validation SGD:')\n",
        "score_teste6 = val_model_balanced(X_ada_Rscaled, y_train_ada_Rscaled, sgd)"
      ],
      "execution_count": 35,
      "outputs": [
        {
          "output_type": "stream",
          "name": "stdout",
          "text": [
            "Cross-validation RF:\n",
            "Recall: 0.8795 (+/- 0.1876)\n",
            "\n",
            "Cross-validation LR:\n",
            "Recall: 0.7912 (+/- 0.0895)\n",
            "\n",
            "Cross-validation XGB:\n",
            "Recall: 0.8531 (+/- 0.2658)\n",
            "\n",
            "Cross-validation LDA:\n",
            "Recall: 0.7837 (+/- 0.0987)\n",
            "\n",
            "Cross-validation SVC:\n",
            "Recall: 0.8699 (+/- 0.0457)\n",
            "\n",
            "Cross-validation SGD:\n",
            "Recall: 0.7665 (+/- 0.1661)\n"
          ]
        }
      ]
    },
    {
      "cell_type": "markdown",
      "metadata": {
        "id": "BKvImPxYRCWH"
      },
      "source": [
        "#### Balanceamento ADASYN com QuantileTransformer (QTR)"
      ]
    },
    {
      "cell_type": "code",
      "metadata": {
        "colab": {
          "base_uri": "https://localhost:8080/"
        },
        "id": "nB3gr4wdSBQo",
        "outputId": "9f15e849-b285-4bd5-b4cd-6f556bb02a27"
      },
      "source": [
        "print('Cross-validation RF:')\n",
        "score_teste1 = val_model_balanced(X_ada_qtr, y_train_ada_qtr, rf)\n",
        "print('\\nCross-validation LR:')\n",
        "score_teste2 = val_model_balanced(X_ada_qtr, y_train_ada_qtr, lr)\n",
        "print('\\nCross-validation XGB:')\n",
        "score_teste3 = val_model_balanced(X_ada_qtr, y_train_ada_qtr, xgb)\n",
        "print('\\nCross-validation LDA:')\n",
        "score_teste4 = val_model_balanced(X_ada_qtr, y_train_ada_qtr, lda)\n",
        "print('\\nCross-validation SVC:')\n",
        "score_teste5 = val_model_balanced(X_ada_qtr, y_train_ada_qtr, svc)\n",
        "print('\\nCross-validation SGD:')\n",
        "score_teste6 = val_model_balanced(X_ada_qtr, y_train_ada_qtr, sgd)"
      ],
      "execution_count": 36,
      "outputs": [
        {
          "output_type": "stream",
          "name": "stdout",
          "text": [
            "Cross-validation RF:\n",
            "Recall: 0.8839 (+/- 0.1847)\n",
            "\n",
            "Cross-validation LR:\n",
            "Recall: 0.7772 (+/- 0.0690)\n",
            "\n",
            "Cross-validation XGB:\n",
            "Recall: 0.8566 (+/- 0.2608)\n",
            "\n",
            "Cross-validation LDA:\n",
            "Recall: 0.7793 (+/- 0.0714)\n",
            "\n",
            "Cross-validation SVC:\n",
            "Recall: 0.8615 (+/- 0.0845)\n",
            "\n",
            "Cross-validation SGD:\n",
            "Recall: 0.7373 (+/- 0.2355)\n"
          ]
        }
      ]
    },
    {
      "cell_type": "markdown",
      "metadata": {
        "id": "WhsA3tVCRH1Y"
      },
      "source": [
        "#### Balanceamento ADASYN com QuantileTransformer (uniform output)"
      ]
    },
    {
      "cell_type": "code",
      "metadata": {
        "colab": {
          "base_uri": "https://localhost:8080/"
        },
        "id": "WVyRWGwTSXs6",
        "outputId": "0b111508-f558-4f37-f2d7-fce5f892b499"
      },
      "source": [
        "print('Cross-validation RF:')\n",
        "score_teste1 = val_model_balanced(X_ada_qtr_n, y_train_ada_qtr_n, rf)\n",
        "print('\\nCross-validation LR:')\n",
        "score_teste2 = val_model_balanced(X_ada_qtr_n, y_train_ada_qtr_n, lr)\n",
        "print('\\nCross-validation XGB:')\n",
        "score_teste3 = val_model_balanced(X_ada_qtr_n, y_train_ada_qtr_n, xgb)\n",
        "print('\\nCross-validation LDA:')\n",
        "score_teste4 = val_model_balanced(X_ada_qtr_n, y_train_ada_qtr_n, lda)\n",
        "print('\\nCross-validation SVC:')\n",
        "score_teste5 = val_model_balanced(X_ada_qtr_n, y_train_ada_qtr_n, svc)\n",
        "print('\\nCross-validation SGD:')\n",
        "score_teste6 = val_model_balanced(X_ada_qtr_n, y_train_ada_qtr_n, sgd)"
      ],
      "execution_count": 37,
      "outputs": [
        {
          "output_type": "stream",
          "name": "stdout",
          "text": [
            "Cross-validation RF:\n",
            "Recall: 0.8749 (+/- 0.2001)\n",
            "\n",
            "Cross-validation LR:\n",
            "Recall: 0.7929 (+/- 0.0707)\n",
            "\n",
            "Cross-validation XGB:\n",
            "Recall: 0.8580 (+/- 0.2667)\n",
            "\n",
            "Cross-validation LDA:\n",
            "Recall: 0.7962 (+/- 0.0756)\n",
            "\n",
            "Cross-validation SVC:\n",
            "Recall: 0.8695 (+/- 0.0978)\n",
            "\n",
            "Cross-validation SGD:\n",
            "Recall: 0.6560 (+/- 0.3559)\n"
          ]
        }
      ]
    },
    {
      "cell_type": "markdown",
      "metadata": {
        "id": "THnD77BARQaL"
      },
      "source": [
        "#### Balanceamento ADASYN com PowerTransformer (PWR)"
      ]
    },
    {
      "cell_type": "code",
      "metadata": {
        "colab": {
          "base_uri": "https://localhost:8080/"
        },
        "id": "lLJYkvOaSfB6",
        "outputId": "929287c2-4562-4a69-97b5-c60bf82fee84"
      },
      "source": [
        "print('Cross-validation RF:')\n",
        "score_teste1 = val_model_balanced(X_ada_pwr, y_train_ada_pwr, rf)\n",
        "print('\\nCross-validation LR:')\n",
        "score_teste2 = val_model_balanced(X_ada_pwr, y_train_ada_pwr, lr)\n",
        "print('\\nCross-validation XGB:')\n",
        "score_teste3 = val_model_balanced(X_ada_pwr, y_train_ada_pwr, xgb)\n",
        "print('\\nCross-validation LDA:')\n",
        "score_teste4 = val_model_balanced(X_ada_pwr, y_train_ada_pwr, lda)\n",
        "print('\\nCross-validation SVC:')\n",
        "score_teste5 = val_model_balanced(X_ada_pwr, y_train_ada_pwr, svc)\n",
        "print('\\nCross-validation SGD:')\n",
        "score_teste6 = val_model_balanced(X_ada_pwr, y_train_ada_pwr, sgd)"
      ],
      "execution_count": 38,
      "outputs": [
        {
          "output_type": "stream",
          "name": "stdout",
          "text": [
            "Cross-validation RF:\n",
            "Recall: 0.8715 (+/- 0.2031)\n",
            "\n",
            "Cross-validation LR:\n",
            "Recall: 0.7685 (+/- 0.0933)\n",
            "\n",
            "Cross-validation XGB:\n",
            "Recall: 0.8536 (+/- 0.2899)\n",
            "\n",
            "Cross-validation LDA:\n",
            "Recall: 0.7729 (+/- 0.0931)\n",
            "\n",
            "Cross-validation SVC:\n",
            "Recall: 0.8735 (+/- 0.0399)\n",
            "\n",
            "Cross-validation SGD:\n",
            "Recall: 0.7690 (+/- 0.1376)\n"
          ]
        }
      ]
    },
    {
      "cell_type": "markdown",
      "metadata": {
        "id": "9KdaXNhaRZAl"
      },
      "source": [
        "## Definindo Modelos para o Balanceamento RUS\n",
        "\n",
        "Após realizar a validação de todos os modelos, com os 3 tipos de balanceamento e os 5 tipos de padronização, selecionei alguns modelos que obtiveram o melhor desempenho para o Balanceamento RUS. \n",
        "\n",
        "Serão usados os modelos:\n",
        "\n",
        "\n",
        "* Linear Discriminant Analysis (LDA) - com padronização RobustScaler\n",
        "\n",
        "* SVC - com padronização RobustScaler\n",
        "\n",
        "* XGBoost (XBG) - - com padronização RobustScaler   \n",
        "\n",
        "Todos os três modelos passarão por um processo de otimização de seus respectivos hiperparâmetros, a fim de obtermos resultados ainda mais consistentes.\n",
        "\n",
        "\n",
        "\n"
      ]
    },
    {
      "cell_type": "code",
      "metadata": {
        "colab": {
          "base_uri": "https://localhost:8080/",
          "height": 514
        },
        "id": "BcUV9n5pMWSr",
        "outputId": "570ceaf9-58b9-499c-baae-4d10a5882bbf"
      },
      "source": [
        "model = []\n",
        "recall= []\n",
        "\n",
        "model.append('LinearDiscriminantAnalysis RusScaled')\n",
        "recall.append(val_model_balanced(X_rus_scaled, y_train_rus_scaled, lda, quite=True))  \n",
        "model.append('LinearDiscriminantAnalysis RusRscaled')\n",
        "recall.append(val_model_balanced(X_rus_Rscaled, y_train_rus_Rscaled, lda, quite=True))\n",
        "model.append('LinearDiscriminantAnalysis RusQTR')\n",
        "recall.append(val_model_balanced(X_rus_qtr, y_train_rus_qtr, lda, quite=True))\n",
        "model.append('LinearDiscriminantAnalysis RusQTR-N')\n",
        "recall.append(val_model_balanced(X_rus_qtr_n, y_train_rus_qtr_n, lda, quite=True))\n",
        "model.append('LinearDiscriminantAnalysis RusPWR')\n",
        "recall.append(val_model_balanced(X_rus_pwr, y_train_rus_pwr, lda, quite=True))\n",
        "\n",
        "model.append('SVC RusScaled')\n",
        "recall.append(val_model_balanced(X_rus_scaled, y_train_rus_scaled, svc, quite=True))\n",
        "model.append('SVC RusRscaled')\n",
        "recall.append(val_model_balanced(X_rus_Rscaled, y_train_rus_Rscaled, svc, quite=True))\n",
        "model.append('SVC RusQTR')\n",
        "recall.append(val_model_balanced(X_rus_qtr, y_train_rus_qtr, svc, quite=True))\n",
        "model.append('SVC RusQTR-N')\n",
        "recall.append(val_model_balanced(X_rus_qtr_n, y_train_rus_qtr_n, svc, quite=True))\n",
        "model.append('SVC RusPWR')\n",
        "recall.append(val_model_balanced(X_rus_pwr, y_train_rus_pwr, svc, quite=True))\n",
        "\n",
        "model.append('XGBoost RusScaled')\n",
        "recall.append(val_model_balanced(X_rus_scaled, y_train_rus_scaled, xgb, quite=True))  \n",
        "model.append('XGBoost RusRscaled')\n",
        "recall.append(val_model_balanced(X_rus_Rscaled, y_train_rus_Rscaled, xgb, quite=True))\n",
        "model.append('XGBoost RusQTR')\n",
        "recall.append(val_model_balanced(X_rus_qtr, y_train_rus_qtr, xgb, quite=True))\n",
        "model.append('XGBoost RusQTR-N')\n",
        "recall.append(val_model_balanced(X_rus_qtr_n, y_train_rus_qtr_n, xgb, quite=True))\n",
        "model.append('XGBoost RusPWR')\n",
        "recall.append(val_model_balanced(X_rus_pwr, y_train_rus_pwr, xgb, quite=True))\n",
        "\n",
        "\n",
        "pd.DataFrame(data=recall, index=model, columns=['Recall'])"
      ],
      "execution_count": 39,
      "outputs": [
        {
          "output_type": "execute_result",
          "data": {
            "text/html": [
              "<div>\n",
              "<style scoped>\n",
              "    .dataframe tbody tr th:only-of-type {\n",
              "        vertical-align: middle;\n",
              "    }\n",
              "\n",
              "    .dataframe tbody tr th {\n",
              "        vertical-align: top;\n",
              "    }\n",
              "\n",
              "    .dataframe thead th {\n",
              "        text-align: right;\n",
              "    }\n",
              "</style>\n",
              "<table border=\"1\" class=\"dataframe\">\n",
              "  <thead>\n",
              "    <tr style=\"text-align: right;\">\n",
              "      <th></th>\n",
              "      <th>Recall</th>\n",
              "    </tr>\n",
              "  </thead>\n",
              "  <tbody>\n",
              "    <tr>\n",
              "      <th>LinearDiscriminantAnalysis RusScaled</th>\n",
              "      <td>0.808846</td>\n",
              "    </tr>\n",
              "    <tr>\n",
              "      <th>LinearDiscriminantAnalysis RusRscaled</th>\n",
              "      <td>0.797433</td>\n",
              "    </tr>\n",
              "    <tr>\n",
              "      <th>LinearDiscriminantAnalysis RusQTR</th>\n",
              "      <td>0.804558</td>\n",
              "    </tr>\n",
              "    <tr>\n",
              "      <th>LinearDiscriminantAnalysis RusQTR-N</th>\n",
              "      <td>0.826680</td>\n",
              "    </tr>\n",
              "    <tr>\n",
              "      <th>LinearDiscriminantAnalysis RusPWR</th>\n",
              "      <td>0.809558</td>\n",
              "    </tr>\n",
              "    <tr>\n",
              "      <th>SVC RusScaled</th>\n",
              "      <td>0.800292</td>\n",
              "    </tr>\n",
              "    <tr>\n",
              "      <th>SVC RusRscaled</th>\n",
              "      <td>0.786734</td>\n",
              "    </tr>\n",
              "    <tr>\n",
              "      <th>SVC RusQTR</th>\n",
              "      <td>0.808849</td>\n",
              "    </tr>\n",
              "    <tr>\n",
              "      <th>SVC RusQTR-N</th>\n",
              "      <td>0.810991</td>\n",
              "    </tr>\n",
              "    <tr>\n",
              "      <th>SVC RusPWR</th>\n",
              "      <td>0.806711</td>\n",
              "    </tr>\n",
              "    <tr>\n",
              "      <th>XGBoost RusScaled</th>\n",
              "      <td>0.826678</td>\n",
              "    </tr>\n",
              "    <tr>\n",
              "      <th>XGBoost RusRscaled</th>\n",
              "      <td>0.800991</td>\n",
              "    </tr>\n",
              "    <tr>\n",
              "      <th>XGBoost RusQTR</th>\n",
              "      <td>0.809550</td>\n",
              "    </tr>\n",
              "    <tr>\n",
              "      <th>XGBoost RusQTR-N</th>\n",
              "      <td>0.813843</td>\n",
              "    </tr>\n",
              "    <tr>\n",
              "      <th>XGBoost RusPWR</th>\n",
              "      <td>0.835241</td>\n",
              "    </tr>\n",
              "  </tbody>\n",
              "</table>\n",
              "</div>"
            ],
            "text/plain": [
              "                                         Recall\n",
              "LinearDiscriminantAnalysis RusScaled   0.808846\n",
              "LinearDiscriminantAnalysis RusRscaled  0.797433\n",
              "LinearDiscriminantAnalysis RusQTR      0.804558\n",
              "LinearDiscriminantAnalysis RusQTR-N    0.826680\n",
              "LinearDiscriminantAnalysis RusPWR      0.809558\n",
              "SVC RusScaled                          0.800292\n",
              "SVC RusRscaled                         0.786734\n",
              "SVC RusQTR                             0.808849\n",
              "SVC RusQTR-N                           0.810991\n",
              "SVC RusPWR                             0.806711\n",
              "XGBoost RusScaled                      0.826678\n",
              "XGBoost RusRscaled                     0.800991\n",
              "XGBoost RusQTR                         0.809550\n",
              "XGBoost RusQTR-N                       0.813843\n",
              "XGBoost RusPWR                         0.835241"
            ]
          },
          "metadata": {},
          "execution_count": 39
        }
      ]
    },
    {
      "cell_type": "markdown",
      "metadata": {
        "id": "Wfj3kP8ESC8k"
      },
      "source": [
        "### Otimizando Hiperparâmetros Linear Discriminant Analysis (LDA)\n",
        "\n",
        "O modelo LDA possui poucos hiperparâmetros para serem otimizados, mas garanto que eles fazem diferença e nos darão um resultado bem interessante.\n",
        "\n",
        "Pode-se notar que:\n",
        "\n",
        "* O melhor desemepenho do modelo foi com `Shrinkage: auto` e `solver: lsqr` \n",
        "* Com essas configurações obtemos um recall de 0.80\n",
        "\n",
        "É normal que o recall seja alto na hora de realizar a otimização dos hiperparâmetros, portanto não estranhe caso o recall seja menor na avaliação de desempenho do modelo."
      ]
    },
    {
      "cell_type": "code",
      "metadata": {
        "colab": {
          "base_uri": "https://localhost:8080/"
        },
        "id": "0x9aG61IAdRX",
        "outputId": "8530c81d-1d15-4618-cd0b-396233d65843"
      },
      "source": [
        "# Modelo a ser otimizado\n",
        "lda_rus_Rscaled = LinearDiscriminantAnalysis()\n",
        "\n",
        "# Parâmetros a serem otimizados\n",
        "param_grid = {\n",
        "    'solver':('svd', 'lsqr', 'eigen'),\n",
        "    'shrinkage':('auto', 'None')\n",
        "}\n",
        "\n",
        "# Identificar melhores parâmetros\n",
        "kfold = StratifiedKFold(n_splits=10, shuffle=True)\n",
        "grid_search = GridSearchCV(lda_rus_Rscaled, param_grid, scoring='recall', n_jobs=-1, cv=kfold)\n",
        "grid_result = grid_search.fit(X_rus_Rscaled, y_train_rus_Rscaled)\n",
        "\n",
        "# Ver resultados\n",
        "print(f'Melhor: {grid_result.best_score_} para {grid_result.best_params_}')"
      ],
      "execution_count": 40,
      "outputs": [
        {
          "output_type": "stream",
          "name": "stdout",
          "text": [
            "Melhor: 0.8052887537993921 para {'shrinkage': 'auto', 'solver': 'lsqr'}\n"
          ]
        }
      ]
    },
    {
      "cell_type": "markdown",
      "metadata": {
        "id": "_bOyaPetSZkp"
      },
      "source": [
        "#### Avaliando o Desempenho do Modelo LDA\n",
        "\n",
        "Vamos realizar o treino do modelo, após isso será realizada a avaliação do desempenho final do modelo com os dados de teste, assim é possível ter uma noção de como esse modelo lida e irá lidar com dados novos."
      ]
    },
    {
      "cell_type": "code",
      "metadata": {
        "colab": {
          "base_uri": "https://localhost:8080/",
          "height": 482
        },
        "id": "UHMvs7wzDiQo",
        "outputId": "22ed4f7b-6575-46fb-88a0-85049127639e"
      },
      "source": [
        "# Modelo final\n",
        "lda_rus_Rscaled = LinearDiscriminantAnalysis(solver='lsqr', shrinkage='auto')\n",
        "\n",
        "# Treinar modelo\n",
        "lda_rus_Rscaled.fit(X_rus_Rscaled, y_train_rus_Rscaled)\n",
        "\n",
        "# Padronizar dados de Teste\n",
        "X_test_Rscaled = Rob_scaler.fit_transform(X_test)\n",
        "\n",
        "# Fazer previsões em cima dos dados de teste\n",
        "y_pred_lda = lda_rus_Rscaled.predict(X_test_Rscaled)\n",
        "\n",
        "# Plotar matriz de confusão\n",
        "skplt.metrics.plot_confusion_matrix(y_test, y_pred_lda)\n",
        "\n",
        "# Imprimir Relatório de Classificaçã\n",
        "print(classification_report(y_test, y_pred_lda, digits=4))\n",
        "\n",
        "# Imprimir área sob curva\n",
        "print('AUC: {:.4f}\\n'.format(roc_auc_score(y_test, y_pred_lda)))\n"
      ],
      "execution_count": 41,
      "outputs": [
        {
          "output_type": "stream",
          "name": "stdout",
          "text": [
            "              precision    recall  f1-score   support\n",
            "\n",
            "           0     0.8885    0.7512    0.8141      1294\n",
            "           1     0.5172    0.7388    0.6085       467\n",
            "\n",
            "    accuracy                         0.7479      1761\n",
            "   macro avg     0.7029    0.7450    0.7113      1761\n",
            "weighted avg     0.7900    0.7479    0.7595      1761\n",
            "\n",
            "AUC: 0.7450\n",
            "\n"
          ]
        },
        {
          "output_type": "display_data",
          "data": {
            "image/png": "[encoded data removed]",
            "text/plain": [
              "<Figure size 432x288 with 2 Axes>"
            ]
          },
          "metadata": {}
        }
      ]
    },
    {
      "cell_type": "markdown",
      "metadata": {
        "id": "CYdbs74bSh_U"
      },
      "source": [
        "### Otimizando Hiperparâmetros SVC\n",
        "\n",
        "O modelo SVC possui diversos parâmetros, uma quantidade considerável a mais que o modelo LDA.\n",
        "\n",
        "Devido a essa quantidade maior de parâmetros, podemos otimizar ainda mais o modelo e obter um resultado ainda melhor. Entretanto, esse modelo se sai melhor apenas na otimização.\n",
        "\n",
        "Neste primeiro momento, vou buscar quais seriam os melhores valores para os parâmetros `C` e `kernel`.\n",
        "\n",
        "* O parâmetro `Kernel` seleciona o tipo de hiperplano usado para separar os dados. O uso de 'linear' utilizará um hiperplano linear (uma linha no caso de dados 2D). O 'rbf' e o 'poly' usam um hiperplano não linear \n",
        "\n",
        "* `C` é o parâmetro de penalidade do termo de erro. Ele controla o trade off entre o limite de decisão suave e a classificação correta dos pontos de treinamento. \n",
        "\n",
        "\n",
        "\n"
      ]
    },
    {
      "cell_type": "code",
      "metadata": {
        "colab": {
          "base_uri": "https://localhost:8080/"
        },
        "id": "DUCCPAJdFs9o",
        "outputId": "fa97b666-f4f8-43ff-960c-1500ca2dd5a2"
      },
      "source": [
        "svc_rus_Rscaled = SVC()\n",
        "param_grid = {\n",
        "    'C':[0.01, 0.1, 1.0, 10],\n",
        "    'kernel':('linear', 'poly', 'rbf', 'sigmoid')\n",
        "      \n",
        "}\n",
        "\n",
        "kfold = StratifiedKFold(n_splits=10, shuffle=True)\n",
        "grid_search = GridSearchCV(svc_rus_Rscaled, param_grid, scoring='recall', n_jobs=-1, cv=kfold)\n",
        "grid_result = grid_search.fit(X_rus_Rscaled, y_train_rus_Rscaled)\n",
        "\n",
        "print(f'Melhor: {grid_result.best_score_} para {grid_result.best_params_}')"
      ],
      "execution_count": 42,
      "outputs": [
        {
          "output_type": "stream",
          "name": "stdout",
          "text": [
            "Melhor: 0.9236372847011145 para {'C': 0.01, 'kernel': 'poly'}\n"
          ]
        }
      ]
    },
    {
      "cell_type": "markdown",
      "metadata": {
        "id": "DIuiWmYAWIjT"
      },
      "source": [
        "Uma vez com os parâmetros `C` e `kernel` definidos e tendo um hiperplano não linear, podemos começar as buscas pelo melhor parâmetero `gamma` e aproveitar para buscar pelo parâmetro `degree`.\n",
        "\n",
        "* `gamma` é um parâmetro para hiperplanos não lineares. Quanto mais alto o valor `gamma`, ele tenta se ajustar exatamente ao conjunto de dados de treinamento, isso pode gerar um problema quando os valores são muito altos, causando o overfitting.\n",
        "\n",
        "* `degree` é um parâmetro usado quando o kernel é definido como 'poly'. É basicamente o grau do polinômio usado para encontrar o hiperplano para dividir os dados."
      ]
    },
    {
      "cell_type": "code",
      "metadata": {
        "colab": {
          "base_uri": "https://localhost:8080/"
        },
        "id": "DouY9HxiGjSr",
        "outputId": "b39a3097-8c10-429f-83bd-51b7930d06af"
      },
      "source": [
        "svc_rus_Rscaled = SVC(C=0.01, kernel='poly')\n",
        "param_grid = {\n",
        "    'degree':[3, 5, 7],\n",
        "    'gamma':[1, 1.5]\n",
        "      \n",
        "}\n",
        "\n",
        "kfold = StratifiedKFold(n_splits=10, shuffle=True)\n",
        "grid_search = GridSearchCV(svc_rus_Rscaled, param_grid, scoring='recall', n_jobs=-1, cv=kfold)\n",
        "grid_result = grid_search.fit(X_rus_Rscaled, y_train_rus_Rscaled)\n",
        "\n",
        "print(f'Melhor: {grid_result.best_score_} para {grid_result.best_params_}')\n"
      ],
      "execution_count": 43,
      "outputs": [
        {
          "output_type": "stream",
          "name": "stdout",
          "text": [
            "Melhor: 0.7859979736575481 para {'degree': 3, 'gamma': 1}\n"
          ]
        }
      ]
    },
    {
      "cell_type": "markdown",
      "metadata": {
        "id": "wMMWOb88Su_k"
      },
      "source": [
        "#### Avaliando o Desempenho do Modelo SVC\n",
        "\n",
        "É possível notar que houve uma diminuição no desempenho, mesmo estando com os parâmetros otimizados, mas com isso podemos ter um resultado mais consistente do que se os parâmetros fossem mantidos em seus valores padrão.\n",
        "\n",
        "Vamos treinar o modelo em cima do dataset de treino e testar seu desempenho com os dados de teste, vamos levar em consideração a métrica `recall`, assim pode-se saber se o modelo está se saindo bem em identificar o Churn."
      ]
    },
    {
      "cell_type": "code",
      "metadata": {
        "colab": {
          "base_uri": "https://localhost:8080/",
          "height": 482
        },
        "id": "kQ7lAM_wHSJk",
        "outputId": "c2d8bc04-9b57-4d3a-c2a1-62cec7e44132"
      },
      "source": [
        "svc_rus_Rscaled = SVC(C=0.01, kernel='poly', degree=3, gamma=1)\n",
        "\n",
        "svc_rus_Rscaled.fit(X_rus_Rscaled, y_train_rus_Rscaled)\n",
        "\n",
        "y_pred_SvcRus = svc_rus_Rscaled.predict(X_test_Rscaled)\n",
        "\n",
        "skplt.metrics.plot_confusion_matrix(y_test, y_pred_SvcRus)\n",
        "\n",
        "print(classification_report(y_test, y_pred_SvcRus, digits=4))\n",
        "\n",
        "print('AUC: {:.4f}\\n'.format(roc_auc_score(y_test, y_pred_SvcRus)))\n"
      ],
      "execution_count": 85,
      "outputs": [
        {
          "output_type": "stream",
          "name": "stdout",
          "text": [
            "              precision    recall  f1-score   support\n",
            "\n",
            "           0     0.8724    0.7241    0.7914      1294\n",
            "           1     0.4803    0.7066    0.5719       467\n",
            "\n",
            "    accuracy                         0.7195      1761\n",
            "   macro avg     0.6764    0.7154    0.6817      1761\n",
            "weighted avg     0.7685    0.7195    0.7332      1761\n",
            "\n",
            "AUC: 0.7154\n",
            "\n"
          ]
        },
        {
          "output_type": "display_data",
          "data": {
            "image/png": "[encoded data removed]",
            "text/plain": [
              "<Figure size 432x288 with 2 Axes>"
            ]
          },
          "metadata": {}
        }
      ]
    },
    {
      "cell_type": "markdown",
      "metadata": {
        "id": "tPK249v8S8Xs"
      },
      "source": [
        "### Otimizando Hiperparâmetros XGBoost (XGB)"
      ]
    },
    {
      "cell_type": "code",
      "metadata": {
        "colab": {
          "base_uri": "https://localhost:8080/"
        },
        "id": "nnWHLOYkB0QV",
        "outputId": "f0abe9d8-4785-4754-b1ad-bc2ee530a178"
      },
      "source": [
        "xgb_rus_Rscaled = XGBClassifier(learning_rate=0.01)\n",
        "param_grid = {\n",
        "    'n_estimators':[100, 200, 1000],\n",
        "}\n",
        "\n",
        "kfold = StratifiedKFold(n_splits=10, shuffle=True)\n",
        "grid_search = GridSearchCV(xgb_rus_Rscaled, param_grid, scoring='recall', n_jobs=-1, cv=kfold)\n",
        "grid_result = grid_search.fit(X_rus_Rscaled, y_train_rus_Rscaled)\n",
        "\n",
        "print(f'Melhor: {grid_result.best_score_} para {grid_result.best_params_}')"
      ],
      "execution_count": 45,
      "outputs": [
        {
          "output_type": "stream",
          "name": "stdout",
          "text": [
            "Melhor: 0.8380851063829787 para {'n_estimators': 200}\n"
          ]
        }
      ]
    },
    {
      "cell_type": "code",
      "metadata": {
        "colab": {
          "base_uri": "https://localhost:8080/"
        },
        "id": "g1t9MCxHFrNW",
        "outputId": "6517efb3-6a15-4654-a1e3-e7cbac629b51"
      },
      "source": [
        "xgb_rus_Rscaled = XGBClassifier(learning_rate=0.01, n_estimators=200)\n",
        "param_grid = {\n",
        "    'max_depth':[1, 3, 6],\n",
        "    'min_chil_weitght':[1, 5, 10]\n",
        "}\n",
        "\n",
        "kfold = StratifiedKFold(n_splits=10, shuffle=True)\n",
        "grid_search = GridSearchCV(xgb_rus_Rscaled, param_grid, scoring='recall', n_jobs=-1, cv=kfold)\n",
        "grid_result = grid_search.fit(X_rus_Rscaled, y_train_rus_Rscaled)\n",
        "\n",
        "print(f'Melhor: {grid_result.best_score_} para {grid_result.best_params_}')"
      ],
      "execution_count": 46,
      "outputs": [
        {
          "output_type": "stream",
          "name": "stdout",
          "text": [
            "Melhor: 0.8580395136778115 para {'max_depth': 1, 'min_chil_weitght': 1}\n"
          ]
        }
      ]
    },
    {
      "cell_type": "code",
      "metadata": {
        "colab": {
          "base_uri": "https://localhost:8080/"
        },
        "id": "e4G1NSU9G37P",
        "outputId": "8588ac15-e8d8-47da-ff06-df8ea5308890"
      },
      "source": [
        "xgb_rus_Rscaled = XGBClassifier(learning_rate=0.01, n_estimators=200, max_depth=1, min_child_weight=1)\n",
        "param_grid = {\n",
        "    'gamma':[0, 1, 5]\n",
        "}\n",
        "\n",
        "kfold = StratifiedKFold(n_splits=10, shuffle=True)\n",
        "grid_search = GridSearchCV(xgb_rus_Rscaled, param_grid, scoring='recall', n_jobs=-1, cv=kfold)\n",
        "grid_result = grid_search.fit(X_rus_Rscaled, y_train_rus_Rscaled)\n",
        "\n",
        "print(f'Melhor: {grid_result.best_score_} para {grid_result.best_params_}')"
      ],
      "execution_count": 47,
      "outputs": [
        {
          "output_type": "stream",
          "name": "stdout",
          "text": [
            "Melhor: 0.8573353596757853 para {'gamma': 0}\n"
          ]
        }
      ]
    },
    {
      "cell_type": "code",
      "metadata": {
        "colab": {
          "base_uri": "https://localhost:8080/"
        },
        "id": "n64Z1pRwHq_p",
        "outputId": "32b94cfb-d6a5-43bf-dde5-da665a876643"
      },
      "source": [
        "xgb_rus_Rscaled = XGBClassifier(n_estimators=200, max_depth=1, min_child_weight=1, gamma=0)\n",
        "param_grid = {\n",
        "    'learnig_rate':[0.01, 0.015, 0.1]\n",
        "}\n",
        "\n",
        "kfold = StratifiedKFold(n_splits=10, shuffle=True)\n",
        "grid_search = GridSearchCV(xgb_rus_Rscaled, param_grid, scoring='recall', n_jobs=-1, cv=kfold)\n",
        "grid_result = grid_search.fit(X_rus_Rscaled, y_train_rus_Rscaled)\n",
        "\n",
        "print(f'Melhor: {grid_result.best_score_} para {grid_result.best_params_}')"
      ],
      "execution_count": 48,
      "outputs": [
        {
          "output_type": "stream",
          "name": "stdout",
          "text": [
            "Melhor: 0.8095542046605877 para {'learnig_rate': 0.01}\n"
          ]
        }
      ]
    },
    {
      "cell_type": "markdown",
      "metadata": {
        "id": "yqHdHcdeTFcg"
      },
      "source": [
        "#### Avaliando o Desempenho do Modelo XGB"
      ]
    },
    {
      "cell_type": "code",
      "metadata": {
        "colab": {
          "base_uri": "https://localhost:8080/",
          "height": 482
        },
        "id": "Rt4qqAoXIZgx",
        "outputId": "f699b3c4-ff59-4381-e636-0b57bde0f4bd"
      },
      "source": [
        "xgb_rus_Rscaled = XGBClassifier(learning_rate=0.01,n_estimators=200, max_depth=1, min_child_weight=1, gamma=0)\n",
        "\n",
        "xgb_rus_Rscaled.fit(X_rus_Rscaled, y_train_rus_Rscaled)\n",
        "\n",
        "y_pred_XgbRus = xgb_rus_Rscaled.predict(X_test_Rscaled)\n",
        "\n",
        "skplt.metrics.plot_confusion_matrix(y_test, y_pred_XgbRus)\n",
        "\n",
        "print(classification_report(y_test, y_pred_XgbRus, digits=4))\n",
        "\n",
        "print('AUC: {:.4f}\\n'.format(roc_auc_score(y_test, y_pred_XgbRus)))\n"
      ],
      "execution_count": 49,
      "outputs": [
        {
          "output_type": "stream",
          "name": "stdout",
          "text": [
            "              precision    recall  f1-score   support\n",
            "\n",
            "           0     0.9080    0.6638    0.7670      1294\n",
            "           1     0.4663    0.8137    0.5928       467\n",
            "\n",
            "    accuracy                         0.7036      1761\n",
            "   macro avg     0.6871    0.7388    0.6799      1761\n",
            "weighted avg     0.7909    0.7036    0.7208      1761\n",
            "\n",
            "AUC: 0.7388\n",
            "\n"
          ]
        },
        {
          "output_type": "display_data",
          "data": {
            "image/png": "[encoded data removed]",
            "text/plain": [
              "<Figure size 432x288 with 2 Axes>"
            ]
          },
          "metadata": {}
        }
      ]
    },
    {
      "cell_type": "markdown",
      "metadata": {
        "id": "tuItBaSnUgzo"
      },
      "source": [
        "## Método Ensemble para os Modelos do Balanceamento RUS"
      ]
    },
    {
      "cell_type": "code",
      "metadata": {
        "colab": {
          "base_uri": "https://localhost:8080/",
          "height": 173
        },
        "id": "zfyaKz6bgaUk",
        "outputId": "d3961689-a18a-4ca8-92b8-54ab70c0e67e"
      },
      "source": [
        "xgb_ensemble_rus_Rscaled = XGBClassifier(learning_rate=0.01,n_estimators=200, max_depth=1, min_child_weight=1, gamma=0)\n",
        "lda_ensemble_rus_Rscaled = LinearDiscriminantAnalysis(solver='lsqr', shrinkage='auto') \n",
        "svc_ensemble_rus_Rscaled = SVC(C=0.01, kernel='poly', degree=3, gamma=1, probability=True)\n",
        "voting_clf_rus = VotingClassifier(estimators=[('XGB', xgb_ensemble_rus_Rscaled), ('LDA', lda_ensemble_rus_Rscaled), ('SVC', svc_ensemble_rus_Rscaled)])\n",
        "\n",
        "\n",
        "for model in (xgb_ensemble_rus_Rscaled, lda_ensemble_rus_Rscaled, svc_ensemble_rus_Rscaled, voting_clf_rus):\n",
        "  model.fit(X_rus_Rscaled, y_train_rus_Rscaled)\n",
        "\n",
        "model = []\n",
        "AUC = []\n",
        "\n",
        "for clf in (xgb_ensemble_rus_Rscaled, lda_ensemble_rus_Rscaled, svc_ensemble_rus_Rscaled, voting_clf_rus):\n",
        "  y_pred_ensemble = clf.predict(X_test_Rscaled)\n",
        "  model.append(clf.__class__.__name__)\n",
        "  AUC.append(roc_auc_score(y_test, y_pred_ensemble))\n",
        "\n",
        "\n",
        "pd.DataFrame(data=AUC, index=model, columns=[\"AUC\"])\n"
      ],
      "execution_count": 50,
      "outputs": [
        {
          "output_type": "execute_result",
          "data": {
            "text/html": [
              "<div>\n",
              "<style scoped>\n",
              "    .dataframe tbody tr th:only-of-type {\n",
              "        vertical-align: middle;\n",
              "    }\n",
              "\n",
              "    .dataframe tbody tr th {\n",
              "        vertical-align: top;\n",
              "    }\n",
              "\n",
              "    .dataframe thead th {\n",
              "        text-align: right;\n",
              "    }\n",
              "</style>\n",
              "<table border=\"1\" class=\"dataframe\">\n",
              "  <thead>\n",
              "    <tr style=\"text-align: right;\">\n",
              "      <th></th>\n",
              "      <th>AUC</th>\n",
              "    </tr>\n",
              "  </thead>\n",
              "  <tbody>\n",
              "    <tr>\n",
              "      <th>XGBClassifier</th>\n",
              "      <td>0.738769</td>\n",
              "    </tr>\n",
              "    <tr>\n",
              "      <th>LinearDiscriminantAnalysis</th>\n",
              "      <td>0.744959</td>\n",
              "    </tr>\n",
              "    <tr>\n",
              "      <th>SVC</th>\n",
              "      <td>0.715375</td>\n",
              "    </tr>\n",
              "    <tr>\n",
              "      <th>VotingClassifier</th>\n",
              "      <td>0.747994</td>\n",
              "    </tr>\n",
              "  </tbody>\n",
              "</table>\n",
              "</div>"
            ],
            "text/plain": [
              "                                 AUC\n",
              "XGBClassifier               0.738769\n",
              "LinearDiscriminantAnalysis  0.744959\n",
              "SVC                         0.715375\n",
              "VotingClassifier            0.747994"
            ]
          },
          "metadata": {},
          "execution_count": 50
        }
      ]
    },
    {
      "cell_type": "markdown",
      "metadata": {
        "id": "toOfn4X1UsZC"
      },
      "source": [
        "### Otimizando Hiperparâmetros Voting Classifier"
      ]
    },
    {
      "cell_type": "code",
      "metadata": {
        "colab": {
          "base_uri": "https://localhost:8080/"
        },
        "id": "WTRM9Zd6MyTB",
        "outputId": "0c740c95-810c-4485-e92b-54aa46096376"
      },
      "source": [
        "voting_clf_rus = VotingClassifier(estimators=[('XGB', xgb_ensemble_rus_Rscaled), ('LDA', lda_ensemble_rus_Rscaled), ('SVC', svc_ensemble_rus_Rscaled)])\n",
        "\n",
        "param_grid = {\n",
        "      'voting':('hard', 'soft')\n",
        "}\n",
        "\n",
        "kfold = StratifiedKFold(n_splits=10, shuffle=True)\n",
        "grid_search = GridSearchCV(voting_clf_rus, param_grid, scoring='recall', n_jobs=-1, cv=kfold)\n",
        "grid_result = grid_search.fit(X_rus_Rscaled, y_train_rus_Rscaled)\n",
        "\n",
        "print(f'Melhor: {grid_result.best_score_} para {grid_result.best_params_}')"
      ],
      "execution_count": 51,
      "outputs": [
        {
          "output_type": "stream",
          "name": "stdout",
          "text": [
            "Melhor: 0.8009726443768997 para {'voting': 'hard'}\n"
          ]
        }
      ]
    },
    {
      "cell_type": "code",
      "metadata": {
        "colab": {
          "base_uri": "https://localhost:8080/"
        },
        "id": "ypmvmbQ4Nm03",
        "outputId": "01e80a05-45dc-4ee6-e87e-234668e408f2"
      },
      "source": [
        "voting_clf_rus = VotingClassifier(estimators=[('XGB', xgb_ensemble_rus_Rscaled), ('LDA', lda_ensemble_rus_Rscaled), ('SVC', svc_ensemble_rus_Rscaled)]\n",
        "                              , voting='hard')\n",
        "param_grid = {\n",
        "        'n_jobs':range(-1, 3, 4)\n",
        "}\n",
        "\n",
        "kfold = StratifiedKFold(n_splits=10, shuffle=True)\n",
        "grid_search = GridSearchCV(voting_clf_rus, param_grid, scoring='recall', n_jobs=-1, cv=kfold)\n",
        "grid_result = grid_search.fit(X_rus_Rscaled, y_train_rus_Rscaled)\n",
        "\n",
        "print(f'Melhor: {grid_result.best_score_} para {grid_result.best_params_}')\n"
      ],
      "execution_count": 52,
      "outputs": [
        {
          "output_type": "stream",
          "name": "stdout",
          "text": [
            "Melhor: 0.8066869300911854 para {'n_jobs': -1}\n"
          ]
        }
      ]
    },
    {
      "cell_type": "markdown",
      "metadata": {
        "id": "5OYWsjjVU_Dm"
      },
      "source": [
        "#### Avaliando o Desempenho do Voting Classifier"
      ]
    },
    {
      "cell_type": "code",
      "metadata": {
        "colab": {
          "base_uri": "https://localhost:8080/",
          "height": 482
        },
        "id": "TdIMGokPOV5-",
        "outputId": "6c11e05c-dbcc-4bf5-db05-ff104cc2da33"
      },
      "source": [
        "voting_clf_rus = VotingClassifier(estimators=[('XGB', xgb_ensemble_rus_Rscaled), ('LDA', lda_ensemble_rus_Rscaled), ('SVC', svc_ensemble_rus_Rscaled)]\n",
        "                              , voting='hard', n_jobs=-1)\n",
        "\n",
        "voting_clf_rus.fit(X_rus_Rscaled, y_train_rus_Rscaled)\n",
        "\n",
        "y_pred_voting_clf_rus = voting_clf_rus.predict(X_test_Rscaled)\n",
        "\n",
        "skplt.metrics.plot_confusion_matrix(y_test, y_pred_voting_clf_rus)\n",
        "\n",
        "print(classification_report(y_test, y_pred_voting_clf_rus, digits=4))\n",
        "\n",
        "print('AUC: {:.4f}\\n'.format(roc_auc_score(y_test, y_pred_voting_clf_rus)))\n"
      ],
      "execution_count": 53,
      "outputs": [
        {
          "output_type": "stream",
          "name": "stdout",
          "text": [
            "              precision    recall  f1-score   support\n",
            "\n",
            "           0     0.8920    0.7465    0.8128      1294\n",
            "           1     0.5162    0.7495    0.6114       467\n",
            "\n",
            "    accuracy                         0.7473      1761\n",
            "   macro avg     0.7041    0.7480    0.7121      1761\n",
            "weighted avg     0.7923    0.7473    0.7594      1761\n",
            "\n",
            "AUC: 0.7480\n",
            "\n"
          ]
        },
        {
          "output_type": "display_data",
          "data": {
            "image/png": "[encoded data removed]",
            "text/plain": [
              "<Figure size 432x288 with 2 Axes>"
            ]
          },
          "metadata": {}
        }
      ]
    },
    {
      "cell_type": "markdown",
      "metadata": {
        "id": "xstxntEXL8Fu"
      },
      "source": [
        "## Definindo Modelos para o Balanceamento SMOTE"
      ]
    },
    {
      "cell_type": "code",
      "metadata": {
        "colab": {
          "base_uri": "https://localhost:8080/",
          "height": 514
        },
        "id": "YKdU6Dv48ODJ",
        "outputId": "f9fae7e1-c544-4bb8-a1e6-cda9713bad7c"
      },
      "source": [
        "model = []\n",
        "recall= []\n",
        "\n",
        "model.append('Random Forest SmoScaled')\n",
        "recall.append(val_model_balanced(X_smo_scaled, y_train_smo_scaled, rf, quite=True))  \n",
        "model.append('Random Forest SmoRscaled')\n",
        "recall.append(val_model_balanced(X_smo_Rscaled, y_train_smo_Rscaled, rf, quite=True))\n",
        "model.append('Random Forest SmoQTR')\n",
        "recall.append(val_model_balanced(X_smo_qtr, y_train_smo_qtr, rf, quite=True))\n",
        "model.append('Random Forest SmoQTR-N')\n",
        "recall.append(val_model_balanced(X_smo_qtr_n, y_train_smo_qtr_n, rf, quite=True))\n",
        "model.append('Random Forest SmoPWR')\n",
        "recall.append(val_model_balanced(X_smo_pwr, y_train_smo_pwr, rf, quite=True))\n",
        "\n",
        "model.append('XGBoost smoScaled')\n",
        "recall.append(val_model_balanced(X_smo_scaled, y_train_smo_scaled, xgb, quite=True))\n",
        "model.append('XGBoost smoRscaled')\n",
        "recall.append(val_model_balanced(X_smo_Rscaled, y_train_smo_Rscaled, xgb, quite=True))\n",
        "model.append('XGBoost smoQTR')\n",
        "recall.append(val_model_balanced(X_smo_qtr, y_train_smo_qtr, xgb, quite=True))\n",
        "model.append('XGBoost smoQTR-N')\n",
        "recall.append(val_model_balanced(X_smo_qtr_n, y_train_smo_qtr_n, xgb, quite=True))\n",
        "model.append('XGBoost smoPWR')\n",
        "recall.append(val_model_balanced(X_smo_pwr, y_train_smo_pwr, xgb, quite=True))\n",
        "\n",
        "model.append('LinearDiscriminantAnalysis smoScaled')\n",
        "recall.append(val_model_balanced(X_smo_scaled, y_train_smo_scaled, lda, quite=True))  \n",
        "model.append('LinearDiscriminantAnalysis smoRscaled')\n",
        "recall.append(val_model_balanced(X_smo_Rscaled, y_train_smo_Rscaled, lda, quite=True))\n",
        "model.append('LinearDiscriminantAnalysis smoQTR')\n",
        "recall.append(val_model_balanced(X_smo_qtr, y_train_smo_qtr, lda, quite=True))\n",
        "model.append('LinearDiscriminantAnalysis smoQTR-N')\n",
        "recall.append(val_model_balanced(X_smo_qtr_n, y_train_smo_qtr_n, lda, quite=True))\n",
        "model.append('LinearDiscriminantAnalysis smoPWR')\n",
        "recall.append(val_model_balanced(X_smo_pwr, y_train_smo_pwr, lda, quite=True))\n",
        "\n",
        "pd.DataFrame(data=recall, index=model, columns=['Recall'])"
      ],
      "execution_count": 54,
      "outputs": [
        {
          "output_type": "execute_result",
          "data": {
            "text/html": [
              "<div>\n",
              "<style scoped>\n",
              "    .dataframe tbody tr th:only-of-type {\n",
              "        vertical-align: middle;\n",
              "    }\n",
              "\n",
              "    .dataframe tbody tr th {\n",
              "        vertical-align: top;\n",
              "    }\n",
              "\n",
              "    .dataframe thead th {\n",
              "        text-align: right;\n",
              "    }\n",
              "</style>\n",
              "<table border=\"1\" class=\"dataframe\">\n",
              "  <thead>\n",
              "    <tr style=\"text-align: right;\">\n",
              "      <th></th>\n",
              "      <th>Recall</th>\n",
              "    </tr>\n",
              "  </thead>\n",
              "  <tbody>\n",
              "    <tr>\n",
              "      <th>Random Forest SmoScaled</th>\n",
              "      <td>0.873711</td>\n",
              "    </tr>\n",
              "    <tr>\n",
              "      <th>Random Forest SmoRscaled</th>\n",
              "      <td>0.872165</td>\n",
              "    </tr>\n",
              "    <tr>\n",
              "      <th>Random Forest SmoQTR</th>\n",
              "      <td>0.870103</td>\n",
              "    </tr>\n",
              "    <tr>\n",
              "      <th>Random Forest SmoQTR-N</th>\n",
              "      <td>0.879124</td>\n",
              "    </tr>\n",
              "    <tr>\n",
              "      <th>Random Forest SmoPWR</th>\n",
              "      <td>0.867784</td>\n",
              "    </tr>\n",
              "    <tr>\n",
              "      <th>XGBoost smoScaled</th>\n",
              "      <td>0.855670</td>\n",
              "    </tr>\n",
              "    <tr>\n",
              "      <th>XGBoost smoRscaled</th>\n",
              "      <td>0.859536</td>\n",
              "    </tr>\n",
              "    <tr>\n",
              "      <th>XGBoost smoQTR</th>\n",
              "      <td>0.863144</td>\n",
              "    </tr>\n",
              "    <tr>\n",
              "      <th>XGBoost smoQTR-N</th>\n",
              "      <td>0.866237</td>\n",
              "    </tr>\n",
              "    <tr>\n",
              "      <th>XGBoost smoPWR</th>\n",
              "      <td>0.859536</td>\n",
              "    </tr>\n",
              "    <tr>\n",
              "      <th>LinearDiscriminantAnalysis smoScaled</th>\n",
              "      <td>0.820361</td>\n",
              "    </tr>\n",
              "    <tr>\n",
              "      <th>LinearDiscriminantAnalysis smoRscaled</th>\n",
              "      <td>0.816753</td>\n",
              "    </tr>\n",
              "    <tr>\n",
              "      <th>LinearDiscriminantAnalysis smoQTR</th>\n",
              "      <td>0.813918</td>\n",
              "    </tr>\n",
              "    <tr>\n",
              "      <th>LinearDiscriminantAnalysis smoQTR-N</th>\n",
              "      <td>0.832216</td>\n",
              "    </tr>\n",
              "    <tr>\n",
              "      <th>LinearDiscriminantAnalysis smoPWR</th>\n",
              "      <td>0.820361</td>\n",
              "    </tr>\n",
              "  </tbody>\n",
              "</table>\n",
              "</div>"
            ],
            "text/plain": [
              "                                         Recall\n",
              "Random Forest SmoScaled                0.873711\n",
              "Random Forest SmoRscaled               0.872165\n",
              "Random Forest SmoQTR                   0.870103\n",
              "Random Forest SmoQTR-N                 0.879124\n",
              "Random Forest SmoPWR                   0.867784\n",
              "XGBoost smoScaled                      0.855670\n",
              "XGBoost smoRscaled                     0.859536\n",
              "XGBoost smoQTR                         0.863144\n",
              "XGBoost smoQTR-N                       0.866237\n",
              "XGBoost smoPWR                         0.859536\n",
              "LinearDiscriminantAnalysis smoScaled   0.820361\n",
              "LinearDiscriminantAnalysis smoRscaled  0.816753\n",
              "LinearDiscriminantAnalysis smoQTR      0.813918\n",
              "LinearDiscriminantAnalysis smoQTR-N    0.832216\n",
              "LinearDiscriminantAnalysis smoPWR      0.820361"
            ]
          },
          "metadata": {},
          "execution_count": 54
        }
      ]
    },
    {
      "cell_type": "markdown",
      "metadata": {
        "id": "v3tFdVE9McD4"
      },
      "source": [
        "### Otimizando Hiperparâmetros do Modelo Random Forest (RF)"
      ]
    },
    {
      "cell_type": "code",
      "metadata": {
        "colab": {
          "base_uri": "https://localhost:8080/"
        },
        "id": "0mGlidWiJWMD",
        "outputId": "10b51c85-13cf-43b8-96b0-7bc13735aa74"
      },
      "source": [
        "rf_smo_Rscaled = RandomForestClassifier()\n",
        "param_grid = {\n",
        "  'bootstrap': [True, False],\n",
        "  'max_depth': [5, 10, 20, 30, 40, 50, None],\n",
        "\n",
        "}\n",
        "\n",
        "kfold = StratifiedKFold(n_splits=10, shuffle=True)\n",
        "grid_search = GridSearchCV(rf_smo_Rscaled, param_grid, scoring='recall', n_jobs=-1, cv=kfold)\n",
        "grid_result = grid_search.fit(X_smo_Rscaled, y_train_smo_Rscaled)\n",
        "\n",
        "print(f'Melhor: {grid_result.best_score_} para {grid_result.best_params_}')"
      ],
      "execution_count": 55,
      "outputs": [
        {
          "output_type": "stream",
          "name": "stdout",
          "text": [
            "Melhor: 0.8984536082474225 para {'bootstrap': False, 'max_depth': 10}\n"
          ]
        }
      ]
    },
    {
      "cell_type": "code",
      "metadata": {
        "colab": {
          "base_uri": "https://localhost:8080/"
        },
        "id": "M297rPacMhlf",
        "outputId": "a907dbc3-6191-4f8d-dded-dba4db3c19ea"
      },
      "source": [
        "rf_smo_Rscaled = RandomForestClassifier(bootstrap=False, max_depth=10)\n",
        "param_grid = {\n",
        "    'max_features':[2, 3, 5],\n",
        "    'min_samples_leaf':[3, 4, 5]\n",
        "}\n",
        "\n",
        "kfold = StratifiedKFold(n_splits=10, shuffle=True)\n",
        "grid_search = GridSearchCV(rf_smo_Rscaled, param_grid, scoring='recall', n_jobs=-1, cv=kfold)\n",
        "grid_result = grid_search.fit(X_smo_Rscaled, y_train_smo_Rscaled)\n",
        "\n",
        "print(f'Melhor: {grid_result.best_score_} para {grid_result.best_params_}')"
      ],
      "execution_count": 56,
      "outputs": [
        {
          "output_type": "stream",
          "name": "stdout",
          "text": [
            "Melhor: 0.8940721649484538 para {'max_features': 5, 'min_samples_leaf': 3}\n"
          ]
        }
      ]
    },
    {
      "cell_type": "code",
      "metadata": {
        "colab": {
          "base_uri": "https://localhost:8080/"
        },
        "id": "JlRgsofOM2ba",
        "outputId": "e49bdffa-28fa-4e9f-9726-a35067316b2f"
      },
      "source": [
        "rf_smo_Rscaled = RandomForestClassifier(bootstrap=False, max_depth=10, max_features=2, min_samples_leaf=3)\n",
        "param_grid = {\n",
        "    'min_samples_split':[6, 8, 10, 12],\n",
        "    'n_estimators':[100, 200, 300]\n",
        "}\n",
        "\n",
        "kfold = StratifiedKFold(n_splits=10, shuffle=True)\n",
        "grid_search = GridSearchCV(rf_smo_Rscaled, param_grid, scoring='recall', n_jobs=-1, cv=kfold)\n",
        "grid_result = grid_search.fit(X_smo_Rscaled, y_train_smo_Rscaled)\n",
        "\n",
        "print(f'Melhor: {grid_result.best_score_} para {grid_result.best_params_}')"
      ],
      "execution_count": 57,
      "outputs": [
        {
          "output_type": "stream",
          "name": "stdout",
          "text": [
            "Melhor: 0.8945876288659793 para {'min_samples_split': 8, 'n_estimators': 300}\n"
          ]
        }
      ]
    },
    {
      "cell_type": "markdown",
      "metadata": {
        "id": "aYEyWHLBMnT4"
      },
      "source": [
        "#### Avaliando o Desempenho do Modelo RF"
      ]
    },
    {
      "cell_type": "code",
      "metadata": {
        "colab": {
          "base_uri": "https://localhost:8080/",
          "height": 482
        },
        "id": "9NVtKbUyPqUp",
        "outputId": "b27784d3-6267-4229-e390-6e5fd6f2685f"
      },
      "source": [
        "rf_smo_Rscaled = RandomForestClassifier(bootstrap=False, max_depth=10, max_features=2, min_samples_leaf=3, min_samples_split=6, n_estimators=100)\n",
        "\n",
        "rf_smo_Rscaled.fit(X_smo_Rscaled, y_train_smo_Rscaled)\n",
        "\n",
        "y_pred_rfSmo = rf_smo_Rscaled.predict(X_test_Rscaled)\n",
        "\n",
        "skplt.metrics.plot_confusion_matrix(y_test, y_pred_rfSmo)\n",
        "\n",
        "print(classification_report(y_test, y_pred_rfSmo, digits=4))\n",
        "\n",
        "print('AUC: {:.4f}\\n'.format(roc_auc_score(y_test, y_pred_rfSmo)))\n",
        "\n"
      ],
      "execution_count": 58,
      "outputs": [
        {
          "output_type": "stream",
          "name": "stdout",
          "text": [
            "              precision    recall  f1-score   support\n",
            "\n",
            "           0     0.8794    0.8060    0.8411      1294\n",
            "           1     0.5635    0.6938    0.6219       467\n",
            "\n",
            "    accuracy                         0.7763      1761\n",
            "   macro avg     0.7215    0.7499    0.7315      1761\n",
            "weighted avg     0.7956    0.7763    0.7830      1761\n",
            "\n",
            "AUC: 0.7499\n",
            "\n"
          ]
        },
        {
          "output_type": "display_data",
          "data": {
            "image/png": "[encoded data removed]",
            "text/plain": [
              "<Figure size 432x288 with 2 Axes>"
            ]
          },
          "metadata": {}
        }
      ]
    },
    {
      "cell_type": "markdown",
      "metadata": {
        "id": "Pk0nhkxEM3se"
      },
      "source": [
        "### Otimizando Hiperparâmetros Modelo XGBoost (XGB) \n"
      ]
    },
    {
      "cell_type": "code",
      "metadata": {
        "colab": {
          "base_uri": "https://localhost:8080/"
        },
        "id": "PXjH0q0PQmIF",
        "outputId": "dd5bd94e-57e2-40ba-c965-99dc5b7a755c"
      },
      "source": [
        "xgb_smo_Rscaled = XGBClassifier(learning_rate=0.01)\n",
        "param_grid = {\n",
        "  'n_estimators':[100, 200, 300, 400],\n",
        "  'max_depth':[1, 2, 3]\n",
        "}\n",
        "\n",
        "kfold = StratifiedKFold(n_splits=10, shuffle=True)\n",
        "grid_search = GridSearchCV(xgb_smo_Rscaled, param_grid, scoring='recall', n_jobs=-1, cv=kfold)\n",
        "grid_result = grid_search.fit(X_smo_Rscaled, y_train_smo_Rscaled)\n",
        "\n",
        "print(f'Melhor: {grid_result.best_score_} para {grid_result.best_params_}')"
      ],
      "execution_count": 59,
      "outputs": [
        {
          "output_type": "stream",
          "name": "stdout",
          "text": [
            "Melhor: 0.9077319587628866 para {'max_depth': 1, 'n_estimators': 100}\n"
          ]
        }
      ]
    },
    {
      "cell_type": "code",
      "metadata": {
        "colab": {
          "base_uri": "https://localhost:8080/"
        },
        "id": "kA6BI7_DRsFo",
        "outputId": "95dc57b3-d6b0-4788-9c37-7ae29872ea3b"
      },
      "source": [
        "xgb_smo_Rscaled = XGBClassifier(learning_rate=0.01, n_estimators=100, max_depth=1)\n",
        "param_grid = {\n",
        "  'min_child_weight':[1, 3, 5],\n",
        "  'gamma':[0, 1, 5]\n",
        "}\n",
        "\n",
        "kfold = StratifiedKFold(n_splits=10, shuffle=True)\n",
        "grid_search = GridSearchCV(xgb_smo_Rscaled, param_grid, scoring='recall', n_jobs=-1, cv=kfold)\n",
        "grid_result = grid_search.fit(X_smo_Rscaled, y_train_smo_Rscaled)\n",
        "\n",
        "print(f'Melhor: {grid_result.best_score_} para {grid_result.best_params_}')"
      ],
      "execution_count": 60,
      "outputs": [
        {
          "output_type": "stream",
          "name": "stdout",
          "text": [
            "Melhor: 0.9077319587628866 para {'gamma': 0, 'min_child_weight': 1}\n"
          ]
        }
      ]
    },
    {
      "cell_type": "code",
      "metadata": {
        "colab": {
          "base_uri": "https://localhost:8080/"
        },
        "id": "9nNHpo4eR-VM",
        "outputId": "b3f99775-c98a-488f-b631-b60e9c97203f"
      },
      "source": [
        "xgb_smo_Rscaled = XGBClassifier(n_estimators=100, max_depth=1, min_child_weight=1, gamma=0)\n",
        "param_grid = {\n",
        "  'learning_rate':[0.01, 0.02, 0.04, 0.1]\n",
        "}\n",
        "\n",
        "kfold = StratifiedKFold(n_splits=10, shuffle=True)\n",
        "grid_search = GridSearchCV(xgb_smo_Rscaled, param_grid, scoring='recall', n_jobs=-1, cv=kfold)\n",
        "grid_result = grid_search.fit(X_smo_Rscaled, y_train_smo_Rscaled)\n",
        "\n",
        "print(f'Melhor: {grid_result.best_score_} para {grid_result.best_params_}')"
      ],
      "execution_count": 61,
      "outputs": [
        {
          "output_type": "stream",
          "name": "stdout",
          "text": [
            "Melhor: 0.9077319587628866 para {'learning_rate': 0.01}\n"
          ]
        }
      ]
    },
    {
      "cell_type": "markdown",
      "metadata": {
        "id": "WZQXXbIsM-tf"
      },
      "source": [
        "#### Avaliando o Desempenho do Modelo XGB \n"
      ]
    },
    {
      "cell_type": "code",
      "metadata": {
        "colab": {
          "base_uri": "https://localhost:8080/",
          "height": 482
        },
        "id": "98LNrYBPSTxd",
        "outputId": "4ae55b9c-bded-458e-e942-6d7e9745cfb4"
      },
      "source": [
        "xgb_smo_Rscaled = XGBClassifier(learning_rate=0.01, n_estimators=100, max_depth=1, min_child_weight=1, gamma=0)\n",
        "\n",
        "xgb_smo_Rscaled.fit(X_smo_Rscaled, y_train_smo_Rscaled)\n",
        "\n",
        "y_pred_Xgbsmo = xgb_smo_Rscaled.predict(X_test_Rscaled)\n",
        "\n",
        "skplt.metrics.plot_confusion_matrix(y_test, y_pred_Xgbsmo)\n",
        "\n",
        "print(classification_report(y_test, y_pred_Xgbsmo, digits=4))\n",
        "\n",
        "print('AUC: {:.4f}\\n'.format(roc_auc_score(y_test, y_pred_Xgbsmo)))\n"
      ],
      "execution_count": 62,
      "outputs": [
        {
          "output_type": "stream",
          "name": "stdout",
          "text": [
            "              precision    recall  f1-score   support\n",
            "\n",
            "           0     0.9194    0.5641    0.6992      1294\n",
            "           1     0.4168    0.8630    0.5621       467\n",
            "\n",
            "    accuracy                         0.6434      1761\n",
            "   macro avg     0.6681    0.7135    0.6306      1761\n",
            "weighted avg     0.7861    0.6434    0.6629      1761\n",
            "\n",
            "AUC: 0.7135\n",
            "\n"
          ]
        },
        {
          "output_type": "display_data",
          "data": {
            "image/png": "[encoded data removed]",
            "text/plain": [
              "<Figure size 432x288 with 2 Axes>"
            ]
          },
          "metadata": {}
        }
      ]
    },
    {
      "cell_type": "markdown",
      "metadata": {
        "id": "XbJSJ3GuNJ98"
      },
      "source": [
        "### Otimizando Hiperparâmetros do Modelo Linear Discriminant Analysis (LDA)"
      ]
    },
    {
      "cell_type": "code",
      "metadata": {
        "colab": {
          "base_uri": "https://localhost:8080/"
        },
        "id": "MpWheR4P99A7",
        "outputId": "cec72097-4741-46e8-f348-e59f434297f3"
      },
      "source": [
        "lda_smo_Rscaled = LinearDiscriminantAnalysis()\n",
        "param_grid = {\n",
        "  'solver':('svd', 'lsqr', 'eigen'),\n",
        "  'shrinkage':[0, 1, 0.01]\n",
        "}\n",
        "\n",
        "kfold = StratifiedKFold(n_splits=10, shuffle=True)\n",
        "grid_search = GridSearchCV(lda_smo_Rscaled, param_grid, scoring='recall', n_jobs=-1, cv=kfold)\n",
        "grid_result = grid_search.fit(X_smo_Rscaled, y_train_smo_Rscaled)\n",
        "\n",
        "print(f'Melhor: {grid_result.best_score_} para {grid_result.best_params_}')"
      ],
      "execution_count": 63,
      "outputs": [
        {
          "output_type": "stream",
          "name": "stdout",
          "text": [
            "Melhor: 0.8332474226804123 para {'shrinkage': 1, 'solver': 'lsqr'}\n"
          ]
        }
      ]
    },
    {
      "cell_type": "markdown",
      "metadata": {
        "id": "DFvx1EoUNiOQ"
      },
      "source": [
        "#### Avaliando o Desempenho do Modelo LDA"
      ]
    },
    {
      "cell_type": "code",
      "metadata": {
        "colab": {
          "base_uri": "https://localhost:8080/",
          "height": 482
        },
        "id": "SpIXm4Cj_BcY",
        "outputId": "93b094e5-70ae-4ea9-baa5-2af944dbbc04"
      },
      "source": [
        "lda_smo_Rscaled = LinearDiscriminantAnalysis(solver='lsqr', shrinkage=1)\n",
        "\n",
        "lda_smo_Rscaled.fit(X_smo_Rscaled, y_train_smo_Rscaled)\n",
        "\n",
        "y_pred_ldasmo = lda_smo_Rscaled.predict(X_test_Rscaled)\n",
        "\n",
        "skplt.metrics.plot_confusion_matrix(y_test, y_pred_ldasmo)\n",
        "\n",
        "print(classification_report(y_test, y_pred_ldasmo, digits=4))\n",
        "\n",
        "print('AUC: {:.4f}\\n'.format(roc_auc_score(y_test, y_pred_ldasmo)))\n"
      ],
      "execution_count": 64,
      "outputs": [
        {
          "output_type": "stream",
          "name": "stdout",
          "text": [
            "              precision    recall  f1-score   support\n",
            "\n",
            "           0     0.8954    0.7280    0.8031      1294\n",
            "           1     0.5035    0.7645    0.6071       467\n",
            "\n",
            "    accuracy                         0.7376      1761\n",
            "   macro avg     0.6995    0.7462    0.7051      1761\n",
            "weighted avg     0.7915    0.7376    0.7511      1761\n",
            "\n",
            "AUC: 0.7462\n",
            "\n"
          ]
        },
        {
          "output_type": "display_data",
          "data": {
            "image/png": "[encoded data removed]",
            "text/plain": [
              "<Figure size 432x288 with 2 Axes>"
            ]
          },
          "metadata": {}
        }
      ]
    },
    {
      "cell_type": "markdown",
      "metadata": {
        "id": "4vDKLQwpNpla"
      },
      "source": [
        "## Método Ensemble para os Modelos do Balanceamento SMOTE"
      ]
    },
    {
      "cell_type": "code",
      "metadata": {
        "colab": {
          "base_uri": "https://localhost:8080/",
          "height": 173
        },
        "id": "5h44A8LlcghL",
        "outputId": "184b0248-63f4-48d6-961d-e21d90984bd0"
      },
      "source": [
        "rf_ensemble_smo_Rscaled = RandomForestClassifier(bootstrap=False, max_depth=10, max_features=2, min_samples_leaf=3, min_samples_split=6, n_estimators=100)\n",
        "lda_ensemble_smo_Rscaled = LinearDiscriminantAnalysis(solver='lsqr', shrinkage='auto') \n",
        "xgb_ensemble_smo_Rscaled = XGBClassifier(learning_rate=0.01, n_estimators=100, max_depth=1, min_child_weight=1, gamma=0)\n",
        "voting_clf_smo = VotingClassifier(estimators=[('RF', rf_ensemble_smo_Rscaled), ('LDA', lda_ensemble_smo_Rscaled), ('XGB', xgb_ensemble_smo_Rscaled)])\n",
        "\n",
        "\n",
        "for model in (rf_ensemble_smo_Rscaled, lda_ensemble_smo_Rscaled, xgb_ensemble_smo_Rscaled, voting_clf_smo):\n",
        "  model.fit(X_smo_Rscaled, y_train_smo_Rscaled)\n",
        "\n",
        "model = []\n",
        "AUC = []\n",
        "\n",
        "for clf in (rf_ensemble_smo_Rscaled, lda_ensemble_smo_Rscaled, xgb_ensemble_smo_Rscaled, voting_clf_smo):\n",
        "  y_pred_ensemble = clf.predict(X_test_Rscaled)\n",
        "  model.append(clf.__class__.__name__)\n",
        "  AUC.append(roc_auc_score(y_test, y_pred_ensemble))\n",
        "\n",
        "\n",
        "pd.DataFrame(data=AUC, index=model, columns=[\"AUC\"])"
      ],
      "execution_count": 65,
      "outputs": [
        {
          "output_type": "execute_result",
          "data": {
            "text/html": [
              "<div>\n",
              "<style scoped>\n",
              "    .dataframe tbody tr th:only-of-type {\n",
              "        vertical-align: middle;\n",
              "    }\n",
              "\n",
              "    .dataframe tbody tr th {\n",
              "        vertical-align: top;\n",
              "    }\n",
              "\n",
              "    .dataframe thead th {\n",
              "        text-align: right;\n",
              "    }\n",
              "</style>\n",
              "<table border=\"1\" class=\"dataframe\">\n",
              "  <thead>\n",
              "    <tr style=\"text-align: right;\">\n",
              "      <th></th>\n",
              "      <th>AUC</th>\n",
              "    </tr>\n",
              "  </thead>\n",
              "  <tbody>\n",
              "    <tr>\n",
              "      <th>RandomForestClassifier</th>\n",
              "      <td>0.746576</td>\n",
              "    </tr>\n",
              "    <tr>\n",
              "      <th>LinearDiscriminantAnalysis</th>\n",
              "      <td>0.742077</td>\n",
              "    </tr>\n",
              "    <tr>\n",
              "      <th>XGBClassifier</th>\n",
              "      <td>0.713549</td>\n",
              "    </tr>\n",
              "    <tr>\n",
              "      <th>VotingClassifier</th>\n",
              "      <td>0.748501</td>\n",
              "    </tr>\n",
              "  </tbody>\n",
              "</table>\n",
              "</div>"
            ],
            "text/plain": [
              "                                 AUC\n",
              "RandomForestClassifier      0.746576\n",
              "LinearDiscriminantAnalysis  0.742077\n",
              "XGBClassifier               0.713549\n",
              "VotingClassifier            0.748501"
            ]
          },
          "metadata": {},
          "execution_count": 65
        }
      ]
    },
    {
      "cell_type": "markdown",
      "metadata": {
        "id": "VBzUsjUGOI0m"
      },
      "source": [
        "### Otimizando Hiperparâmetros Voting Classifier"
      ]
    },
    {
      "cell_type": "code",
      "metadata": {
        "colab": {
          "base_uri": "https://localhost:8080/"
        },
        "id": "k6uBNgzpeglE",
        "outputId": "8283148d-82f3-42a0-cff5-b76f10816965"
      },
      "source": [
        "voting_clf_smo = VotingClassifier(estimators=[('RF', rf_ensemble_smo_Rscaled), ('LDA', lda_ensemble_smo_Rscaled), ('XGB', xgb_ensemble_smo_Rscaled)])\n",
        "param_grid = {\n",
        "      'voting':('hard', 'soft')\n",
        "}\n",
        "\n",
        "kfold = StratifiedKFold(n_splits=10, shuffle=True)\n",
        "grid_search = GridSearchCV(voting_clf_smo, param_grid, scoring='recall', n_jobs=-1, cv=kfold)\n",
        "grid_result = grid_search.fit(X_smo_Rscaled, y_train_smo_Rscaled)\n",
        "\n",
        "print(f'Melhor: {grid_result.best_score_} para {grid_result.best_params_}')"
      ],
      "execution_count": 66,
      "outputs": [
        {
          "output_type": "stream",
          "name": "stdout",
          "text": [
            "Melhor: 0.8688144329896907 para {'voting': 'hard'}\n"
          ]
        }
      ]
    },
    {
      "cell_type": "code",
      "metadata": {
        "colab": {
          "base_uri": "https://localhost:8080/"
        },
        "id": "98OZtTqVeyBO",
        "outputId": "91d1dd4e-2ece-4e31-c2d8-61b081f35af5"
      },
      "source": [
        "voting_clf_smo = VotingClassifier(estimators=[('RF', rf_ensemble_smo_Rscaled), ('LDA', lda_ensemble_smo_Rscaled)], voting='hard')\n",
        "param_grid = {\n",
        "      'n_jobs':[1, 2, 3, -1]\n",
        "}\n",
        "\n",
        "kfold = StratifiedKFold(n_splits=10, shuffle=True)\n",
        "grid_search = GridSearchCV(voting_clf_smo, param_grid, scoring='recall', n_jobs=-1, cv=kfold)\n",
        "grid_result = grid_search.fit(X_smo_Rscaled, y_train_smo_Rscaled)\n",
        "\n",
        "print(f'Melhor: {grid_result.best_score_} para {grid_result.best_params_}')"
      ],
      "execution_count": 67,
      "outputs": [
        {
          "output_type": "stream",
          "name": "stdout",
          "text": [
            "Melhor: 0.7974226804123712 para {'n_jobs': -1}\n"
          ]
        }
      ]
    },
    {
      "cell_type": "markdown",
      "metadata": {
        "id": "Pem8XZ8ZOQfs"
      },
      "source": [
        "#### Avaliando o Desempenho do Voting Classifier"
      ]
    },
    {
      "cell_type": "code",
      "metadata": {
        "colab": {
          "base_uri": "https://localhost:8080/",
          "height": 482
        },
        "id": "qg9Z8E8SfNiO",
        "outputId": "15e05743-8019-4030-af78-c66f074191c5"
      },
      "source": [
        "voting_clf_smo = VotingClassifier(estimators=[('RF', rf_ensemble_smo_Rscaled), ('LDA', lda_ensemble_smo_Rscaled)], voting='hard', n_jobs=2)\n",
        "\n",
        "voting_clf_smo.fit(X_smo_Rscaled, y_train_smo_Rscaled)\n",
        "\n",
        "y_pred_voting_clf_smo = voting_clf_smo.predict(X_test_Rscaled)\n",
        "\n",
        "skplt.metrics.plot_confusion_matrix(y_test, y_pred_voting_clf_smo)\n",
        "\n",
        "print(classification_report(y_test, y_pred_voting_clf_smo, digits=4))\n",
        "\n",
        "print('AUC: {:.4f}\\n'.format(roc_auc_score(y_test, y_pred_voting_clf_smo)))"
      ],
      "execution_count": 68,
      "outputs": [
        {
          "output_type": "stream",
          "name": "stdout",
          "text": [
            "              precision    recall  f1-score   support\n",
            "\n",
            "           0     0.8690    0.8153    0.8413      1294\n",
            "           1     0.5631    0.6595    0.6075       467\n",
            "\n",
            "    accuracy                         0.7740      1761\n",
            "   macro avg     0.7160    0.7374    0.7244      1761\n",
            "weighted avg     0.7879    0.7740    0.7793      1761\n",
            "\n",
            "AUC: 0.7374\n",
            "\n"
          ]
        },
        {
          "output_type": "display_data",
          "data": {
            "image/png": "[encoded data removed]",
            "text/plain": [
              "<Figure size 432x288 with 2 Axes>"
            ]
          },
          "metadata": {}
        }
      ]
    },
    {
      "cell_type": "markdown",
      "metadata": {
        "id": "BoLo56NpOkjW"
      },
      "source": [
        "## Definindo Modelos para o Balanceamento ADASYN"
      ]
    },
    {
      "cell_type": "code",
      "metadata": {
        "colab": {
          "base_uri": "https://localhost:8080/",
          "height": 514
        },
        "id": "PfqUIXfbhuK_",
        "outputId": "45f26d60-9392-4e44-bda0-c5ae87487a32"
      },
      "source": [
        "model = []\n",
        "recall= []\n",
        "\n",
        "model.append('Random Forest adaScaled')\n",
        "recall.append(val_model_balanced(X_ada_scaled, y_train_ada_scaled, rf, quite=True))  \n",
        "model.append('Random Forest adaRscaled')\n",
        "recall.append(val_model_balanced(X_ada_Rscaled, y_train_ada_Rscaled, rf, quite=True))\n",
        "model.append('Random Forest adaQTR')\n",
        "recall.append(val_model_balanced(X_ada_qtr, y_train_ada_qtr, rf, quite=True))\n",
        "model.append('Random Forest adaQTR-N')\n",
        "recall.append(val_model_balanced(X_ada_qtr_n, y_train_ada_qtr_n, rf, quite=True))\n",
        "model.append('Random Forest adaPWR')\n",
        "recall.append(val_model_balanced(X_ada_pwr, y_train_ada_pwr, rf, quite=True))\n",
        "\n",
        "model.append('XGBoost adaScaled')\n",
        "recall.append(val_model_balanced(X_ada_scaled, y_train_ada_scaled, xgb, quite=True))\n",
        "model.append('XGBoost adaRscaled')\n",
        "recall.append(val_model_balanced(X_ada_Rscaled, y_train_ada_Rscaled, xgb, quite=True))\n",
        "model.append('XGBoost adaQTR')\n",
        "recall.append(val_model_balanced(X_ada_qtr, y_train_ada_qtr, xgb, quite=True))\n",
        "model.append('XGBoost adaQTR-N')\n",
        "recall.append(val_model_balanced(X_ada_qtr_n, y_train_ada_qtr_n, xgb, quite=True))\n",
        "model.append('XGBoost adaPWR')\n",
        "recall.append(val_model_balanced(X_ada_pwr, y_train_ada_pwr, xgb, quite=True))\n",
        "\n",
        "model.append('Lda adaScaled')\n",
        "recall.append(val_model_balanced(X_ada_scaled, y_train_ada_scaled, lda, quite=True))  \n",
        "model.append('Lda adaRscaled')\n",
        "recall.append(val_model_balanced(X_ada_Rscaled, y_train_ada_Rscaled, lda, quite=True))\n",
        "model.append('Lda adaQTR')\n",
        "recall.append(val_model_balanced(X_ada_qtr, y_train_ada_qtr, lda, quite=True))\n",
        "model.append('Lda adaQTR-N')\n",
        "recall.append(val_model_balanced(X_ada_qtr_n, y_train_ada_qtr_n, lda, quite=True))\n",
        "model.append('Lda adaPWR')\n",
        "recall.append(val_model_balanced(X_ada_pwr, y_train_ada_pwr, lda, quite=True))\n",
        "\n",
        "pd.DataFrame(data=recall, index=model, columns=['Recall'])"
      ],
      "execution_count": 69,
      "outputs": [
        {
          "output_type": "execute_result",
          "data": {
            "text/html": [
              "<div>\n",
              "<style scoped>\n",
              "    .dataframe tbody tr th:only-of-type {\n",
              "        vertical-align: middle;\n",
              "    }\n",
              "\n",
              "    .dataframe tbody tr th {\n",
              "        vertical-align: top;\n",
              "    }\n",
              "\n",
              "    .dataframe thead th {\n",
              "        text-align: right;\n",
              "    }\n",
              "</style>\n",
              "<table border=\"1\" class=\"dataframe\">\n",
              "  <thead>\n",
              "    <tr style=\"text-align: right;\">\n",
              "      <th></th>\n",
              "      <th>Recall</th>\n",
              "    </tr>\n",
              "  </thead>\n",
              "  <tbody>\n",
              "    <tr>\n",
              "      <th>Random Forest adaScaled</th>\n",
              "      <td>0.878273</td>\n",
              "    </tr>\n",
              "    <tr>\n",
              "      <th>Random Forest adaRscaled</th>\n",
              "      <td>0.876430</td>\n",
              "    </tr>\n",
              "    <tr>\n",
              "      <th>Random Forest adaQTR</th>\n",
              "      <td>0.880804</td>\n",
              "    </tr>\n",
              "    <tr>\n",
              "      <th>Random Forest adaQTR-N</th>\n",
              "      <td>0.878782</td>\n",
              "    </tr>\n",
              "    <tr>\n",
              "      <th>Random Forest adaPWR</th>\n",
              "      <td>0.872784</td>\n",
              "    </tr>\n",
              "    <tr>\n",
              "      <th>XGBoost adaScaled</th>\n",
              "      <td>0.853629</td>\n",
              "    </tr>\n",
              "    <tr>\n",
              "      <th>XGBoost adaRscaled</th>\n",
              "      <td>0.853075</td>\n",
              "    </tr>\n",
              "    <tr>\n",
              "      <th>XGBoost adaQTR</th>\n",
              "      <td>0.856611</td>\n",
              "    </tr>\n",
              "    <tr>\n",
              "      <th>XGBoost adaQTR-N</th>\n",
              "      <td>0.858036</td>\n",
              "    </tr>\n",
              "    <tr>\n",
              "      <th>XGBoost adaPWR</th>\n",
              "      <td>0.853566</td>\n",
              "    </tr>\n",
              "    <tr>\n",
              "      <th>Lda adaScaled</th>\n",
              "      <td>0.784913</td>\n",
              "    </tr>\n",
              "    <tr>\n",
              "      <th>Lda adaRscaled</th>\n",
              "      <td>0.783673</td>\n",
              "    </tr>\n",
              "    <tr>\n",
              "      <th>Lda adaQTR</th>\n",
              "      <td>0.779280</td>\n",
              "    </tr>\n",
              "    <tr>\n",
              "      <th>Lda adaQTR-N</th>\n",
              "      <td>0.796194</td>\n",
              "    </tr>\n",
              "    <tr>\n",
              "      <th>Lda adaPWR</th>\n",
              "      <td>0.772874</td>\n",
              "    </tr>\n",
              "  </tbody>\n",
              "</table>\n",
              "</div>"
            ],
            "text/plain": [
              "                            Recall\n",
              "Random Forest adaScaled   0.878273\n",
              "Random Forest adaRscaled  0.876430\n",
              "Random Forest adaQTR      0.880804\n",
              "Random Forest adaQTR-N    0.878782\n",
              "Random Forest adaPWR      0.872784\n",
              "XGBoost adaScaled         0.853629\n",
              "XGBoost adaRscaled        0.853075\n",
              "XGBoost adaQTR            0.856611\n",
              "XGBoost adaQTR-N          0.858036\n",
              "XGBoost adaPWR            0.853566\n",
              "Lda adaScaled             0.784913\n",
              "Lda adaRscaled            0.783673\n",
              "Lda adaQTR                0.779280\n",
              "Lda adaQTR-N              0.796194\n",
              "Lda adaPWR                0.772874"
            ]
          },
          "metadata": {},
          "execution_count": 69
        }
      ]
    },
    {
      "cell_type": "markdown",
      "metadata": {
        "id": "Lj5lEzAdO4CE"
      },
      "source": [
        "### Otimizando Hiperparâmetros do Modelo Random Forest (RF)"
      ]
    },
    {
      "cell_type": "code",
      "metadata": {
        "colab": {
          "base_uri": "https://localhost:8080/"
        },
        "id": "4vgKHL5dinSy",
        "outputId": "955f5149-de32-43d6-e79d-ed022dff2a87"
      },
      "source": [
        "rf_ada_qtr = RandomForestClassifier()\n",
        "param_grid = {\n",
        "  'bootstrap': [True, False],\n",
        "  'max_depth': [5, 10, 20, 30, 40, 50, None],\n",
        "\n",
        "}\n",
        "\n",
        "kfold = StratifiedKFold(n_splits=10, shuffle=True)\n",
        "grid_search = GridSearchCV(rf_ada_qtr, param_grid, scoring='recall', n_jobs=-1, cv=kfold)\n",
        "grid_result = grid_search.fit(X_ada_qtr, y_train_ada_qtr)\n",
        "\n",
        "print(f'Melhor: {grid_result.best_score_} para {grid_result.best_params_}')"
      ],
      "execution_count": 70,
      "outputs": [
        {
          "output_type": "stream",
          "name": "stdout",
          "text": [
            "Melhor: 0.9147675774520975 para {'bootstrap': False, 'max_depth': 10}\n"
          ]
        }
      ]
    },
    {
      "cell_type": "code",
      "metadata": {
        "colab": {
          "base_uri": "https://localhost:8080/"
        },
        "id": "ymxSHX-5jQjY",
        "outputId": "0455ae8e-f654-4822-9d80-eb7fafcbc64e"
      },
      "source": [
        "rf_ada_qtr = RandomForestClassifier(bootstrap=False, max_depth=10)\n",
        "param_grid = {\n",
        "  'max_features': [3, 4, 5, 6],\n",
        "  'min_samples_leaf': [2, 3, 4, 5, 6],\n",
        "\n",
        "}\n",
        "\n",
        "kfold = StratifiedKFold(n_splits=10, shuffle=True)\n",
        "grid_search = GridSearchCV(rf_ada_qtr, param_grid, scoring='recall', n_jobs=-1, cv=kfold)\n",
        "grid_result = grid_search.fit(X_ada_qtr, y_train_ada_qtr)\n",
        "\n",
        "print(f'Melhor: {grid_result.best_score_} para {grid_result.best_params_}')"
      ],
      "execution_count": 71,
      "outputs": [
        {
          "output_type": "stream",
          "name": "stdout",
          "text": [
            "Melhor: 0.9145052076431771 para {'max_features': 3, 'min_samples_leaf': 2}\n"
          ]
        }
      ]
    },
    {
      "cell_type": "code",
      "metadata": {
        "colab": {
          "base_uri": "https://localhost:8080/"
        },
        "id": "qh_R4Wv_mux9",
        "outputId": "dbc7eb24-70d7-4e2e-df42-86a253db499c"
      },
      "source": [
        "rf_ada_qtr = RandomForestClassifier(bootstrap=False, max_depth=10, max_features=5, min_samples_leaf=2)\n",
        "param_grid = {\n",
        "    'min_samples_split':[8, 10, 12, 16],\n",
        "    'n_estimators':[200, 300, 400],\n",
        "\n",
        "}\n",
        "\n",
        "kfold = StratifiedKFold(n_splits=10, shuffle=True)\n",
        "grid_search = GridSearchCV(rf_ada_qtr, param_grid, scoring='recall', n_jobs=-1, cv=kfold)\n",
        "grid_result = grid_search.fit(X_ada_qtr, y_train_ada_qtr)\n",
        "\n",
        "print(f'Melhor: {grid_result.best_score_} para {grid_result.best_params_}')"
      ],
      "execution_count": 72,
      "outputs": [
        {
          "output_type": "stream",
          "name": "stdout",
          "text": [
            "Melhor: 0.9142368748840537 para {'min_samples_split': 8, 'n_estimators': 200}\n"
          ]
        }
      ]
    },
    {
      "cell_type": "markdown",
      "metadata": {
        "id": "HNCExuIWPCvU"
      },
      "source": [
        "#### Avaliando o Desempenho do Modelo RF"
      ]
    },
    {
      "cell_type": "code",
      "metadata": {
        "colab": {
          "base_uri": "https://localhost:8080/",
          "height": 482
        },
        "id": "RmnkMj8Kp0FJ",
        "outputId": "dbe3c5ef-b17c-4e93-8ede-01cf3cab9477"
      },
      "source": [
        "rf_ada_qtr = RandomForestClassifier(bootstrap=False, max_depth=10, max_features=5, min_samples_leaf=2, n_estimators=300, min_samples_split=8)\n",
        "\n",
        "rf_ada_qtr.fit(X_ada_qtr, y_train_ada_qtr)\n",
        "X_test_qtr = qtr.fit_transform(X_test)\n",
        "\n",
        "y_pred_rfAda = rf_ada_qtr.predict(X_test_qtr)\n",
        "\n",
        "skplt.metrics.plot_confusion_matrix(y_test, y_pred_rfAda)\n",
        "\n",
        "print(classification_report(y_test, y_pred_rfAda, digits=4))\n",
        "\n",
        "print('AUC: {:.4f}\\n'.format(roc_auc_score(y_test, y_pred_rfAda)))\n"
      ],
      "execution_count": 73,
      "outputs": [
        {
          "output_type": "stream",
          "name": "stdout",
          "text": [
            "              precision    recall  f1-score   support\n",
            "\n",
            "           0     0.8765    0.7682    0.8188      1294\n",
            "           1     0.5215    0.7002    0.5978       467\n",
            "\n",
            "    accuracy                         0.7501      1761\n",
            "   macro avg     0.6990    0.7342    0.7083      1761\n",
            "weighted avg     0.7824    0.7501    0.7602      1761\n",
            "\n",
            "AUC: 0.7342\n",
            "\n"
          ]
        },
        {
          "output_type": "display_data",
          "data": {
            "image/png": "[encoded data removed]",
            "text/plain": [
              "<Figure size 432x288 with 2 Axes>"
            ]
          },
          "metadata": {}
        }
      ]
    },
    {
      "cell_type": "markdown",
      "metadata": {
        "id": "A22P-d83PH_q"
      },
      "source": [
        "### Otimizando Hiperparâmetros do Modelo XGBoost (XGB)"
      ]
    },
    {
      "cell_type": "code",
      "metadata": {
        "colab": {
          "base_uri": "https://localhost:8080/"
        },
        "id": "pEfXCzJxwosB",
        "outputId": "347e8ff6-ccd6-4e0c-aa12-5393cbcc1aee"
      },
      "source": [
        "xgb_ada_qtr = XGBClassifier(learning_rate=0.01)\n",
        "param_grid = {\n",
        "    'n_estimators':[400, 500, 600],\n",
        "    'max_depth':[3, 4, 5, 6]\n",
        "\n",
        "}\n",
        "\n",
        "kfold = StratifiedKFold(n_splits=10, shuffle=True)\n",
        "grid_search = GridSearchCV(xgb_ada_qtr, param_grid, scoring='recall', n_jobs=-1, cv=kfold)\n",
        "grid_result = grid_search.fit(X_ada_qtr, y_train_ada_qtr)\n",
        "\n",
        "print(f'Melhor: {grid_result.best_score_} para {grid_result.best_params_}')"
      ],
      "execution_count": 74,
      "outputs": [
        {
          "output_type": "stream",
          "name": "stdout",
          "text": [
            "Melhor: 0.8964792091802931 para {'max_depth': 3, 'n_estimators': 400}\n"
          ]
        }
      ]
    },
    {
      "cell_type": "code",
      "metadata": {
        "colab": {
          "base_uri": "https://localhost:8080/"
        },
        "id": "gh4u1kqPxJ2c",
        "outputId": "644c7e77-1aeb-4c39-e37e-1f4a187ece40"
      },
      "source": [
        "xgb_ada_qtr = XGBClassifier(learning_rate=0.01, max_depth=5, n_estimators=400)\n",
        "param_grid = {\n",
        "  'gamma':[0, 1, 5],\n",
        "  'min_child_weight':[1, 3, 5]\n",
        "}\n",
        "\n",
        "kfold = StratifiedKFold(n_splits=10, shuffle=True)\n",
        "grid_search = GridSearchCV(xgb_ada_qtr, param_grid, scoring='recall', n_jobs=-1, cv=kfold)\n",
        "grid_result = grid_search.fit(X_ada_qtr, y_train_ada_qtr)\n",
        "\n",
        "print(f'Melhor: {grid_result.best_score_} para {grid_result.best_params_}')"
      ],
      "execution_count": 75,
      "outputs": [
        {
          "output_type": "stream",
          "name": "stdout",
          "text": [
            "Melhor: 0.8918300956722233 para {'gamma': 5, 'min_child_weight': 5}\n"
          ]
        }
      ]
    },
    {
      "cell_type": "code",
      "metadata": {
        "colab": {
          "base_uri": "https://localhost:8080/"
        },
        "id": "2fg7drOK0sOK",
        "outputId": "5f652b92-483e-4f99-9e4f-107012fb6294"
      },
      "source": [
        "xgb_ada_qtr = XGBClassifier(max_depth=5, n_estimators=400, gamma=1, min_child_weight=1)\n",
        "param_grid = {\n",
        "  'learning_rate':[0.01, 0.05, 0.1]\n",
        "}\n",
        "\n",
        "kfold = StratifiedKFold(n_splits=10, shuffle=True)\n",
        "grid_search = GridSearchCV(xgb_ada_qtr, param_grid, scoring='recall', n_jobs=-1, cv=kfold)\n",
        "grid_result = grid_search.fit(X_ada_qtr, y_train_ada_qtr)\n",
        "\n",
        "print(f'Melhor: {grid_result.best_score_} para {grid_result.best_params_}')"
      ],
      "execution_count": 76,
      "outputs": [
        {
          "output_type": "stream",
          "name": "stdout",
          "text": [
            "Melhor: 0.890544086078499 para {'learning_rate': 0.01}\n"
          ]
        }
      ]
    },
    {
      "cell_type": "markdown",
      "metadata": {
        "id": "vzGYqknBPTog"
      },
      "source": [
        "#### Avaliando o Desempenho do Modelo XGB"
      ]
    },
    {
      "cell_type": "code",
      "metadata": {
        "colab": {
          "base_uri": "https://localhost:8080/",
          "height": 482
        },
        "id": "-3hcVJr72Cwz",
        "outputId": "f9846af8-6d1d-416a-cbc8-2a8509131cf1"
      },
      "source": [
        "xgb_ada_qtr = XGBClassifier(learning_rate=0.01, max_depth=5, n_estimators=400, gamma=1, min_child_weight=1)\n",
        "xgb_ada_qtr.fit(X_ada_qtr, y_train_ada_qtr)\n",
        "\n",
        "y_pred_xgbAda = xgb_ada_qtr.predict(X_test_qtr)\n",
        "\n",
        "skplt.metrics.plot_confusion_matrix(y_test, y_pred_xgbAda)\n",
        "\n",
        "print(classification_report(y_test, y_pred_xgbAda, digits=4))\n",
        "\n",
        "print('AUC: {:.4f}\\n'.format(roc_auc_score(y_test, y_pred_xgbAda)))"
      ],
      "execution_count": 77,
      "outputs": [
        {
          "output_type": "stream",
          "name": "stdout",
          "text": [
            "              precision    recall  f1-score   support\n",
            "\n",
            "           0     0.8734    0.7782    0.8230      1294\n",
            "           1     0.5280    0.6874    0.5972       467\n",
            "\n",
            "    accuracy                         0.7541      1761\n",
            "   macro avg     0.7007    0.7328    0.7101      1761\n",
            "weighted avg     0.7818    0.7541    0.7632      1761\n",
            "\n",
            "AUC: 0.7328\n",
            "\n"
          ]
        },
        {
          "output_type": "display_data",
          "data": {
            "image/png": "[encoded data removed]",
            "text/plain": [
              "<Figure size 432x288 with 2 Axes>"
            ]
          },
          "metadata": {}
        }
      ]
    },
    {
      "cell_type": "markdown",
      "metadata": {
        "id": "tqtBWjQsPcpm"
      },
      "source": [
        "### Otimizando Hiperparâmetros do Modelo Linear Discriminant Analysis (LDA)"
      ]
    },
    {
      "cell_type": "code",
      "metadata": {
        "colab": {
          "base_uri": "https://localhost:8080/"
        },
        "id": "PqPDB81J2ucB",
        "outputId": "5c3e717b-9099-4430-99b8-15218497e427"
      },
      "source": [
        "lda_ada_qtr = LinearDiscriminantAnalysis()\n",
        "param_grid = {\n",
        "    'solver':['lsqr', 'svd', 'eigen'],\n",
        "    'shrinkage':[0, 1, 0.01]\n",
        "      \n",
        "}\n",
        "\n",
        "kfold = StratifiedKFold(n_splits=10, shuffle=True)\n",
        "grid_search = GridSearchCV(lda_ada_qtr, param_grid, scoring='recall', n_jobs=-1, cv=kfold)\n",
        "grid_result = grid_search.fit(X_ada_qtr, y_train_ada_qtr)\n",
        "\n",
        "print(f'Melhor: {grid_result.best_score_} para {grid_result.best_params_}')"
      ],
      "execution_count": 78,
      "outputs": [
        {
          "output_type": "stream",
          "name": "stdout",
          "text": [
            "Melhor: 0.7883152678027191 para {'shrinkage': 1, 'solver': 'lsqr'}\n"
          ]
        }
      ]
    },
    {
      "cell_type": "markdown",
      "metadata": {
        "id": "2pIOx8ijPoX1"
      },
      "source": [
        "#### Avaliando o Desempenho do Modelo LDA"
      ]
    },
    {
      "cell_type": "code",
      "metadata": {
        "colab": {
          "base_uri": "https://localhost:8080/",
          "height": 482
        },
        "id": "fmbcjsQI5Ogl",
        "outputId": "f743fd03-9492-409d-9a7a-ccc4c3130008"
      },
      "source": [
        "lda_ada_qtr = LinearDiscriminantAnalysis(solver='lsqr', shrinkage=0.01)\n",
        "\n",
        "lda_ada_qtr.fit(X_ada_qtr, y_train_ada_qtr)\n",
        "\n",
        "y_pred_ldaAda = lda_ada_qtr.predict(X_test_qtr)\n",
        "\n",
        "skplt.metrics.plot_confusion_matrix(y_test, y_pred_ldaAda)\n",
        "\n",
        "print(classification_report(y_test, y_pred_ldaAda, digits=4))\n",
        "\n",
        "print('AUC: {:.4f}\\n'.format(roc_auc_score(y_test, y_pred_ldaAda)))"
      ],
      "execution_count": 79,
      "outputs": [
        {
          "output_type": "stream",
          "name": "stdout",
          "text": [
            "              precision    recall  f1-score   support\n",
            "\n",
            "           0     0.8973    0.7025    0.7880      1294\n",
            "           1     0.4853    0.7773    0.5975       467\n",
            "\n",
            "    accuracy                         0.7223      1761\n",
            "   macro avg     0.6913    0.7399    0.6928      1761\n",
            "weighted avg     0.7881    0.7223    0.7375      1761\n",
            "\n",
            "AUC: 0.7399\n",
            "\n"
          ]
        },
        {
          "output_type": "display_data",
          "data": {
            "image/png": "[encoded data removed]",
            "text/plain": [
              "<Figure size 432x288 with 2 Axes>"
            ]
          },
          "metadata": {}
        }
      ]
    },
    {
      "cell_type": "markdown",
      "metadata": {
        "id": "scVHGMU9PzjG"
      },
      "source": [
        "## Método Ensemble para os Modelos do Balanceamento ADASYN"
      ]
    },
    {
      "cell_type": "code",
      "metadata": {
        "colab": {
          "base_uri": "https://localhost:8080/",
          "height": 173
        },
        "id": "QzunR_E_Lc8Y",
        "outputId": "cc9343d9-461c-4829-f9a4-d6032da520f3"
      },
      "source": [
        "rf_ensemble_ada_qtr = RandomForestClassifier(bootstrap=False, max_depth=10, max_features=5, min_samples_leaf=2, n_estimators=300, min_samples_split=8)\n",
        "xgb_ensemble_ada_qtr = XGBClassifier(learning_rate=0.01, max_depth=5, n_estimators=400, gamma=1, min_child_weight=1) \n",
        "lda_ensemble_ada_qtr = LinearDiscriminantAnalysis(solver='lsqr', shrinkage=0.01)\n",
        "voting_clf_ada = VotingClassifier(estimators=[('RF', rf_ensemble_ada_qtr), ('XGB', xgb_ensemble_ada_qtr), ('LDA', lda_ensemble_ada_qtr)])\n",
        "\n",
        "\n",
        "for model in (rf_ensemble_ada_qtr, xgb_ensemble_ada_qtr, lda_ensemble_ada_qtr, voting_clf_ada):\n",
        "  model.fit(X_ada_qtr, y_train_ada_qtr)\n",
        "\n",
        "model = []\n",
        "AUC = []\n",
        "\n",
        "for clf in (rf_ensemble_ada_qtr, xgb_ensemble_ada_qtr, lda_ensemble_ada_qtr, voting_clf_ada):\n",
        "  y_pred_ensemble = clf.predict(X_test_qtr)\n",
        "  model.append(clf.__class__.__name__)\n",
        "  AUC.append(roc_auc_score(y_test, y_pred_ensemble))\n",
        "\n",
        "\n",
        "pd.DataFrame(data=AUC, index=model, columns=[\"AUC\"])"
      ],
      "execution_count": 80,
      "outputs": [
        {
          "output_type": "execute_result",
          "data": {
            "text/html": [
              "<div>\n",
              "<style scoped>\n",
              "    .dataframe tbody tr th:only-of-type {\n",
              "        vertical-align: middle;\n",
              "    }\n",
              "\n",
              "    .dataframe tbody tr th {\n",
              "        vertical-align: top;\n",
              "    }\n",
              "\n",
              "    .dataframe thead th {\n",
              "        text-align: right;\n",
              "    }\n",
              "</style>\n",
              "<table border=\"1\" class=\"dataframe\">\n",
              "  <thead>\n",
              "    <tr style=\"text-align: right;\">\n",
              "      <th></th>\n",
              "      <th>AUC</th>\n",
              "    </tr>\n",
              "  </thead>\n",
              "  <tbody>\n",
              "    <tr>\n",
              "      <th>RandomForestClassifier</th>\n",
              "      <td>0.740314</td>\n",
              "    </tr>\n",
              "    <tr>\n",
              "      <th>XGBClassifier</th>\n",
              "      <td>0.732787</td>\n",
              "    </tr>\n",
              "    <tr>\n",
              "      <th>LinearDiscriminantAnalysis</th>\n",
              "      <td>0.739887</td>\n",
              "    </tr>\n",
              "    <tr>\n",
              "      <th>VotingClassifier</th>\n",
              "      <td>0.734043</td>\n",
              "    </tr>\n",
              "  </tbody>\n",
              "</table>\n",
              "</div>"
            ],
            "text/plain": [
              "                                 AUC\n",
              "RandomForestClassifier      0.740314\n",
              "XGBClassifier               0.732787\n",
              "LinearDiscriminantAnalysis  0.739887\n",
              "VotingClassifier            0.734043"
            ]
          },
          "metadata": {},
          "execution_count": 80
        }
      ]
    },
    {
      "cell_type": "markdown",
      "metadata": {
        "id": "I_pVP3rCQCMp"
      },
      "source": [
        "### Otimizando Hiperparâmetros do Voting Classifier"
      ]
    },
    {
      "cell_type": "code",
      "metadata": {
        "colab": {
          "base_uri": "https://localhost:8080/"
        },
        "id": "r9TcbSwiPQyp",
        "outputId": "85550853-c089-4991-86c5-60857fafa5a2"
      },
      "source": [
        "voting_clf_ada = VotingClassifier(estimators=[('RF', rf_ensemble_ada_qtr), ('XGB', xgb_ensemble_ada_qtr), ('LDA', lda_ensemble_ada_qtr)])\n",
        "param_grid = {\n",
        "      'voting':('hard', 'soft')\n",
        "}\n",
        "\n",
        "kfold = StratifiedKFold(n_splits=10, shuffle=True)\n",
        "grid_search = GridSearchCV(voting_clf_ada, param_grid, scoring='recall', n_jobs=-1, cv=kfold)\n",
        "grid_result = grid_search.fit(X_ada_qtr, y_train_ada_qtr)\n",
        "\n",
        "print(f'Melhor: {grid_result.best_score_} para {grid_result.best_params_}')"
      ],
      "execution_count": 81,
      "outputs": [
        {
          "output_type": "stream",
          "name": "stdout",
          "text": [
            "Melhor: 0.9065181671216177 para {'voting': 'hard'}\n"
          ]
        }
      ]
    },
    {
      "cell_type": "code",
      "metadata": {
        "colab": {
          "base_uri": "https://localhost:8080/"
        },
        "id": "zKPymSOWP4Qm",
        "outputId": "33f38c1b-419f-4862-85a8-4235cb2c86f0"
      },
      "source": [
        "voting_clf_ada = VotingClassifier(estimators=[('RF', rf_ensemble_ada_qtr), ('XGB', xgb_ensemble_ada_qtr), ('LDA', lda_ensemble_ada_qtr)], voting='hard')\n",
        "param_grid = {\n",
        "      'n_jobs':[1, 2, 3, -1]\n",
        "}\n",
        "\n",
        "kfold = StratifiedKFold(n_splits=10, shuffle=True)\n",
        "grid_search = GridSearchCV(voting_clf_ada, param_grid, scoring='recall', n_jobs=-1, cv=kfold)\n",
        "grid_result = grid_search.fit(X_ada_qtr, y_train_ada_qtr)\n",
        "\n",
        "print(f'Melhor: {grid_result.best_score_} para {grid_result.best_params_}')"
      ],
      "execution_count": 82,
      "outputs": [
        {
          "output_type": "stream",
          "name": "stdout",
          "text": [
            "Melhor: 0.9039507857843267 para {'n_jobs': 3}\n"
          ]
        }
      ]
    },
    {
      "cell_type": "markdown",
      "metadata": {
        "id": "L28W7pjyQIyG"
      },
      "source": [
        "#### Avaliando o Desempenho do Voting Classifier"
      ]
    },
    {
      "cell_type": "code",
      "metadata": {
        "colab": {
          "base_uri": "https://localhost:8080/",
          "height": 482
        },
        "id": "GV_dNZk-Q9t-",
        "outputId": "7c01443e-8ad2-4a1e-df87-e126814a6f61"
      },
      "source": [
        "voting_clf_ada = VotingClassifier(estimators=[('RF', rf_ensemble_ada_qtr), ('XGB', xgb_ensemble_ada_qtr), ('LDA', lda_ensemble_ada_qtr)], voting='hard', n_jobs=2)\n",
        "\n",
        "voting_clf_ada.fit(X_ada_qtr, y_train_ada_qtr)\n",
        "\n",
        "y_pred_voting_clf_ada = voting_clf_ada.predict(X_test_qtr)\n",
        "\n",
        "skplt.metrics.plot_confusion_matrix(y_test, y_pred_voting_clf_smo)\n",
        "\n",
        "print(classification_report(y_test, y_pred_voting_clf_smo, digits=4))\n",
        "\n",
        "print('AUC: {:.4f}\\n'.format(roc_auc_score(y_test, y_pred_voting_clf_smo)))"
      ],
      "execution_count": 83,
      "outputs": [
        {
          "output_type": "stream",
          "name": "stdout",
          "text": [
            "              precision    recall  f1-score   support\n",
            "\n",
            "           0     0.8690    0.8153    0.8413      1294\n",
            "           1     0.5631    0.6595    0.6075       467\n",
            "\n",
            "    accuracy                         0.7740      1761\n",
            "   macro avg     0.7160    0.7374    0.7244      1761\n",
            "weighted avg     0.7879    0.7740    0.7793      1761\n",
            "\n",
            "AUC: 0.7374\n",
            "\n"
          ]
        },
        {
          "output_type": "display_data",
          "data": {
            "image/png": "[encoded data removed]",
            "text/plain": [
              "<Figure size 432x288 with 2 Axes>"
            ]
          },
          "metadata": {}
        }
      ]
    },
    {
      "cell_type": "markdown",
      "metadata": {
        "id": "5n7uae2CQXih"
      },
      "source": [
        "# Conclusão"
      ]
    },
    {
      "cell_type": "code",
      "metadata": {
        "id": "yibvFdgNQbqk"
      },
      "source": [
        ""
      ],
      "execution_count": 83,
      "outputs": []
    }
  ]
}