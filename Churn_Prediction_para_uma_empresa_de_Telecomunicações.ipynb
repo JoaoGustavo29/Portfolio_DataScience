{
  "nbformat": 4,
  "nbformat_minor": 0,
  "metadata": {
    "colab": {
      "name": "Churn Prediction para uma empresa de Telecomunicações.ipynb",
      "provenance": [],
      "collapsed_sections": [],
      "toc_visible": true,
      "include_colab_link": true
    },
    "kernelspec": {
      "display_name": "Python 3",
      "name": "python3"
    }
  },
  "cells": [
    {
      "cell_type": "markdown",
      "metadata": {
        "id": "view-in-github",
        "colab_type": "text"
      },
      "source": [
        "<a href=\"https://colab.research.google.com/github/JoaoGustavo29/Portfolio_DataScience/blob/master/Churn_Prediction_para_uma_empresa_de_Telecomunica%C3%A7%C3%B5es.ipynb\" target=\"_parent\"><img src=\"https://colab.research.google.com/assets/colab-badge.svg\" alt=\"Open In Colab\"/></a>"
      ]
    },
    {
      "cell_type": "markdown",
      "metadata": {
        "id": "sC2BFMOKN1M7"
      },
      "source": [
        "---\n",
        "<img alt=\"Colaboratory logo\" width=\"15%\" src=\"https://raw.githubusercontent.com/carlosfab/escola-data-science/master/img/novo_logo_bg_claro.png\">\n",
        "\n",
        "#### **Data Science na Prática 2.0**\n",
        "*by [sigmoidal.ai](https://sigmoidal.ai)*  \n",
        "\n",
        "---"
      ]
    },
    {
      "cell_type": "markdown",
      "metadata": {
        "id": "IR56trFcPcC1"
      },
      "source": [
        "# Churn Prediction\n",
        "\n",
        "*Churn rate*, ou simplesmente *churn*, representa a taxa de evasão da sua base de clientes. Em serviços como Spotify ou Netflix, ela representaria a taxa de cancelamento de assinaturas.\n",
        "\n",
        "<p align=center>\n",
        "<img src=\"https://raw.githubusercontent.com/carlosfab/dsnp2/master/img/churnrate.jpg\" width=\"60%\"></p>\n",
        "\n",
        "Ela é de extrema importância para a administração e sua análise ao longo do tempo pode mostrar que existe algum problema que deve ser atacado.\n",
        "\n",
        "*Churn* também pode ser usado para identificar potenciais cancelamentos, com um tempo de antecedência, e promover ações direcionadas para tentar reter tais clientes. Essa métrica deve receber atenção pelo fato de que o Custo de Aquisição de Cliente (CAC) é normalmente mais alto que o custo para mantê-los. Ou seja, um alto valor para o *churn rate* é o que não desejamos."
      ]
    },
    {
      "cell_type": "markdown",
      "metadata": {
        "id": "0HVmpIxQWT4Y"
      },
      "source": [
        "## Aquisição dos Dados\n",
        "\n",
        "Os dados utilizados neste projeto foram originalmente disponibilizados na [plataforma de ensino da IBM Developer](https://developer.ibm.com/technologies/data-science/patterns/predict-customer-churn-using-watson-studio-and-jupyter-notebooks/#), e tratam de um problema típico de uma companhia de telecomunicações. O *dataset* completo pode ser encontrado [neste link](https://raw.githubusercontent.com/carlosfab/dsnp2/master/datasets/WA_Fn-UseC_-Telco-Customer-Churn.csv).\n",
        "\n",
        "Apesar de não haver informações explícitas disponíves, os nomes das colunas permitem um entendimento a respeito do problema."
      ]
    },
    {
      "cell_type": "code",
      "metadata": {
        "id": "_Zuw7p0Jcu_D"
      },
      "source": [
        "# instalar pacotes necessários\n",
        "! pip install -q scikit-plot"
      ],
      "execution_count": null,
      "outputs": []
    },
    {
      "cell_type": "code",
      "metadata": {
        "colab": {
          "base_uri": "https://localhost:8080/",
          "height": 382
        },
        "id": "oQ4bNy7udtEE",
        "outputId": "d443f4f0-e3ea-457c-a177-03b9ae8ccba1"
      },
      "source": [
        "# importar os pacotes necessários\n",
        "import pandas as pd\n",
        "import matplotlib.pyplot as plt\n",
        "import seaborn as sns\n",
        "import numpy as np\n",
        "import scikitplot as skplt\n",
        "from imblearn.under_sampling import RandomUnderSampler\n",
        "from imblearn.over_sampling import SMOTE, ADASYN\n",
        "from sklearn.model_selection import train_test_split, GridSearchCV\n",
        "from sklearn.model_selection import StratifiedKFold\n",
        "from sklearn.model_selection import cross_val_score\n",
        "from sklearn.pipeline import make_pipeline\n",
        "from sklearn.preprocessing import StandardScaler, RobustScaler\n",
        "from sklearn.preprocessing import QuantileTransformer, PowerTransformer\n",
        "from sklearn.preprocessing import LabelEncoder, OneHotEncoder\n",
        "from sklearn.metrics import confusion_matrix, classification_report\n",
        "from sklearn.metrics import roc_auc_score\n",
        "from sklearn.ensemble import VotingClassifier, RandomForestClassifier\n",
        "from sklearn.linear_model import LogisticRegression, SGDClassifier\n",
        "from sklearn.discriminant_analysis import LinearDiscriminantAnalysis\n",
        "from sklearn.neighbors import KNeighborsClassifier\n",
        "from sklearn.svm import SVC\n",
        "from xgboost import XGBClassifier\n",
        "\n",
        "# importar Warnings filter\n",
        "from warnings import simplefilter\n",
        "\n",
        "# ignorar futuros warnings\n",
        "simplefilter(action='ignore', category=FutureWarning)\n",
        "\n",
        "# configurar notebook\n",
        "sns.set_style('dark')\n",
        "\n",
        "# importar os dados\n",
        "DATA_PATH = \"https://raw.githubusercontent.com/carlosfab/dsnp2/master/datasets/WA_Fn-UseC_-Telco-Customer-Churn.csv\"\n",
        "df = pd.read_csv(DATA_PATH)\n",
        "\n",
        "# ver as 5 primeiras entradas\n",
        "df.head()"
      ],
      "execution_count": null,
      "outputs": [
        {
          "output_type": "stream",
          "name": "stderr",
          "text": [
            "/usr/local/lib/python3.7/dist-packages/sklearn/externals/six.py:31: FutureWarning: The module is deprecated in version 0.21 and will be removed in version 0.23 since we've dropped support for Python 2.7. Please rely on the official version of six (https://pypi.org/project/six/).\n",
            "  \"(https://pypi.org/project/six/).\", FutureWarning)\n",
            "/usr/local/lib/python3.7/dist-packages/sklearn/utils/deprecation.py:144: FutureWarning: The sklearn.neighbors.base module is  deprecated in version 0.22 and will be removed in version 0.24. The corresponding classes / functions should instead be imported from sklearn.neighbors. Anything that cannot be imported from sklearn.neighbors is now part of the private API.\n",
            "  warnings.warn(message, FutureWarning)\n"
          ]
        },
        {
          "output_type": "execute_result",
          "data": {
            "text/html": [
              "<div>\n",
              "<style scoped>\n",
              "    .dataframe tbody tr th:only-of-type {\n",
              "        vertical-align: middle;\n",
              "    }\n",
              "\n",
              "    .dataframe tbody tr th {\n",
              "        vertical-align: top;\n",
              "    }\n",
              "\n",
              "    .dataframe thead th {\n",
              "        text-align: right;\n",
              "    }\n",
              "</style>\n",
              "<table border=\"1\" class=\"dataframe\">\n",
              "  <thead>\n",
              "    <tr style=\"text-align: right;\">\n",
              "      <th></th>\n",
              "      <th>customerID</th>\n",
              "      <th>gender</th>\n",
              "      <th>SeniorCitizen</th>\n",
              "      <th>Partner</th>\n",
              "      <th>Dependents</th>\n",
              "      <th>tenure</th>\n",
              "      <th>PhoneService</th>\n",
              "      <th>MultipleLines</th>\n",
              "      <th>InternetService</th>\n",
              "      <th>OnlineSecurity</th>\n",
              "      <th>OnlineBackup</th>\n",
              "      <th>DeviceProtection</th>\n",
              "      <th>TechSupport</th>\n",
              "      <th>StreamingTV</th>\n",
              "      <th>StreamingMovies</th>\n",
              "      <th>Contract</th>\n",
              "      <th>PaperlessBilling</th>\n",
              "      <th>PaymentMethod</th>\n",
              "      <th>MonthlyCharges</th>\n",
              "      <th>TotalCharges</th>\n",
              "      <th>Churn</th>\n",
              "    </tr>\n",
              "  </thead>\n",
              "  <tbody>\n",
              "    <tr>\n",
              "      <th>0</th>\n",
              "      <td>7590-VHVEG</td>\n",
              "      <td>Female</td>\n",
              "      <td>0</td>\n",
              "      <td>Yes</td>\n",
              "      <td>No</td>\n",
              "      <td>1</td>\n",
              "      <td>No</td>\n",
              "      <td>No phone service</td>\n",
              "      <td>DSL</td>\n",
              "      <td>No</td>\n",
              "      <td>Yes</td>\n",
              "      <td>No</td>\n",
              "      <td>No</td>\n",
              "      <td>No</td>\n",
              "      <td>No</td>\n",
              "      <td>Month-to-month</td>\n",
              "      <td>Yes</td>\n",
              "      <td>Electronic check</td>\n",
              "      <td>29.85</td>\n",
              "      <td>29.85</td>\n",
              "      <td>No</td>\n",
              "    </tr>\n",
              "    <tr>\n",
              "      <th>1</th>\n",
              "      <td>5575-GNVDE</td>\n",
              "      <td>Male</td>\n",
              "      <td>0</td>\n",
              "      <td>No</td>\n",
              "      <td>No</td>\n",
              "      <td>34</td>\n",
              "      <td>Yes</td>\n",
              "      <td>No</td>\n",
              "      <td>DSL</td>\n",
              "      <td>Yes</td>\n",
              "      <td>No</td>\n",
              "      <td>Yes</td>\n",
              "      <td>No</td>\n",
              "      <td>No</td>\n",
              "      <td>No</td>\n",
              "      <td>One year</td>\n",
              "      <td>No</td>\n",
              "      <td>Mailed check</td>\n",
              "      <td>56.95</td>\n",
              "      <td>1889.5</td>\n",
              "      <td>No</td>\n",
              "    </tr>\n",
              "    <tr>\n",
              "      <th>2</th>\n",
              "      <td>3668-QPYBK</td>\n",
              "      <td>Male</td>\n",
              "      <td>0</td>\n",
              "      <td>No</td>\n",
              "      <td>No</td>\n",
              "      <td>2</td>\n",
              "      <td>Yes</td>\n",
              "      <td>No</td>\n",
              "      <td>DSL</td>\n",
              "      <td>Yes</td>\n",
              "      <td>Yes</td>\n",
              "      <td>No</td>\n",
              "      <td>No</td>\n",
              "      <td>No</td>\n",
              "      <td>No</td>\n",
              "      <td>Month-to-month</td>\n",
              "      <td>Yes</td>\n",
              "      <td>Mailed check</td>\n",
              "      <td>53.85</td>\n",
              "      <td>108.15</td>\n",
              "      <td>Yes</td>\n",
              "    </tr>\n",
              "    <tr>\n",
              "      <th>3</th>\n",
              "      <td>7795-CFOCW</td>\n",
              "      <td>Male</td>\n",
              "      <td>0</td>\n",
              "      <td>No</td>\n",
              "      <td>No</td>\n",
              "      <td>45</td>\n",
              "      <td>No</td>\n",
              "      <td>No phone service</td>\n",
              "      <td>DSL</td>\n",
              "      <td>Yes</td>\n",
              "      <td>No</td>\n",
              "      <td>Yes</td>\n",
              "      <td>Yes</td>\n",
              "      <td>No</td>\n",
              "      <td>No</td>\n",
              "      <td>One year</td>\n",
              "      <td>No</td>\n",
              "      <td>Bank transfer (automatic)</td>\n",
              "      <td>42.30</td>\n",
              "      <td>1840.75</td>\n",
              "      <td>No</td>\n",
              "    </tr>\n",
              "    <tr>\n",
              "      <th>4</th>\n",
              "      <td>9237-HQITU</td>\n",
              "      <td>Female</td>\n",
              "      <td>0</td>\n",
              "      <td>No</td>\n",
              "      <td>No</td>\n",
              "      <td>2</td>\n",
              "      <td>Yes</td>\n",
              "      <td>No</td>\n",
              "      <td>Fiber optic</td>\n",
              "      <td>No</td>\n",
              "      <td>No</td>\n",
              "      <td>No</td>\n",
              "      <td>No</td>\n",
              "      <td>No</td>\n",
              "      <td>No</td>\n",
              "      <td>Month-to-month</td>\n",
              "      <td>Yes</td>\n",
              "      <td>Electronic check</td>\n",
              "      <td>70.70</td>\n",
              "      <td>151.65</td>\n",
              "      <td>Yes</td>\n",
              "    </tr>\n",
              "  </tbody>\n",
              "</table>\n",
              "</div>"
            ],
            "text/plain": [
              "   customerID  gender  SeniorCitizen  ... MonthlyCharges TotalCharges  Churn\n",
              "0  7590-VHVEG  Female              0  ...          29.85        29.85     No\n",
              "1  5575-GNVDE    Male              0  ...          56.95       1889.5     No\n",
              "2  3668-QPYBK    Male              0  ...          53.85       108.15    Yes\n",
              "3  7795-CFOCW    Male              0  ...          42.30      1840.75     No\n",
              "4  9237-HQITU  Female              0  ...          70.70       151.65    Yes\n",
              "\n",
              "[5 rows x 21 columns]"
            ]
          },
          "metadata": {},
          "execution_count": 3
        }
      ]
    },
    {
      "cell_type": "markdown",
      "metadata": {
        "id": "D6AoKzPCKY9c"
      },
      "source": [
        "Esse foi um dos projetos mais extensos que já fiz e por isso vou mostrar como ficou dividido, assim você (leitor) pode ir direto até a parte que lhe interessa.\n",
        "\n",
        "O projeto ficou dividido da seguinte forma: \n",
        "\n",
        "\n",
        "*   Análise Exploratória\n",
        "\n",
        "*   Limpeza dos Dados\n",
        "\n",
        "*   Processamento dos Dados com Label Encoder e Get Dummies\n",
        "\n",
        "*   Preparação dos Dados\n",
        "\n",
        "\n",
        "\n"
      ]
    },
    {
      "cell_type": "markdown",
      "metadata": {
        "id": "8UtXyZ6stlSM"
      },
      "source": [
        "## Instruções para o modelo de churn prediction\n",
        "\n",
        "ENTENDA O SEU PROBLEMA\n",
        "* Olhar o todo e delimitar o escopo do projeto\n",
        "* Como a solução vai ser usada?\n",
        "* Quais são as soluções já existentes?\n",
        "* Qual abordagem usar?\n",
        "    * Aprendizado Supervisionado\n",
        "    * Aprendizado Não Supervisionado\n",
        "    * Aprendizado Por Reforço\n",
        "* Qual é a métrica de performance?\n",
        "* Qual a performance mínima esperada para atingir o objetivo?\n",
        "* Liste as premissas básicas do projeto\n",
        "* Pesquise sobre *churn rate* no Google\n",
        "* Veja os serviços que outras empresas de Telecom oferecem \n"
      ]
    },
    {
      "cell_type": "markdown",
      "metadata": {
        "id": "542MqNwadeg3"
      },
      "source": [
        "# Análise Exploratória\n"
      ]
    },
    {
      "cell_type": "markdown",
      "metadata": {
        "id": "fRwpMtswcqGe"
      },
      "source": [
        "* Estudar cada atributo e suas características:\n",
        "    * Nome\n",
        "    * Tipo\n",
        "        * Categórica\n",
        "        * Numérica\n",
        "            * int\n",
        "            * float\n",
        "        * Estruturada\n",
        "        * Não Estruturada\n",
        "        * etc"
      ]
    },
    {
      "cell_type": "code",
      "metadata": {
        "colab": {
          "base_uri": "https://localhost:8080/"
        },
        "id": "c1uUEjKOctBk",
        "outputId": "5fbe6368-ebb3-4a08-a5f4-03651ce1d19d"
      },
      "source": [
        "# Checar as dimensões do DataFrame\n",
        "print(f'O DataFrame possui {df.shape[0]} entradas e {df.shape[1]} colunas.')\n",
        "\n",
        "# Checar o nome das colunas\n",
        "print(f'\\nNome das Colunas:\\n{df.columns.values}')\n",
        "\n",
        "# Checar o tipo de dados (por coluna)\n",
        "print(f'\\nTipos de dados (por coluna)\\n{df.dtypes}')\n",
        "\n",
        "# Checar os valores únicos por coluna\n",
        "print(f'\\nValores únicos (por coluna)\\n{df.nunique()}')\n"
      ],
      "execution_count": null,
      "outputs": [
        {
          "name": "stdout",
          "output_type": "stream",
          "text": [
            "O DataFrame possui 7043 entradas e 21 colunas.\n",
            "\n",
            "Nome das Colunas:\n",
            "['customerID' 'gender' 'SeniorCitizen' 'Partner' 'Dependents' 'tenure'\n",
            " 'PhoneService' 'MultipleLines' 'InternetService' 'OnlineSecurity'\n",
            " 'OnlineBackup' 'DeviceProtection' 'TechSupport' 'StreamingTV'\n",
            " 'StreamingMovies' 'Contract' 'PaperlessBilling' 'PaymentMethod'\n",
            " 'MonthlyCharges' 'TotalCharges' 'Churn']\n",
            "\n",
            "Tipos de dados (por coluna)\n",
            "customerID           object\n",
            "gender               object\n",
            "SeniorCitizen         int64\n",
            "Partner              object\n",
            "Dependents           object\n",
            "tenure                int64\n",
            "PhoneService         object\n",
            "MultipleLines        object\n",
            "InternetService      object\n",
            "OnlineSecurity       object\n",
            "OnlineBackup         object\n",
            "DeviceProtection     object\n",
            "TechSupport          object\n",
            "StreamingTV          object\n",
            "StreamingMovies      object\n",
            "Contract             object\n",
            "PaperlessBilling     object\n",
            "PaymentMethod        object\n",
            "MonthlyCharges      float64\n",
            "TotalCharges         object\n",
            "Churn                object\n",
            "dtype: object\n",
            "\n",
            "Valores únicos (por coluna)\n",
            "customerID          7043\n",
            "gender                 2\n",
            "SeniorCitizen          2\n",
            "Partner                2\n",
            "Dependents             2\n",
            "tenure                73\n",
            "PhoneService           2\n",
            "MultipleLines          3\n",
            "InternetService        3\n",
            "OnlineSecurity         3\n",
            "OnlineBackup           3\n",
            "DeviceProtection       3\n",
            "TechSupport            3\n",
            "StreamingTV            3\n",
            "StreamingMovies        3\n",
            "Contract               3\n",
            "PaperlessBilling       2\n",
            "PaymentMethod          4\n",
            "MonthlyCharges      1585\n",
            "TotalCharges        6531\n",
            "Churn                  2\n",
            "dtype: int64\n"
          ]
        }
      ]
    },
    {
      "cell_type": "markdown",
      "metadata": {
        "id": "FAyVQTt8c2W3"
      },
      "source": [
        "* % de valores ausentes"
      ]
    },
    {
      "cell_type": "code",
      "metadata": {
        "colab": {
          "base_uri": "https://localhost:8080/"
        },
        "id": "gZK-BYJsc3er",
        "outputId": "1d2808e9-5f8e-4c06-9e2f-064e27a8fc99"
      },
      "source": [
        "# Checar a quantidade de dados ausentes\n",
        "print(f'Porcentagem de dados ausentes:\\t\\n{df.isnull().sum() / df.shape[0]}')"
      ],
      "execution_count": null,
      "outputs": [
        {
          "name": "stdout",
          "output_type": "stream",
          "text": [
            "Porcentagem de dados ausentes:\t\n",
            "customerID          0.0\n",
            "gender              0.0\n",
            "SeniorCitizen       0.0\n",
            "Partner             0.0\n",
            "Dependents          0.0\n",
            "tenure              0.0\n",
            "PhoneService        0.0\n",
            "MultipleLines       0.0\n",
            "InternetService     0.0\n",
            "OnlineSecurity      0.0\n",
            "OnlineBackup        0.0\n",
            "DeviceProtection    0.0\n",
            "TechSupport         0.0\n",
            "StreamingTV         0.0\n",
            "StreamingMovies     0.0\n",
            "Contract            0.0\n",
            "PaperlessBilling    0.0\n",
            "PaymentMethod       0.0\n",
            "MonthlyCharges      0.0\n",
            "TotalCharges        0.0\n",
            "Churn               0.0\n",
            "dtype: float64\n"
          ]
        }
      ]
    },
    {
      "cell_type": "markdown",
      "metadata": {
        "id": "d-l7J6fCLEFq"
      },
      "source": [
        "# Limpeza dos Dados"
      ]
    },
    {
      "cell_type": "code",
      "metadata": {
        "colab": {
          "base_uri": "https://localhost:8080/"
        },
        "id": "lP2aldTPZGW-",
        "outputId": "a14cdfd8-e981-4db3-a680-cf286b517b22"
      },
      "source": [
        "def str_to_float(entrada):\n",
        "  try:\n",
        "    return float(entrada)\n",
        "  except ValueError:\n",
        "    return np.nan\n",
        "\n",
        "df_clean = df.copy()\n",
        "\n",
        "df_clean.drop('customerID', axis=1, inplace=True)\n",
        "\n",
        "df_clean['TotalCharges'] = df_clean['TotalCharges'].apply(str_to_float)\n",
        "\n",
        "print('Dados ausentes em \"TotalCharges\" antes de preencher os dados: {}'.format(df_clean['TotalCharges'].isnull().sum()))\n",
        "\n",
        "total_charges_median = df_clean.TotalCharges.median()\n",
        "df_clean['TotalCharges'].fillna(total_charges_median, inplace=True)"
      ],
      "execution_count": null,
      "outputs": [
        {
          "output_type": "stream",
          "name": "stdout",
          "text": [
            "Dados ausentes em \"TotalCharges\" antes de preencher os dados: 11\n"
          ]
        }
      ]
    },
    {
      "cell_type": "markdown",
      "metadata": {
        "id": "0iRodTXIc6Ze"
      },
      "source": [
        "  * Ruído nos dados e tipo de ruído (outliers, estocásticos, erros de arredondamento)"
      ]
    },
    {
      "cell_type": "code",
      "metadata": {
        "colab": {
          "base_uri": "https://localhost:8080/",
          "height": 297
        },
        "id": "HLtoppTQc7db",
        "outputId": "22dc54b0-ad30-4fdc-c10d-45dc3397fcce"
      },
      "source": [
        "df_clean.describe()"
      ],
      "execution_count": null,
      "outputs": [
        {
          "data": {
            "text/html": [
              "<div>\n",
              "<style scoped>\n",
              "    .dataframe tbody tr th:only-of-type {\n",
              "        vertical-align: middle;\n",
              "    }\n",
              "\n",
              "    .dataframe tbody tr th {\n",
              "        vertical-align: top;\n",
              "    }\n",
              "\n",
              "    .dataframe thead th {\n",
              "        text-align: right;\n",
              "    }\n",
              "</style>\n",
              "<table border=\"1\" class=\"dataframe\">\n",
              "  <thead>\n",
              "    <tr style=\"text-align: right;\">\n",
              "      <th></th>\n",
              "      <th>SeniorCitizen</th>\n",
              "      <th>tenure</th>\n",
              "      <th>MonthlyCharges</th>\n",
              "      <th>TotalCharges</th>\n",
              "    </tr>\n",
              "  </thead>\n",
              "  <tbody>\n",
              "    <tr>\n",
              "      <th>count</th>\n",
              "      <td>7043.000000</td>\n",
              "      <td>7043.000000</td>\n",
              "      <td>7043.000000</td>\n",
              "      <td>7043.000000</td>\n",
              "    </tr>\n",
              "    <tr>\n",
              "      <th>mean</th>\n",
              "      <td>0.162147</td>\n",
              "      <td>32.371149</td>\n",
              "      <td>64.761692</td>\n",
              "      <td>2281.916928</td>\n",
              "    </tr>\n",
              "    <tr>\n",
              "      <th>std</th>\n",
              "      <td>0.368612</td>\n",
              "      <td>24.559481</td>\n",
              "      <td>30.090047</td>\n",
              "      <td>2265.270398</td>\n",
              "    </tr>\n",
              "    <tr>\n",
              "      <th>min</th>\n",
              "      <td>0.000000</td>\n",
              "      <td>0.000000</td>\n",
              "      <td>18.250000</td>\n",
              "      <td>18.800000</td>\n",
              "    </tr>\n",
              "    <tr>\n",
              "      <th>25%</th>\n",
              "      <td>0.000000</td>\n",
              "      <td>9.000000</td>\n",
              "      <td>35.500000</td>\n",
              "      <td>402.225000</td>\n",
              "    </tr>\n",
              "    <tr>\n",
              "      <th>50%</th>\n",
              "      <td>0.000000</td>\n",
              "      <td>29.000000</td>\n",
              "      <td>70.350000</td>\n",
              "      <td>1397.475000</td>\n",
              "    </tr>\n",
              "    <tr>\n",
              "      <th>75%</th>\n",
              "      <td>0.000000</td>\n",
              "      <td>55.000000</td>\n",
              "      <td>89.850000</td>\n",
              "      <td>3786.600000</td>\n",
              "    </tr>\n",
              "    <tr>\n",
              "      <th>max</th>\n",
              "      <td>1.000000</td>\n",
              "      <td>72.000000</td>\n",
              "      <td>118.750000</td>\n",
              "      <td>8684.800000</td>\n",
              "    </tr>\n",
              "  </tbody>\n",
              "</table>\n",
              "</div>"
            ],
            "text/plain": [
              "       SeniorCitizen       tenure  MonthlyCharges  TotalCharges\n",
              "count    7043.000000  7043.000000     7043.000000   7043.000000\n",
              "mean        0.162147    32.371149       64.761692   2281.916928\n",
              "std         0.368612    24.559481       30.090047   2265.270398\n",
              "min         0.000000     0.000000       18.250000     18.800000\n",
              "25%         0.000000     9.000000       35.500000    402.225000\n",
              "50%         0.000000    29.000000       70.350000   1397.475000\n",
              "75%         0.000000    55.000000       89.850000   3786.600000\n",
              "max         1.000000    72.000000      118.750000   8684.800000"
            ]
          },
          "execution_count": 6,
          "metadata": {},
          "output_type": "execute_result"
        }
      ]
    },
    {
      "cell_type": "markdown",
      "metadata": {
        "id": "bhKSozcqc9qW"
      },
      "source": [
        "* Tipo de distribuição\n",
        "        * Gaussiana\n",
        "        * Uniforme\n",
        "        * Logarítmica\n",
        "        * etc"
      ]
    },
    {
      "cell_type": "code",
      "metadata": {
        "colab": {
          "base_uri": "https://localhost:8080/",
          "height": 369
        },
        "id": "HuJ2WWVlc_j9",
        "outputId": "6776d7d8-e3ed-4ad5-dda7-82664ab9d527"
      },
      "source": [
        "fig , ax = plt.subplots(nrows=1, ncols=2, figsize=(15,5))\n",
        "sns.boxplot(df_clean['MonthlyCharges'], ax=ax[0])\n",
        "sns.boxplot(df_clean['TotalCharges'], ax=ax[1])\n",
        "\n",
        "plt.tight_layout();"
      ],
      "execution_count": null,
      "outputs": [
        {
          "data": {
            "image/png": "[encoded data removed]",
            "text/plain": [
              "<Figure size 1080x360 with 2 Axes>"
            ]
          },
          "metadata": {},
          "output_type": "display_data"
        }
      ]
    },
    {
      "cell_type": "markdown",
      "metadata": {
        "id": "ifnyw_r3dFse"
      },
      "source": [
        "* Visualizar os dados"
      ]
    },
    {
      "cell_type": "code",
      "metadata": {
        "colab": {
          "base_uri": "https://localhost:8080/",
          "height": 350
        },
        "id": "uriJi5KgdDn2",
        "outputId": "8e01cff1-463c-4ad1-9fc5-7cc26d21c150"
      },
      "source": [
        "fig, ax = plt.subplots(figsize=(20, 5))\n",
        "\n",
        "sns.countplot(df_clean['tenure'], data=df_clean, palette='Spectral', ax=ax)\n",
        "ax.set_title('Tempo de assinatura dos Clientes')\n",
        "ax.set_ylabel('Quantidade de Clientes')\n",
        "ax.set_xlabel('Tempo (Meses)')\n",
        "\n",
        "plt.show();"
      ],
      "execution_count": null,
      "outputs": [
        {
          "data": {
            "image/png": "[encoded data removed]",
            "text/plain": [
              "<Figure size 1440x360 with 1 Axes>"
            ]
          },
          "metadata": {},
          "output_type": "display_data"
        }
      ]
    },
    {
      "cell_type": "code",
      "metadata": {
        "colab": {
          "base_uri": "https://localhost:8080/"
        },
        "id": "x6TH6SNx2bsm",
        "outputId": "b5ecbdf3-9a33-42e6-aa83-a98935920cba"
      },
      "source": [
        "# verificar valroes unicos para variaveis categoricas\n",
        "np.unique(df_clean.select_dtypes('object').values)"
      ],
      "execution_count": null,
      "outputs": [
        {
          "output_type": "execute_result",
          "data": {
            "text/plain": [
              "array(['Bank transfer (automatic)', 'Credit card (automatic)', 'DSL',\n",
              "       'Electronic check', 'Female', 'Fiber optic', 'Mailed check',\n",
              "       'Male', 'Month-to-month', 'No', 'No internet service',\n",
              "       'No phone service', 'One year', 'Two year', 'Yes'], dtype=object)"
            ]
          },
          "metadata": {},
          "execution_count": 4
        }
      ]
    },
    {
      "cell_type": "code",
      "metadata": {
        "id": "-tC4q04i5t5U"
      },
      "source": [
        "df_clean.replace({'No internet service': 'No'}, regex=True, inplace=True)\n",
        "df_clean.replace({'No phone service': 'No'}, regex=True, inplace=True)"
      ],
      "execution_count": null,
      "outputs": []
    },
    {
      "cell_type": "code",
      "metadata": {
        "colab": {
          "base_uri": "https://localhost:8080/"
        },
        "id": "zx6F-cL47ZO8",
        "outputId": "0351c342-aa92-4595-cffb-86a40c0558cc"
      },
      "source": [
        "np.unique(df_clean.select_dtypes('object').values)"
      ],
      "execution_count": null,
      "outputs": [
        {
          "output_type": "execute_result",
          "data": {
            "text/plain": [
              "array(['Bank transfer (automatic)', 'Credit card (automatic)', 'DSL',\n",
              "       'Electronic check', 'Female', 'Fiber optic', 'Mailed check',\n",
              "       'Male', 'Month-to-month', 'No', 'One year', 'Two year', 'Yes'],\n",
              "      dtype=object)"
            ]
          },
          "metadata": {},
          "execution_count": 6
        }
      ]
    },
    {
      "cell_type": "code",
      "metadata": {
        "colab": {
          "base_uri": "https://localhost:8080/"
        },
        "id": "uay1-_-x8dLf",
        "outputId": "529cb82e-7e99-401c-9f7f-a00496096bc4"
      },
      "source": [
        "# Checar os valores únicos por coluna\n",
        "print(f'\\nValores únicos (por coluna)\\n{df_clean.nunique()}')"
      ],
      "execution_count": null,
      "outputs": [
        {
          "name": "stdout",
          "output_type": "stream",
          "text": [
            "\n",
            "Valores únicos (por coluna)\n",
            "gender                 2\n",
            "SeniorCitizen          2\n",
            "Partner                2\n",
            "Dependents             2\n",
            "tenure                73\n",
            "PhoneService           2\n",
            "MultipleLines          2\n",
            "InternetService        3\n",
            "OnlineSecurity         2\n",
            "OnlineBackup           2\n",
            "DeviceProtection       2\n",
            "TechSupport            2\n",
            "StreamingTV            2\n",
            "StreamingMovies        2\n",
            "Contract               3\n",
            "PaperlessBilling       2\n",
            "PaymentMethod          4\n",
            "MonthlyCharges      1585\n",
            "TotalCharges        6531\n",
            "Churn                  2\n",
            "dtype: int64\n"
          ]
        }
      ]
    },
    {
      "cell_type": "markdown",
      "metadata": {
        "id": "M40z6-04LtJA"
      },
      "source": [
        ""
      ]
    },
    {
      "cell_type": "code",
      "metadata": {
        "colab": {
          "base_uri": "https://localhost:8080/",
          "height": 381
        },
        "id": "zpKt2y16dGrp",
        "outputId": "ec5618bb-4f75-4889-8772-f22e27798cc3"
      },
      "source": [
        "print(df_clean.Churn.value_counts())\n",
        "print('\\nChurns representam {:.4f}% do dataset.\\n'.format((df_clean[df_clean.Churn == \"Yes\"].shape[0] / df.shape[0]) * 100))\n",
        "\n",
        "sns.countplot(df_clean.Churn)\n",
        "plt.show();"
      ],
      "execution_count": null,
      "outputs": [
        {
          "name": "stdout",
          "output_type": "stream",
          "text": [
            "No     5174\n",
            "Yes    1869\n",
            "Name: Churn, dtype: int64\n",
            "\n",
            "Churns representam 26.5370% do dataset.\n",
            "\n"
          ]
        },
        {
          "data": {
            "image/png": "[encoded data removed]",
            "text/plain": [
              "<Figure size 432x288 with 1 Axes>"
            ]
          },
          "metadata": {},
          "output_type": "display_data"
        }
      ]
    },
    {
      "cell_type": "markdown",
      "metadata": {
        "id": "DNUtlsrFdQUB"
      },
      "source": [
        "# Processamento dos Dados com Label Encoder e Get Dummies"
      ]
    },
    {
      "cell_type": "code",
      "metadata": {
        "colab": {
          "base_uri": "https://localhost:8080/",
          "height": 261
        },
        "id": "cMbEO_bi-8tA",
        "outputId": "d3c01d46-5b4e-4b15-ac23-70ea67190043"
      },
      "source": [
        "variaveis_binarias = df_clean.nunique()[df_clean.nunique() == 2].keys().tolist()\n",
        "variaveis_numericas = [col for col in df_clean.select_dtypes(['int', 'float']).columns.tolist() if col not in variaveis_binarias]\n",
        "variaveis_categoricas = [col for col in df_clean.columns.tolist() if col not in variaveis_binarias + variaveis_numericas]\n",
        "\n",
        "df_clean_proc = df_clean.copy()\n",
        "\n",
        "le = LabelEncoder()\n",
        "for i in variaveis_binarias:\n",
        "  df_clean_proc[i] = le.fit_transform(df_clean_proc[i])\n",
        "\n",
        "df_clean_proc = pd.get_dummies(df_clean_proc, columns=variaveis_categoricas)\n",
        "\n",
        "df_clean_proc.head()"
      ],
      "execution_count": null,
      "outputs": [
        {
          "output_type": "execute_result",
          "data": {
            "text/html": [
              "<div>\n",
              "<style scoped>\n",
              "    .dataframe tbody tr th:only-of-type {\n",
              "        vertical-align: middle;\n",
              "    }\n",
              "\n",
              "    .dataframe tbody tr th {\n",
              "        vertical-align: top;\n",
              "    }\n",
              "\n",
              "    .dataframe thead th {\n",
              "        text-align: right;\n",
              "    }\n",
              "</style>\n",
              "<table border=\"1\" class=\"dataframe\">\n",
              "  <thead>\n",
              "    <tr style=\"text-align: right;\">\n",
              "      <th></th>\n",
              "      <th>gender</th>\n",
              "      <th>SeniorCitizen</th>\n",
              "      <th>Partner</th>\n",
              "      <th>Dependents</th>\n",
              "      <th>tenure</th>\n",
              "      <th>PhoneService</th>\n",
              "      <th>MultipleLines</th>\n",
              "      <th>OnlineSecurity</th>\n",
              "      <th>OnlineBackup</th>\n",
              "      <th>DeviceProtection</th>\n",
              "      <th>TechSupport</th>\n",
              "      <th>StreamingTV</th>\n",
              "      <th>StreamingMovies</th>\n",
              "      <th>PaperlessBilling</th>\n",
              "      <th>MonthlyCharges</th>\n",
              "      <th>TotalCharges</th>\n",
              "      <th>Churn</th>\n",
              "      <th>InternetService_DSL</th>\n",
              "      <th>InternetService_Fiber optic</th>\n",
              "      <th>InternetService_No</th>\n",
              "      <th>Contract_Month-to-month</th>\n",
              "      <th>Contract_One year</th>\n",
              "      <th>Contract_Two year</th>\n",
              "      <th>PaymentMethod_Bank transfer (automatic)</th>\n",
              "      <th>PaymentMethod_Credit card (automatic)</th>\n",
              "      <th>PaymentMethod_Electronic check</th>\n",
              "      <th>PaymentMethod_Mailed check</th>\n",
              "    </tr>\n",
              "  </thead>\n",
              "  <tbody>\n",
              "    <tr>\n",
              "      <th>0</th>\n",
              "      <td>0</td>\n",
              "      <td>0</td>\n",
              "      <td>1</td>\n",
              "      <td>0</td>\n",
              "      <td>1</td>\n",
              "      <td>0</td>\n",
              "      <td>0</td>\n",
              "      <td>0</td>\n",
              "      <td>1</td>\n",
              "      <td>0</td>\n",
              "      <td>0</td>\n",
              "      <td>0</td>\n",
              "      <td>0</td>\n",
              "      <td>1</td>\n",
              "      <td>29.85</td>\n",
              "      <td>29.85</td>\n",
              "      <td>0</td>\n",
              "      <td>1</td>\n",
              "      <td>0</td>\n",
              "      <td>0</td>\n",
              "      <td>1</td>\n",
              "      <td>0</td>\n",
              "      <td>0</td>\n",
              "      <td>0</td>\n",
              "      <td>0</td>\n",
              "      <td>1</td>\n",
              "      <td>0</td>\n",
              "    </tr>\n",
              "    <tr>\n",
              "      <th>1</th>\n",
              "      <td>1</td>\n",
              "      <td>0</td>\n",
              "      <td>0</td>\n",
              "      <td>0</td>\n",
              "      <td>34</td>\n",
              "      <td>1</td>\n",
              "      <td>0</td>\n",
              "      <td>1</td>\n",
              "      <td>0</td>\n",
              "      <td>1</td>\n",
              "      <td>0</td>\n",
              "      <td>0</td>\n",
              "      <td>0</td>\n",
              "      <td>0</td>\n",
              "      <td>56.95</td>\n",
              "      <td>1889.50</td>\n",
              "      <td>0</td>\n",
              "      <td>1</td>\n",
              "      <td>0</td>\n",
              "      <td>0</td>\n",
              "      <td>0</td>\n",
              "      <td>1</td>\n",
              "      <td>0</td>\n",
              "      <td>0</td>\n",
              "      <td>0</td>\n",
              "      <td>0</td>\n",
              "      <td>1</td>\n",
              "    </tr>\n",
              "    <tr>\n",
              "      <th>2</th>\n",
              "      <td>1</td>\n",
              "      <td>0</td>\n",
              "      <td>0</td>\n",
              "      <td>0</td>\n",
              "      <td>2</td>\n",
              "      <td>1</td>\n",
              "      <td>0</td>\n",
              "      <td>1</td>\n",
              "      <td>1</td>\n",
              "      <td>0</td>\n",
              "      <td>0</td>\n",
              "      <td>0</td>\n",
              "      <td>0</td>\n",
              "      <td>1</td>\n",
              "      <td>53.85</td>\n",
              "      <td>108.15</td>\n",
              "      <td>1</td>\n",
              "      <td>1</td>\n",
              "      <td>0</td>\n",
              "      <td>0</td>\n",
              "      <td>1</td>\n",
              "      <td>0</td>\n",
              "      <td>0</td>\n",
              "      <td>0</td>\n",
              "      <td>0</td>\n",
              "      <td>0</td>\n",
              "      <td>1</td>\n",
              "    </tr>\n",
              "    <tr>\n",
              "      <th>3</th>\n",
              "      <td>1</td>\n",
              "      <td>0</td>\n",
              "      <td>0</td>\n",
              "      <td>0</td>\n",
              "      <td>45</td>\n",
              "      <td>0</td>\n",
              "      <td>0</td>\n",
              "      <td>1</td>\n",
              "      <td>0</td>\n",
              "      <td>1</td>\n",
              "      <td>1</td>\n",
              "      <td>0</td>\n",
              "      <td>0</td>\n",
              "      <td>0</td>\n",
              "      <td>42.30</td>\n",
              "      <td>1840.75</td>\n",
              "      <td>0</td>\n",
              "      <td>1</td>\n",
              "      <td>0</td>\n",
              "      <td>0</td>\n",
              "      <td>0</td>\n",
              "      <td>1</td>\n",
              "      <td>0</td>\n",
              "      <td>1</td>\n",
              "      <td>0</td>\n",
              "      <td>0</td>\n",
              "      <td>0</td>\n",
              "    </tr>\n",
              "    <tr>\n",
              "      <th>4</th>\n",
              "      <td>0</td>\n",
              "      <td>0</td>\n",
              "      <td>0</td>\n",
              "      <td>0</td>\n",
              "      <td>2</td>\n",
              "      <td>1</td>\n",
              "      <td>0</td>\n",
              "      <td>0</td>\n",
              "      <td>0</td>\n",
              "      <td>0</td>\n",
              "      <td>0</td>\n",
              "      <td>0</td>\n",
              "      <td>0</td>\n",
              "      <td>1</td>\n",
              "      <td>70.70</td>\n",
              "      <td>151.65</td>\n",
              "      <td>1</td>\n",
              "      <td>0</td>\n",
              "      <td>1</td>\n",
              "      <td>0</td>\n",
              "      <td>1</td>\n",
              "      <td>0</td>\n",
              "      <td>0</td>\n",
              "      <td>0</td>\n",
              "      <td>0</td>\n",
              "      <td>1</td>\n",
              "      <td>0</td>\n",
              "    </tr>\n",
              "  </tbody>\n",
              "</table>\n",
              "</div>"
            ],
            "text/plain": [
              "   gender  ...  PaymentMethod_Mailed check\n",
              "0       0  ...                           0\n",
              "1       1  ...                           1\n",
              "2       1  ...                           1\n",
              "3       1  ...                           0\n",
              "4       0  ...                           0\n",
              "\n",
              "[5 rows x 27 columns]"
            ]
          },
          "metadata": {},
          "execution_count": 6
        }
      ]
    },
    {
      "cell_type": "markdown",
      "metadata": {
        "id": "SOAItkZWdIsp"
      },
      "source": [
        "* Estudar a correlação entre os dados"
      ]
    },
    {
      "cell_type": "code",
      "metadata": {
        "colab": {
          "base_uri": "https://localhost:8080/",
          "height": 583
        },
        "id": "ExoGFp24gt6m",
        "outputId": "87eea627-1cb2-4029-df9d-056eb185b89d"
      },
      "source": [
        "fig, ax = plt.subplots(figsize=(8,6))\n",
        "sns.heatmap(df_clean_proc.corr())\n",
        "\n",
        "plt.show();"
      ],
      "execution_count": null,
      "outputs": [
        {
          "data": {
            "image/png": "[encoded data removed]",
            "text/plain": [
              "<Figure size 576x432 with 2 Axes>"
            ]
          },
          "metadata": {},
          "output_type": "display_data"
        }
      ]
    },
    {
      "cell_type": "markdown",
      "metadata": {
        "id": "r86MXBVxdCTr"
      },
      "source": [
        "* Identificar a variável alvo (target)"
      ]
    },
    {
      "cell_type": "markdown",
      "metadata": {
        "id": "xUm79j9bceyL"
      },
      "source": [
        "# Preparação dos Dados\n"
      ]
    },
    {
      "cell_type": "markdown",
      "metadata": {
        "id": "bi7dnGylMybY"
      },
      "source": [
        "**Separar os dados entre feature matrix e target vector**"
      ]
    },
    {
      "cell_type": "code",
      "metadata": {
        "id": "6qHJrOBIrpjv"
      },
      "source": [
        "# separar os dados enter feature matrix e target vector\n",
        "X = df_clean_proc.drop('Churn', axis=1)\n",
        "y = df_clean_proc['Churn']\n",
        "\n",
        "# Dividir o dataset entre treino e teste\n",
        "X_train, X_test, y_train, y_test = train_test_split(X, y, stratify=y, shuffle=True)"
      ],
      "execution_count": null,
      "outputs": []
    },
    {
      "cell_type": "markdown",
      "metadata": {
        "id": "2-J-eQVsNAtR"
      },
      "source": [
        "**Avaliando Modelos com Cross-Validation**"
      ]
    },
    {
      "cell_type": "code",
      "metadata": {
        "id": "hkGov1yv2cpP"
      },
      "source": [
        "def val_model(X, y,clf, quite=False):\n",
        "\n",
        "  X = np.array(X)\n",
        "  y = np.array(y)\n",
        "\n",
        "  pipeline1 = make_pipeline(StandardScaler(), clf)\n",
        "  pipeline2 = make_pipeline(RobustScaler(), clf)\n",
        "  pipeline3 = make_pipeline(QuantileTransformer(), clf)\n",
        "  pipeline4 = make_pipeline(QuantileTransformer(output_distribution='normal'), clf)\n",
        "  pipeline5 = make_pipeline(PowerTransformer(method='yeo-johnson'), clf)\n",
        "  scores1 = cross_val_score(pipeline1, X, y, scoring='recall')\n",
        "  scores2 = cross_val_score(pipeline2, X, y, scoring='recall')\n",
        "  scores3 = cross_val_score(pipeline3, X, y, scoring='recall')\n",
        "  scores4 = cross_val_score(pipeline4, X, y, scoring='recall')\n",
        "  scores5 = cross_val_score(pipeline5, X, y, scoring='recall')\n",
        "\n",
        "  if quite == False:\n",
        "    print('Recall StandardScaler: {:.4f} (+/- {:.4f})'.format(scores1.mean(), scores1.std() * 2))\n",
        "    print('Recall RobustScaler: {:.4f} (+/- {:.4f})'.format(scores2.mean(), scores2.std() * 2))\n",
        "    print('Recall QuantileTransformer: {:.4f} (+/- {:.4f})'.format(scores3.mean(), scores3.std() * 2))\n",
        "    print('Recall QuantileTransformer-N: {:.4f} (+/- {:.4f})'.format(scores4.mean(), scores4.std() * 2))\n",
        "    print('Recall PowerTransformer: {:.4f} (+/- {:.4f})'.format(scores5.mean(), scores5.std() * 2))\n",
        "  return scores1.mean()"
      ],
      "execution_count": null,
      "outputs": []
    },
    {
      "cell_type": "code",
      "metadata": {
        "id": "SeRpyCqauthY"
      },
      "source": [
        "# Importar Modelos a serem avaliados\n",
        "rf = RandomForestClassifier()\n",
        "lr = LogisticRegression()\n",
        "xgb = XGBClassifier()\n",
        "lda = LinearDiscriminantAnalysis()\n",
        "svc = SVC()\n",
        "sgd = SGDClassifier()"
      ],
      "execution_count": null,
      "outputs": []
    },
    {
      "cell_type": "code",
      "metadata": {
        "colab": {
          "base_uri": "https://localhost:8080/"
        },
        "id": "D_0gOzTL5SfL",
        "outputId": "b19eca62-d18d-4234-d29a-dfd400a5fd08"
      },
      "source": [
        "print('Cross-validation RF:')\n",
        "score_teste1 = val_model(X_train, y_train, rf)\n",
        "print('\\nCross-validation LR:')\n",
        "score_teste2 = val_model(X_train, y_train, lr)\n",
        "print('\\nCross-validation XGB:')\n",
        "score_teste3 = val_model(X_train, y_train, xgb)\n",
        "print('\\nCross-validation LDA:')\n",
        "score_teste4 = val_model(X_train, y_train, lda)\n",
        "print('\\nCross-validation SVC:')\n",
        "score_teste5 = val_model(X_train, y_train, svc)\n",
        "print('\\nCross-validation SGD:')\n",
        "score_teste6 = val_model(X_train, y_train, sgd)"
      ],
      "execution_count": null,
      "outputs": [
        {
          "name": "stdout",
          "output_type": "stream",
          "text": [
            "Cross-validation RF:\n",
            "Recall StandardScaler: 0.5036 (+/- 0.0786)\n",
            "Recall2 RobustScaler: 0.5100 (+/- 0.0606)\n",
            "Recall3 QuantileTransformer: 0.5121 (+/- 0.0620)\n",
            "Recall4 QuantileTransformer-N: 0.5107 (+/- 0.0744)\n",
            "Recall5 PowerTransformer: 0.5057 (+/- 0.0764)\n",
            "\n",
            "Cross-validation LR:\n",
            "Recall StandardScaler: 0.5592 (+/- 0.0657)\n",
            "Recall2 RobustScaler: 0.5564 (+/- 0.0683)\n",
            "Recall3 QuantileTransformer: 0.5485 (+/- 0.0490)\n",
            "Recall4 QuantileTransformer-N: 0.5528 (+/- 0.0502)\n",
            "Recall5 PowerTransformer: 0.5421 (+/- 0.0514)\n",
            "\n",
            "Cross-validation XGB:\n",
            "Recall StandardScaler: 0.5435 (+/- 0.0507)\n",
            "Recall2 RobustScaler: 0.5435 (+/- 0.0507)\n",
            "Recall3 QuantileTransformer: 0.5428 (+/- 0.0510)\n",
            "Recall4 QuantileTransformer-N: 0.5428 (+/- 0.0510)\n",
            "Recall5 PowerTransformer: 0.5435 (+/- 0.0507)\n",
            "\n",
            "Cross-validation LDA:\n",
            "Recall StandardScaler: 0.5649 (+/- 0.0558)\n",
            "Recall2 RobustScaler: 0.5649 (+/- 0.0558)\n",
            "Recall3 QuantileTransformer: 0.5514 (+/- 0.0361)\n",
            "Recall4 QuantileTransformer-N: 0.5792 (+/- 0.0537)\n",
            "Recall5 PowerTransformer: 0.5492 (+/- 0.0462)\n",
            "\n",
            "Cross-validation SVC:\n",
            "Recall StandardScaler: 0.5236 (+/- 0.0350)\n",
            "Recall2 RobustScaler: 0.5186 (+/- 0.0392)\n",
            "Recall3 QuantileTransformer: 0.5114 (+/- 0.0229)\n",
            "Recall4 QuantileTransformer-N: 0.4872 (+/- 0.0076)\n",
            "Recall5 PowerTransformer: 0.5193 (+/- 0.0245)\n",
            "\n",
            "Cross-validation SGD:\n",
            "Recall StandardScaler: 0.4168 (+/- 0.2905)\n",
            "Recall2 RobustScaler: 0.5471 (+/- 0.1338)\n",
            "Recall3 QuantileTransformer: 0.5279 (+/- 0.2740)\n",
            "Recall4 QuantileTransformer-N: 0.5014 (+/- 0.2028)\n",
            "Recall5 PowerTransformer: 0.4402 (+/- 0.3174)\n"
          ]
        }
      ]
    },
    {
      "cell_type": "markdown",
      "metadata": {
        "id": "I1WeCAmlN1BJ"
      },
      "source": [
        "## Padronização e Balanceamento dos Dados"
      ]
    },
    {
      "cell_type": "code",
      "metadata": {
        "id": "QwQBsTArpZNB"
      },
      "source": [
        "scaler = StandardScaler()\n",
        "Rob_scaler = RobustScaler()\n",
        "qtr = QuantileTransformer()\n",
        "qtr_n = QuantileTransformer(output_distribution='normal')\n",
        "pwr = PowerTransformer()\n",
        "\n",
        "X_train_scaled = scaler.fit_transform(X_train)\n",
        "X_train_Rscaled = Rob_scaler.fit_transform(X_train)\n",
        "X_train_qtr = qtr.fit_transform(X_train)\n",
        "X_train_qtr_n = qtr_n.fit_transform(X_train)\n",
        "X_train_pwr = pwr.fit_transform(X_train)\n",
        "\n",
        "\n",
        "rus = RandomUnderSampler()\n",
        "X_rus_scaled, y_train_rus_scaled = rus.fit_sample(X_train_scaled, y_train)\n",
        "X_rus_Rscaled, y_train_rus_Rscaled = rus.fit_sample(X_train_Rscaled, y_train)\n",
        "X_rus_qtr, y_train_rus_qtr = rus.fit_sample(X_train_qtr, y_train)\n",
        "X_rus_qtr_n, y_train_rus_qtr_n = rus.fit_sample(X_train_qtr_n, y_train)\n",
        "X_rus_pwr, y_train_rus_pwr = rus.fit_sample(X_train_pwr, y_train)\n",
        "\n",
        "\n",
        "smo = SMOTE()\n",
        "X_smo_scaled, y_train_smo_scaled = smo.fit_sample(X_train_scaled, y_train)\n",
        "X_smo_Rscaled, y_train_smo_Rscaled = smo.fit_sample(X_train_Rscaled, y_train)\n",
        "X_smo_qtr, y_train_smo_qtr = smo.fit_sample(X_train_qtr, y_train)\n",
        "X_smo_qtr_n, y_train_smo_qtr_n = smo.fit_sample(X_train_qtr_n, y_train)\n",
        "X_smo_pwr, y_train_smo_pwr = smo.fit_sample(X_train_pwr, y_train)\n",
        "\n",
        "\n",
        "ada = ADASYN()\n",
        "X_ada_scaled, y_train_ada_scaled = ada.fit_sample(X_train_scaled, y_train)\n",
        "X_ada_Rscaled, y_train_ada_Rscaled = ada.fit_sample(X_train_Rscaled, y_train)\n",
        "X_ada_qtr, y_train_ada_qtr = ada.fit_sample(X_train_qtr, y_train)\n",
        "X_ada_qtr_n, y_train_ada_qtr_n = ada.fit_sample(X_train_qtr_n, y_train)\n",
        "X_ada_pwr, y_train_ada_pwr = ada.fit_sample(X_train_pwr, y_train)\n"
      ],
      "execution_count": null,
      "outputs": []
    },
    {
      "cell_type": "markdown",
      "metadata": {
        "id": "8pQikbUqN_mb"
      },
      "source": [
        "### Balanceamento com Random UnderSampling"
      ]
    },
    {
      "cell_type": "code",
      "metadata": {
        "colab": {
          "base_uri": "https://localhost:8080/",
          "height": 348
        },
        "id": "-sA-_QqCsi67",
        "outputId": "28791a8e-8cbe-4932-f922-67f522929651"
      },
      "source": [
        "print(pd.Series(y_train_rus_scaled).value_counts())\n",
        "\n",
        "fig, ax = plt.subplots() \n",
        "\n",
        "sns.countplot(y_train_rus_scaled)\n",
        "\n",
        "plt.tight_layout()\n"
      ],
      "execution_count": null,
      "outputs": [
        {
          "name": "stdout",
          "output_type": "stream",
          "text": [
            "1    1402\n",
            "0    1402\n",
            "dtype: int64\n"
          ]
        },
        {
          "data": {
            "image/png": "[encoded data removed]",
            "text/plain": [
              "<Figure size 432x288 with 1 Axes>"
            ]
          },
          "metadata": {},
          "output_type": "display_data"
        }
      ]
    },
    {
      "cell_type": "markdown",
      "metadata": {
        "id": "i2bBSssdOJB5"
      },
      "source": [
        "### Balanceamento com OverSampling SMOTE"
      ]
    },
    {
      "cell_type": "code",
      "metadata": {
        "colab": {
          "base_uri": "https://localhost:8080/",
          "height": 348
        },
        "id": "p9qxKPtYtBe1",
        "outputId": "758179c4-86be-4bfc-8938-1d19e090b9a9"
      },
      "source": [
        "print(pd.Series(y_train_smo_scaled).value_counts())\n",
        "\n",
        "fig, ax = plt.subplots() \n",
        "\n",
        "sns.countplot(y_train_smo_scaled)\n",
        "\n",
        "\n",
        "plt.tight_layout()"
      ],
      "execution_count": null,
      "outputs": [
        {
          "name": "stdout",
          "output_type": "stream",
          "text": [
            "1    3880\n",
            "0    3880\n",
            "dtype: int64\n"
          ]
        },
        {
          "data": {
            "image/png": "[encoded data removed]",
            "text/plain": [
              "<Figure size 432x288 with 1 Axes>"
            ]
          },
          "metadata": {},
          "output_type": "display_data"
        }
      ]
    },
    {
      "cell_type": "markdown",
      "metadata": {
        "id": "r6ofUtz5OPXD"
      },
      "source": [
        "### Balanceamento com OverSampling ADASYN"
      ]
    },
    {
      "cell_type": "code",
      "metadata": {
        "colab": {
          "base_uri": "https://localhost:8080/",
          "height": 348
        },
        "id": "JNCJzp0otVdL",
        "outputId": "9088e0f3-e07c-46d5-dd74-2ec196afdca0"
      },
      "source": [
        "print(pd.Series(y_train_ada_scaled).value_counts())\n",
        "\n",
        "fig, ax = plt.subplots() \n",
        "\n",
        "sns.countplot(y_train_ada_scaled)\n",
        "\n",
        "\n",
        "plt.tight_layout();"
      ],
      "execution_count": null,
      "outputs": [
        {
          "name": "stdout",
          "output_type": "stream",
          "text": [
            "0    3880\n",
            "1    3827\n",
            "dtype: int64\n"
          ]
        },
        {
          "data": {
            "image/png": "[encoded data removed]",
            "text/plain": [
              "<Figure size 432x288 with 1 Axes>"
            ]
          },
          "metadata": {},
          "output_type": "display_data"
        }
      ]
    },
    {
      "cell_type": "markdown",
      "metadata": {
        "id": "Q0Hnu5jHOUa-"
      },
      "source": [
        "## Avaliandos Modelos com Cross-Validation (Dados Balanceados e Padronizados)"
      ]
    },
    {
      "cell_type": "code",
      "metadata": {
        "id": "FM2UNiSiMtUl"
      },
      "source": [
        "def val_model_balanced(X, y,clf, quite=False):\n",
        "\n",
        "  X = np.array(X)\n",
        "  y = np.array(y)\n",
        "\n",
        "  scores = cross_val_score(clf, X, y, scoring='recall')\n",
        "\n",
        "  if quite == False:\n",
        "    print('Recall: {:.4f} (+/- {:.4f})'.format(scores.mean(), scores.std() * 2))\n",
        "  return scores.mean()"
      ],
      "execution_count": null,
      "outputs": []
    },
    {
      "cell_type": "markdown",
      "metadata": {
        "id": "Mw-qrGgNOh0S"
      },
      "source": [
        "## Balanceamento RUS com StandardScaler (scaled)"
      ]
    },
    {
      "cell_type": "code",
      "metadata": {
        "colab": {
          "base_uri": "https://localhost:8080/"
        },
        "id": "D5YCIw9hJlYt",
        "outputId": "5d74451c-916c-4087-b616-796f2d28abda"
      },
      "source": [
        "print('Cross-validation RF:')\n",
        "score_teste1 = val_model_balanced(X_rus_scaled, y_train_rus_scaled, rf)\n",
        "print('\\nCross-validation LR:')\n",
        "score_teste2 = val_model_balanced(X_rus_scaled, y_train_rus_scaled, lr)\n",
        "print('\\nCross-validation XGB:')\n",
        "score_teste3 = val_model_balanced(X_rus_scaled, y_train_rus_scaled, xgb)\n",
        "print('\\nCross-validation LDA:')\n",
        "score_teste4 = val_model_balanced(X_rus_scaled, y_train_rus_scaled, lda)\n",
        "print('\\nCross-validation SVC:')\n",
        "score_teste5 = val_model_balanced(X_rus_scaled, y_train_rus_scaled, svc)\n",
        "print('\\nCross-validation SGD:')\n",
        "score_teste6 = val_model_balanced(X_rus_scaled, y_train_rus_scaled, sgd)"
      ],
      "execution_count": null,
      "outputs": [
        {
          "name": "stdout",
          "output_type": "stream",
          "text": [
            "Cross-validation RF:\n",
            "Recall: 0.7625 (+/- 0.0385)\n",
            "\n",
            "Cross-validation LR:\n",
            "Recall: 0.7910 (+/- 0.0626)\n",
            "\n",
            "Cross-validation XGB:\n",
            "Recall: 0.8088 (+/- 0.0640)\n",
            "\n",
            "Cross-validation LDA:\n",
            "Recall: 0.8017 (+/- 0.0533)\n",
            "\n",
            "Cross-validation SVC:\n",
            "Recall: 0.7967 (+/- 0.0544)\n",
            "\n",
            "Cross-validation SGD:\n",
            "Recall: 0.7446 (+/- 0.2477)\n"
          ]
        }
      ]
    },
    {
      "cell_type": "markdown",
      "metadata": {
        "id": "2CnkkDyMOr3s"
      },
      "source": [
        "### Balanceamento RUS com RobustScaler (Rscaled)"
      ]
    },
    {
      "cell_type": "code",
      "metadata": {
        "colab": {
          "base_uri": "https://localhost:8080/"
        },
        "id": "_n_mcaepJmak",
        "outputId": "f4dc8abf-7137-4a42-85c6-957fc2073c0c"
      },
      "source": [
        "print('Cross-validation RF:')\n",
        "score_teste1 = val_model_balanced(X_rus_Rscaled, y_train_rus_Rscaled, rf)\n",
        "print('\\nCross-validation LR:')\n",
        "score_teste2 = val_model_balanced(X_rus_Rscaled, y_train_rus_Rscaled, lr)\n",
        "print('\\nCross-validation XGB:')\n",
        "score_teste3 = val_model_balanced(X_rus_Rscaled, y_train_rus_Rscaled, xgb)\n",
        "print('\\nCross-validation LDA:')\n",
        "score_teste4 = val_model_balanced(X_rus_Rscaled, y_train_rus_Rscaled, lda)\n",
        "print('\\nCross-validation SVC:')\n",
        "score_teste5 = val_model_balanced(X_rus_Rscaled, y_train_rus_Rscaled, svc)\n",
        "print('\\nCross-validation SGD:')\n",
        "score_teste6 = val_model_balanced(X_rus_Rscaled, y_train_rus_Rscaled, sgd)"
      ],
      "execution_count": null,
      "outputs": [
        {
          "name": "stdout",
          "output_type": "stream",
          "text": [
            "Cross-validation RF:\n",
            "Recall: 0.7703 (+/- 0.0668)\n",
            "\n",
            "Cross-validation LR:\n",
            "Recall: 0.8024 (+/- 0.0464)\n",
            "\n",
            "Cross-validation XGB:\n",
            "Recall: 0.8089 (+/- 0.0674)\n",
            "\n",
            "Cross-validation LDA:\n",
            "Recall: 0.7974 (+/- 0.0430)\n",
            "\n",
            "Cross-validation SVC:\n",
            "Recall: 0.7974 (+/- 0.0543)\n",
            "\n",
            "Cross-validation SGD:\n",
            "Recall: 0.7476 (+/- 0.1604)\n"
          ]
        }
      ]
    },
    {
      "cell_type": "markdown",
      "metadata": {
        "id": "aQ8AnR2VOzGU"
      },
      "source": [
        "### Balanceamento RUS com QuantileTransformer (QTR)"
      ]
    },
    {
      "cell_type": "code",
      "metadata": {
        "colab": {
          "base_uri": "https://localhost:8080/"
        },
        "id": "kHWchUcZJnLv",
        "outputId": "8888507d-e89e-4dd4-e520-33ae966631f3"
      },
      "source": [
        "print('Cross-validation RF:')\n",
        "score_teste1 = val_model_balanced(X_rus_qtr, y_train_rus_qtr, rf)\n",
        "print('\\nCross-validation LR:')\n",
        "score_teste2 = val_model_balanced(X_rus_qtr, y_train_rus_qtr, lr)\n",
        "print('\\nCross-validation XGB:')\n",
        "score_teste3 = val_model_balanced(X_rus_qtr, y_train_rus_qtr, xgb)\n",
        "print('\\nCross-validation LDA:')\n",
        "score_teste4 = val_model_balanced(X_rus_qtr, y_train_rus_qtr, lda)\n",
        "print('\\nCross-validation SVC:')\n",
        "score_teste5 = val_model_balanced(X_rus_qtr, y_train_rus_qtr, svc)\n",
        "print('\\nCross-validation SGD:')\n",
        "score_teste6 = val_model_balanced(X_rus_qtr, y_train_rus_qtr, sgd)"
      ],
      "execution_count": null,
      "outputs": [
        {
          "name": "stdout",
          "output_type": "stream",
          "text": [
            "Cross-validation RF:\n",
            "Recall: 0.7703 (+/- 0.0525)\n",
            "\n",
            "Cross-validation LR:\n",
            "Recall: 0.8067 (+/- 0.0654)\n",
            "\n",
            "Cross-validation XGB:\n",
            "Recall: 0.8096 (+/- 0.0593)\n",
            "\n",
            "Cross-validation LDA:\n",
            "Recall: 0.8110 (+/- 0.0579)\n",
            "\n",
            "Cross-validation SVC:\n",
            "Recall: 0.8032 (+/- 0.0635)\n",
            "\n",
            "Cross-validation SGD:\n",
            "Recall: 0.6590 (+/- 0.4227)\n"
          ]
        }
      ]
    },
    {
      "cell_type": "markdown",
      "metadata": {
        "id": "lT7PMN4MO_Yw"
      },
      "source": [
        "### Balanceamento RUS com QuantileTransformer (uniform output)"
      ]
    },
    {
      "cell_type": "code",
      "metadata": {
        "colab": {
          "base_uri": "https://localhost:8080/"
        },
        "id": "S3GiB-d0LywL",
        "outputId": "753ebc21-c05f-4b31-bfbd-c2adf9d2f93c"
      },
      "source": [
        "print('Cross-validation RF:')\n",
        "score_teste1 = val_model_balanced(X_rus_qtr_n, y_train_rus_qtr_n, rf)\n",
        "print('\\nCross-validation LR:')\n",
        "score_teste2 = val_model_balanced(X_rus_qtr_n, y_train_rus_qtr_n, lr)\n",
        "print('\\nCross-validation XGB:')\n",
        "score_teste3 = val_model_balanced(X_rus_qtr_n, y_train_rus_qtr_n, xgb)\n",
        "print('\\nCross-validation LDA:')\n",
        "score_teste4 = val_model_balanced(X_rus_qtr_n, y_train_rus_qtr_n, lda)\n",
        "print('\\nCross-validation SVC:')\n",
        "score_teste5 = val_model_balanced(X_rus_qtr_n, y_train_rus_qtr_n, svc)\n",
        "print('\\nCross-validation SGD:')\n",
        "score_teste6 = val_model_balanced(X_rus_qtr_n, y_train_rus_qtr_n, sgd)"
      ],
      "execution_count": null,
      "outputs": [
        {
          "name": "stdout",
          "output_type": "stream",
          "text": [
            "Cross-validation RF:\n",
            "Recall: 0.7789 (+/- 0.0466)\n",
            "\n",
            "Cross-validation LR:\n",
            "Recall: 0.8138 (+/- 0.0639)\n",
            "\n",
            "Cross-validation XGB:\n",
            "Recall: 0.8138 (+/- 0.0430)\n",
            "\n",
            "Cross-validation LDA:\n",
            "Recall: 0.8281 (+/- 0.0624)\n",
            "\n",
            "Cross-validation SVC:\n",
            "Recall: 0.8032 (+/- 0.0364)\n",
            "\n",
            "Cross-validation SGD:\n",
            "Recall: 0.6054 (+/- 0.5664)\n"
          ]
        }
      ]
    },
    {
      "cell_type": "markdown",
      "metadata": {
        "id": "f4hRYw1wPpMM"
      },
      "source": [
        "### Balanceamento RUS com PowerTransformer (PWR)"
      ]
    },
    {
      "cell_type": "code",
      "metadata": {
        "colab": {
          "base_uri": "https://localhost:8080/"
        },
        "id": "q7YbsKUALzOd",
        "outputId": "4dc0852a-9613-46d5-c93d-cbc58cfa75b9"
      },
      "source": [
        "print('Cross-validation RF:')\n",
        "score_teste1 = val_model_balanced(X_rus_pwr, y_train_rus_pwr, rf)\n",
        "print('\\nCross-validation LR:')\n",
        "score_teste2 = val_model_balanced(X_rus_pwr, y_train_rus_pwr, lr)\n",
        "print('\\nCross-validation XGB:')\n",
        "score_teste3 = val_model_balanced(X_rus_pwr, y_train_rus_pwr, xgb)\n",
        "print('\\nCross-validation LDA:')\n",
        "score_teste4 = val_model_balanced(X_rus_pwr, y_train_rus_pwr, lda)\n",
        "print('\\nCross-validation SVC:')\n",
        "score_teste5 = val_model_balanced(X_rus_pwr, y_train_rus_pwr, svc)\n",
        "print('\\nCross-validation SGD:')\n",
        "score_teste6 = val_model_balanced(X_rus_pwr, y_train_rus_pwr, sgd)"
      ],
      "execution_count": null,
      "outputs": [
        {
          "name": "stdout",
          "output_type": "stream",
          "text": [
            "Cross-validation RF:\n",
            "Recall: 0.7760 (+/- 0.0388)\n",
            "\n",
            "Cross-validation LR:\n",
            "Recall: 0.7967 (+/- 0.0720)\n",
            "\n",
            "Cross-validation XGB:\n",
            "Recall: 0.8174 (+/- 0.0541)\n",
            "\n",
            "Cross-validation LDA:\n",
            "Recall: 0.8003 (+/- 0.0677)\n",
            "\n",
            "Cross-validation SVC:\n",
            "Recall: 0.7910 (+/- 0.0587)\n",
            "\n",
            "Cross-validation SGD:\n",
            "Recall: 0.8074 (+/- 0.0689)\n"
          ]
        }
      ]
    },
    {
      "cell_type": "markdown",
      "metadata": {
        "id": "1m2iNLCCP-zO"
      },
      "source": [
        "## Balanceamento SMOTE com StandardScaler (scaled)"
      ]
    },
    {
      "cell_type": "code",
      "metadata": {
        "colab": {
          "base_uri": "https://localhost:8080/"
        },
        "id": "IkCjzFY6PGCv",
        "outputId": "56a99039-00fe-48cd-a81f-15942fe0d5f9"
      },
      "source": [
        "print('Cross-validation RF:')\n",
        "score_teste1 = val_model_balanced(X_smo_scaled, y_train_smo_scaled, rf)\n",
        "print('\\nCross-validation LR:')\n",
        "score_teste2 = val_model_balanced(X_smo_scaled, y_train_smo_scaled, lr)\n",
        "print('\\nCross-validation XGB:')\n",
        "score_teste3 = val_model_balanced(X_smo_scaled, y_train_smo_scaled, xgb)\n",
        "print('\\nCross-validation LDA:')\n",
        "score_teste4 = val_model_balanced(X_smo_scaled, y_train_smo_scaled, lda)\n",
        "print('\\nCross-validation SVC:')\n",
        "score_teste5 = val_model_balanced(X_smo_scaled, y_train_smo_scaled, svc)\n",
        "print('\\nCross-validation SGD:')\n",
        "score_teste6 = val_model_balanced(X_smo_scaled, y_train_smo_scaled, sgd)"
      ],
      "execution_count": null,
      "outputs": [
        {
          "name": "stdout",
          "output_type": "stream",
          "text": [
            "Cross-validation RF:\n",
            "Recall: 0.8784 (+/- 0.2133)\n",
            "\n",
            "Cross-validation LR:\n",
            "Recall: 0.8206 (+/- 0.0365)\n",
            "\n",
            "Cross-validation XGB:\n",
            "Recall: 0.8572 (+/- 0.2798)\n",
            "\n",
            "Cross-validation LDA:\n",
            "Recall: 0.8178 (+/- 0.0404)\n",
            "\n",
            "Cross-validation SVC:\n",
            "Recall: 0.8541 (+/- 0.1075)\n",
            "\n",
            "Cross-validation SGD:\n",
            "Recall: 0.8044 (+/- 0.0704)\n"
          ]
        }
      ]
    },
    {
      "cell_type": "markdown",
      "metadata": {
        "id": "Uv360uUPQIfv"
      },
      "source": [
        "#### Balanceamento SMOTE com RobustScaler (Rscaled)"
      ]
    },
    {
      "cell_type": "code",
      "metadata": {
        "colab": {
          "base_uri": "https://localhost:8080/"
        },
        "id": "rWXW1my1QFqe",
        "outputId": "68d0f04d-00c5-4c2f-c4b9-4556f5a908d0"
      },
      "source": [
        "print('Cross-validation RF:')\n",
        "score_teste1 = val_model_balanced(X_smo_Rscaled, y_train_smo_Rscaled, rf)\n",
        "print('\\nCross-validation LR:')\n",
        "score_teste2 = val_model_balanced(X_smo_Rscaled, y_train_smo_Rscaled, lr)\n",
        "print('\\nCross-validation XGB:')\n",
        "score_teste3 = val_model_balanced(X_smo_Rscaled, y_train_smo_Rscaled, xgb)\n",
        "print('\\nCross-validation LDA:')\n",
        "score_teste4 = val_model_balanced(X_smo_Rscaled, y_train_smo_Rscaled, lda)\n",
        "print('\\nCross-validation SVC:')\n",
        "score_teste5 = val_model_balanced(X_smo_Rscaled, y_train_smo_Rscaled, svc)\n",
        "print('\\nCross-validation SGD:')\n",
        "score_teste6 = val_model_balanced(X_smo_Rscaled, y_train_smo_Rscaled, sgd)"
      ],
      "execution_count": null,
      "outputs": [
        {
          "name": "stdout",
          "output_type": "stream",
          "text": [
            "Cross-validation RF:\n",
            "Recall: 0.8693 (+/- 0.2310)\n",
            "\n",
            "Cross-validation LR:\n",
            "Recall: 0.8183 (+/- 0.0440)\n",
            "\n",
            "Cross-validation XGB:\n",
            "Recall: 0.8590 (+/- 0.2612)\n",
            "\n",
            "Cross-validation LDA:\n",
            "Recall: 0.8219 (+/- 0.0432)\n",
            "\n",
            "Cross-validation SVC:\n",
            "Recall: 0.8454 (+/- 0.0994)\n",
            "\n",
            "Cross-validation SGD:\n",
            "Recall: 0.8023 (+/- 0.1035)\n"
          ]
        }
      ]
    },
    {
      "cell_type": "markdown",
      "metadata": {
        "id": "kY68UgTXQUGj"
      },
      "source": [
        "#### Balanceamento SMOTE com QuantileTransformer (QTR)"
      ]
    },
    {
      "cell_type": "code",
      "metadata": {
        "colab": {
          "base_uri": "https://localhost:8080/"
        },
        "id": "WscKfsNyQNLh",
        "outputId": "0815bce2-87d3-4b96-d1db-ceb8cbc23ca9"
      },
      "source": [
        "print('Cross-validation RF:')\n",
        "score_teste1 = val_model_balanced(X_smo_qtr, y_train_smo_qtr, rf)\n",
        "print('\\nCross-validation LR:')\n",
        "score_teste2 = val_model_balanced(X_smo_qtr, y_train_smo_qtr, lr)\n",
        "print('\\nCross-validation XGB:')\n",
        "score_teste3 = val_model_balanced(X_smo_qtr, y_train_smo_qtr, xgb)\n",
        "print('\\nCross-validation LDA:')\n",
        "score_teste4 = val_model_balanced(X_smo_qtr, y_train_smo_qtr, lda)\n",
        "print('\\nCross-validation SVC:')\n",
        "score_teste5 = val_model_balanced(X_smo_qtr, y_train_smo_qtr, svc)\n",
        "print('\\nCross-validation SGD:')\n",
        "score_teste6 = val_model_balanced(X_smo_qtr, y_train_smo_qtr, sgd)"
      ],
      "execution_count": null,
      "outputs": [
        {
          "name": "stdout",
          "output_type": "stream",
          "text": [
            "Cross-validation RF:\n",
            "Recall: 0.8683 (+/- 0.2343)\n",
            "\n",
            "Cross-validation LR:\n",
            "Recall: 0.8085 (+/- 0.0418)\n",
            "\n",
            "Cross-validation XGB:\n",
            "Recall: 0.8595 (+/- 0.2600)\n",
            "\n",
            "Cross-validation LDA:\n",
            "Recall: 0.8124 (+/- 0.0434)\n",
            "\n",
            "Cross-validation SVC:\n",
            "Recall: 0.8430 (+/- 0.1264)\n",
            "\n",
            "Cross-validation SGD:\n",
            "Recall: 0.7848 (+/- 0.0799)\n"
          ]
        }
      ]
    },
    {
      "cell_type": "markdown",
      "metadata": {
        "id": "pS5_TN1kQaiQ"
      },
      "source": [
        "#### Balanceamento SMOTE com QuantileTransformer (uniform output)"
      ]
    },
    {
      "cell_type": "code",
      "metadata": {
        "colab": {
          "base_uri": "https://localhost:8080/"
        },
        "id": "1htMBihgQokC",
        "outputId": "ae71cf5e-5771-483f-ac83-a4a2bf2e9a37"
      },
      "source": [
        "print('Cross-validation RF:')\n",
        "score_teste1 = val_model_balanced(X_smo_qtr_n, y_train_smo_qtr_n, rf)\n",
        "print('\\nCross-validation LR:')\n",
        "score_teste2 = val_model_balanced(X_smo_qtr_n, y_train_smo_qtr_n, lr)\n",
        "print('\\nCross-validation XGB:')\n",
        "score_teste3 = val_model_balanced(X_smo_qtr_n, y_train_smo_qtr_n, xgb)\n",
        "print('\\nCross-validation LDA:')\n",
        "score_teste4 = val_model_balanced(X_smo_qtr_n, y_train_smo_qtr_n, lda)\n",
        "print('\\nCross-validation SVC:')\n",
        "score_teste5 = val_model_balanced(X_smo_qtr_n, y_train_smo_qtr_n, svc)\n",
        "print('\\nCross-validation SGD:')\n",
        "score_teste6 = val_model_balanced(X_smo_qtr_n, y_train_smo_qtr_n, sgd)"
      ],
      "execution_count": null,
      "outputs": [
        {
          "name": "stdout",
          "output_type": "stream",
          "text": [
            "Cross-validation RF:\n",
            "Recall: 0.8758 (+/- 0.2322)\n",
            "\n",
            "Cross-validation LR:\n",
            "Recall: 0.8268 (+/- 0.0439)\n",
            "\n",
            "Cross-validation XGB:\n",
            "Recall: 0.8639 (+/- 0.2512)\n",
            "\n",
            "Cross-validation LDA:\n",
            "Recall: 0.8415 (+/- 0.0500)\n",
            "\n",
            "Cross-validation SVC:\n",
            "Recall: 0.8536 (+/- 0.1320)\n",
            "\n",
            "Cross-validation SGD:\n",
            "Recall: 0.7729 (+/- 0.1627)\n"
          ]
        }
      ]
    },
    {
      "cell_type": "markdown",
      "metadata": {
        "id": "dPaKsL2hQgWT"
      },
      "source": [
        "#### Balanceamento SMOTE com PowerTransformer (PWR)"
      ]
    },
    {
      "cell_type": "code",
      "metadata": {
        "colab": {
          "base_uri": "https://localhost:8080/"
        },
        "id": "VaGZN7FuQ_LW",
        "outputId": "77d66cd3-e0bb-43a4-ef30-cb9c9f4b6343"
      },
      "source": [
        "print('Cross-validation RF:')\n",
        "score_teste1 = val_model_balanced(X_smo_pwr, y_train_smo_pwr, rf)\n",
        "print('\\nCross-validation LR:')\n",
        "score_teste2 = val_model_balanced(X_smo_pwr, y_train_smo_pwr, lr)\n",
        "print('\\nCross-validation XGB:')\n",
        "score_teste3 = val_model_balanced(X_smo_pwr, y_train_smo_pwr, xgb)\n",
        "print('\\nCross-validation LDA:')\n",
        "score_teste4 = val_model_balanced(X_smo_pwr, y_train_smo_pwr, lda)\n",
        "print('\\nCross-validation SVC:')\n",
        "score_teste5 = val_model_balanced(X_smo_pwr, y_train_smo_pwr, svc)\n",
        "print('\\nCross-validation SGD:')\n",
        "score_teste6 = val_model_balanced(X_smo_pwr, y_train_smo_pwr, sgd)"
      ],
      "execution_count": null,
      "outputs": [
        {
          "name": "stdout",
          "output_type": "stream",
          "text": [
            "Cross-validation RF:\n",
            "Recall: 0.8709 (+/- 0.2321)\n",
            "\n",
            "Cross-validation LR:\n",
            "Recall: 0.8124 (+/- 0.0533)\n",
            "\n",
            "Cross-validation XGB:\n",
            "Recall: 0.8582 (+/- 0.2754)\n",
            "\n",
            "Cross-validation LDA:\n",
            "Recall: 0.8227 (+/- 0.0457)\n",
            "\n",
            "Cross-validation SVC:\n",
            "Recall: 0.8670 (+/- 0.1131)\n",
            "\n",
            "Cross-validation SGD:\n",
            "Recall: 0.7482 (+/- 0.0520)\n"
          ]
        }
      ]
    },
    {
      "cell_type": "markdown",
      "metadata": {
        "id": "qqA-rXHZQmZx"
      },
      "source": [
        "## Balanceamento ADASYN com StandardScaler (scaled)"
      ]
    },
    {
      "cell_type": "code",
      "metadata": {
        "colab": {
          "base_uri": "https://localhost:8080/"
        },
        "id": "dmQE1mTWRU0D",
        "outputId": "b638e43d-3e83-4a67-dde9-ed994e5ca034"
      },
      "source": [
        "print('Cross-validation RF:')\n",
        "score_teste1 = val_model_balanced(X_ada_scaled, y_train_ada_scaled, rf)\n",
        "print('\\nCross-validation LR:')\n",
        "score_teste2 = val_model_balanced(X_ada_scaled, y_train_ada_scaled, lr)\n",
        "print('\\nCross-validation XGB:')\n",
        "score_teste3 = val_model_balanced(X_ada_scaled, y_train_ada_scaled, xgb)\n",
        "print('\\nCross-validation LDA:')\n",
        "score_teste4 = val_model_balanced(X_ada_scaled, y_train_ada_scaled, lda)\n",
        "print('\\nCross-validation SVC:')\n",
        "score_teste5 = val_model_balanced(X_ada_scaled, y_train_ada_scaled, svc)\n",
        "print('\\nCross-validation SGD:')\n",
        "score_teste6 = val_model_balanced(X_ada_scaled, y_train_ada_scaled, sgd)\n"
      ],
      "execution_count": null,
      "outputs": [
        {
          "name": "stdout",
          "output_type": "stream",
          "text": [
            "Cross-validation RF:\n",
            "Recall: 0.8697 (+/- 0.1954)\n",
            "\n",
            "Cross-validation LR:\n",
            "Recall: 0.7865 (+/- 0.1006)\n",
            "\n",
            "Cross-validation XGB:\n",
            "Recall: 0.8506 (+/- 0.2769)\n",
            "\n",
            "Cross-validation LDA:\n",
            "Recall: 0.7873 (+/- 0.1097)\n",
            "\n",
            "Cross-validation SVC:\n",
            "Recall: 0.8694 (+/- 0.0955)\n",
            "\n",
            "Cross-validation SGD:\n",
            "Recall: 0.7774 (+/- 0.0902)\n"
          ]
        }
      ]
    },
    {
      "cell_type": "markdown",
      "metadata": {
        "id": "tSTmGoGDQ4tD"
      },
      "source": [
        "#### Balanceamento ADASYN com RobustScaler (Rscaled)"
      ]
    },
    {
      "cell_type": "code",
      "metadata": {
        "colab": {
          "base_uri": "https://localhost:8080/"
        },
        "id": "SdMrW6JXRw0q",
        "outputId": "095d1d28-61c5-44fc-fb88-1f97e7f14661"
      },
      "source": [
        "print('Cross-validation RF:')\n",
        "score_teste1 = val_model_balanced(X_ada_Rscaled, y_train_ada_Rscaled, rf)\n",
        "print('\\nCross-validation LR:')\n",
        "score_teste2 = val_model_balanced(X_ada_Rscaled, y_train_ada_Rscaled, lr)\n",
        "print('\\nCross-validation XGB:')\n",
        "score_teste3 = val_model_balanced(X_ada_Rscaled, y_train_ada_Rscaled, xgb)\n",
        "print('\\nCross-validation LDA:')\n",
        "score_teste4 = val_model_balanced(X_ada_Rscaled, y_train_ada_Rscaled, lda)\n",
        "print('\\nCross-validation SVC:')\n",
        "score_teste5 = val_model_balanced(X_ada_Rscaled, y_train_ada_Rscaled, svc)\n",
        "print('\\nCross-validation SGD:')\n",
        "score_teste6 = val_model_balanced(X_ada_Rscaled, y_train_ada_Rscaled, sgd)"
      ],
      "execution_count": null,
      "outputs": [
        {
          "name": "stdout",
          "output_type": "stream",
          "text": [
            "Cross-validation RF:\n",
            "Recall: 0.8673 (+/- 0.2175)\n",
            "\n",
            "Cross-validation LR:\n",
            "Recall: 0.7833 (+/- 0.1009)\n",
            "\n",
            "Cross-validation XGB:\n",
            "Recall: 0.8485 (+/- 0.2759)\n",
            "\n",
            "Cross-validation LDA:\n",
            "Recall: 0.7841 (+/- 0.1087)\n",
            "\n",
            "Cross-validation SVC:\n",
            "Recall: 0.8451 (+/- 0.0737)\n",
            "\n",
            "Cross-validation SGD:\n",
            "Recall: 0.8229 (+/- 0.0969)\n"
          ]
        }
      ]
    },
    {
      "cell_type": "markdown",
      "metadata": {
        "id": "BKvImPxYRCWH"
      },
      "source": [
        "#### Balanceamento ADASYN com QuantileTransformer (QTR)"
      ]
    },
    {
      "cell_type": "code",
      "metadata": {
        "colab": {
          "base_uri": "https://localhost:8080/"
        },
        "id": "nB3gr4wdSBQo",
        "outputId": "23615f54-70ad-45b9-9c76-c5d7735b28a6"
      },
      "source": [
        "print('Cross-validation RF:')\n",
        "score_teste1 = val_model_balanced(X_ada_qtr, y_train_ada_qtr, rf)\n",
        "print('\\nCross-validation LR:')\n",
        "score_teste2 = val_model_balanced(X_ada_qtr, y_train_ada_qtr, lr)\n",
        "print('\\nCross-validation XGB:')\n",
        "score_teste3 = val_model_balanced(X_ada_qtr, y_train_ada_qtr, xgb)\n",
        "print('\\nCross-validation LDA:')\n",
        "score_teste4 = val_model_balanced(X_ada_qtr, y_train_ada_qtr, lda)\n",
        "print('\\nCross-validation SVC:')\n",
        "score_teste5 = val_model_balanced(X_ada_qtr, y_train_ada_qtr, svc)\n",
        "print('\\nCross-validation SGD:')\n",
        "score_teste6 = val_model_balanced(X_ada_qtr, y_train_ada_qtr, sgd)"
      ],
      "execution_count": null,
      "outputs": [
        {
          "name": "stdout",
          "output_type": "stream",
          "text": [
            "Cross-validation RF:\n",
            "Recall: 0.8740 (+/- 0.2046)\n",
            "\n",
            "Cross-validation LR:\n",
            "Recall: 0.7640 (+/- 0.1020)\n",
            "\n",
            "Cross-validation XGB:\n",
            "Recall: 0.8538 (+/- 0.2677)\n",
            "\n",
            "Cross-validation LDA:\n",
            "Recall: 0.7645 (+/- 0.1043)\n",
            "\n",
            "Cross-validation SVC:\n",
            "Recall: 0.8608 (+/- 0.0983)\n",
            "\n",
            "Cross-validation SGD:\n",
            "Recall: 0.7665 (+/- 0.2310)\n"
          ]
        }
      ]
    },
    {
      "cell_type": "markdown",
      "metadata": {
        "id": "WhsA3tVCRH1Y"
      },
      "source": [
        "#### Balanceamento ADASYN com QuantileTransformer (uniform output)"
      ]
    },
    {
      "cell_type": "code",
      "metadata": {
        "colab": {
          "base_uri": "https://localhost:8080/"
        },
        "id": "WVyRWGwTSXs6",
        "outputId": "fe0eec27-dd42-4785-d35c-27836952eb92"
      },
      "source": [
        "print('Cross-validation RF:')\n",
        "score_teste1 = val_model_balanced(X_ada_qtr_n, y_train_ada_qtr_n, rf)\n",
        "print('\\nCross-validation LR:')\n",
        "score_teste2 = val_model_balanced(X_ada_qtr_n, y_train_ada_qtr_n, lr)\n",
        "print('\\nCross-validation XGB:')\n",
        "score_teste3 = val_model_balanced(X_ada_qtr_n, y_train_ada_qtr_n, xgb)\n",
        "print('\\nCross-validation LDA:')\n",
        "score_teste4 = val_model_balanced(X_ada_qtr_n, y_train_ada_qtr_n, lda)\n",
        "print('\\nCross-validation SVC:')\n",
        "score_teste5 = val_model_balanced(X_ada_qtr_n, y_train_ada_qtr_n, svc)\n",
        "print('\\nCross-validation SGD:')\n",
        "score_teste6 = val_model_balanced(X_ada_qtr_n, y_train_ada_qtr_n, sgd)"
      ],
      "execution_count": null,
      "outputs": [
        {
          "name": "stdout",
          "output_type": "stream",
          "text": [
            "Cross-validation RF:\n",
            "Recall: 0.8791 (+/- 0.2020)\n",
            "\n",
            "Cross-validation LR:\n",
            "Recall: 0.7894 (+/- 0.0954)\n",
            "\n",
            "Cross-validation XGB:\n",
            "Recall: 0.8613 (+/- 0.2630)\n",
            "\n",
            "Cross-validation LDA:\n",
            "Recall: 0.7964 (+/- 0.0958)\n",
            "\n",
            "Cross-validation SVC:\n",
            "Recall: 0.8649 (+/- 0.1082)\n",
            "\n",
            "Cross-validation SGD:\n",
            "Recall: 0.6345 (+/- 0.1747)\n"
          ]
        }
      ]
    },
    {
      "cell_type": "markdown",
      "metadata": {
        "id": "THnD77BARQaL"
      },
      "source": [
        "#### Balanceamento ADASYN com PowerTransformer (PWR)"
      ]
    },
    {
      "cell_type": "code",
      "metadata": {
        "colab": {
          "base_uri": "https://localhost:8080/"
        },
        "id": "lLJYkvOaSfB6",
        "outputId": "12889812-7d53-409c-b34a-ed98d7135666"
      },
      "source": [
        "print('Cross-validation RF:')\n",
        "score_teste1 = val_model_balanced(X_ada_pwr, y_train_ada_pwr, rf)\n",
        "print('\\nCross-validation LR:')\n",
        "score_teste2 = val_model_balanced(X_ada_pwr, y_train_ada_pwr, lr)\n",
        "print('\\nCross-validation XGB:')\n",
        "score_teste3 = val_model_balanced(X_ada_pwr, y_train_ada_pwr, xgb)\n",
        "print('\\nCross-validation LDA:')\n",
        "score_teste4 = val_model_balanced(X_ada_pwr, y_train_ada_pwr, lda)\n",
        "print('\\nCross-validation SVC:')\n",
        "score_teste5 = val_model_balanced(X_ada_pwr, y_train_ada_pwr, svc)\n",
        "print('\\nCross-validation SGD:')\n",
        "score_teste6 = val_model_balanced(X_ada_pwr, y_train_ada_pwr, sgd)"
      ],
      "execution_count": null,
      "outputs": [
        {
          "name": "stdout",
          "output_type": "stream",
          "text": [
            "Cross-Validation ADASYN\n",
            "\n",
            "Cross-validation RF:\n",
            "Recall: 0.8729 (+/- 0.2092)\n",
            "\n",
            "Cross-validation LR:\n",
            "Recall: 0.7615 (+/- 0.1063)\n",
            "\n",
            "Cross-validation XGB:\n",
            "Recall: 0.8519 (+/- 0.2818)\n",
            "\n",
            "Cross-validation LDA:\n",
            "Recall: 0.7698 (+/- 0.1042)\n",
            "\n",
            "Cross-validation SVC:\n",
            "Recall: 0.8664 (+/- 0.0728)\n",
            "\n",
            "Cross-validation SGD:\n",
            "Recall: 0.7670 (+/- 0.0838)\n"
          ]
        }
      ]
    },
    {
      "cell_type": "markdown",
      "metadata": {
        "id": "9KdaXNhaRZAl"
      },
      "source": [
        "## Definindo Modelos para o Balanceamento RUS"
      ]
    },
    {
      "cell_type": "code",
      "metadata": {
        "colab": {
          "base_uri": "https://localhost:8080/",
          "height": 514
        },
        "id": "BcUV9n5pMWSr",
        "outputId": "46c2df7f-976b-4daa-bfda-e599754b858a"
      },
      "source": [
        "model = []\n",
        "recall= []\n",
        "\n",
        "model.append('LinearDiscriminantAnalysis RusScaled')\n",
        "recall.append(val_model_balanced(X_rus_scaled, y_train_rus_scaled, lda, quite=True))  \n",
        "model.append('LinearDiscriminantAnalysis RusRscaled')\n",
        "recall.append(val_model_balanced(X_rus_Rscaled, y_train_rus_Rscaled, lda, quite=True))\n",
        "model.append('LinearDiscriminantAnalysis RusQTR')\n",
        "recall.append(val_model_balanced(X_rus_qtr, y_train_rus_qtr, lda, quite=True))\n",
        "model.append('LinearDiscriminantAnalysis RusQTR-N')\n",
        "recall.append(val_model_balanced(X_rus_qtr_n, y_train_rus_qtr_n, lda, quite=True))\n",
        "model.append('LinearDiscriminantAnalysis RusPWR')\n",
        "recall.append(val_model_balanced(X_rus_pwr, y_train_rus_pwr, lda, quite=True))\n",
        "\n",
        "model.append('SVC RusScaled')\n",
        "recall.append(val_model_balanced(X_rus_scaled, y_train_rus_scaled, svc, quite=True))\n",
        "model.append('SVC RusRscaled')\n",
        "recall.append(val_model_balanced(X_rus_Rscaled, y_train_rus_Rscaled, svc, quite=True))\n",
        "model.append('SVC RusQTR')\n",
        "recall.append(val_model_balanced(X_rus_qtr, y_train_rus_qtr, svc, quite=True))\n",
        "model.append('SVC RusQTR-N')\n",
        "recall.append(val_model_balanced(X_rus_qtr_n, y_train_rus_qtr_n, svc, quite=True))\n",
        "model.append('SVC RusPWR')\n",
        "recall.append(val_model_balanced(X_rus_pwr, y_train_rus_pwr, svc, quite=True))\n",
        "\n",
        "model.append('XGBoost RusScaled')\n",
        "recall.append(val_model_balanced(X_rus_scaled, y_train_rus_scaled, xgb, quite=True))  \n",
        "model.append('XGBoost RusRscaled')\n",
        "recall.append(val_model_balanced(X_rus_Rscaled, y_train_rus_Rscaled, xgb, quite=True))\n",
        "model.append('XGBoost RusQTR')\n",
        "recall.append(val_model_balanced(X_rus_qtr, y_train_rus_qtr, xgb, quite=True))\n",
        "model.append('XGBoost RusQTR-N')\n",
        "recall.append(val_model_balanced(X_rus_qtr_n, y_train_rus_qtr_n, xgb, quite=True))\n",
        "model.append('XGBoost RusPWR')\n",
        "recall.append(val_model_balanced(X_rus_pwr, y_train_rus_pwr, xgb, quite=True))\n",
        "\n",
        "\n",
        "pd.DataFrame(data=recall, index=model, columns=['Recall'])"
      ],
      "execution_count": null,
      "outputs": [
        {
          "output_type": "execute_result",
          "data": {
            "text/html": [
              "<div>\n",
              "<style scoped>\n",
              "    .dataframe tbody tr th:only-of-type {\n",
              "        vertical-align: middle;\n",
              "    }\n",
              "\n",
              "    .dataframe tbody tr th {\n",
              "        vertical-align: top;\n",
              "    }\n",
              "\n",
              "    .dataframe thead th {\n",
              "        text-align: right;\n",
              "    }\n",
              "</style>\n",
              "<table border=\"1\" class=\"dataframe\">\n",
              "  <thead>\n",
              "    <tr style=\"text-align: right;\">\n",
              "      <th></th>\n",
              "      <th>Recall</th>\n",
              "    </tr>\n",
              "  </thead>\n",
              "  <tbody>\n",
              "    <tr>\n",
              "      <th>LinearDiscriminantAnalysis RusScaled</th>\n",
              "      <td>0.808114</td>\n",
              "    </tr>\n",
              "    <tr>\n",
              "      <th>LinearDiscriminantAnalysis RusRscaled</th>\n",
              "      <td>0.798846</td>\n",
              "    </tr>\n",
              "    <tr>\n",
              "      <th>LinearDiscriminantAnalysis RusQTR</th>\n",
              "      <td>0.805269</td>\n",
              "    </tr>\n",
              "    <tr>\n",
              "      <th>LinearDiscriminantAnalysis RusQTR-N</th>\n",
              "      <td>0.827372</td>\n",
              "    </tr>\n",
              "    <tr>\n",
              "      <th>LinearDiscriminantAnalysis RusPWR</th>\n",
              "      <td>0.802410</td>\n",
              "    </tr>\n",
              "    <tr>\n",
              "      <th>SVC RusScaled</th>\n",
              "      <td>0.791713</td>\n",
              "    </tr>\n",
              "    <tr>\n",
              "      <th>SVC RusRscaled</th>\n",
              "      <td>0.785300</td>\n",
              "    </tr>\n",
              "    <tr>\n",
              "      <th>SVC RusQTR</th>\n",
              "      <td>0.799565</td>\n",
              "    </tr>\n",
              "    <tr>\n",
              "      <th>SVC RusQTR-N</th>\n",
              "      <td>0.798139</td>\n",
              "    </tr>\n",
              "    <tr>\n",
              "      <th>SVC RusPWR</th>\n",
              "      <td>0.785287</td>\n",
              "    </tr>\n",
              "    <tr>\n",
              "      <th>XGBoost RusScaled</th>\n",
              "      <td>0.806693</td>\n",
              "    </tr>\n",
              "    <tr>\n",
              "      <th>XGBoost RusRscaled</th>\n",
              "      <td>0.800984</td>\n",
              "    </tr>\n",
              "    <tr>\n",
              "      <th>XGBoost RusQTR</th>\n",
              "      <td>0.815259</td>\n",
              "    </tr>\n",
              "    <tr>\n",
              "      <th>XGBoost RusQTR-N</th>\n",
              "      <td>0.810244</td>\n",
              "    </tr>\n",
              "    <tr>\n",
              "      <th>XGBoost RusPWR</th>\n",
              "      <td>0.802415</td>\n",
              "    </tr>\n",
              "  </tbody>\n",
              "</table>\n",
              "</div>"
            ],
            "text/plain": [
              "                                         Recall\n",
              "LinearDiscriminantAnalysis RusScaled   0.808114\n",
              "LinearDiscriminantAnalysis RusRscaled  0.798846\n",
              "LinearDiscriminantAnalysis RusQTR      0.805269\n",
              "LinearDiscriminantAnalysis RusQTR-N    0.827372\n",
              "LinearDiscriminantAnalysis RusPWR      0.802410\n",
              "SVC RusScaled                          0.791713\n",
              "SVC RusRscaled                         0.785300\n",
              "SVC RusQTR                             0.799565\n",
              "SVC RusQTR-N                           0.798139\n",
              "SVC RusPWR                             0.785287\n",
              "XGBoost RusScaled                      0.806693\n",
              "XGBoost RusRscaled                     0.800984\n",
              "XGBoost RusQTR                         0.815259\n",
              "XGBoost RusQTR-N                       0.810244\n",
              "XGBoost RusPWR                         0.802415"
            ]
          },
          "metadata": {},
          "execution_count": 17
        }
      ]
    },
    {
      "cell_type": "markdown",
      "metadata": {
        "id": "Wfj3kP8ESC8k"
      },
      "source": [
        "### Otimizando Hiperparâmetros Linear Discriminant Analysis (LDA)"
      ]
    },
    {
      "cell_type": "code",
      "metadata": {
        "colab": {
          "base_uri": "https://localhost:8080/"
        },
        "id": "0x9aG61IAdRX",
        "outputId": "15c6117c-2d93-40f8-98dd-efeda5cfdb82"
      },
      "source": [
        "lda_rus_Rscaled = LinearDiscriminantAnalysis()\n",
        "param_grid = {\n",
        "    'solver':('svd', 'lsqr', 'eigen'),\n",
        "    'shrinkage':('auto', 'None')\n",
        "}\n",
        "\n",
        "kfold = StratifiedKFold(n_splits=10, shuffle=True)\n",
        "grid_search = GridSearchCV(lda_rus_Rscaled, param_grid, scoring='recall', n_jobs=-1, cv=kfold)\n",
        "grid_result = grid_search.fit(X_rus_Rscaled, y_train_rus_Rscaled)\n",
        "\n",
        "print(f'Melhor: {grid_result.best_score_} para {grid_result.best_params_}')"
      ],
      "execution_count": null,
      "outputs": [
        {
          "output_type": "stream",
          "name": "stdout",
          "text": [
            "Melhor: 0.8002583586626141 para {'shrinkage': 'auto', 'solver': 'lsqr'}\n"
          ]
        }
      ]
    },
    {
      "cell_type": "markdown",
      "metadata": {
        "id": "_bOyaPetSZkp"
      },
      "source": [
        "#### Avaliando o Desempenho do Modelo LDA"
      ]
    },
    {
      "cell_type": "code",
      "metadata": {
        "colab": {
          "base_uri": "https://localhost:8080/",
          "height": 486
        },
        "id": "UHMvs7wzDiQo",
        "outputId": "df3e6ba6-a75d-4e71-bfa2-24cc49362225"
      },
      "source": [
        "lda_rus_Rscaled = LinearDiscriminantAnalysis(solver='lsqr', shrinkage='auto')\n",
        "\n",
        "lda_rus_Rscaled.fit(X_rus_Rscaled, y_train_rus_Rscaled)\n",
        "\n",
        "X_test_Rscaled = Rob_scaler.fit_transform(X_test)\n",
        "\n",
        "y_pred_lda = lda_rus_Rscaled.predict(X_test_Rscaled)\n",
        "\n",
        "skplt.metrics.plot_confusion_matrix(y_test, y_pred_lda)\n",
        "\n",
        "print(classification_report(y_test, y_pred_lda, digits=4))\n",
        "\n",
        "print('AUC: {:.4f}\\n'.format(roc_auc_score(y_test, y_pred_lda)))\n"
      ],
      "execution_count": null,
      "outputs": [
        {
          "output_type": "stream",
          "name": "stdout",
          "text": [
            "              precision    recall  f1-score   support\n",
            "\n",
            "           0     0.9238    0.7125    0.8045      1294\n",
            "           1     0.5125    0.8373    0.6358       467\n",
            "\n",
            "    accuracy                         0.7456      1761\n",
            "   macro avg     0.7181    0.7749    0.7202      1761\n",
            "weighted avg     0.8147    0.7456    0.7598      1761\n",
            "\n",
            "AUC: 0.7749\n",
            "\n"
          ]
        },
        {
          "output_type": "display_data",
          "data": {
            "image/png": "[encoded data removed]",
            "text/plain": [
              "<Figure size 432x288 with 2 Axes>"
            ]
          },
          "metadata": {}
        }
      ]
    },
    {
      "cell_type": "markdown",
      "metadata": {
        "id": "CYdbs74bSh_U"
      },
      "source": [
        "### Otimizando Hiperparâmetros SVC\n",
        "\n",
        "\n"
      ]
    },
    {
      "cell_type": "code",
      "metadata": {
        "colab": {
          "base_uri": "https://localhost:8080/"
        },
        "id": "DUCCPAJdFs9o",
        "outputId": "75a2c58e-b872-4d05-9f2d-6b76a0a5265f"
      },
      "source": [
        "svc_rus_Rscaled = SVC()\n",
        "param_grid = {\n",
        "    'C':[0.01, 0.1, 1.0, 10],\n",
        "    'kernel':('linear', 'poly', 'rbf', 'sigmoid')\n",
        "      \n",
        "}\n",
        "\n",
        "kfold = StratifiedKFold(n_splits=10, shuffle=True)\n",
        "grid_search = GridSearchCV(svc_rus_Rscaled, param_grid, scoring='recall', n_jobs=-1, cv=kfold)\n",
        "grid_result = grid_search.fit(X_rus_Rscaled, y_train_rus_Rscaled)\n",
        "\n",
        "print(f'Melhor: {grid_result.best_score_} para {grid_result.best_params_}')"
      ],
      "execution_count": null,
      "outputs": [
        {
          "output_type": "stream",
          "name": "stdout",
          "text": [
            "Melhor: 0.9215552178318134 para {'C': 0.01, 'kernel': 'poly'}\n"
          ]
        }
      ]
    },
    {
      "cell_type": "code",
      "metadata": {
        "colab": {
          "base_uri": "https://localhost:8080/"
        },
        "id": "DouY9HxiGjSr",
        "outputId": "cb2d664b-5bb6-45e5-ffa7-ad898901024c"
      },
      "source": [
        "svc_rus_Rscaled = SVC(C=0.01, kernel='poly')\n",
        "param_grid = {\n",
        "    'degree':[3, 5, 7],\n",
        "    'gamma':[1, 1.5]\n",
        "      \n",
        "}\n",
        "\n",
        "kfold = StratifiedKFold(n_splits=10, shuffle=True)\n",
        "grid_search = GridSearchCV(svc_rus_Rscaled, param_grid, scoring='recall', n_jobs=-1, cv=kfold)\n",
        "grid_result = grid_search.fit(X_rus_Rscaled, y_train_rus_Rscaled)\n",
        "\n",
        "print(f'Melhor: {grid_result.best_score_} para {grid_result.best_params_}')\n"
      ],
      "execution_count": null,
      "outputs": [
        {
          "output_type": "stream",
          "name": "stdout",
          "text": [
            "Melhor: 0.7924974670719351 para {'degree': 3, 'gamma': 1}\n"
          ]
        }
      ]
    },
    {
      "cell_type": "markdown",
      "metadata": {
        "id": "wMMWOb88Su_k"
      },
      "source": [
        "#### Avaliando o Desempenho do Modelo SVC"
      ]
    },
    {
      "cell_type": "code",
      "metadata": {
        "colab": {
          "base_uri": "https://localhost:8080/",
          "height": 482
        },
        "id": "kQ7lAM_wHSJk",
        "outputId": "84c2ddd7-98e0-41b8-e919-1d418f11c64d"
      },
      "source": [
        "svc_rus_Rscaled = SVC(C=0.01, kernel='poly', degree=3, gamma=1)\n",
        "\n",
        "svc_rus_Rscaled.fit(X_rus_Rscaled, y_train_rus_Rscaled)\n",
        "\n",
        "y_pred_SvcRus = svc_rus_Rscaled.predict(X_test_Rscaled)\n",
        "\n",
        "skplt.metrics.plot_confusion_matrix(y_test, y_pred_SvcRus)\n",
        "\n",
        "print(classification_report(y_test, y_pred_SvcRus, digits=4))\n",
        "\n",
        "print('AUC: {:.4f}\\n'.format(roc_auc_score(y_test, y_pred_SvcRus)))\n"
      ],
      "execution_count": null,
      "outputs": [
        {
          "output_type": "stream",
          "name": "stdout",
          "text": [
            "              precision    recall  f1-score   support\n",
            "\n",
            "           0     0.9112    0.6499    0.7587      1294\n",
            "           1     0.4594    0.8244    0.5900       467\n",
            "\n",
            "    accuracy                         0.6962      1761\n",
            "   macro avg     0.6853    0.7372    0.6744      1761\n",
            "weighted avg     0.7914    0.6962    0.7140      1761\n",
            "\n",
            "AUC: 0.7372\n",
            "\n"
          ]
        },
        {
          "output_type": "display_data",
          "data": {
            "image/png": "[encoded data removed]",
            "text/plain": [
              "<Figure size 432x288 with 2 Axes>"
            ]
          },
          "metadata": {}
        }
      ]
    },
    {
      "cell_type": "markdown",
      "metadata": {
        "id": "tPK249v8S8Xs"
      },
      "source": [
        "### Otimizando Hiperparâmetros XGBoost (XGB)"
      ]
    },
    {
      "cell_type": "code",
      "metadata": {
        "colab": {
          "base_uri": "https://localhost:8080/"
        },
        "id": "nnWHLOYkB0QV",
        "outputId": "23dede17-e051-4bc0-fba6-9c75808d863c"
      },
      "source": [
        "xgb_rus_Rscaled = XGBClassifier(learning_rate=0.01)\n",
        "param_grid = {\n",
        "    'n_estimators':[100, 200, 1000],\n",
        "}\n",
        "\n",
        "kfold = StratifiedKFold(n_splits=10, shuffle=True)\n",
        "grid_search = GridSearchCV(xgb_rus_Rscaled, param_grid, scoring='recall', n_jobs=-1, cv=kfold)\n",
        "grid_result = grid_search.fit(X_rus_Rscaled, y_train_rus_Rscaled)\n",
        "\n",
        "print(f'Melhor: {grid_result.best_score_} para {grid_result.best_params_}')"
      ],
      "execution_count": null,
      "outputs": [
        {
          "output_type": "stream",
          "name": "stdout",
          "text": [
            "Melhor: 0.8124265450861194 para {'n_estimators': 200}\n"
          ]
        }
      ]
    },
    {
      "cell_type": "code",
      "metadata": {
        "colab": {
          "base_uri": "https://localhost:8080/"
        },
        "id": "g1t9MCxHFrNW",
        "outputId": "af6b2e8c-cc63-4886-add5-8360ef5f9091"
      },
      "source": [
        "xgb_rus_Rscaled = XGBClassifier(learning_rate=0.01, n_estimators=200)\n",
        "param_grid = {\n",
        "    'max_depth':[1, 3, 6],\n",
        "    'min_chil_weitght':[1, 5, 10]\n",
        "}\n",
        "\n",
        "kfold = StratifiedKFold(n_splits=10, shuffle=True)\n",
        "grid_search = GridSearchCV(xgb_rus_Rscaled, param_grid, scoring='recall', n_jobs=-1, cv=kfold)\n",
        "grid_result = grid_search.fit(X_rus_Rscaled, y_train_rus_Rscaled)\n",
        "\n",
        "print(f'Melhor: {grid_result.best_score_} para {grid_result.best_params_}')"
      ],
      "execution_count": null,
      "outputs": [
        {
          "output_type": "stream",
          "name": "stdout",
          "text": [
            "Melhor: 0.8481408308004055 para {'max_depth': 1, 'min_chil_weitght': 1}\n"
          ]
        }
      ]
    },
    {
      "cell_type": "code",
      "metadata": {
        "colab": {
          "base_uri": "https://localhost:8080/"
        },
        "id": "e4G1NSU9G37P",
        "outputId": "cd003051-3349-467f-d657-bf99a3839011"
      },
      "source": [
        "xgb_rus_Rscaled = XGBClassifier(learning_rate=0.01, n_estimators=200, max_depth=1, min_child_weight=1)\n",
        "param_grid = {\n",
        "    'gamma':[0, 1, 5]\n",
        "}\n",
        "\n",
        "kfold = StratifiedKFold(n_splits=10, shuffle=True)\n",
        "grid_search = GridSearchCV(xgb_rus_Rscaled, param_grid, scoring='recall', n_jobs=-1, cv=kfold)\n",
        "grid_result = grid_search.fit(X_rus_Rscaled, y_train_rus_Rscaled)\n",
        "\n",
        "print(f'Melhor: {grid_result.best_score_} para {grid_result.best_params_}')"
      ],
      "execution_count": null,
      "outputs": [
        {
          "output_type": "stream",
          "name": "stdout",
          "text": [
            "Melhor: 0.8623657548125634 para {'gamma': 0}\n"
          ]
        }
      ]
    },
    {
      "cell_type": "code",
      "metadata": {
        "colab": {
          "base_uri": "https://localhost:8080/"
        },
        "id": "n64Z1pRwHq_p",
        "outputId": "ba10f4b6-fc20-444f-e405-e7286e0e8284"
      },
      "source": [
        "xgb_rus_Rscaled = XGBClassifier(n_estimators=200, max_depth=1, min_child_weight=1, gamma=0)\n",
        "param_grid = {\n",
        "    'learnig_rate':[0.01, 0.015, 0.1]\n",
        "}\n",
        "\n",
        "kfold = StratifiedKFold(n_splits=10, shuffle=True)\n",
        "grid_search = GridSearchCV(xgb_rus_Rscaled, param_grid, scoring='recall', n_jobs=-1, cv=kfold)\n",
        "grid_result = grid_search.fit(X_rus_Rscaled, y_train_rus_Rscaled)\n",
        "\n",
        "print(f'Melhor: {grid_result.best_score_} para {grid_result.best_params_}')"
      ],
      "execution_count": null,
      "outputs": [
        {
          "output_type": "stream",
          "name": "stdout",
          "text": [
            "Melhor: 0.813130699088146 para {'learnig_rate': 0.01}\n"
          ]
        }
      ]
    },
    {
      "cell_type": "markdown",
      "metadata": {
        "id": "yqHdHcdeTFcg"
      },
      "source": [
        "#### Avaliando o Desempenho do Modelo XGB"
      ]
    },
    {
      "cell_type": "code",
      "metadata": {
        "colab": {
          "base_uri": "https://localhost:8080/",
          "height": 482
        },
        "id": "Rt4qqAoXIZgx",
        "outputId": "8e77d140-ab8c-414e-b730-8689a25a1b43"
      },
      "source": [
        "xgb_rus_Rscaled = XGBClassifier(learning_rate=0.01,n_estimators=200, max_depth=1, min_child_weight=1, gamma=0)\n",
        "\n",
        "xgb_rus_Rscaled.fit(X_rus_Rscaled, y_train_rus_Rscaled)\n",
        "\n",
        "y_pred_XgbRus = xgb_rus_Rscaled.predict(X_test_Rscaled)\n",
        "\n",
        "skplt.metrics.plot_confusion_matrix(y_test, y_pred_XgbRus)\n",
        "\n",
        "print(classification_report(y_test, y_pred_XgbRus, digits=4))\n",
        "\n",
        "print('AUC: {:.4f}\\n'.format(roc_auc_score(y_test, y_pred_XgbRus)))\n"
      ],
      "execution_count": null,
      "outputs": [
        {
          "output_type": "stream",
          "name": "stdout",
          "text": [
            "              precision    recall  f1-score   support\n",
            "\n",
            "           0     0.9321    0.5835    0.7177      1294\n",
            "           1     0.4332    0.8822    0.5811       467\n",
            "\n",
            "    accuracy                         0.6627      1761\n",
            "   macro avg     0.6827    0.7328    0.6494      1761\n",
            "weighted avg     0.7998    0.6627    0.6815      1761\n",
            "\n",
            "AUC: 0.7328\n",
            "\n"
          ]
        },
        {
          "output_type": "display_data",
          "data": {
            "image/png": "[encoded data removed]",
            "text/plain": [
              "<Figure size 432x288 with 2 Axes>"
            ]
          },
          "metadata": {}
        }
      ]
    },
    {
      "cell_type": "markdown",
      "metadata": {
        "id": "tuItBaSnUgzo"
      },
      "source": [
        "## Método Ensemble para os Modelos do Balanceamento RUS"
      ]
    },
    {
      "cell_type": "code",
      "metadata": {
        "colab": {
          "base_uri": "https://localhost:8080/",
          "height": 173
        },
        "id": "zfyaKz6bgaUk",
        "outputId": "8103088f-6c7f-48b5-a602-6c3a9f10d4a2"
      },
      "source": [
        "xgb_ensemble_rus_Rscaled = XGBClassifier(learning_rate=0.01,n_estimators=200, max_depth=1, min_child_weight=1, gamma=0)\n",
        "lda_ensemble_rus_Rscaled = LinearDiscriminantAnalysis(solver='lsqr', shrinkage='auto') \n",
        "svc_ensemble_rus_Rscaled = SVC(C=0.01, kernel='poly', degree=3, gamma=1, probability=True)\n",
        "voting_clf_rus = VotingClassifier(estimators=[('XGB', xgb_ensemble_rus_Rscaled), ('LDA', lda_ensemble_rus_Rscaled), ('SVC', svc_ensemble_rus_Rscaled)])\n",
        "\n",
        "\n",
        "for model in (xgb_ensemble_rus_Rscaled, lda_ensemble_rus_Rscaled, svc_ensemble_rus_Rscaled, voting_clf_rus):\n",
        "  model.fit(X_rus_Rscaled, y_train_rus_Rscaled)\n",
        "\n",
        "model = []\n",
        "AUC = []\n",
        "\n",
        "for clf in (xgb_ensemble_rus_Rscaled, lda_ensemble_rus_Rscaled, svc_ensemble_rus_Rscaled, voting_clf_rus):\n",
        "  y_pred_ensemble = clf.predict(X_test_Rscaled)\n",
        "  model.append(clf.__class__.__name__)\n",
        "  AUC.append(roc_auc_score(y_test, y_pred_ensemble))\n",
        "\n",
        "\n",
        "pd.DataFrame(data=AUC, index=model, columns=[\"AUC\"])\n"
      ],
      "execution_count": null,
      "outputs": [
        {
          "output_type": "execute_result",
          "data": {
            "text/html": [
              "<div>\n",
              "<style scoped>\n",
              "    .dataframe tbody tr th:only-of-type {\n",
              "        vertical-align: middle;\n",
              "    }\n",
              "\n",
              "    .dataframe tbody tr th {\n",
              "        vertical-align: top;\n",
              "    }\n",
              "\n",
              "    .dataframe thead th {\n",
              "        text-align: right;\n",
              "    }\n",
              "</style>\n",
              "<table border=\"1\" class=\"dataframe\">\n",
              "  <thead>\n",
              "    <tr style=\"text-align: right;\">\n",
              "      <th></th>\n",
              "      <th>AUC</th>\n",
              "    </tr>\n",
              "  </thead>\n",
              "  <tbody>\n",
              "    <tr>\n",
              "      <th>XGBClassifier</th>\n",
              "      <td>0.732845</td>\n",
              "    </tr>\n",
              "    <tr>\n",
              "      <th>LinearDiscriminantAnalysis</th>\n",
              "      <td>0.763410</td>\n",
              "    </tr>\n",
              "    <tr>\n",
              "      <th>SVC</th>\n",
              "      <td>0.720777</td>\n",
              "    </tr>\n",
              "    <tr>\n",
              "      <th>VotingClassifier</th>\n",
              "      <td>0.754555</td>\n",
              "    </tr>\n",
              "  </tbody>\n",
              "</table>\n",
              "</div>"
            ],
            "text/plain": [
              "                                 AUC\n",
              "XGBClassifier               0.732845\n",
              "LinearDiscriminantAnalysis  0.763410\n",
              "SVC                         0.720777\n",
              "VotingClassifier            0.754555"
            ]
          },
          "metadata": {},
          "execution_count": 48
        }
      ]
    },
    {
      "cell_type": "markdown",
      "metadata": {
        "id": "toOfn4X1UsZC"
      },
      "source": [
        "### Otimizando Hiperparâmetros Voting Classifier"
      ]
    },
    {
      "cell_type": "code",
      "metadata": {
        "colab": {
          "base_uri": "https://localhost:8080/"
        },
        "id": "WTRM9Zd6MyTB",
        "outputId": "3663545f-a37a-4535-e1df-615016b099dd"
      },
      "source": [
        "voting_clf_rus = VotingClassifier(estimators=[('XGB', xgb_ensemble_rus_Rscaled), ('LDA', lda_ensemble_rus_Rscaled), ('SVC', svc_ensemble_rus_Rscaled)])\n",
        "\n",
        "param_grid = {\n",
        "      'voting':('hard', 'soft')\n",
        "}\n",
        "\n",
        "kfold = StratifiedKFold(n_splits=10, shuffle=True)\n",
        "grid_search = GridSearchCV(voting_clf_rus, param_grid, scoring='recall', n_jobs=-1, cv=kfold)\n",
        "grid_result = grid_search.fit(X_rus_Rscaled, y_train_rus_Rscaled)\n",
        "\n",
        "print(f'Melhor: {grid_result.best_score_} para {grid_result.best_params_}')"
      ],
      "execution_count": null,
      "outputs": [
        {
          "output_type": "stream",
          "name": "stdout",
          "text": [
            "Melhor: 0.8116767983789261 para {'voting': 'hard'}\n"
          ]
        }
      ]
    },
    {
      "cell_type": "code",
      "metadata": {
        "colab": {
          "base_uri": "https://localhost:8080/"
        },
        "id": "ypmvmbQ4Nm03",
        "outputId": "91d1ed0e-8e36-44d3-8ffa-354259bf56b9"
      },
      "source": [
        "voting_clf_rus = VotingClassifier(estimators=[('XGB', xgb_ensemble_rus_Rscaled), ('LDA', lda_ensemble_rus_Rscaled), ('SVC', svc_ensemble_rus_Rscaled)]\n",
        "                              , voting='hard')\n",
        "param_grid = {\n",
        "        'n_jobs':range(-1, 3, 4)\n",
        "}\n",
        "\n",
        "kfold = StratifiedKFold(n_splits=10, shuffle=True)\n",
        "grid_search = GridSearchCV(voting_clf_rus, param_grid, scoring='recall', n_jobs=-1, cv=kfold)\n",
        "grid_result = grid_search.fit(X_rus_Rscaled, y_train_rus_Rscaled)\n",
        "\n",
        "print(f'Melhor: {grid_result.best_score_} para {grid_result.best_params_}')\n"
      ],
      "execution_count": null,
      "outputs": [
        {
          "output_type": "stream",
          "name": "stdout",
          "text": [
            "Melhor: 0.8123809523809523 para {'n_jobs': -1}\n"
          ]
        }
      ]
    },
    {
      "cell_type": "markdown",
      "metadata": {
        "id": "5OYWsjjVU_Dm"
      },
      "source": [
        "#### Avaliando o Desempenho do Voting Classifier"
      ]
    },
    {
      "cell_type": "code",
      "metadata": {
        "colab": {
          "base_uri": "https://localhost:8080/",
          "height": 482
        },
        "id": "TdIMGokPOV5-",
        "outputId": "63b562d5-4507-4c8f-ed39-6b043d073659"
      },
      "source": [
        "voting_clf_rus = VotingClassifier(estimators=[('XGB', xgb_ensemble_rus_Rscaled), ('LDA', lda_ensemble_rus_Rscaled), ('SVC', svc_ensemble_rus_Rscaled)]\n",
        "                              , voting='hard', n_jobs=-1)\n",
        "\n",
        "voting_clf_rus.fit(X_rus_Rscaled, y_train_rus_Rscaled)\n",
        "\n",
        "y_pred_voting_clf_rus = voting_clf_rus.predict(X_test_Rscaled)\n",
        "\n",
        "skplt.metrics.plot_confusion_matrix(y_test, y_pred_voting_clf_rus)\n",
        "\n",
        "print(classification_report(y_test, y_pred_voting_clf_rus, digits=4))\n",
        "\n",
        "print('AUC: {:.4f}\\n'.format(roc_auc_score(y_test, y_pred_voting_clf_rus)))\n"
      ],
      "execution_count": null,
      "outputs": [
        {
          "output_type": "stream",
          "name": "stdout",
          "text": [
            "              precision    recall  f1-score   support\n",
            "\n",
            "           0     0.9153    0.6847    0.7834      1294\n",
            "           1     0.4855    0.8244    0.6111       467\n",
            "\n",
            "    accuracy                         0.7217      1761\n",
            "   macro avg     0.7004    0.7546    0.6972      1761\n",
            "weighted avg     0.8013    0.7217    0.7377      1761\n",
            "\n",
            "AUC: 0.7546\n",
            "\n"
          ]
        },
        {
          "output_type": "display_data",
          "data": {
            "image/png": "[encoded data removed]",
            "text/plain": [
              "<Figure size 432x288 with 2 Axes>"
            ]
          },
          "metadata": {}
        }
      ]
    },
    {
      "cell_type": "markdown",
      "metadata": {
        "id": "xstxntEXL8Fu"
      },
      "source": [
        "## Definindo Modelos para o Balanceamento SMOTE"
      ]
    },
    {
      "cell_type": "code",
      "metadata": {
        "colab": {
          "base_uri": "https://localhost:8080/",
          "height": 514
        },
        "id": "YKdU6Dv48ODJ",
        "outputId": "87d3a620-e56d-4c9b-d2f7-7207940ff492"
      },
      "source": [
        "model = []\n",
        "recall= []\n",
        "\n",
        "model.append('Random Forest SmoScaled')\n",
        "recall.append(val_model_balanced(X_smo_scaled, y_train_smo_scaled, rf, quite=True))  \n",
        "model.append('Random Forest SmoRscaled')\n",
        "recall.append(val_model_balanced(X_smo_Rscaled, y_train_smo_Rscaled, rf, quite=True))\n",
        "model.append('Random Forest SmoQTR')\n",
        "recall.append(val_model_balanced(X_smo_qtr, y_train_smo_qtr, rf, quite=True))\n",
        "model.append('Random Forest SmoQTR-N')\n",
        "recall.append(val_model_balanced(X_smo_qtr_n, y_train_smo_qtr_n, rf, quite=True))\n",
        "model.append('Random Forest SmoPWR')\n",
        "recall.append(val_model_balanced(X_smo_pwr, y_train_smo_pwr, rf, quite=True))\n",
        "\n",
        "model.append('XGBoost smoScaled')\n",
        "recall.append(val_model_balanced(X_smo_scaled, y_train_smo_scaled, xgb, quite=True))\n",
        "model.append('XGBoost smoRscaled')\n",
        "recall.append(val_model_balanced(X_smo_Rscaled, y_train_smo_Rscaled, xgb, quite=True))\n",
        "model.append('XGBoost smoQTR')\n",
        "recall.append(val_model_balanced(X_smo_qtr, y_train_smo_qtr, xgb, quite=True))\n",
        "model.append('XGBoost smoQTR-N')\n",
        "recall.append(val_model_balanced(X_smo_qtr_n, y_train_smo_qtr_n, xgb, quite=True))\n",
        "model.append('XGBoost smoPWR')\n",
        "recall.append(val_model_balanced(X_smo_pwr, y_train_smo_pwr, xgb, quite=True))\n",
        "\n",
        "model.append('LinearDiscriminantAnalysis smoScaled')\n",
        "recall.append(val_model_balanced(X_smo_scaled, y_train_smo_scaled, lda, quite=True))  \n",
        "model.append('LinearDiscriminantAnalysis smoRscaled')\n",
        "recall.append(val_model_balanced(X_smo_Rscaled, y_train_smo_Rscaled, lda, quite=True))\n",
        "model.append('LinearDiscriminantAnalysis smoQTR')\n",
        "recall.append(val_model_balanced(X_smo_qtr, y_train_smo_qtr, lda, quite=True))\n",
        "model.append('LinearDiscriminantAnalysis smoQTR-N')\n",
        "recall.append(val_model_balanced(X_smo_qtr_n, y_train_smo_qtr_n, lda, quite=True))\n",
        "model.append('LinearDiscriminantAnalysis smoPWR')\n",
        "recall.append(val_model_balanced(X_smo_pwr, y_train_smo_pwr, lda, quite=True))\n",
        "\n",
        "pd.DataFrame(data=recall, index=model, columns=['Recall'])"
      ],
      "execution_count": null,
      "outputs": [
        {
          "output_type": "execute_result",
          "data": {
            "text/html": [
              "<div>\n",
              "<style scoped>\n",
              "    .dataframe tbody tr th:only-of-type {\n",
              "        vertical-align: middle;\n",
              "    }\n",
              "\n",
              "    .dataframe tbody tr th {\n",
              "        vertical-align: top;\n",
              "    }\n",
              "\n",
              "    .dataframe thead th {\n",
              "        text-align: right;\n",
              "    }\n",
              "</style>\n",
              "<table border=\"1\" class=\"dataframe\">\n",
              "  <thead>\n",
              "    <tr style=\"text-align: right;\">\n",
              "      <th></th>\n",
              "      <th>Recall</th>\n",
              "    </tr>\n",
              "  </thead>\n",
              "  <tbody>\n",
              "    <tr>\n",
              "      <th>Random Forest SmoScaled</th>\n",
              "      <td>0.865722</td>\n",
              "    </tr>\n",
              "    <tr>\n",
              "      <th>Random Forest SmoRscaled</th>\n",
              "      <td>0.873196</td>\n",
              "    </tr>\n",
              "    <tr>\n",
              "      <th>Random Forest SmoQTR</th>\n",
              "      <td>0.869845</td>\n",
              "    </tr>\n",
              "    <tr>\n",
              "      <th>Random Forest SmoQTR-N</th>\n",
              "      <td>0.870876</td>\n",
              "    </tr>\n",
              "    <tr>\n",
              "      <th>Random Forest SmoPWR</th>\n",
              "      <td>0.869845</td>\n",
              "    </tr>\n",
              "    <tr>\n",
              "      <th>XGBoost smoScaled</th>\n",
              "      <td>0.847423</td>\n",
              "    </tr>\n",
              "    <tr>\n",
              "      <th>XGBoost smoRscaled</th>\n",
              "      <td>0.847165</td>\n",
              "    </tr>\n",
              "    <tr>\n",
              "      <th>XGBoost smoQTR</th>\n",
              "      <td>0.857990</td>\n",
              "    </tr>\n",
              "    <tr>\n",
              "      <th>XGBoost smoQTR-N</th>\n",
              "      <td>0.860825</td>\n",
              "    </tr>\n",
              "    <tr>\n",
              "      <th>XGBoost smoPWR</th>\n",
              "      <td>0.855412</td>\n",
              "    </tr>\n",
              "    <tr>\n",
              "      <th>LinearDiscriminantAnalysis smoScaled</th>\n",
              "      <td>0.813144</td>\n",
              "    </tr>\n",
              "    <tr>\n",
              "      <th>LinearDiscriminantAnalysis smoRscaled</th>\n",
              "      <td>0.805670</td>\n",
              "    </tr>\n",
              "    <tr>\n",
              "      <th>LinearDiscriminantAnalysis smoQTR</th>\n",
              "      <td>0.796907</td>\n",
              "    </tr>\n",
              "    <tr>\n",
              "      <th>LinearDiscriminantAnalysis smoQTR-N</th>\n",
              "      <td>0.828351</td>\n",
              "    </tr>\n",
              "    <tr>\n",
              "      <th>LinearDiscriminantAnalysis smoPWR</th>\n",
              "      <td>0.819845</td>\n",
              "    </tr>\n",
              "  </tbody>\n",
              "</table>\n",
              "</div>"
            ],
            "text/plain": [
              "                                         Recall\n",
              "Random Forest SmoScaled                0.865722\n",
              "Random Forest SmoRscaled               0.873196\n",
              "Random Forest SmoQTR                   0.869845\n",
              "Random Forest SmoQTR-N                 0.870876\n",
              "Random Forest SmoPWR                   0.869845\n",
              "XGBoost smoScaled                      0.847423\n",
              "XGBoost smoRscaled                     0.847165\n",
              "XGBoost smoQTR                         0.857990\n",
              "XGBoost smoQTR-N                       0.860825\n",
              "XGBoost smoPWR                         0.855412\n",
              "LinearDiscriminantAnalysis smoScaled   0.813144\n",
              "LinearDiscriminantAnalysis smoRscaled  0.805670\n",
              "LinearDiscriminantAnalysis smoQTR      0.796907\n",
              "LinearDiscriminantAnalysis smoQTR-N    0.828351\n",
              "LinearDiscriminantAnalysis smoPWR      0.819845"
            ]
          },
          "metadata": {},
          "execution_count": 29
        }
      ]
    },
    {
      "cell_type": "markdown",
      "metadata": {
        "id": "v3tFdVE9McD4"
      },
      "source": [
        "### Otimizando Hiperparâmetros do Modelo Random Forest (RF)"
      ]
    },
    {
      "cell_type": "code",
      "metadata": {
        "colab": {
          "base_uri": "https://localhost:8080/"
        },
        "id": "0mGlidWiJWMD",
        "outputId": "c7f80e00-177f-4113-e11a-4d53d0773e35"
      },
      "source": [
        "rf_smo_Rscaled = RandomForestClassifier()\n",
        "param_grid = {\n",
        "  'bootstrap': [True, False],\n",
        "  'max_depth': [5, 10, 20, 30, 40, 50, None],\n",
        "\n",
        "}\n",
        "\n",
        "kfold = StratifiedKFold(n_splits=10, shuffle=True)\n",
        "grid_search = GridSearchCV(rf_smo_Rscaled, param_grid, scoring='recall', n_jobs=-1, cv=kfold)\n",
        "grid_result = grid_search.fit(X_smo_Rscaled, y_train_smo_Rscaled)\n",
        "\n",
        "print(f'Melhor: {grid_result.best_score_} para {grid_result.best_params_}')"
      ],
      "execution_count": null,
      "outputs": [
        {
          "output_type": "stream",
          "name": "stdout",
          "text": [
            "Melhor: 0.8842783505154639 para {'bootstrap': False, 'max_depth': 10}\n"
          ]
        }
      ]
    },
    {
      "cell_type": "code",
      "metadata": {
        "colab": {
          "base_uri": "https://localhost:8080/"
        },
        "id": "M297rPacMhlf",
        "outputId": "91e5dde2-4c63-4047-b124-6bfe29e4a5a1"
      },
      "source": [
        "rf_smo_Rscaled = RandomForestClassifier(bootstrap=False, max_depth=10)\n",
        "param_grid = {\n",
        "    'max_features':[2, 3, 5],\n",
        "    'min_samples_leaf':[3, 4, 5]\n",
        "}\n",
        "\n",
        "kfold = StratifiedKFold(n_splits=10, shuffle=True)\n",
        "grid_search = GridSearchCV(rf_smo_Rscaled, param_grid, scoring='recall', n_jobs=-1, cv=kfold)\n",
        "grid_result = grid_search.fit(X_smo_Rscaled, y_train_smo_Rscaled)\n",
        "\n",
        "print(f'Melhor: {grid_result.best_score_} para {grid_result.best_params_}')"
      ],
      "execution_count": null,
      "outputs": [
        {
          "output_type": "stream",
          "name": "stdout",
          "text": [
            "Melhor: 0.8806701030927835 para {'max_features': 2, 'min_samples_leaf': 3}\n"
          ]
        }
      ]
    },
    {
      "cell_type": "code",
      "metadata": {
        "colab": {
          "base_uri": "https://localhost:8080/"
        },
        "id": "JlRgsofOM2ba",
        "outputId": "0ef8853f-c2f0-4bb1-b7d5-12a5e3c97d65"
      },
      "source": [
        "rf_smo_Rscaled = RandomForestClassifier(bootstrap=False, max_depth=10, max_features=2, min_samples_leaf=3)\n",
        "param_grid = {\n",
        "    'min_samples_split':[6, 8, 10, 12],\n",
        "    'n_estimators':[100, 200, 300]\n",
        "}\n",
        "\n",
        "kfold = StratifiedKFold(n_splits=10, shuffle=True)\n",
        "grid_search = GridSearchCV(rf_smo_Rscaled, param_grid, scoring='recall', n_jobs=-1, cv=kfold)\n",
        "grid_result = grid_search.fit(X_smo_Rscaled, y_train_smo_Rscaled)\n",
        "\n",
        "print(f'Melhor: {grid_result.best_score_} para {grid_result.best_params_}')"
      ],
      "execution_count": null,
      "outputs": [
        {
          "output_type": "stream",
          "name": "stdout",
          "text": [
            "Melhor: 0.8809278350515465 para {'min_samples_split': 10, 'n_estimators': 100}\n"
          ]
        }
      ]
    },
    {
      "cell_type": "markdown",
      "metadata": {
        "id": "aYEyWHLBMnT4"
      },
      "source": [
        "#### Avaliando o Desempenho do Modelo RF"
      ]
    },
    {
      "cell_type": "code",
      "metadata": {
        "colab": {
          "base_uri": "https://localhost:8080/",
          "height": 486
        },
        "id": "9NVtKbUyPqUp",
        "outputId": "83627b9d-33ca-4093-8b59-effcd61310e7"
      },
      "source": [
        "rf_smo_Rscaled = RandomForestClassifier(bootstrap=False, max_depth=10, max_features=2, min_samples_leaf=3, min_samples_split=6, n_estimators=100)\n",
        "\n",
        "rf_smo_Rscaled.fit(X_smo_Rscaled, y_train_smo_Rscaled)\n",
        "\n",
        "y_pred_rfSmo = rf_smo_Rscaled.predict(X_test_Rscaled)\n",
        "\n",
        "skplt.metrics.plot_confusion_matrix(y_test, y_pred_rfSmo)\n",
        "\n",
        "print(classification_report(y_test, y_pred_rfSmo, digits=4))\n",
        "\n",
        "print('AUC: {:.4f}\\n'.format(roc_auc_score(y_test, y_pred_rfSmo)))\n",
        "\n"
      ],
      "execution_count": null,
      "outputs": [
        {
          "output_type": "stream",
          "name": "stdout",
          "text": [
            "              precision    recall  f1-score   support\n",
            "\n",
            "           0     0.8945    0.7991    0.8441      1294\n",
            "           1     0.5702    0.7388    0.6437       467\n",
            "\n",
            "    accuracy                         0.7831      1761\n",
            "   macro avg     0.7324    0.7689    0.7439      1761\n",
            "weighted avg     0.8085    0.7831    0.7909      1761\n",
            "\n",
            "AUC: 0.7689\n",
            "\n"
          ]
        },
        {
          "output_type": "display_data",
          "data": {
            "image/png": "[encoded data removed]",
            "text/plain": [
              "<Figure size 432x288 with 2 Axes>"
            ]
          },
          "metadata": {}
        }
      ]
    },
    {
      "cell_type": "markdown",
      "metadata": {
        "id": "Pk0nhkxEM3se"
      },
      "source": [
        "### Otimizando Hiperparâmetros Modelo XGBoost (XGB) \n"
      ]
    },
    {
      "cell_type": "code",
      "metadata": {
        "colab": {
          "base_uri": "https://localhost:8080/"
        },
        "id": "PXjH0q0PQmIF",
        "outputId": "ccea348e-34d4-46a2-ab6a-69ebd6308828"
      },
      "source": [
        "xgb_smo_Rscaled = XGBClassifier(learning_rate=0.01)\n",
        "param_grid = {\n",
        "  'n_estimators':[100, 200, 300, 400],\n",
        "  'max_depth':[1, 2, 3]\n",
        "}\n",
        "\n",
        "kfold = StratifiedKFold(n_splits=10, shuffle=True)\n",
        "grid_search = GridSearchCV(xgb_smo_Rscaled, param_grid, scoring='recall', n_jobs=-1, cv=kfold)\n",
        "grid_result = grid_search.fit(X_smo_Rscaled, y_train_smo_Rscaled)\n",
        "\n",
        "print(f'Melhor: {grid_result.best_score_} para {grid_result.best_params_}')"
      ],
      "execution_count": null,
      "outputs": [
        {
          "output_type": "stream",
          "name": "stdout",
          "text": [
            "Melhor: 0.8922680412371135 para {'max_depth': 1, 'n_estimators': 100}\n"
          ]
        }
      ]
    },
    {
      "cell_type": "code",
      "metadata": {
        "colab": {
          "base_uri": "https://localhost:8080/"
        },
        "id": "kA6BI7_DRsFo",
        "outputId": "79bab2ab-91c7-436a-a17b-7bd9edaf4665"
      },
      "source": [
        "xgb_smo_Rscaled = XGBClassifier(learning_rate=0.01, n_estimators=100, max_depth=1)\n",
        "param_grid = {\n",
        "  'min_child_weight':[1, 3, 5],\n",
        "  'gamma':[0, 1, 5]\n",
        "}\n",
        "\n",
        "kfold = StratifiedKFold(n_splits=10, shuffle=True)\n",
        "grid_search = GridSearchCV(xgb_smo_Rscaled, param_grid, scoring='recall', n_jobs=-1, cv=kfold)\n",
        "grid_result = grid_search.fit(X_smo_Rscaled, y_train_smo_Rscaled)\n",
        "\n",
        "print(f'Melhor: {grid_result.best_score_} para {grid_result.best_params_}')"
      ],
      "execution_count": null,
      "outputs": [
        {
          "output_type": "stream",
          "name": "stdout",
          "text": [
            "Melhor: 0.8922680412371135 para {'gamma': 0, 'min_child_weight': 1}\n"
          ]
        }
      ]
    },
    {
      "cell_type": "code",
      "metadata": {
        "colab": {
          "base_uri": "https://localhost:8080/"
        },
        "id": "9nNHpo4eR-VM",
        "outputId": "241c3739-39f3-4c31-8aff-7f0a89a55522"
      },
      "source": [
        "xgb_smo_Rscaled = XGBClassifier(n_estimators=100, max_depth=1, min_child_weight=1, gamma=0)\n",
        "param_grid = {\n",
        "  'learning_rate':[0.01, 0.02, 0.04, 0.1]\n",
        "}\n",
        "\n",
        "kfold = StratifiedKFold(n_splits=10, shuffle=True)\n",
        "grid_search = GridSearchCV(xgb_smo_Rscaled, param_grid, scoring='recall', n_jobs=-1, cv=kfold)\n",
        "grid_result = grid_search.fit(X_smo_Rscaled, y_train_smo_Rscaled)\n",
        "\n",
        "print(f'Melhor: {grid_result.best_score_} para {grid_result.best_params_}')"
      ],
      "execution_count": null,
      "outputs": [
        {
          "output_type": "stream",
          "name": "stdout",
          "text": [
            "Melhor: 0.8922680412371132 para {'learning_rate': 0.01}\n"
          ]
        }
      ]
    },
    {
      "cell_type": "markdown",
      "metadata": {
        "id": "WZQXXbIsM-tf"
      },
      "source": [
        "#### Avaliando o Desempenho do Modelo XGB \n"
      ]
    },
    {
      "cell_type": "code",
      "metadata": {
        "colab": {
          "base_uri": "https://localhost:8080/",
          "height": 482
        },
        "id": "98LNrYBPSTxd",
        "outputId": "1f42901a-d3d6-44f3-aa13-3f0bde6285d2"
      },
      "source": [
        "xgb_smo_Rscaled = XGBClassifier(learning_rate=0.01, n_estimators=100, max_depth=1, min_child_weight=1, gamma=0)\n",
        "\n",
        "xgb_smo_Rscaled.fit(X_smo_Rscaled, y_train_smo_Rscaled)\n",
        "\n",
        "y_pred_Xgbsmo = xgb_smo_Rscaled.predict(X_test_Rscaled)\n",
        "\n",
        "skplt.metrics.plot_confusion_matrix(y_test, y_pred_Xgbsmo)\n",
        "\n",
        "print(classification_report(y_test, y_pred_Xgbsmo, digits=4))\n",
        "\n",
        "print('AUC: {:.4f}\\n'.format(roc_auc_score(y_test, y_pred_Xgbsmo)))\n"
      ],
      "execution_count": null,
      "outputs": [
        {
          "output_type": "stream",
          "name": "stdout",
          "text": [
            "              precision    recall  f1-score   support\n",
            "\n",
            "           0     0.9312    0.5541    0.6948      1294\n",
            "           1     0.4178    0.8865    0.5679       467\n",
            "\n",
            "    accuracy                         0.6422      1761\n",
            "   macro avg     0.6745    0.7203    0.6313      1761\n",
            "weighted avg     0.7950    0.6422    0.6611      1761\n",
            "\n",
            "AUC: 0.7203\n",
            "\n"
          ]
        },
        {
          "output_type": "display_data",
          "data": {
            "image/png": "[encoded data removed]",
            "text/plain": [
              "<Figure size 432x288 with 2 Axes>"
            ]
          },
          "metadata": {}
        }
      ]
    },
    {
      "cell_type": "markdown",
      "metadata": {
        "id": "XbJSJ3GuNJ98"
      },
      "source": [
        "### Otimizando Hiperparâmetros do Modelo Linear Discriminant Analysis (LDA)"
      ]
    },
    {
      "cell_type": "code",
      "metadata": {
        "colab": {
          "base_uri": "https://localhost:8080/"
        },
        "id": "MpWheR4P99A7",
        "outputId": "4c1e106c-57ce-4380-ce7e-06f7c727c2af"
      },
      "source": [
        "lda_smo_Rscaled = LinearDiscriminantAnalysis()\n",
        "param_grid = {\n",
        "  'solver':('svd', 'lsqr', 'eigen'),\n",
        "  'shrinkage':[0, 1, 0.01]\n",
        "}\n",
        "\n",
        "kfold = StratifiedKFold(n_splits=10, shuffle=True)\n",
        "grid_search = GridSearchCV(lda_smo_Rscaled, param_grid, scoring='recall', n_jobs=-1, cv=kfold)\n",
        "grid_result = grid_search.fit(X_smo_Rscaled, y_train_smo_Rscaled)\n",
        "\n",
        "print(f'Melhor: {grid_result.best_score_} para {grid_result.best_params_}')"
      ],
      "execution_count": null,
      "outputs": [
        {
          "output_type": "stream",
          "name": "stdout",
          "text": [
            "Melhor: 0.8164948453608247 para {'shrinkage': 1, 'solver': 'lsqr'}\n"
          ]
        }
      ]
    },
    {
      "cell_type": "markdown",
      "metadata": {
        "id": "DFvx1EoUNiOQ"
      },
      "source": [
        "#### Avaliando o Desempenho do Modelo LDA"
      ]
    },
    {
      "cell_type": "code",
      "metadata": {
        "colab": {
          "base_uri": "https://localhost:8080/",
          "height": 482
        },
        "id": "SpIXm4Cj_BcY",
        "outputId": "e60c80c0-f0c3-45b6-d830-46215ec04ca6"
      },
      "source": [
        "lda_smo_Rscaled = LinearDiscriminantAnalysis(solver='lsqr', shrinkage=1)\n",
        "\n",
        "lda_smo_Rscaled.fit(X_smo_Rscaled, y_train_smo_Rscaled)\n",
        "\n",
        "y_pred_ldasmo = lda_smo_Rscaled.predict(X_test_Rscaled)\n",
        "\n",
        "skplt.metrics.plot_confusion_matrix(y_test, y_pred_ldasmo)\n",
        "\n",
        "print(classification_report(y_test, y_pred_ldasmo, digits=4))\n",
        "\n",
        "print('AUC: {:.4f}\\n'.format(roc_auc_score(y_test, y_pred_ldasmo)))\n"
      ],
      "execution_count": null,
      "outputs": [
        {
          "output_type": "stream",
          "name": "stdout",
          "text": [
            "              precision    recall  f1-score   support\n",
            "\n",
            "           0     0.9127    0.7025    0.7939      1294\n",
            "           1     0.4967    0.8137    0.6169       467\n",
            "\n",
            "    accuracy                         0.7320      1761\n",
            "   macro avg     0.7047    0.7581    0.7054      1761\n",
            "weighted avg     0.8024    0.7320    0.7469      1761\n",
            "\n",
            "AUC: 0.7581\n",
            "\n"
          ]
        },
        {
          "output_type": "display_data",
          "data": {
            "image/png": "[encoded data removed]",
            "text/plain": [
              "<Figure size 432x288 with 2 Axes>"
            ]
          },
          "metadata": {}
        }
      ]
    },
    {
      "cell_type": "markdown",
      "metadata": {
        "id": "4vDKLQwpNpla"
      },
      "source": [
        "## Método Ensemble para os Modelos do Balanceamento SMOTE"
      ]
    },
    {
      "cell_type": "code",
      "metadata": {
        "colab": {
          "base_uri": "https://localhost:8080/",
          "height": 175
        },
        "id": "5h44A8LlcghL",
        "outputId": "014c7c82-1b49-4a10-ed97-39e69eb870da"
      },
      "source": [
        "rf_ensemble_smo_Rscaled = RandomForestClassifier(bootstrap=False, max_depth=10, max_features=2, min_samples_leaf=3, min_samples_split=6, n_estimators=100)\n",
        "lda_ensemble_smo_Rscaled = LinearDiscriminantAnalysis(solver='lsqr', shrinkage='auto') \n",
        "xgb_ensemble_smo_Rscaled = XGBClassifier(learning_rate=0.01, n_estimators=100, max_depth=1, min_child_weight=1, gamma=0)\n",
        "voting_clf_smo = VotingClassifier(estimators=[('RF', rf_ensemble_smo_Rscaled), ('LDA', lda_ensemble_smo_Rscaled), ('XGB', xgb_ensemble_smo_Rscaled)])\n",
        "\n",
        "\n",
        "for model in (rf_ensemble_smo_Rscaled, lda_ensemble_smo_Rscaled, xgb_ensemble_smo_Rscaled, voting_clf_smo):\n",
        "  model.fit(X_smo_Rscaled, y_train_smo_Rscaled)\n",
        "\n",
        "model = []\n",
        "AUC = []\n",
        "\n",
        "for clf in (rf_ensemble_smo_Rscaled, lda_ensemble_smo_Rscaled, xgb_ensemble_smo_Rscaled, voting_clf_smo):\n",
        "  y_pred_ensemble = clf.predict(X_test_Rscaled)\n",
        "  model.append(clf.__class__.__name__)\n",
        "  AUC.append(roc_auc_score(y_test, y_pred_ensemble))\n",
        "\n",
        "\n",
        "pd.DataFrame(data=AUC, index=model, columns=[\"AUC\"])"
      ],
      "execution_count": null,
      "outputs": [
        {
          "output_type": "execute_result",
          "data": {
            "text/html": [
              "<div>\n",
              "<style scoped>\n",
              "    .dataframe tbody tr th:only-of-type {\n",
              "        vertical-align: middle;\n",
              "    }\n",
              "\n",
              "    .dataframe tbody tr th {\n",
              "        vertical-align: top;\n",
              "    }\n",
              "\n",
              "    .dataframe thead th {\n",
              "        text-align: right;\n",
              "    }\n",
              "</style>\n",
              "<table border=\"1\" class=\"dataframe\">\n",
              "  <thead>\n",
              "    <tr style=\"text-align: right;\">\n",
              "      <th></th>\n",
              "      <th>AUC</th>\n",
              "    </tr>\n",
              "  </thead>\n",
              "  <tbody>\n",
              "    <tr>\n",
              "      <th>RandomForestClassifier</th>\n",
              "      <td>0.772723</td>\n",
              "    </tr>\n",
              "    <tr>\n",
              "      <th>LinearDiscriminantAnalysis</th>\n",
              "      <td>0.778214</td>\n",
              "    </tr>\n",
              "    <tr>\n",
              "      <th>XGBClassifier</th>\n",
              "      <td>0.737731</td>\n",
              "    </tr>\n",
              "    <tr>\n",
              "      <th>VotingClassifier</th>\n",
              "      <td>0.775597</td>\n",
              "    </tr>\n",
              "  </tbody>\n",
              "</table>\n",
              "</div>"
            ],
            "text/plain": [
              "                                 AUC\n",
              "RandomForestClassifier      0.772723\n",
              "LinearDiscriminantAnalysis  0.778214\n",
              "XGBClassifier               0.737731\n",
              "VotingClassifier            0.775597"
            ]
          },
          "metadata": {},
          "execution_count": 22
        }
      ]
    },
    {
      "cell_type": "markdown",
      "metadata": {
        "id": "VBzUsjUGOI0m"
      },
      "source": [
        "### Otimizando Hiperparâmetros Voting Classifier"
      ]
    },
    {
      "cell_type": "code",
      "metadata": {
        "colab": {
          "base_uri": "https://localhost:8080/"
        },
        "id": "k6uBNgzpeglE",
        "outputId": "f18bdd91-9625-4554-f49f-77fdbc13c756"
      },
      "source": [
        "voting_clf_smo = VotingClassifier(estimators=[('RF', rf_ensemble_smo_Rscaled), ('LDA', lda_ensemble_smo_Rscaled), ('XGB', xgb_ensemble_smo_Rscaled)])\n",
        "param_grid = {\n",
        "      'voting':('hard', 'soft')\n",
        "}\n",
        "\n",
        "kfold = StratifiedKFold(n_splits=10, shuffle=True)\n",
        "grid_search = GridSearchCV(voting_clf_smo, param_grid, scoring='recall', n_jobs=-1, cv=kfold)\n",
        "grid_result = grid_search.fit(X_smo_Rscaled, y_train_smo_Rscaled)\n",
        "\n",
        "print(f'Melhor: {grid_result.best_score_} para {grid_result.best_params_}')"
      ],
      "execution_count": null,
      "outputs": [
        {
          "output_type": "stream",
          "name": "stdout",
          "text": [
            "Melhor: 0.856701030927835 para {'voting': 'hard'}\n"
          ]
        }
      ]
    },
    {
      "cell_type": "code",
      "metadata": {
        "colab": {
          "base_uri": "https://localhost:8080/"
        },
        "id": "98OZtTqVeyBO",
        "outputId": "25019124-d8d9-478f-a219-7f09a04d3d54"
      },
      "source": [
        "voting_clf_smo = VotingClassifier(estimators=[('RF', rf_ensemble_smo_Rscaled), ('LDA', lda_ensemble_smo_Rscaled)], voting='hard')\n",
        "param_grid = {\n",
        "      'n_jobs':[1, 2, 3, -1]\n",
        "}\n",
        "\n",
        "kfold = StratifiedKFold(n_splits=10, shuffle=True)\n",
        "grid_search = GridSearchCV(voting_clf_smo, param_grid, scoring='recall', n_jobs=-1, cv=kfold)\n",
        "grid_result = grid_search.fit(X_smo_Rscaled, y_train_smo_Rscaled)\n",
        "\n",
        "print(f'Melhor: {grid_result.best_score_} para {grid_result.best_params_}')"
      ],
      "execution_count": null,
      "outputs": [
        {
          "output_type": "stream",
          "name": "stdout",
          "text": [
            "Melhor: 0.7806701030927835 para {'n_jobs': 2}\n"
          ]
        }
      ]
    },
    {
      "cell_type": "markdown",
      "metadata": {
        "id": "Pem8XZ8ZOQfs"
      },
      "source": [
        "#### Avaliando o Desempenho do Voting Classifier"
      ]
    },
    {
      "cell_type": "code",
      "metadata": {
        "colab": {
          "base_uri": "https://localhost:8080/",
          "height": 486
        },
        "id": "qg9Z8E8SfNiO",
        "outputId": "ec34866a-5a44-4ccb-fa2a-c5ba75bd425e"
      },
      "source": [
        "voting_clf_smo = VotingClassifier(estimators=[('RF', rf_ensemble_smo_Rscaled), ('LDA', lda_ensemble_smo_Rscaled)], voting='hard', n_jobs=2)\n",
        "\n",
        "voting_clf_smo.fit(X_smo_Rscaled, y_train_smo_Rscaled)\n",
        "\n",
        "y_pred_voting_clf_smo = voting_clf_smo.predict(X_test_Rscaled)\n",
        "\n",
        "skplt.metrics.plot_confusion_matrix(y_test, y_pred_voting_clf_smo)\n",
        "\n",
        "print(classification_report(y_test, y_pred_voting_clf_smo, digits=4))\n",
        "\n",
        "print('AUC: {:.4f}\\n'.format(roc_auc_score(y_test, y_pred_voting_clf_smo)))"
      ],
      "execution_count": null,
      "outputs": [
        {
          "output_type": "stream",
          "name": "stdout",
          "text": [
            "              precision    recall  f1-score   support\n",
            "\n",
            "           0     0.8943    0.8107    0.8504      1294\n",
            "           1     0.5833    0.7345    0.6502       467\n",
            "\n",
            "    accuracy                         0.7905      1761\n",
            "   macro avg     0.7388    0.7726    0.7503      1761\n",
            "weighted avg     0.8118    0.7905    0.7973      1761\n",
            "\n",
            "AUC: 0.7726\n",
            "\n"
          ]
        },
        {
          "output_type": "display_data",
          "data": {
            "image/png": "[encoded data removed]",
            "text/plain": [
              "<Figure size 432x288 with 2 Axes>"
            ]
          },
          "metadata": {}
        }
      ]
    },
    {
      "cell_type": "markdown",
      "metadata": {
        "id": "BoLo56NpOkjW"
      },
      "source": [
        "## Definindo Modelos para o Balanceamento ADASYN"
      ]
    },
    {
      "cell_type": "code",
      "metadata": {
        "colab": {
          "base_uri": "https://localhost:8080/",
          "height": 520
        },
        "id": "PfqUIXfbhuK_",
        "outputId": "68376acb-fa9f-47dc-c5ea-58227081e3b5"
      },
      "source": [
        "model = []\n",
        "recall= []\n",
        "\n",
        "model.append('Random Forest adaScaled')\n",
        "recall.append(val_model_balanced(X_ada_scaled, y_train_ada_scaled, rf, quite=True))  \n",
        "model.append('Random Forest adaRscaled')\n",
        "recall.append(val_model_balanced(X_ada_Rscaled, y_train_ada_Rscaled, rf, quite=True))\n",
        "model.append('Random Forest adaQTR')\n",
        "recall.append(val_model_balanced(X_ada_qtr, y_train_ada_qtr, rf, quite=True))\n",
        "model.append('Random Forest adaQTR-N')\n",
        "recall.append(val_model_balanced(X_ada_qtr_n, y_train_ada_qtr_n, rf, quite=True))\n",
        "model.append('Random Forest adaPWR')\n",
        "recall.append(val_model_balanced(X_ada_pwr, y_train_ada_pwr, rf, quite=True))\n",
        "\n",
        "model.append('XGBoost adaScaled')\n",
        "recall.append(val_model_balanced(X_ada_scaled, y_train_ada_scaled, xgb, quite=True))\n",
        "model.append('XGBoost adaRscaled')\n",
        "recall.append(val_model_balanced(X_ada_Rscaled, y_train_ada_Rscaled, xgb, quite=True))\n",
        "model.append('XGBoost adaQTR')\n",
        "recall.append(val_model_balanced(X_ada_qtr, y_train_ada_qtr, xgb, quite=True))\n",
        "model.append('XGBoost adaQTR-N')\n",
        "recall.append(val_model_balanced(X_ada_qtr_n, y_train_ada_qtr_n, xgb, quite=True))\n",
        "model.append('XGBoost adaPWR')\n",
        "recall.append(val_model_balanced(X_ada_pwr, y_train_ada_pwr, xgb, quite=True))\n",
        "\n",
        "model.append('Lda adaScaled')\n",
        "recall.append(val_model_balanced(X_ada_scaled, y_train_ada_scaled, lda, quite=True))  \n",
        "model.append('Lda adaRscaled')\n",
        "recall.append(val_model_balanced(X_ada_Rscaled, y_train_ada_Rscaled, lda, quite=True))\n",
        "model.append('Lda adaQTR')\n",
        "recall.append(val_model_balanced(X_ada_qtr, y_train_ada_qtr, lda, quite=True))\n",
        "model.append('Lda adaQTR-N')\n",
        "recall.append(val_model_balanced(X_ada_qtr_n, y_train_ada_qtr_n, lda, quite=True))\n",
        "model.append('Lda adaPWR')\n",
        "recall.append(val_model_balanced(X_ada_pwr, y_train_ada_pwr, lda, quite=True))\n",
        "\n",
        "pd.DataFrame(data=recall, index=model, columns=['Recall'])"
      ],
      "execution_count": null,
      "outputs": [
        {
          "output_type": "execute_result",
          "data": {
            "text/html": [
              "<div>\n",
              "<style scoped>\n",
              "    .dataframe tbody tr th:only-of-type {\n",
              "        vertical-align: middle;\n",
              "    }\n",
              "\n",
              "    .dataframe tbody tr th {\n",
              "        vertical-align: top;\n",
              "    }\n",
              "\n",
              "    .dataframe thead th {\n",
              "        text-align: right;\n",
              "    }\n",
              "</style>\n",
              "<table border=\"1\" class=\"dataframe\">\n",
              "  <thead>\n",
              "    <tr style=\"text-align: right;\">\n",
              "      <th></th>\n",
              "      <th>Recall</th>\n",
              "    </tr>\n",
              "  </thead>\n",
              "  <tbody>\n",
              "    <tr>\n",
              "      <th>Random Forest adaScaled</th>\n",
              "      <td>0.865715</td>\n",
              "    </tr>\n",
              "    <tr>\n",
              "      <th>Random Forest adaRscaled</th>\n",
              "      <td>0.865891</td>\n",
              "    </tr>\n",
              "    <tr>\n",
              "      <th>Random Forest adaQTR</th>\n",
              "      <td>0.868682</td>\n",
              "    </tr>\n",
              "    <tr>\n",
              "      <th>Random Forest adaQTR-N</th>\n",
              "      <td>0.866904</td>\n",
              "    </tr>\n",
              "    <tr>\n",
              "      <th>Random Forest adaPWR</th>\n",
              "      <td>0.863636</td>\n",
              "    </tr>\n",
              "    <tr>\n",
              "      <th>XGBoost adaScaled</th>\n",
              "      <td>0.837987</td>\n",
              "    </tr>\n",
              "    <tr>\n",
              "      <th>XGBoost adaRscaled</th>\n",
              "      <td>0.843152</td>\n",
              "    </tr>\n",
              "    <tr>\n",
              "      <th>XGBoost adaQTR</th>\n",
              "      <td>0.844070</td>\n",
              "    </tr>\n",
              "    <tr>\n",
              "      <th>XGBoost adaQTR-N</th>\n",
              "      <td>0.843990</td>\n",
              "    </tr>\n",
              "    <tr>\n",
              "      <th>XGBoost adaPWR</th>\n",
              "      <td>0.841097</td>\n",
              "    </tr>\n",
              "    <tr>\n",
              "      <th>Lda adaScaled</th>\n",
              "      <td>0.771177</td>\n",
              "    </tr>\n",
              "    <tr>\n",
              "      <th>Lda adaRscaled</th>\n",
              "      <td>0.766667</td>\n",
              "    </tr>\n",
              "    <tr>\n",
              "      <th>Lda adaQTR</th>\n",
              "      <td>0.752632</td>\n",
              "    </tr>\n",
              "    <tr>\n",
              "      <th>Lda adaQTR-N</th>\n",
              "      <td>0.784064</td>\n",
              "    </tr>\n",
              "    <tr>\n",
              "      <th>Lda adaPWR</th>\n",
              "      <td>0.756617</td>\n",
              "    </tr>\n",
              "  </tbody>\n",
              "</table>\n",
              "</div>"
            ],
            "text/plain": [
              "                            Recall\n",
              "Random Forest adaScaled   0.865715\n",
              "Random Forest adaRscaled  0.865891\n",
              "Random Forest adaQTR      0.868682\n",
              "Random Forest adaQTR-N    0.866904\n",
              "Random Forest adaPWR      0.863636\n",
              "XGBoost adaScaled         0.837987\n",
              "XGBoost adaRscaled        0.843152\n",
              "XGBoost adaQTR            0.844070\n",
              "XGBoost adaQTR-N          0.843990\n",
              "XGBoost adaPWR            0.841097\n",
              "Lda adaScaled             0.771177\n",
              "Lda adaRscaled            0.766667\n",
              "Lda adaQTR                0.752632\n",
              "Lda adaQTR-N              0.784064\n",
              "Lda adaPWR                0.756617"
            ]
          },
          "metadata": {},
          "execution_count": 74
        }
      ]
    },
    {
      "cell_type": "markdown",
      "metadata": {
        "id": "Lj5lEzAdO4CE"
      },
      "source": [
        "### Otimizando Hiperparâmetros do Modelo Random Forest (RF)"
      ]
    },
    {
      "cell_type": "code",
      "metadata": {
        "colab": {
          "base_uri": "https://localhost:8080/"
        },
        "id": "4vgKHL5dinSy",
        "outputId": "4bb3e242-30ef-4b4a-f0b5-019357f86496"
      },
      "source": [
        "rf_ada_qtr = RandomForestClassifier()\n",
        "param_grid = {\n",
        "  'bootstrap': [True, False],\n",
        "  'max_depth': [5, 10, 20, 30, 40, 50, None],\n",
        "\n",
        "}\n",
        "\n",
        "kfold = StratifiedKFold(n_splits=10, shuffle=True)\n",
        "grid_search = GridSearchCV(rf_ada_qtr, param_grid, scoring='recall', n_jobs=-1, cv=kfold)\n",
        "grid_result = grid_search.fit(X_ada_qtr, y_train_ada_qtr)\n",
        "\n",
        "print(f'Melhor: {grid_result.best_score_} para {grid_result.best_params_}')"
      ],
      "execution_count": null,
      "outputs": [
        {
          "output_type": "stream",
          "name": "stdout",
          "text": [
            "Melhor: 0.8959222769567597 para {'bootstrap': False, 'max_depth': 10}\n"
          ]
        }
      ]
    },
    {
      "cell_type": "code",
      "metadata": {
        "colab": {
          "base_uri": "https://localhost:8080/"
        },
        "id": "ymxSHX-5jQjY",
        "outputId": "2dcc3e8f-5b9f-41be-8aa1-d0530dc4c157"
      },
      "source": [
        "rf_ada_qtr = RandomForestClassifier(bootstrap=False, max_depth=10)\n",
        "param_grid = {\n",
        "  'max_features': [3, 4, 5, 6],\n",
        "  'min_samples_leaf': [2, 3, 4, 5, 6],\n",
        "\n",
        "}\n",
        "\n",
        "kfold = StratifiedKFold(n_splits=10, shuffle=True)\n",
        "grid_search = GridSearchCV(rf_ada_qtr, param_grid, scoring='recall', n_jobs=-1, cv=kfold)\n",
        "grid_result = grid_search.fit(X_ada_qtr, y_train_ada_qtr)\n",
        "\n",
        "print(f'Melhor: {grid_result.best_score_} para {grid_result.best_params_}')"
      ],
      "execution_count": null,
      "outputs": [
        {
          "output_type": "stream",
          "name": "stdout",
          "text": [
            "Melhor: 0.8956696560144835 para {'max_features': 5, 'min_samples_leaf': 2}\n"
          ]
        }
      ]
    },
    {
      "cell_type": "code",
      "metadata": {
        "colab": {
          "base_uri": "https://localhost:8080/"
        },
        "id": "qh_R4Wv_mux9",
        "outputId": "3bf8e60b-e9f2-4ceb-ec0c-50699c030ff9"
      },
      "source": [
        "rf_ada_qtr = RandomForestClassifier(bootstrap=False, max_depth=10, max_features=5, min_samples_leaf=2)\n",
        "param_grid = {\n",
        "    'min_samples_split':[8, 10, 12, 16],\n",
        "    'n_estimators':[200, 300, 400],\n",
        "\n",
        "}\n",
        "\n",
        "kfold = StratifiedKFold(n_splits=10, shuffle=True)\n",
        "grid_search = GridSearchCV(rf_ada_qtr, param_grid, scoring='recall', n_jobs=-1, cv=kfold)\n",
        "grid_result = grid_search.fit(X_ada_qtr, y_train_ada_qtr)\n",
        "\n",
        "print(f'Melhor: {grid_result.best_score_} para {grid_result.best_params_}')"
      ],
      "execution_count": null,
      "outputs": [
        {
          "output_type": "stream",
          "name": "stdout",
          "text": [
            "Melhor: 0.8940746354539458 para {'min_samples_split': 8, 'n_estimators': 300}\n"
          ]
        }
      ]
    },
    {
      "cell_type": "markdown",
      "metadata": {
        "id": "HNCExuIWPCvU"
      },
      "source": [
        "#### Avaliando o Desempenho do Modelo RF"
      ]
    },
    {
      "cell_type": "code",
      "metadata": {
        "colab": {
          "base_uri": "https://localhost:8080/",
          "height": 486
        },
        "id": "RmnkMj8Kp0FJ",
        "outputId": "1710da59-c944-4e7a-9e64-e299a32ea463"
      },
      "source": [
        "rf_ada_qtr = RandomForestClassifier(bootstrap=False, max_depth=10, max_features=5, min_samples_leaf=2, n_estimators=300, min_samples_split=8)\n",
        "\n",
        "rf_ada_qtr.fit(X_ada_qtr, y_train_ada_qtr)\n",
        "X_test_qtr = qtr.fit_transform(X_test)\n",
        "\n",
        "y_pred_rfAda = rf_ada_qtr.predict(X_test_qtr)\n",
        "\n",
        "skplt.metrics.plot_confusion_matrix(y_test, y_pred_rfAda)\n",
        "\n",
        "print(classification_report(y_test, y_pred_rfAda, digits=4))\n",
        "\n",
        "print('AUC: {:.4f}\\n'.format(roc_auc_score(y_test, y_pred_rfAda)))\n"
      ],
      "execution_count": null,
      "outputs": [
        {
          "output_type": "stream",
          "name": "stdout",
          "text": [
            "              precision    recall  f1-score   support\n",
            "\n",
            "           0     0.8917    0.7767    0.8302      1294\n",
            "           1     0.5442    0.7388    0.6267       467\n",
            "\n",
            "    accuracy                         0.7666      1761\n",
            "   macro avg     0.7180    0.7577    0.7285      1761\n",
            "weighted avg     0.7996    0.7666    0.7763      1761\n",
            "\n",
            "AUC: 0.7577\n",
            "\n"
          ]
        },
        {
          "output_type": "display_data",
          "data": {
            "image/png": "[encoded data removed]",
            "text/plain": [
              "<Figure size 432x288 with 2 Axes>"
            ]
          },
          "metadata": {}
        }
      ]
    },
    {
      "cell_type": "markdown",
      "metadata": {
        "id": "A22P-d83PH_q"
      },
      "source": [
        "### Otimizando Hiperparâmetros do Modelo XGBoost (XGB)"
      ]
    },
    {
      "cell_type": "code",
      "metadata": {
        "colab": {
          "base_uri": "https://localhost:8080/"
        },
        "id": "pEfXCzJxwosB",
        "outputId": "21c181af-d5e2-4321-f532-037238b24d62"
      },
      "source": [
        "xgb_ada_qtr = XGBClassifier(learning_rate=0.01)\n",
        "param_grid = {\n",
        "    'n_estimators':[400, 500, 600],\n",
        "    'max_depth':[3, 4, 5, 6]\n",
        "\n",
        "}\n",
        "\n",
        "kfold = StratifiedKFold(n_splits=10, shuffle=True)\n",
        "grid_search = GridSearchCV(xgb_ada_qtr, param_grid, scoring='recall', n_jobs=-1, cv=kfold)\n",
        "grid_result = grid_search.fit(X_ada_qtr, y_train_ada_qtr)\n",
        "\n",
        "print(f'Melhor: {grid_result.best_score_} para {grid_result.best_params_}')"
      ],
      "execution_count": null,
      "outputs": [
        {
          "output_type": "stream",
          "name": "stdout",
          "text": [
            "Melhor: 0.8784430129257714 para {'max_depth': 5, 'n_estimators': 400}\n"
          ]
        }
      ]
    },
    {
      "cell_type": "code",
      "metadata": {
        "colab": {
          "base_uri": "https://localhost:8080/"
        },
        "id": "gh4u1kqPxJ2c",
        "outputId": "833338f2-7fde-496c-cf50-9ee4abbfba7d"
      },
      "source": [
        "xgb_ada_qtr = XGBClassifier(learning_rate=0.01, max_depth=5, n_estimators=400)\n",
        "param_grid = {\n",
        "  'gamma':[0, 1, 5],\n",
        "  'min_child_weight':[1, 3, 5]\n",
        "}\n",
        "\n",
        "kfold = StratifiedKFold(n_splits=10, shuffle=True)\n",
        "grid_search = GridSearchCV(xgb_ada_qtr, param_grid, scoring='recall', n_jobs=-1, cv=kfold)\n",
        "grid_result = grid_search.fit(X_ada_qtr, y_train_ada_qtr)\n",
        "\n",
        "print(f'Melhor: {grid_result.best_score_} para {grid_result.best_params_}')"
      ],
      "execution_count": null,
      "outputs": [
        {
          "output_type": "stream",
          "name": "stdout",
          "text": [
            "Melhor: 0.8765778283019662 para {'gamma': 1, 'min_child_weight': 1}\n"
          ]
        }
      ]
    },
    {
      "cell_type": "code",
      "metadata": {
        "colab": {
          "base_uri": "https://localhost:8080/"
        },
        "id": "2fg7drOK0sOK",
        "outputId": "44ae361f-103e-4db1-d930-9b0e38c3ce65"
      },
      "source": [
        "xgb_ada_qtr = XGBClassifier(max_depth=5, n_estimators=400, gamma=1, min_child_weight=1)\n",
        "param_grid = {\n",
        "  'learning_rate':[0.01, 0.05, 0.1]\n",
        "}\n",
        "\n",
        "kfold = StratifiedKFold(n_splits=10, shuffle=True)\n",
        "grid_search = GridSearchCV(xgb_ada_qtr, param_grid, scoring='recall', n_jobs=-1, cv=kfold)\n",
        "grid_result = grid_search.fit(X_ada_qtr, y_train_ada_qtr)\n",
        "\n",
        "print(f'Melhor: {grid_result.best_score_} para {grid_result.best_params_}')"
      ],
      "execution_count": null,
      "outputs": [
        {
          "output_type": "stream",
          "name": "stdout",
          "text": [
            "Melhor: 0.8781875850841369 para {'learning_rate': 0.01}\n"
          ]
        }
      ]
    },
    {
      "cell_type": "markdown",
      "metadata": {
        "id": "vzGYqknBPTog"
      },
      "source": [
        "#### Avaliando o Desempenho do Modelo XGB"
      ]
    },
    {
      "cell_type": "code",
      "metadata": {
        "colab": {
          "base_uri": "https://localhost:8080/",
          "height": 486
        },
        "id": "-3hcVJr72Cwz",
        "outputId": "f8bcffdd-9249-4c09-ba23-9631372c413b"
      },
      "source": [
        "xgb_ada_qtr = XGBClassifier(learning_rate=0.01, max_depth=5, n_estimators=400, gamma=1, min_child_weight=1)\n",
        "xgb_ada_qtr.fit(X_ada_qtr, y_train_ada_qtr)\n",
        "\n",
        "y_pred_xgbAda = xgb_ada_qtr.predict(X_test_qtr)\n",
        "\n",
        "skplt.metrics.plot_confusion_matrix(y_test, y_pred_xgbAda)\n",
        "\n",
        "print(classification_report(y_test, y_pred_xgbAda, digits=4))\n",
        "\n",
        "print('AUC: {:.4f}\\n'.format(roc_auc_score(y_test, y_pred_xgbAda)))"
      ],
      "execution_count": null,
      "outputs": [
        {
          "output_type": "stream",
          "name": "stdout",
          "text": [
            "              precision    recall  f1-score   support\n",
            "\n",
            "           0     0.8927    0.7906    0.8385      1294\n",
            "           1     0.5593    0.7366    0.6359       467\n",
            "\n",
            "    accuracy                         0.7763      1761\n",
            "   macro avg     0.7260    0.7636    0.7372      1761\n",
            "weighted avg     0.8043    0.7763    0.7848      1761\n",
            "\n",
            "AUC: 0.7636\n",
            "\n"
          ]
        },
        {
          "output_type": "display_data",
          "data": {
            "image/png": "[encoded data removed]",
            "text/plain": [
              "<Figure size 432x288 with 2 Axes>"
            ]
          },
          "metadata": {}
        }
      ]
    },
    {
      "cell_type": "markdown",
      "metadata": {
        "id": "tqtBWjQsPcpm"
      },
      "source": [
        "### Otimizando Hiperparâmetros do Modelo Linear Discriminant Analysis (LDA)"
      ]
    },
    {
      "cell_type": "code",
      "metadata": {
        "colab": {
          "base_uri": "https://localhost:8080/"
        },
        "id": "PqPDB81J2ucB",
        "outputId": "c29ec934-9a87-41a9-c34f-49cc251f69de"
      },
      "source": [
        "lda_ada_qtr = LinearDiscriminantAnalysis()\n",
        "param_grid = {\n",
        "    'solver':['lsqr', 'svd', 'eigen'],\n",
        "    'shrinkage':[0, 1, 0.01]\n",
        "      \n",
        "}\n",
        "\n",
        "kfold = StratifiedKFold(n_splits=10, shuffle=True)\n",
        "grid_search = GridSearchCV(lda_ada_qtr, param_grid, scoring='recall', n_jobs=-1, cv=kfold)\n",
        "grid_result = grid_search.fit(X_ada_qtr, y_train_ada_qtr)\n",
        "\n",
        "print(f'Melhor: {grid_result.best_score_} para {grid_result.best_params_}')"
      ],
      "execution_count": null,
      "outputs": [
        {
          "output_type": "stream",
          "name": "stdout",
          "text": [
            "Melhor: 0.7608528763701178 para {'shrinkage': 0.01, 'solver': 'lsqr'}\n"
          ]
        }
      ]
    },
    {
      "cell_type": "markdown",
      "metadata": {
        "id": "2pIOx8ijPoX1"
      },
      "source": [
        "#### Avaliando o Desempenho do Modelo LDA"
      ]
    },
    {
      "cell_type": "code",
      "metadata": {
        "colab": {
          "base_uri": "https://localhost:8080/",
          "height": 486
        },
        "id": "fmbcjsQI5Ogl",
        "outputId": "0c895814-8fe4-48d8-f55f-e45beef473a7"
      },
      "source": [
        "lda_ada_qtr = LinearDiscriminantAnalysis(solver='lsqr', shrinkage=0.01)\n",
        "\n",
        "lda_ada_qtr.fit(X_ada_qtr, y_train_ada_qtr)\n",
        "\n",
        "y_pred_ldaAda = lda_ada_qtr.predict(X_test_qtr)\n",
        "\n",
        "skplt.metrics.plot_confusion_matrix(y_test, y_pred_ldaAda)\n",
        "\n",
        "print(classification_report(y_test, y_pred_ldaAda, digits=4))\n",
        "\n",
        "print('AUC: {:.4f}\\n'.format(roc_auc_score(y_test, y_pred_ldaAda)))"
      ],
      "execution_count": null,
      "outputs": [
        {
          "output_type": "stream",
          "name": "stdout",
          "text": [
            "              precision    recall  f1-score   support\n",
            "\n",
            "           0     0.9235    0.7179    0.8078      1294\n",
            "           1     0.5166    0.8351    0.6383       467\n",
            "\n",
            "    accuracy                         0.7490      1761\n",
            "   macro avg     0.7200    0.7765    0.7231      1761\n",
            "weighted avg     0.8156    0.7490    0.7629      1761\n",
            "\n",
            "AUC: 0.7765\n",
            "\n"
          ]
        },
        {
          "output_type": "display_data",
          "data": {
            "image/png": "[encoded data removed]",
            "text/plain": [
              "<Figure size 432x288 with 2 Axes>"
            ]
          },
          "metadata": {}
        }
      ]
    },
    {
      "cell_type": "markdown",
      "metadata": {
        "id": "scVHGMU9PzjG"
      },
      "source": [
        "## Método Ensemble para os Modelos do Balanceamento ADASYN"
      ]
    },
    {
      "cell_type": "code",
      "metadata": {
        "colab": {
          "base_uri": "https://localhost:8080/",
          "height": 175
        },
        "id": "QzunR_E_Lc8Y",
        "outputId": "313d827b-ccd9-43b7-82c0-3d6f5bee1d6a"
      },
      "source": [
        "rf_ensemble_ada_qtr = RandomForestClassifier(bootstrap=False, max_depth=10, max_features=5, min_samples_leaf=2, n_estimators=300, min_samples_split=8)\n",
        "xgb_ensemble_ada_qtr = XGBClassifier(learning_rate=0.01, max_depth=5, n_estimators=400, gamma=1, min_child_weight=1) \n",
        "lda_ensemble_ada_qtr = LinearDiscriminantAnalysis(solver='lsqr', shrinkage=0.01)\n",
        "voting_clf_ada = VotingClassifier(estimators=[('RF', rf_ensemble_ada_qtr), ('XGB', xgb_ensemble_ada_qtr), ('LDA', lda_ensemble_ada_qtr)])\n",
        "\n",
        "\n",
        "for model in (rf_ensemble_ada_qtr, xgb_ensemble_ada_qtr, lda_ensemble_ada_qtr, voting_clf_ada):\n",
        "  model.fit(X_ada_qtr, y_train_ada_qtr)\n",
        "\n",
        "model = []\n",
        "AUC = []\n",
        "\n",
        "for clf in (rf_ensemble_ada_qtr, xgb_ensemble_ada_qtr, lda_ensemble_ada_qtr, voting_clf_ada):\n",
        "  y_pred_ensemble = clf.predict(X_test_qtr)\n",
        "  model.append(clf.__class__.__name__)\n",
        "  AUC.append(roc_auc_score(y_test, y_pred_ensemble))\n",
        "\n",
        "\n",
        "pd.DataFrame(data=AUC, index=model, columns=[\"AUC\"])"
      ],
      "execution_count": null,
      "outputs": [
        {
          "output_type": "execute_result",
          "data": {
            "text/html": [
              "<div>\n",
              "<style scoped>\n",
              "    .dataframe tbody tr th:only-of-type {\n",
              "        vertical-align: middle;\n",
              "    }\n",
              "\n",
              "    .dataframe tbody tr th {\n",
              "        vertical-align: top;\n",
              "    }\n",
              "\n",
              "    .dataframe thead th {\n",
              "        text-align: right;\n",
              "    }\n",
              "</style>\n",
              "<table border=\"1\" class=\"dataframe\">\n",
              "  <thead>\n",
              "    <tr style=\"text-align: right;\">\n",
              "      <th></th>\n",
              "      <th>AUC</th>\n",
              "    </tr>\n",
              "  </thead>\n",
              "  <tbody>\n",
              "    <tr>\n",
              "      <th>RandomForestClassifier</th>\n",
              "      <td>0.759046</td>\n",
              "    </tr>\n",
              "    <tr>\n",
              "      <th>XGBClassifier</th>\n",
              "      <td>0.763594</td>\n",
              "    </tr>\n",
              "    <tr>\n",
              "      <th>LinearDiscriminantAnalysis</th>\n",
              "      <td>0.776523</td>\n",
              "    </tr>\n",
              "    <tr>\n",
              "      <th>VotingClassifier</th>\n",
              "      <td>0.768416</td>\n",
              "    </tr>\n",
              "  </tbody>\n",
              "</table>\n",
              "</div>"
            ],
            "text/plain": [
              "                                 AUC\n",
              "RandomForestClassifier      0.759046\n",
              "XGBClassifier               0.763594\n",
              "LinearDiscriminantAnalysis  0.776523\n",
              "VotingClassifier            0.768416"
            ]
          },
          "metadata": {},
          "execution_count": 79
        }
      ]
    },
    {
      "cell_type": "markdown",
      "metadata": {
        "id": "I_pVP3rCQCMp"
      },
      "source": [
        "### Otimizando Hiperparâmetros do Voting Classifier"
      ]
    },
    {
      "cell_type": "code",
      "metadata": {
        "colab": {
          "base_uri": "https://localhost:8080/"
        },
        "id": "r9TcbSwiPQyp",
        "outputId": "b8f49d8b-b23b-4528-a829-1e02c6fb347b"
      },
      "source": [
        "voting_clf_ada = VotingClassifier(estimators=[('RF', rf_ensemble_ada_qtr), ('XGB', xgb_ensemble_ada_qtr), ('LDA', lda_ensemble_ada_qtr)])\n",
        "param_grid = {\n",
        "      'voting':('hard', 'soft')\n",
        "}\n",
        "\n",
        "kfold = StratifiedKFold(n_splits=10, shuffle=True)\n",
        "grid_search = GridSearchCV(voting_clf_ada, param_grid, scoring='recall', n_jobs=-1, cv=kfold)\n",
        "grid_result = grid_search.fit(X_ada_qtr, y_train_ada_qtr)\n",
        "\n",
        "print(f'Melhor: {grid_result.best_score_} para {grid_result.best_params_}')"
      ],
      "execution_count": null,
      "outputs": [
        {
          "output_type": "stream",
          "name": "stdout",
          "text": [
            "Melhor: 0.8837368251161355 para {'voting': 'hard'}\n"
          ]
        }
      ]
    },
    {
      "cell_type": "code",
      "metadata": {
        "colab": {
          "base_uri": "https://localhost:8080/"
        },
        "id": "zKPymSOWP4Qm",
        "outputId": "7fcb1363-a69d-4eb2-ec9d-00795f81b142"
      },
      "source": [
        "voting_clf_ada = VotingClassifier(estimators=[('RF', rf_ensemble_ada_qtr), ('XGB', xgb_ensemble_ada_qtr), ('LDA', lda_ensemble_ada_qtr)], voting='hard')\n",
        "param_grid = {\n",
        "      'n_jobs':[1, 2, 3, -1]\n",
        "}\n",
        "\n",
        "kfold = StratifiedKFold(n_splits=10, shuffle=True)\n",
        "grid_search = GridSearchCV(voting_clf_ada, param_grid, scoring='recall', n_jobs=-1, cv=kfold)\n",
        "grid_result = grid_search.fit(X_ada_qtr, y_train_ada_qtr)\n",
        "\n",
        "print(f'Melhor: {grid_result.best_score_} para {grid_result.best_params_}')"
      ],
      "execution_count": null,
      "outputs": [
        {
          "output_type": "stream",
          "name": "stdout",
          "text": [
            "Melhor: 0.8824210910417808 para {'n_jobs': 2}\n"
          ]
        }
      ]
    },
    {
      "cell_type": "markdown",
      "metadata": {
        "id": "L28W7pjyQIyG"
      },
      "source": [
        "#### Avaliando o Desempenho do Voting Classifier"
      ]
    },
    {
      "cell_type": "code",
      "metadata": {
        "colab": {
          "base_uri": "https://localhost:8080/",
          "height": 486
        },
        "id": "GV_dNZk-Q9t-",
        "outputId": "5ac11b08-bbc5-410a-d87b-9cbe805d9743"
      },
      "source": [
        "voting_clf_ada = VotingClassifier(estimators=[('RF', rf_ensemble_ada_qtr), ('XGB', xgb_ensemble_ada_qtr), ('LDA', lda_ensemble_ada_qtr)], voting='hard', n_jobs=2)\n",
        "\n",
        "voting_clf_ada.fit(X_ada_qtr, y_train_ada_qtr)\n",
        "\n",
        "y_pred_voting_clf_ada = voting_clf_ada.predict(X_test_qtr)\n",
        "\n",
        "skplt.metrics.plot_confusion_matrix(y_test, y_pred_voting_clf_smo)\n",
        "\n",
        "print(classification_report(y_test, y_pred_voting_clf_smo, digits=4))\n",
        "\n",
        "print('AUC: {:.4f}\\n'.format(roc_auc_score(y_test, y_pred_voting_clf_smo)))"
      ],
      "execution_count": null,
      "outputs": [
        {
          "output_type": "stream",
          "name": "stdout",
          "text": [
            "              precision    recall  f1-score   support\n",
            "\n",
            "           0     0.8943    0.8107    0.8504      1294\n",
            "           1     0.5833    0.7345    0.6502       467\n",
            "\n",
            "    accuracy                         0.7905      1761\n",
            "   macro avg     0.7388    0.7726    0.7503      1761\n",
            "weighted avg     0.8118    0.7905    0.7973      1761\n",
            "\n",
            "AUC: 0.7726\n",
            "\n"
          ]
        },
        {
          "output_type": "display_data",
          "data": {
            "image/png": "[encoded data removed]",
            "text/plain": [
              "<Figure size 432x288 with 2 Axes>"
            ]
          },
          "metadata": {}
        }
      ]
    },
    {
      "cell_type": "markdown",
      "metadata": {
        "id": "5n7uae2CQXih"
      },
      "source": [
        "# Conclusão"
      ]
    },
    {
      "cell_type": "code",
      "metadata": {
        "id": "yibvFdgNQbqk"
      },
      "source": [
        ""
      ],
      "execution_count": null,
      "outputs": []
    }
  ]
}